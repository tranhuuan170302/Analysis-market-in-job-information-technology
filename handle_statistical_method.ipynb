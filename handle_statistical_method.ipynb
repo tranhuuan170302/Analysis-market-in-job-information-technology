{
  "cells": [
    {
      "cell_type": "markdown",
      "metadata": {
        "id": "view-in-github",
        "colab_type": "text"
      },
      "source": [
        "<a href=\"https://colab.research.google.com/github/tranhuuan170302/Analysis-market-in-job-information-technology/blob/main/handle_statistical_method.ipynb\" target=\"_parent\"><img src=\"https://colab.research.google.com/assets/colab-badge.svg\" alt=\"Open In Colab\"/></a>"
      ]
    },
    {
      "cell_type": "markdown",
      "metadata": {
        "id": "e_iVxjBzTnwI"
      },
      "source": [
        "# Import libraries"
      ]
    },
    {
      "cell_type": "code",
      "execution_count": null,
      "metadata": {
        "id": "tjyhJe446y_N"
      },
      "outputs": [],
      "source": [
        "import pandas as pd\n",
        "import string \n",
        "import re\n",
        "import time\n",
        "import nltk\n",
        "from nltk.stem import PorterStemmer\n",
        "from nltk import pos_tag\n",
        "from nltk.corpus import stopwords\n",
        "from nltk.tokenize import word_tokenize\n",
        "from nltk.stem import WordNetLemmatizer\n",
        "from textblob import TextBlob\n",
        "\n",
        "import matplotlib.pyplot as plt\n",
        "import seaborn as sns\n",
        "\n",
        "import math\n",
        "sns.set()"
      ]
    },
    {
      "cell_type": "markdown",
      "metadata": {
        "id": "nRI8LJvrTtwn"
      },
      "source": [
        "# Overview data source"
      ]
    },
    {
      "cell_type": "code",
      "execution_count": null,
      "metadata": {
        "id": "RJ4yJWdzTtJR"
      },
      "outputs": [],
      "source": [
        "df = pd.read_csv('/content/drive/MyDrive/indeed/resultData.csv')"
      ]
    },
    {
      "cell_type": "code",
      "execution_count": null,
      "metadata": {
        "colab": {
          "base_uri": "https://localhost:8080/",
          "height": 598
        },
        "id": "2oQEcmacT2Io",
        "outputId": "ba4836eb-8081-4ff2-b76c-aa3a34cb6613"
      },
      "outputs": [
        {
          "output_type": "execute_result",
          "data": {
            "text/plain": [
              "   Unnamed: 0                                           JobTitle  \\\n",
              "0           0                                     .Net Developer   \n",
              "1           1                         Intern / Fresher Developer   \n",
              "2           2               .NET Developer (Middle/Senior level)   \n",
              "3           3                      Jun/Mid/Senior .NET Developer   \n",
              "4           4                  Web Developer (.NET, ASP.NET, C#)   \n",
              "5           5  Fresher Software Developer (Low code platform)...   \n",
              "6           6                           Junior Dot Net Developer   \n",
              "7           7           Software Engineer / Web Developer (.NET)   \n",
              "8           8                                  Dot Net Developer   \n",
              "9           9                             .NET Support Developer   \n",
              "\n",
              "             Company               Location                      PostDate  \\\n",
              "0           SmartDev                Ðà Nẵng    Posted\\nPosted 14 days ago   \n",
              "1     DXC Technology  Thành phố Hồ Chí Minh  Employer\\nActive 22 days ago   \n",
              "2              SIOUX                Ðà Nẵng   Posted\\nPosted 30+ days ago   \n",
              "3  Saigon Technology                Ðà Nẵng    Posted\\nPosted 18 days ago   \n",
              "4           NPV Corp                Ðà Nẵng    Posted\\nPosted 16 days ago   \n",
              "5     KMS Technology                Ðà Nẵng    Posted\\nPosted 13 days ago   \n",
              "6               HR2B  Thành phố Hồ Chí Minh   Posted\\nPosted 30+ days ago   \n",
              "7          Websparks               Việt Nam                 Posted\\nToday   \n",
              "8     Direct Flights  Thành phố Hồ Chí Minh   Posted\\nPosted 30+ days ago   \n",
              "9        Sharesource               Việt Nam     Posted\\nPosted 5 days ago   \n",
              "\n",
              "  ExtractDate                                            Summary  \\\n",
              "0  2023-01-25  Company Description\\nSmartDev is a leading pro...   \n",
              "1  2023-01-25  Overview:\\nHow would you like to join an inter...   \n",
              "2  2023-01-25  Sioux Group was founded in 1996 in the Netherl...   \n",
              "3  2023-01-25  Up to $2,200\\nJunior, Middle, Senior\\nDa Nang\\...   \n",
              "4  2023-01-25  Web Developer (.NET, ASP.NET, C#)\\nNPV Corp\\nỨ...   \n",
              "5  2023-01-25  Company Description\\n\\nKMS was established in ...   \n",
              "6  2023-01-25  LẬP TRÌNH VIÊN .NET\\nNET DEVELOPER\\nMÔ TẢ CÔNG...   \n",
              "7  2023-01-25  You will play a vital role in our team, where ...   \n",
              "8  2023-01-25  Remote Full Stack Senior .NET / .Net Core / De...   \n",
              "9  2023-01-25  Vietnam\\n\\nAre you ready to take your career t...   \n",
              "\n",
              "             JobUrl  \n",
              "0  .NET Developer\\n  \n",
              "1  .NET Developer\\n  \n",
              "2  .NET Developer\\n  \n",
              "3  .NET Developer\\n  \n",
              "4  .NET Developer\\n  \n",
              "5  .NET Developer\\n  \n",
              "6  .NET Developer\\n  \n",
              "7  .NET Developer\\n  \n",
              "8  .NET Developer\\n  \n",
              "9  .NET Developer\\n  "
            ],
            "text/html": [
              "\n",
              "  <div id=\"df-96753217-480f-4933-83cc-1a03e30e3efe\">\n",
              "    <div class=\"colab-df-container\">\n",
              "      <div>\n",
              "<style scoped>\n",
              "    .dataframe tbody tr th:only-of-type {\n",
              "        vertical-align: middle;\n",
              "    }\n",
              "\n",
              "    .dataframe tbody tr th {\n",
              "        vertical-align: top;\n",
              "    }\n",
              "\n",
              "    .dataframe thead th {\n",
              "        text-align: right;\n",
              "    }\n",
              "</style>\n",
              "<table border=\"1\" class=\"dataframe\">\n",
              "  <thead>\n",
              "    <tr style=\"text-align: right;\">\n",
              "      <th></th>\n",
              "      <th>Unnamed: 0</th>\n",
              "      <th>JobTitle</th>\n",
              "      <th>Company</th>\n",
              "      <th>Location</th>\n",
              "      <th>PostDate</th>\n",
              "      <th>ExtractDate</th>\n",
              "      <th>Summary</th>\n",
              "      <th>JobUrl</th>\n",
              "    </tr>\n",
              "  </thead>\n",
              "  <tbody>\n",
              "    <tr>\n",
              "      <th>0</th>\n",
              "      <td>0</td>\n",
              "      <td>.Net Developer</td>\n",
              "      <td>SmartDev</td>\n",
              "      <td>Ðà Nẵng</td>\n",
              "      <td>Posted\\nPosted 14 days ago</td>\n",
              "      <td>2023-01-25</td>\n",
              "      <td>Company Description\\nSmartDev is a leading pro...</td>\n",
              "      <td>.NET Developer\\n</td>\n",
              "    </tr>\n",
              "    <tr>\n",
              "      <th>1</th>\n",
              "      <td>1</td>\n",
              "      <td>Intern / Fresher Developer</td>\n",
              "      <td>DXC Technology</td>\n",
              "      <td>Thành phố Hồ Chí Minh</td>\n",
              "      <td>Employer\\nActive 22 days ago</td>\n",
              "      <td>2023-01-25</td>\n",
              "      <td>Overview:\\nHow would you like to join an inter...</td>\n",
              "      <td>.NET Developer\\n</td>\n",
              "    </tr>\n",
              "    <tr>\n",
              "      <th>2</th>\n",
              "      <td>2</td>\n",
              "      <td>.NET Developer (Middle/Senior level)</td>\n",
              "      <td>SIOUX</td>\n",
              "      <td>Ðà Nẵng</td>\n",
              "      <td>Posted\\nPosted 30+ days ago</td>\n",
              "      <td>2023-01-25</td>\n",
              "      <td>Sioux Group was founded in 1996 in the Netherl...</td>\n",
              "      <td>.NET Developer\\n</td>\n",
              "    </tr>\n",
              "    <tr>\n",
              "      <th>3</th>\n",
              "      <td>3</td>\n",
              "      <td>Jun/Mid/Senior .NET Developer</td>\n",
              "      <td>Saigon Technology</td>\n",
              "      <td>Ðà Nẵng</td>\n",
              "      <td>Posted\\nPosted 18 days ago</td>\n",
              "      <td>2023-01-25</td>\n",
              "      <td>Up to $2,200\\nJunior, Middle, Senior\\nDa Nang\\...</td>\n",
              "      <td>.NET Developer\\n</td>\n",
              "    </tr>\n",
              "    <tr>\n",
              "      <th>4</th>\n",
              "      <td>4</td>\n",
              "      <td>Web Developer (.NET, ASP.NET, C#)</td>\n",
              "      <td>NPV Corp</td>\n",
              "      <td>Ðà Nẵng</td>\n",
              "      <td>Posted\\nPosted 16 days ago</td>\n",
              "      <td>2023-01-25</td>\n",
              "      <td>Web Developer (.NET, ASP.NET, C#)\\nNPV Corp\\nỨ...</td>\n",
              "      <td>.NET Developer\\n</td>\n",
              "    </tr>\n",
              "    <tr>\n",
              "      <th>5</th>\n",
              "      <td>5</td>\n",
              "      <td>Fresher Software Developer (Low code platform)...</td>\n",
              "      <td>KMS Technology</td>\n",
              "      <td>Ðà Nẵng</td>\n",
              "      <td>Posted\\nPosted 13 days ago</td>\n",
              "      <td>2023-01-25</td>\n",
              "      <td>Company Description\\n\\nKMS was established in ...</td>\n",
              "      <td>.NET Developer\\n</td>\n",
              "    </tr>\n",
              "    <tr>\n",
              "      <th>6</th>\n",
              "      <td>6</td>\n",
              "      <td>Junior Dot Net Developer</td>\n",
              "      <td>HR2B</td>\n",
              "      <td>Thành phố Hồ Chí Minh</td>\n",
              "      <td>Posted\\nPosted 30+ days ago</td>\n",
              "      <td>2023-01-25</td>\n",
              "      <td>LẬP TRÌNH VIÊN .NET\\nNET DEVELOPER\\nMÔ TẢ CÔNG...</td>\n",
              "      <td>.NET Developer\\n</td>\n",
              "    </tr>\n",
              "    <tr>\n",
              "      <th>7</th>\n",
              "      <td>7</td>\n",
              "      <td>Software Engineer / Web Developer (.NET)</td>\n",
              "      <td>Websparks</td>\n",
              "      <td>Việt Nam</td>\n",
              "      <td>Posted\\nToday</td>\n",
              "      <td>2023-01-25</td>\n",
              "      <td>You will play a vital role in our team, where ...</td>\n",
              "      <td>.NET Developer\\n</td>\n",
              "    </tr>\n",
              "    <tr>\n",
              "      <th>8</th>\n",
              "      <td>8</td>\n",
              "      <td>Dot Net Developer</td>\n",
              "      <td>Direct Flights</td>\n",
              "      <td>Thành phố Hồ Chí Minh</td>\n",
              "      <td>Posted\\nPosted 30+ days ago</td>\n",
              "      <td>2023-01-25</td>\n",
              "      <td>Remote Full Stack Senior .NET / .Net Core / De...</td>\n",
              "      <td>.NET Developer\\n</td>\n",
              "    </tr>\n",
              "    <tr>\n",
              "      <th>9</th>\n",
              "      <td>9</td>\n",
              "      <td>.NET Support Developer</td>\n",
              "      <td>Sharesource</td>\n",
              "      <td>Việt Nam</td>\n",
              "      <td>Posted\\nPosted 5 days ago</td>\n",
              "      <td>2023-01-25</td>\n",
              "      <td>Vietnam\\n\\nAre you ready to take your career t...</td>\n",
              "      <td>.NET Developer\\n</td>\n",
              "    </tr>\n",
              "  </tbody>\n",
              "</table>\n",
              "</div>\n",
              "      <button class=\"colab-df-convert\" onclick=\"convertToInteractive('df-96753217-480f-4933-83cc-1a03e30e3efe')\"\n",
              "              title=\"Convert this dataframe to an interactive table.\"\n",
              "              style=\"display:none;\">\n",
              "        \n",
              "  <svg xmlns=\"http://www.w3.org/2000/svg\" height=\"24px\"viewBox=\"0 0 24 24\"\n",
              "       width=\"24px\">\n",
              "    <path d=\"M0 0h24v24H0V0z\" fill=\"none\"/>\n",
              "    <path d=\"M18.56 5.44l.94 2.06.94-2.06 2.06-.94-2.06-.94-.94-2.06-.94 2.06-2.06.94zm-11 1L8.5 8.5l.94-2.06 2.06-.94-2.06-.94L8.5 2.5l-.94 2.06-2.06.94zm10 10l.94 2.06.94-2.06 2.06-.94-2.06-.94-.94-2.06-.94 2.06-2.06.94z\"/><path d=\"M17.41 7.96l-1.37-1.37c-.4-.4-.92-.59-1.43-.59-.52 0-1.04.2-1.43.59L10.3 9.45l-7.72 7.72c-.78.78-.78 2.05 0 2.83L4 21.41c.39.39.9.59 1.41.59.51 0 1.02-.2 1.41-.59l7.78-7.78 2.81-2.81c.8-.78.8-2.07 0-2.86zM5.41 20L4 18.59l7.72-7.72 1.47 1.35L5.41 20z\"/>\n",
              "  </svg>\n",
              "      </button>\n",
              "      \n",
              "  <style>\n",
              "    .colab-df-container {\n",
              "      display:flex;\n",
              "      flex-wrap:wrap;\n",
              "      gap: 12px;\n",
              "    }\n",
              "\n",
              "    .colab-df-convert {\n",
              "      background-color: #E8F0FE;\n",
              "      border: none;\n",
              "      border-radius: 50%;\n",
              "      cursor: pointer;\n",
              "      display: none;\n",
              "      fill: #1967D2;\n",
              "      height: 32px;\n",
              "      padding: 0 0 0 0;\n",
              "      width: 32px;\n",
              "    }\n",
              "\n",
              "    .colab-df-convert:hover {\n",
              "      background-color: #E2EBFA;\n",
              "      box-shadow: 0px 1px 2px rgba(60, 64, 67, 0.3), 0px 1px 3px 1px rgba(60, 64, 67, 0.15);\n",
              "      fill: #174EA6;\n",
              "    }\n",
              "\n",
              "    [theme=dark] .colab-df-convert {\n",
              "      background-color: #3B4455;\n",
              "      fill: #D2E3FC;\n",
              "    }\n",
              "\n",
              "    [theme=dark] .colab-df-convert:hover {\n",
              "      background-color: #434B5C;\n",
              "      box-shadow: 0px 1px 3px 1px rgba(0, 0, 0, 0.15);\n",
              "      filter: drop-shadow(0px 1px 2px rgba(0, 0, 0, 0.3));\n",
              "      fill: #FFFFFF;\n",
              "    }\n",
              "  </style>\n",
              "\n",
              "      <script>\n",
              "        const buttonEl =\n",
              "          document.querySelector('#df-96753217-480f-4933-83cc-1a03e30e3efe button.colab-df-convert');\n",
              "        buttonEl.style.display =\n",
              "          google.colab.kernel.accessAllowed ? 'block' : 'none';\n",
              "\n",
              "        async function convertToInteractive(key) {\n",
              "          const element = document.querySelector('#df-96753217-480f-4933-83cc-1a03e30e3efe');\n",
              "          const dataTable =\n",
              "            await google.colab.kernel.invokeFunction('convertToInteractive',\n",
              "                                                     [key], {});\n",
              "          if (!dataTable) return;\n",
              "\n",
              "          const docLinkHtml = 'Like what you see? Visit the ' +\n",
              "            '<a target=\"_blank\" href=https://colab.research.google.com/notebooks/data_table.ipynb>data table notebook</a>'\n",
              "            + ' to learn more about interactive tables.';\n",
              "          element.innerHTML = '';\n",
              "          dataTable['output_type'] = 'display_data';\n",
              "          await google.colab.output.renderOutput(dataTable, element);\n",
              "          const docLink = document.createElement('div');\n",
              "          docLink.innerHTML = docLinkHtml;\n",
              "          element.appendChild(docLink);\n",
              "        }\n",
              "      </script>\n",
              "    </div>\n",
              "  </div>\n",
              "  "
            ]
          },
          "metadata": {},
          "execution_count": 3
        }
      ],
      "source": [
        "# show top 5 data is head\n",
        "df.head(10)"
      ]
    },
    {
      "cell_type": "code",
      "source": [
        "df.rename(columns={'JobName': 'JobUrl'}, inplace=True)"
      ],
      "metadata": {
        "id": "UBrSWn6bAw9u"
      },
      "execution_count": null,
      "outputs": []
    },
    {
      "cell_type": "code",
      "source": [
        "df.sample(n=10)"
      ],
      "metadata": {
        "colab": {
          "base_uri": "https://localhost:8080/",
          "height": 598
        },
        "id": "bPKn0og2BZRh",
        "outputId": "4aebe351-7260-41f3-b77f-75987db021a9"
      },
      "execution_count": null,
      "outputs": [
        {
          "output_type": "execute_result",
          "data": {
            "text/plain": [
              "      Unnamed: 0                                          JobTitle  \\\n",
              "2430         596     Manager - Tax Transfer Pricing - Hanoi Office   \n",
              "3636         164           Full-Stack Developer (Node.JS/React.JS)   \n",
              "1617          78              Senior Backend Developer (Python/Go)   \n",
              "1786          19                               Electrical Engineer   \n",
              "3251         315  Front-end Java Developer (JavaScript, Html, CSS)   \n",
              "2969          33                        Senior Front-end Developer   \n",
              "462          462                             SharePoint Developers   \n",
              "3384         448                         Tuyển dụng development IT   \n",
              "2935         153             Senior/Regular Embedded C++ Developer   \n",
              "1243          71                        NodeJS Developer (ReactJS)   \n",
              "\n",
              "                                 Company               Location  \\\n",
              "2430                                  EY                 Hà Nội   \n",
              "3636   ONE Tech Stop Vietnam Company Ltd                Ðà Nẵng   \n",
              "1617                              OPSWAT  Thành phố Hồ Chí Minh   \n",
              "1786  Công ty TNHH Van Der Leun Việt Nam               Việt Nam   \n",
              "3251          Scandinavian Software Park                 Hà Nội   \n",
              "2969                             Binance  Thành phố Hồ Chí Minh   \n",
              "462                  Axon Active Vietnam  Thành phố Hồ Chí Minh   \n",
              "3384            WORLDCRAFT LOGISTICS LLC              Nha Trang   \n",
              "2935                              Luxoft  Thành phố Hồ Chí Minh   \n",
              "1243                   CÔNG TY TNHH DROH  Thành phố Hồ Chí Minh   \n",
              "\n",
              "                         PostDate ExtractDate  \\\n",
              "2430   Posted\\nPosted 12 days ago  2023-01-26   \n",
              "3636    Posted\\nPosted 6 days ago  2023-01-26   \n",
              "1617   Posted\\nPosted 13 days ago  2023-01-25   \n",
              "1786  Posted\\nPosted 30+ days ago  2023-01-25   \n",
              "3251    Posted\\nPosted 7 days ago  2023-01-26   \n",
              "2969   Posted\\nPosted 13 days ago  2023-01-26   \n",
              "462   Posted\\nPosted 30+ days ago  2023-01-25   \n",
              "3384   Posted\\nPosted 22 days ago  2023-01-26   \n",
              "2935  Posted\\nPosted 30+ days ago  2023-01-26   \n",
              "1243   Posted\\nPosted 10 days ago  2023-01-25   \n",
              "\n",
              "                                                Summary  \\\n",
              "2430  The opportunity in tax career with focus on tr...   \n",
              "3636  Full-Stack Developer (Node.JS/React.JS)\\nONE T...   \n",
              "1617  OPSWAT is a global cyber security company prov...   \n",
              "1786  Sex:Male, below 36 years old.\\nEducationalleve...   \n",
              "3251  Front-end Java Developer (JavaScript, Html, CS...   \n",
              "2969  Binance is the global blockchain company behin...   \n",
              "462   Description\\nComing to Axon Active, you will w...   \n",
              "3384  --- Công ty WorldCraft Logistic cần tuyển nhân...   \n",
              "2935  Project Description\\nBe part of a multinationa...   \n",
              "1243  NodeJS Developer (ReactJS)\\nCÔNG TY TNHH DROH\\...   \n",
              "\n",
              "                         JobUrl  \n",
              "2430         Business Analyst\\n  \n",
              "3636  Front End Web Developer\\n  \n",
              "1617   Back End Web Developer\\n  \n",
              "1786          Bridge Engineer\\n  \n",
              "3251      Front End Developer\\n  \n",
              "2969      Front End Developer\\n  \n",
              "462            .NET Developer\\n  \n",
              "3384      Front End Developer\\n  \n",
              "2935        Embedded Engineer\\n  \n",
              "1243       Back End Developer\\n  "
            ],
            "text/html": [
              "\n",
              "  <div id=\"df-dd60371b-7fb7-472d-8ccf-db6591b632b7\">\n",
              "    <div class=\"colab-df-container\">\n",
              "      <div>\n",
              "<style scoped>\n",
              "    .dataframe tbody tr th:only-of-type {\n",
              "        vertical-align: middle;\n",
              "    }\n",
              "\n",
              "    .dataframe tbody tr th {\n",
              "        vertical-align: top;\n",
              "    }\n",
              "\n",
              "    .dataframe thead th {\n",
              "        text-align: right;\n",
              "    }\n",
              "</style>\n",
              "<table border=\"1\" class=\"dataframe\">\n",
              "  <thead>\n",
              "    <tr style=\"text-align: right;\">\n",
              "      <th></th>\n",
              "      <th>Unnamed: 0</th>\n",
              "      <th>JobTitle</th>\n",
              "      <th>Company</th>\n",
              "      <th>Location</th>\n",
              "      <th>PostDate</th>\n",
              "      <th>ExtractDate</th>\n",
              "      <th>Summary</th>\n",
              "      <th>JobUrl</th>\n",
              "    </tr>\n",
              "  </thead>\n",
              "  <tbody>\n",
              "    <tr>\n",
              "      <th>2430</th>\n",
              "      <td>596</td>\n",
              "      <td>Manager - Tax Transfer Pricing - Hanoi Office</td>\n",
              "      <td>EY</td>\n",
              "      <td>Hà Nội</td>\n",
              "      <td>Posted\\nPosted 12 days ago</td>\n",
              "      <td>2023-01-26</td>\n",
              "      <td>The opportunity in tax career with focus on tr...</td>\n",
              "      <td>Business Analyst\\n</td>\n",
              "    </tr>\n",
              "    <tr>\n",
              "      <th>3636</th>\n",
              "      <td>164</td>\n",
              "      <td>Full-Stack Developer (Node.JS/React.JS)</td>\n",
              "      <td>ONE Tech Stop Vietnam Company Ltd</td>\n",
              "      <td>Ðà Nẵng</td>\n",
              "      <td>Posted\\nPosted 6 days ago</td>\n",
              "      <td>2023-01-26</td>\n",
              "      <td>Full-Stack Developer (Node.JS/React.JS)\\nONE T...</td>\n",
              "      <td>Front End Web Developer\\n</td>\n",
              "    </tr>\n",
              "    <tr>\n",
              "      <th>1617</th>\n",
              "      <td>78</td>\n",
              "      <td>Senior Backend Developer (Python/Go)</td>\n",
              "      <td>OPSWAT</td>\n",
              "      <td>Thành phố Hồ Chí Minh</td>\n",
              "      <td>Posted\\nPosted 13 days ago</td>\n",
              "      <td>2023-01-25</td>\n",
              "      <td>OPSWAT is a global cyber security company prov...</td>\n",
              "      <td>Back End Web Developer\\n</td>\n",
              "    </tr>\n",
              "    <tr>\n",
              "      <th>1786</th>\n",
              "      <td>19</td>\n",
              "      <td>Electrical Engineer</td>\n",
              "      <td>Công ty TNHH Van Der Leun Việt Nam</td>\n",
              "      <td>Việt Nam</td>\n",
              "      <td>Posted\\nPosted 30+ days ago</td>\n",
              "      <td>2023-01-25</td>\n",
              "      <td>Sex:Male, below 36 years old.\\nEducationalleve...</td>\n",
              "      <td>Bridge Engineer\\n</td>\n",
              "    </tr>\n",
              "    <tr>\n",
              "      <th>3251</th>\n",
              "      <td>315</td>\n",
              "      <td>Front-end Java Developer (JavaScript, Html, CSS)</td>\n",
              "      <td>Scandinavian Software Park</td>\n",
              "      <td>Hà Nội</td>\n",
              "      <td>Posted\\nPosted 7 days ago</td>\n",
              "      <td>2023-01-26</td>\n",
              "      <td>Front-end Java Developer (JavaScript, Html, CS...</td>\n",
              "      <td>Front End Developer\\n</td>\n",
              "    </tr>\n",
              "    <tr>\n",
              "      <th>2969</th>\n",
              "      <td>33</td>\n",
              "      <td>Senior Front-end Developer</td>\n",
              "      <td>Binance</td>\n",
              "      <td>Thành phố Hồ Chí Minh</td>\n",
              "      <td>Posted\\nPosted 13 days ago</td>\n",
              "      <td>2023-01-26</td>\n",
              "      <td>Binance is the global blockchain company behin...</td>\n",
              "      <td>Front End Developer\\n</td>\n",
              "    </tr>\n",
              "    <tr>\n",
              "      <th>462</th>\n",
              "      <td>462</td>\n",
              "      <td>SharePoint Developers</td>\n",
              "      <td>Axon Active Vietnam</td>\n",
              "      <td>Thành phố Hồ Chí Minh</td>\n",
              "      <td>Posted\\nPosted 30+ days ago</td>\n",
              "      <td>2023-01-25</td>\n",
              "      <td>Description\\nComing to Axon Active, you will w...</td>\n",
              "      <td>.NET Developer\\n</td>\n",
              "    </tr>\n",
              "    <tr>\n",
              "      <th>3384</th>\n",
              "      <td>448</td>\n",
              "      <td>Tuyển dụng development IT</td>\n",
              "      <td>WORLDCRAFT LOGISTICS LLC</td>\n",
              "      <td>Nha Trang</td>\n",
              "      <td>Posted\\nPosted 22 days ago</td>\n",
              "      <td>2023-01-26</td>\n",
              "      <td>--- Công ty WorldCraft Logistic cần tuyển nhân...</td>\n",
              "      <td>Front End Developer\\n</td>\n",
              "    </tr>\n",
              "    <tr>\n",
              "      <th>2935</th>\n",
              "      <td>153</td>\n",
              "      <td>Senior/Regular Embedded C++ Developer</td>\n",
              "      <td>Luxoft</td>\n",
              "      <td>Thành phố Hồ Chí Minh</td>\n",
              "      <td>Posted\\nPosted 30+ days ago</td>\n",
              "      <td>2023-01-26</td>\n",
              "      <td>Project Description\\nBe part of a multinationa...</td>\n",
              "      <td>Embedded Engineer\\n</td>\n",
              "    </tr>\n",
              "    <tr>\n",
              "      <th>1243</th>\n",
              "      <td>71</td>\n",
              "      <td>NodeJS Developer (ReactJS)</td>\n",
              "      <td>CÔNG TY TNHH DROH</td>\n",
              "      <td>Thành phố Hồ Chí Minh</td>\n",
              "      <td>Posted\\nPosted 10 days ago</td>\n",
              "      <td>2023-01-25</td>\n",
              "      <td>NodeJS Developer (ReactJS)\\nCÔNG TY TNHH DROH\\...</td>\n",
              "      <td>Back End Developer\\n</td>\n",
              "    </tr>\n",
              "  </tbody>\n",
              "</table>\n",
              "</div>\n",
              "      <button class=\"colab-df-convert\" onclick=\"convertToInteractive('df-dd60371b-7fb7-472d-8ccf-db6591b632b7')\"\n",
              "              title=\"Convert this dataframe to an interactive table.\"\n",
              "              style=\"display:none;\">\n",
              "        \n",
              "  <svg xmlns=\"http://www.w3.org/2000/svg\" height=\"24px\"viewBox=\"0 0 24 24\"\n",
              "       width=\"24px\">\n",
              "    <path d=\"M0 0h24v24H0V0z\" fill=\"none\"/>\n",
              "    <path d=\"M18.56 5.44l.94 2.06.94-2.06 2.06-.94-2.06-.94-.94-2.06-.94 2.06-2.06.94zm-11 1L8.5 8.5l.94-2.06 2.06-.94-2.06-.94L8.5 2.5l-.94 2.06-2.06.94zm10 10l.94 2.06.94-2.06 2.06-.94-2.06-.94-.94-2.06-.94 2.06-2.06.94z\"/><path d=\"M17.41 7.96l-1.37-1.37c-.4-.4-.92-.59-1.43-.59-.52 0-1.04.2-1.43.59L10.3 9.45l-7.72 7.72c-.78.78-.78 2.05 0 2.83L4 21.41c.39.39.9.59 1.41.59.51 0 1.02-.2 1.41-.59l7.78-7.78 2.81-2.81c.8-.78.8-2.07 0-2.86zM5.41 20L4 18.59l7.72-7.72 1.47 1.35L5.41 20z\"/>\n",
              "  </svg>\n",
              "      </button>\n",
              "      \n",
              "  <style>\n",
              "    .colab-df-container {\n",
              "      display:flex;\n",
              "      flex-wrap:wrap;\n",
              "      gap: 12px;\n",
              "    }\n",
              "\n",
              "    .colab-df-convert {\n",
              "      background-color: #E8F0FE;\n",
              "      border: none;\n",
              "      border-radius: 50%;\n",
              "      cursor: pointer;\n",
              "      display: none;\n",
              "      fill: #1967D2;\n",
              "      height: 32px;\n",
              "      padding: 0 0 0 0;\n",
              "      width: 32px;\n",
              "    }\n",
              "\n",
              "    .colab-df-convert:hover {\n",
              "      background-color: #E2EBFA;\n",
              "      box-shadow: 0px 1px 2px rgba(60, 64, 67, 0.3), 0px 1px 3px 1px rgba(60, 64, 67, 0.15);\n",
              "      fill: #174EA6;\n",
              "    }\n",
              "\n",
              "    [theme=dark] .colab-df-convert {\n",
              "      background-color: #3B4455;\n",
              "      fill: #D2E3FC;\n",
              "    }\n",
              "\n",
              "    [theme=dark] .colab-df-convert:hover {\n",
              "      background-color: #434B5C;\n",
              "      box-shadow: 0px 1px 3px 1px rgba(0, 0, 0, 0.15);\n",
              "      filter: drop-shadow(0px 1px 2px rgba(0, 0, 0, 0.3));\n",
              "      fill: #FFFFFF;\n",
              "    }\n",
              "  </style>\n",
              "\n",
              "      <script>\n",
              "        const buttonEl =\n",
              "          document.querySelector('#df-dd60371b-7fb7-472d-8ccf-db6591b632b7 button.colab-df-convert');\n",
              "        buttonEl.style.display =\n",
              "          google.colab.kernel.accessAllowed ? 'block' : 'none';\n",
              "\n",
              "        async function convertToInteractive(key) {\n",
              "          const element = document.querySelector('#df-dd60371b-7fb7-472d-8ccf-db6591b632b7');\n",
              "          const dataTable =\n",
              "            await google.colab.kernel.invokeFunction('convertToInteractive',\n",
              "                                                     [key], {});\n",
              "          if (!dataTable) return;\n",
              "\n",
              "          const docLinkHtml = 'Like what you see? Visit the ' +\n",
              "            '<a target=\"_blank\" href=https://colab.research.google.com/notebooks/data_table.ipynb>data table notebook</a>'\n",
              "            + ' to learn more about interactive tables.';\n",
              "          element.innerHTML = '';\n",
              "          dataTable['output_type'] = 'display_data';\n",
              "          await google.colab.output.renderOutput(dataTable, element);\n",
              "          const docLink = document.createElement('div');\n",
              "          docLink.innerHTML = docLinkHtml;\n",
              "          element.appendChild(docLink);\n",
              "        }\n",
              "      </script>\n",
              "    </div>\n",
              "  </div>\n",
              "  "
            ]
          },
          "metadata": {},
          "execution_count": 5
        }
      ]
    },
    {
      "cell_type": "code",
      "execution_count": null,
      "metadata": {
        "colab": {
          "base_uri": "https://localhost:8080/",
          "height": 744
        },
        "id": "Ynk_2w3MkmG4",
        "outputId": "c7bc97bb-34c0-425e-8fbb-bb8ace33a13c"
      },
      "outputs": [
        {
          "output_type": "execute_result",
          "data": {
            "text/plain": [
              "      Unnamed: 0                                           JobTitle  \\\n",
              "5              5  Fresher Software Developer (Low code platform)...   \n",
              "100          100                               Senior .NET Engineer   \n",
              "456          456                          Tuyển dụng development IT   \n",
              "500          500               Automation Tester (Web, Desktop App)   \n",
              "556          556          Technical Architect (.NET/Java Tech Lead)   \n",
              "668           24                                  Android Developer   \n",
              "1680         141                              Fresher PHP Developer   \n",
              "2564         730       HCMC - .NET Developer (Junior/Middle/Senior)   \n",
              "2755         180                                               BRSE   \n",
              "2897         115                             Analog Design Engineer   \n",
              "3759         287                      Backend Developer (.Net/Java)   \n",
              "4256          93  Fullstack Developer (AngularJS, ReactJS, JavaS...   \n",
              "4311         148            Fullstack Apps Developer (.NET/API/MVC)   \n",
              "\n",
              "                                       Company               Location  \\\n",
              "5                               KMS Technology                Ðà Nẵng   \n",
              "100                                   NashTech                Ðà Nẵng   \n",
              "456                   WORLDCRAFT LOGISTICS LLC              Nha Trang   \n",
              "500   Công Ty TNHH Simpson Strong-Tie Việt Nam  Thành phố Hồ Chí Minh   \n",
              "556                                AIA Vietnam  Thành phố Hồ Chí Minh   \n",
              "668                                Dazone Tech  Thành phố Hồ Chí Minh   \n",
              "1680                   Phần mềm Vitex Việt Nam                 Hà Nội   \n",
              "2564                         Amaris Consulting  Thành phố Hồ Chí Minh   \n",
              "2755                         Việc Ơi It Client                Ðà Nẵng   \n",
              "2897                                    Adecco                 Hà Nội   \n",
              "3759                                    HDBank  Thành phố Hồ Chí Minh   \n",
              "4256                                 MainGames  Thành phố Hồ Chí Minh   \n",
              "4311                            Gene Solutions  Thành phố Hồ Chí Minh   \n",
              "\n",
              "                         PostDate ExtractDate  \\\n",
              "5      Posted\\nPosted 13 days ago  2023-01-25   \n",
              "100   Posted\\nPosted 30+ days ago  2023-01-25   \n",
              "456    Posted\\nPosted 21 days ago  2023-01-25   \n",
              "500    Posted\\nPosted 14 days ago  2023-01-25   \n",
              "556    Posted\\nPosted 20 days ago  2023-01-25   \n",
              "668   Posted\\nPosted 30+ days ago  2023-01-25   \n",
              "1680  Posted\\nPosted 30+ days ago  2023-01-25   \n",
              "2564    Posted\\nPosted 6 days ago  2023-01-26   \n",
              "2755  Posted\\nPosted 30+ days ago  2023-01-26   \n",
              "2897  Posted\\nPosted 30+ days ago  2023-01-26   \n",
              "3759  Posted\\nPosted 30+ days ago  2023-01-26   \n",
              "4256   Posted\\nPosted 11 days ago  2023-01-26   \n",
              "4311  Posted\\nPosted 30+ days ago  2023-01-26   \n",
              "\n",
              "                                                Summary  \\\n",
              "5     Company Description\\n\\nKMS was established in ...   \n",
              "100   Description\\nThe Senior Software Engineer (SSE...   \n",
              "456   --- Công ty WorldCraft Logistic cần tuyển nhân...   \n",
              "500   Mô tả công việc:\\n(Mức lương: Thỏa thuận)\\nAs ...   \n",
              "556   Technical Architect (.NET/Java Tech Lead)\\nAIA...   \n",
              "668   Android Developer\\nDazone Tech\\nỨng Tuyển\\nAnd...   \n",
              "1680  Giới thiệu:\\nVitex - Vietnam IT Excellence Net...   \n",
              "2564  Who are we?\\nAmaris Consulting is an independe...   \n",
              "2755  Giới thiệu:\\nViệc Ơi It Client\\n\\nlà công ty 1...   \n",
              "2897  Job summary\\nAnalog Design Engineer\\nJob Respo...   \n",
              "3759  Backend Developer (.Net/Java)\\nHDBank\\nỨng Tuy...   \n",
              "4256  Fullstack Developer (AngularJS, ReactJS, JavaS...   \n",
              "4311  Fullstack Apps Developer (.NET/API/MVC)\\nGene ...   \n",
              "\n",
              "                          JobUrl  \n",
              "5               .NET Developer\\n  \n",
              "100             .NET Developer\\n  \n",
              "456             .NET Developer\\n  \n",
              "500             .NET Developer\\n  \n",
              "556             .NET Developer\\n  \n",
              "668      Android App Developer\\n  \n",
              "1680    Back End Web Developer\\n  \n",
              "2564          Business Analyst\\n  \n",
              "2755             C++ Developer\\n  \n",
              "2897         Embedded Engineer\\n  \n",
              "3759   Front End Web Developer\\n  \n",
              "4256  Full Stack Web Developer\\n  \n",
              "4311  Full Stack Web Developer\\n  "
            ],
            "text/html": [
              "\n",
              "  <div id=\"df-24174d98-5adf-48c5-a533-2430adf307a9\">\n",
              "    <div class=\"colab-df-container\">\n",
              "      <div>\n",
              "<style scoped>\n",
              "    .dataframe tbody tr th:only-of-type {\n",
              "        vertical-align: middle;\n",
              "    }\n",
              "\n",
              "    .dataframe tbody tr th {\n",
              "        vertical-align: top;\n",
              "    }\n",
              "\n",
              "    .dataframe thead th {\n",
              "        text-align: right;\n",
              "    }\n",
              "</style>\n",
              "<table border=\"1\" class=\"dataframe\">\n",
              "  <thead>\n",
              "    <tr style=\"text-align: right;\">\n",
              "      <th></th>\n",
              "      <th>Unnamed: 0</th>\n",
              "      <th>JobTitle</th>\n",
              "      <th>Company</th>\n",
              "      <th>Location</th>\n",
              "      <th>PostDate</th>\n",
              "      <th>ExtractDate</th>\n",
              "      <th>Summary</th>\n",
              "      <th>JobUrl</th>\n",
              "    </tr>\n",
              "  </thead>\n",
              "  <tbody>\n",
              "    <tr>\n",
              "      <th>5</th>\n",
              "      <td>5</td>\n",
              "      <td>Fresher Software Developer (Low code platform)...</td>\n",
              "      <td>KMS Technology</td>\n",
              "      <td>Ðà Nẵng</td>\n",
              "      <td>Posted\\nPosted 13 days ago</td>\n",
              "      <td>2023-01-25</td>\n",
              "      <td>Company Description\\n\\nKMS was established in ...</td>\n",
              "      <td>.NET Developer\\n</td>\n",
              "    </tr>\n",
              "    <tr>\n",
              "      <th>100</th>\n",
              "      <td>100</td>\n",
              "      <td>Senior .NET Engineer</td>\n",
              "      <td>NashTech</td>\n",
              "      <td>Ðà Nẵng</td>\n",
              "      <td>Posted\\nPosted 30+ days ago</td>\n",
              "      <td>2023-01-25</td>\n",
              "      <td>Description\\nThe Senior Software Engineer (SSE...</td>\n",
              "      <td>.NET Developer\\n</td>\n",
              "    </tr>\n",
              "    <tr>\n",
              "      <th>456</th>\n",
              "      <td>456</td>\n",
              "      <td>Tuyển dụng development IT</td>\n",
              "      <td>WORLDCRAFT LOGISTICS LLC</td>\n",
              "      <td>Nha Trang</td>\n",
              "      <td>Posted\\nPosted 21 days ago</td>\n",
              "      <td>2023-01-25</td>\n",
              "      <td>--- Công ty WorldCraft Logistic cần tuyển nhân...</td>\n",
              "      <td>.NET Developer\\n</td>\n",
              "    </tr>\n",
              "    <tr>\n",
              "      <th>500</th>\n",
              "      <td>500</td>\n",
              "      <td>Automation Tester (Web, Desktop App)</td>\n",
              "      <td>Công Ty TNHH Simpson Strong-Tie Việt Nam</td>\n",
              "      <td>Thành phố Hồ Chí Minh</td>\n",
              "      <td>Posted\\nPosted 14 days ago</td>\n",
              "      <td>2023-01-25</td>\n",
              "      <td>Mô tả công việc:\\n(Mức lương: Thỏa thuận)\\nAs ...</td>\n",
              "      <td>.NET Developer\\n</td>\n",
              "    </tr>\n",
              "    <tr>\n",
              "      <th>556</th>\n",
              "      <td>556</td>\n",
              "      <td>Technical Architect (.NET/Java Tech Lead)</td>\n",
              "      <td>AIA Vietnam</td>\n",
              "      <td>Thành phố Hồ Chí Minh</td>\n",
              "      <td>Posted\\nPosted 20 days ago</td>\n",
              "      <td>2023-01-25</td>\n",
              "      <td>Technical Architect (.NET/Java Tech Lead)\\nAIA...</td>\n",
              "      <td>.NET Developer\\n</td>\n",
              "    </tr>\n",
              "    <tr>\n",
              "      <th>668</th>\n",
              "      <td>24</td>\n",
              "      <td>Android Developer</td>\n",
              "      <td>Dazone Tech</td>\n",
              "      <td>Thành phố Hồ Chí Minh</td>\n",
              "      <td>Posted\\nPosted 30+ days ago</td>\n",
              "      <td>2023-01-25</td>\n",
              "      <td>Android Developer\\nDazone Tech\\nỨng Tuyển\\nAnd...</td>\n",
              "      <td>Android App Developer\\n</td>\n",
              "    </tr>\n",
              "    <tr>\n",
              "      <th>1680</th>\n",
              "      <td>141</td>\n",
              "      <td>Fresher PHP Developer</td>\n",
              "      <td>Phần mềm Vitex Việt Nam</td>\n",
              "      <td>Hà Nội</td>\n",
              "      <td>Posted\\nPosted 30+ days ago</td>\n",
              "      <td>2023-01-25</td>\n",
              "      <td>Giới thiệu:\\nVitex - Vietnam IT Excellence Net...</td>\n",
              "      <td>Back End Web Developer\\n</td>\n",
              "    </tr>\n",
              "    <tr>\n",
              "      <th>2564</th>\n",
              "      <td>730</td>\n",
              "      <td>HCMC - .NET Developer (Junior/Middle/Senior)</td>\n",
              "      <td>Amaris Consulting</td>\n",
              "      <td>Thành phố Hồ Chí Minh</td>\n",
              "      <td>Posted\\nPosted 6 days ago</td>\n",
              "      <td>2023-01-26</td>\n",
              "      <td>Who are we?\\nAmaris Consulting is an independe...</td>\n",
              "      <td>Business Analyst\\n</td>\n",
              "    </tr>\n",
              "    <tr>\n",
              "      <th>2755</th>\n",
              "      <td>180</td>\n",
              "      <td>BRSE</td>\n",
              "      <td>Việc Ơi It Client</td>\n",
              "      <td>Ðà Nẵng</td>\n",
              "      <td>Posted\\nPosted 30+ days ago</td>\n",
              "      <td>2023-01-26</td>\n",
              "      <td>Giới thiệu:\\nViệc Ơi It Client\\n\\nlà công ty 1...</td>\n",
              "      <td>C++ Developer\\n</td>\n",
              "    </tr>\n",
              "    <tr>\n",
              "      <th>2897</th>\n",
              "      <td>115</td>\n",
              "      <td>Analog Design Engineer</td>\n",
              "      <td>Adecco</td>\n",
              "      <td>Hà Nội</td>\n",
              "      <td>Posted\\nPosted 30+ days ago</td>\n",
              "      <td>2023-01-26</td>\n",
              "      <td>Job summary\\nAnalog Design Engineer\\nJob Respo...</td>\n",
              "      <td>Embedded Engineer\\n</td>\n",
              "    </tr>\n",
              "    <tr>\n",
              "      <th>3759</th>\n",
              "      <td>287</td>\n",
              "      <td>Backend Developer (.Net/Java)</td>\n",
              "      <td>HDBank</td>\n",
              "      <td>Thành phố Hồ Chí Minh</td>\n",
              "      <td>Posted\\nPosted 30+ days ago</td>\n",
              "      <td>2023-01-26</td>\n",
              "      <td>Backend Developer (.Net/Java)\\nHDBank\\nỨng Tuy...</td>\n",
              "      <td>Front End Web Developer\\n</td>\n",
              "    </tr>\n",
              "    <tr>\n",
              "      <th>4256</th>\n",
              "      <td>93</td>\n",
              "      <td>Fullstack Developer (AngularJS, ReactJS, JavaS...</td>\n",
              "      <td>MainGames</td>\n",
              "      <td>Thành phố Hồ Chí Minh</td>\n",
              "      <td>Posted\\nPosted 11 days ago</td>\n",
              "      <td>2023-01-26</td>\n",
              "      <td>Fullstack Developer (AngularJS, ReactJS, JavaS...</td>\n",
              "      <td>Full Stack Web Developer\\n</td>\n",
              "    </tr>\n",
              "    <tr>\n",
              "      <th>4311</th>\n",
              "      <td>148</td>\n",
              "      <td>Fullstack Apps Developer (.NET/API/MVC)</td>\n",
              "      <td>Gene Solutions</td>\n",
              "      <td>Thành phố Hồ Chí Minh</td>\n",
              "      <td>Posted\\nPosted 30+ days ago</td>\n",
              "      <td>2023-01-26</td>\n",
              "      <td>Fullstack Apps Developer (.NET/API/MVC)\\nGene ...</td>\n",
              "      <td>Full Stack Web Developer\\n</td>\n",
              "    </tr>\n",
              "  </tbody>\n",
              "</table>\n",
              "</div>\n",
              "      <button class=\"colab-df-convert\" onclick=\"convertToInteractive('df-24174d98-5adf-48c5-a533-2430adf307a9')\"\n",
              "              title=\"Convert this dataframe to an interactive table.\"\n",
              "              style=\"display:none;\">\n",
              "        \n",
              "  <svg xmlns=\"http://www.w3.org/2000/svg\" height=\"24px\"viewBox=\"0 0 24 24\"\n",
              "       width=\"24px\">\n",
              "    <path d=\"M0 0h24v24H0V0z\" fill=\"none\"/>\n",
              "    <path d=\"M18.56 5.44l.94 2.06.94-2.06 2.06-.94-2.06-.94-.94-2.06-.94 2.06-2.06.94zm-11 1L8.5 8.5l.94-2.06 2.06-.94-2.06-.94L8.5 2.5l-.94 2.06-2.06.94zm10 10l.94 2.06.94-2.06 2.06-.94-2.06-.94-.94-2.06-.94 2.06-2.06.94z\"/><path d=\"M17.41 7.96l-1.37-1.37c-.4-.4-.92-.59-1.43-.59-.52 0-1.04.2-1.43.59L10.3 9.45l-7.72 7.72c-.78.78-.78 2.05 0 2.83L4 21.41c.39.39.9.59 1.41.59.51 0 1.02-.2 1.41-.59l7.78-7.78 2.81-2.81c.8-.78.8-2.07 0-2.86zM5.41 20L4 18.59l7.72-7.72 1.47 1.35L5.41 20z\"/>\n",
              "  </svg>\n",
              "      </button>\n",
              "      \n",
              "  <style>\n",
              "    .colab-df-container {\n",
              "      display:flex;\n",
              "      flex-wrap:wrap;\n",
              "      gap: 12px;\n",
              "    }\n",
              "\n",
              "    .colab-df-convert {\n",
              "      background-color: #E8F0FE;\n",
              "      border: none;\n",
              "      border-radius: 50%;\n",
              "      cursor: pointer;\n",
              "      display: none;\n",
              "      fill: #1967D2;\n",
              "      height: 32px;\n",
              "      padding: 0 0 0 0;\n",
              "      width: 32px;\n",
              "    }\n",
              "\n",
              "    .colab-df-convert:hover {\n",
              "      background-color: #E2EBFA;\n",
              "      box-shadow: 0px 1px 2px rgba(60, 64, 67, 0.3), 0px 1px 3px 1px rgba(60, 64, 67, 0.15);\n",
              "      fill: #174EA6;\n",
              "    }\n",
              "\n",
              "    [theme=dark] .colab-df-convert {\n",
              "      background-color: #3B4455;\n",
              "      fill: #D2E3FC;\n",
              "    }\n",
              "\n",
              "    [theme=dark] .colab-df-convert:hover {\n",
              "      background-color: #434B5C;\n",
              "      box-shadow: 0px 1px 3px 1px rgba(0, 0, 0, 0.15);\n",
              "      filter: drop-shadow(0px 1px 2px rgba(0, 0, 0, 0.3));\n",
              "      fill: #FFFFFF;\n",
              "    }\n",
              "  </style>\n",
              "\n",
              "      <script>\n",
              "        const buttonEl =\n",
              "          document.querySelector('#df-24174d98-5adf-48c5-a533-2430adf307a9 button.colab-df-convert');\n",
              "        buttonEl.style.display =\n",
              "          google.colab.kernel.accessAllowed ? 'block' : 'none';\n",
              "\n",
              "        async function convertToInteractive(key) {\n",
              "          const element = document.querySelector('#df-24174d98-5adf-48c5-a533-2430adf307a9');\n",
              "          const dataTable =\n",
              "            await google.colab.kernel.invokeFunction('convertToInteractive',\n",
              "                                                     [key], {});\n",
              "          if (!dataTable) return;\n",
              "\n",
              "          const docLinkHtml = 'Like what you see? Visit the ' +\n",
              "            '<a target=\"_blank\" href=https://colab.research.google.com/notebooks/data_table.ipynb>data table notebook</a>'\n",
              "            + ' to learn more about interactive tables.';\n",
              "          element.innerHTML = '';\n",
              "          dataTable['output_type'] = 'display_data';\n",
              "          await google.colab.output.renderOutput(dataTable, element);\n",
              "          const docLink = document.createElement('div');\n",
              "          docLink.innerHTML = docLinkHtml;\n",
              "          element.appendChild(docLink);\n",
              "        }\n",
              "      </script>\n",
              "    </div>\n",
              "  </div>\n",
              "  "
            ]
          },
          "metadata": {},
          "execution_count": 6
        }
      ],
      "source": [
        "df.iloc[[5,100, 456, 500, 556 ,668,1680,2564, 2755, 2897, 3759, 4256, 4311], :]"
      ]
    },
    {
      "cell_type": "code",
      "execution_count": null,
      "metadata": {
        "id": "fiIvGhK8UDnN"
      },
      "outputs": [],
      "source": [
        "# drop column 'Unnamed'\n",
        "df.drop(columns='Unnamed: 0', inplace = True)"
      ]
    },
    {
      "cell_type": "code",
      "execution_count": null,
      "metadata": {
        "id": "r8ok4MAgUOcv"
      },
      "outputs": [],
      "source": [
        "# show infomaion data\n",
        "def overView(x):\n",
        "    listSummary = []\n",
        "    for i in x.columns:\n",
        "        row = x[i].shape[0]\n",
        "        missingVal = x[i].isna().sum()\n",
        "        unique = len(x[i].unique())\n",
        "        typeCol = str(x[i].dtype)\n",
        "        percentageMissingVal = x[i].isna().sum()/x.shape[0]*100\n",
        "        listSummary.append([i, row,typeCol,unique, missingVal, percentageMissingVal])\n",
        "    return pd.DataFrame(listSummary, columns = ['Name Columns', 'Total row', 'type col', 'Total unique', 'Total miss val', 'percentage missing value'])"
      ]
    },
    {
      "cell_type": "code",
      "execution_count": null,
      "metadata": {
        "colab": {
          "base_uri": "https://localhost:8080/",
          "height": 269
        },
        "id": "zaQkfW7UUUBq",
        "outputId": "685b4e5e-fe4f-40d3-fa77-82304ed9ab6e"
      },
      "outputs": [
        {
          "output_type": "execute_result",
          "data": {
            "text/plain": [
              "  Name Columns  Total row type col  Total unique  Total miss val  \\\n",
              "0     JobTitle       4379   object          2220               0   \n",
              "1      Company       4379   object          1114               0   \n",
              "2     Location       4379   object            39               0   \n",
              "3     PostDate       4379   object            43               0   \n",
              "4  ExtractDate       4379   object             2               0   \n",
              "5      Summary       4379   object          2678               0   \n",
              "6       JobUrl       4379   object            13               0   \n",
              "\n",
              "   percentage missing value  \n",
              "0                       0.0  \n",
              "1                       0.0  \n",
              "2                       0.0  \n",
              "3                       0.0  \n",
              "4                       0.0  \n",
              "5                       0.0  \n",
              "6                       0.0  "
            ],
            "text/html": [
              "\n",
              "  <div id=\"df-a27bf362-f7dd-4ad9-8b47-7df1a4caa864\">\n",
              "    <div class=\"colab-df-container\">\n",
              "      <div>\n",
              "<style scoped>\n",
              "    .dataframe tbody tr th:only-of-type {\n",
              "        vertical-align: middle;\n",
              "    }\n",
              "\n",
              "    .dataframe tbody tr th {\n",
              "        vertical-align: top;\n",
              "    }\n",
              "\n",
              "    .dataframe thead th {\n",
              "        text-align: right;\n",
              "    }\n",
              "</style>\n",
              "<table border=\"1\" class=\"dataframe\">\n",
              "  <thead>\n",
              "    <tr style=\"text-align: right;\">\n",
              "      <th></th>\n",
              "      <th>Name Columns</th>\n",
              "      <th>Total row</th>\n",
              "      <th>type col</th>\n",
              "      <th>Total unique</th>\n",
              "      <th>Total miss val</th>\n",
              "      <th>percentage missing value</th>\n",
              "    </tr>\n",
              "  </thead>\n",
              "  <tbody>\n",
              "    <tr>\n",
              "      <th>0</th>\n",
              "      <td>JobTitle</td>\n",
              "      <td>4379</td>\n",
              "      <td>object</td>\n",
              "      <td>2220</td>\n",
              "      <td>0</td>\n",
              "      <td>0.0</td>\n",
              "    </tr>\n",
              "    <tr>\n",
              "      <th>1</th>\n",
              "      <td>Company</td>\n",
              "      <td>4379</td>\n",
              "      <td>object</td>\n",
              "      <td>1114</td>\n",
              "      <td>0</td>\n",
              "      <td>0.0</td>\n",
              "    </tr>\n",
              "    <tr>\n",
              "      <th>2</th>\n",
              "      <td>Location</td>\n",
              "      <td>4379</td>\n",
              "      <td>object</td>\n",
              "      <td>39</td>\n",
              "      <td>0</td>\n",
              "      <td>0.0</td>\n",
              "    </tr>\n",
              "    <tr>\n",
              "      <th>3</th>\n",
              "      <td>PostDate</td>\n",
              "      <td>4379</td>\n",
              "      <td>object</td>\n",
              "      <td>43</td>\n",
              "      <td>0</td>\n",
              "      <td>0.0</td>\n",
              "    </tr>\n",
              "    <tr>\n",
              "      <th>4</th>\n",
              "      <td>ExtractDate</td>\n",
              "      <td>4379</td>\n",
              "      <td>object</td>\n",
              "      <td>2</td>\n",
              "      <td>0</td>\n",
              "      <td>0.0</td>\n",
              "    </tr>\n",
              "    <tr>\n",
              "      <th>5</th>\n",
              "      <td>Summary</td>\n",
              "      <td>4379</td>\n",
              "      <td>object</td>\n",
              "      <td>2678</td>\n",
              "      <td>0</td>\n",
              "      <td>0.0</td>\n",
              "    </tr>\n",
              "    <tr>\n",
              "      <th>6</th>\n",
              "      <td>JobUrl</td>\n",
              "      <td>4379</td>\n",
              "      <td>object</td>\n",
              "      <td>13</td>\n",
              "      <td>0</td>\n",
              "      <td>0.0</td>\n",
              "    </tr>\n",
              "  </tbody>\n",
              "</table>\n",
              "</div>\n",
              "      <button class=\"colab-df-convert\" onclick=\"convertToInteractive('df-a27bf362-f7dd-4ad9-8b47-7df1a4caa864')\"\n",
              "              title=\"Convert this dataframe to an interactive table.\"\n",
              "              style=\"display:none;\">\n",
              "        \n",
              "  <svg xmlns=\"http://www.w3.org/2000/svg\" height=\"24px\"viewBox=\"0 0 24 24\"\n",
              "       width=\"24px\">\n",
              "    <path d=\"M0 0h24v24H0V0z\" fill=\"none\"/>\n",
              "    <path d=\"M18.56 5.44l.94 2.06.94-2.06 2.06-.94-2.06-.94-.94-2.06-.94 2.06-2.06.94zm-11 1L8.5 8.5l.94-2.06 2.06-.94-2.06-.94L8.5 2.5l-.94 2.06-2.06.94zm10 10l.94 2.06.94-2.06 2.06-.94-2.06-.94-.94-2.06-.94 2.06-2.06.94z\"/><path d=\"M17.41 7.96l-1.37-1.37c-.4-.4-.92-.59-1.43-.59-.52 0-1.04.2-1.43.59L10.3 9.45l-7.72 7.72c-.78.78-.78 2.05 0 2.83L4 21.41c.39.39.9.59 1.41.59.51 0 1.02-.2 1.41-.59l7.78-7.78 2.81-2.81c.8-.78.8-2.07 0-2.86zM5.41 20L4 18.59l7.72-7.72 1.47 1.35L5.41 20z\"/>\n",
              "  </svg>\n",
              "      </button>\n",
              "      \n",
              "  <style>\n",
              "    .colab-df-container {\n",
              "      display:flex;\n",
              "      flex-wrap:wrap;\n",
              "      gap: 12px;\n",
              "    }\n",
              "\n",
              "    .colab-df-convert {\n",
              "      background-color: #E8F0FE;\n",
              "      border: none;\n",
              "      border-radius: 50%;\n",
              "      cursor: pointer;\n",
              "      display: none;\n",
              "      fill: #1967D2;\n",
              "      height: 32px;\n",
              "      padding: 0 0 0 0;\n",
              "      width: 32px;\n",
              "    }\n",
              "\n",
              "    .colab-df-convert:hover {\n",
              "      background-color: #E2EBFA;\n",
              "      box-shadow: 0px 1px 2px rgba(60, 64, 67, 0.3), 0px 1px 3px 1px rgba(60, 64, 67, 0.15);\n",
              "      fill: #174EA6;\n",
              "    }\n",
              "\n",
              "    [theme=dark] .colab-df-convert {\n",
              "      background-color: #3B4455;\n",
              "      fill: #D2E3FC;\n",
              "    }\n",
              "\n",
              "    [theme=dark] .colab-df-convert:hover {\n",
              "      background-color: #434B5C;\n",
              "      box-shadow: 0px 1px 3px 1px rgba(0, 0, 0, 0.15);\n",
              "      filter: drop-shadow(0px 1px 2px rgba(0, 0, 0, 0.3));\n",
              "      fill: #FFFFFF;\n",
              "    }\n",
              "  </style>\n",
              "\n",
              "      <script>\n",
              "        const buttonEl =\n",
              "          document.querySelector('#df-a27bf362-f7dd-4ad9-8b47-7df1a4caa864 button.colab-df-convert');\n",
              "        buttonEl.style.display =\n",
              "          google.colab.kernel.accessAllowed ? 'block' : 'none';\n",
              "\n",
              "        async function convertToInteractive(key) {\n",
              "          const element = document.querySelector('#df-a27bf362-f7dd-4ad9-8b47-7df1a4caa864');\n",
              "          const dataTable =\n",
              "            await google.colab.kernel.invokeFunction('convertToInteractive',\n",
              "                                                     [key], {});\n",
              "          if (!dataTable) return;\n",
              "\n",
              "          const docLinkHtml = 'Like what you see? Visit the ' +\n",
              "            '<a target=\"_blank\" href=https://colab.research.google.com/notebooks/data_table.ipynb>data table notebook</a>'\n",
              "            + ' to learn more about interactive tables.';\n",
              "          element.innerHTML = '';\n",
              "          dataTable['output_type'] = 'display_data';\n",
              "          await google.colab.output.renderOutput(dataTable, element);\n",
              "          const docLink = document.createElement('div');\n",
              "          docLink.innerHTML = docLinkHtml;\n",
              "          element.appendChild(docLink);\n",
              "        }\n",
              "      </script>\n",
              "    </div>\n",
              "  </div>\n",
              "  "
            ]
          },
          "metadata": {},
          "execution_count": 9
        }
      ],
      "source": [
        "# show information databases\n",
        "overView(df)"
      ]
    },
    {
      "cell_type": "markdown",
      "metadata": {
        "id": "CdTLsZ_FUfs-"
      },
      "source": [
        "# Process data step-by-step <br>\n",
        "+ Step 1: Remove special character.<br>\n",
        "+ Step 2: Using algorithm TF-IDF to look up keyword important in sentence.<br>\n",
        "+ Step 3: Create list keywords include: keyword skill, keyword tool, keyword degree, keyword level. <br>\n",
        "+ Step 4: Filter keywords in sentence by look at list keyword to choose.<br>\n",
        "+ Step 5: Create dataFrame add keyword.<br>\n",
        "+ Step 6: Visualization data, and hypothesis testing.<br>"
      ]
    },
    {
      "cell_type": "code",
      "execution_count": null,
      "metadata": {
        "colab": {
          "base_uri": "https://localhost:8080/"
        },
        "id": "kPDCxxmFbOfO",
        "outputId": "04803a40-26ec-4201-fa17-a8ae49a4b722"
      },
      "outputs": [
        {
          "output_type": "stream",
          "name": "stderr",
          "text": [
            "[nltk_data] Downloading package stopwords to /root/nltk_data...\n",
            "[nltk_data]   Unzipping corpora/stopwords.zip.\n",
            "[nltk_data] Downloading package punkt to /root/nltk_data...\n",
            "[nltk_data]   Unzipping tokenizers/punkt.zip.\n",
            "[nltk_data] Downloading package averaged_perceptron_tagger to\n",
            "[nltk_data]     /root/nltk_data...\n",
            "[nltk_data]   Unzipping taggers/averaged_perceptron_tagger.zip.\n"
          ]
        },
        {
          "output_type": "execute_result",
          "data": {
            "text/plain": [
              "True"
            ]
          },
          "metadata": {},
          "execution_count": 10
        }
      ],
      "source": [
        "# download package\n",
        "nltk.download('stopwords')\n",
        "nltk.download('punkt')\n",
        "# required for parts of speech tagging\n",
        "nltk.download('averaged_perceptron_tagger')"
      ]
    },
    {
      "cell_type": "markdown",
      "metadata": {
        "id": "Q25a3d7lYCeA"
      },
      "source": [
        "## Keyword skills, tools, degree, level."
      ]
    },
    {
      "cell_type": "code",
      "execution_count": null,
      "metadata": {
        "id": "1aGYyaVXYI9N"
      },
      "outputs": [],
      "source": [
        "# got these keywords by looking at some examples and using existing knowledge.\n",
        "tool_keywords = ['.net', 'java', 'azur', 'javascript', 'css3', 'azure', 'amazon', 'python', 'c', 'c++', 'c#', 'linux', 'angularjs', 'regularjs', 'requirejs', 'numpy', 'nuxtjs', 'xlsx',\n",
        "\t\t\t'microsoft', 'bootstrap', 'js', 'visual', 'typescript', 'snack', 'abi', 'nodejs', 'html5', 'reactjs', 'redhat', 'reactcharts', 'mongoldb', 'xmlhttprequest',\n",
        "\t\t\t'vscode', 'vuejs','melonjs', 'xampp', 'winform', 'wireless', 'wireshark', 'wordpress', 'virtualbox', 'google cloud', 'scala', 'django', 'hadoop', 'haoop', 'zookeep' , 'solr',\n",
        "\t\t\t'photoshop', 'php', 'phd', 'relayjs', 'oracle', 'opencv', 'p2p', 'redux', 'referenced', 'pytest', 'matplotlib', 'lavarel', 'nestjs', 'unix', 'git', 'redi',\n",
        "\t\t\t'pyspark', 'pytorch', 'protocol', 'sql', 'websocket', 'proptech', 'progresql', 'plsql', 'powerbi', 'powerdesigner', 'lambda', 'nuget', 'untiy3d', 'flutter',\n",
        "\t\t\t'tableau', 'scratch', 'scrum', 'scipy', 'scikit', 'simulated', 'screenshot', 'script', 'powerpoint', 'serves', 'excel', 'word', 'waveform', 'docker', 'mariadb', 'markdowns', 'matlab', 'melonjs', 'ngnix', 'ubuntu', 'toolkits']\n",
        "\n",
        "\n",
        "\n",
        "\n",
        "# hard skills/knowledge required.\n",
        "skill_keywords = ['refresh', 'probabilities', 'leader', 'portability', 'warehouse', 'maitainance', 'metadata', 'maximization', 'knowledgeable', 'modify', 'navigate',\n",
        " 'manager', 'metastock', 'metaverse', 'psychology','pipline', 'programing', 'provides', 'prblem solving','predict', 'statistics',\n",
        "'cleansing', 'chatbot', 'cleaning', 'blockchain', 'causality', 'correlation', 'bandit', 'anomaly', 'test case', 'tsql', 'databases', 'sql',\n",
        " 'dashboard', 'geospatial', 'ocr', 'english', 'math', 'econometrics', 'marketing', 'tuning', 'hyperparameter', 'hypothesis',\n",
        " 'salesforcecom', 'segmentation', 'biostatistics', 'unsupervised', 'supervised', 'exploratory', 'logic', 'multithread',\n",
        " 'recommender', 'recommendations', 'research', 'sequencing', 'probability', 'reinforcement', 'graph', 'bioinformatics', \n",
        " 'knn', 'outlier', 'etl', 'normalization', 'classification', 'optimizing', 'csdl', 'report', 'databases', 'sql', 'test',\n",
        " 'clustering', 'cluster', 'design', 'optimization', 'visualization', 'nlp', 'negotiation', 'network', 'glm', 'uiux', 'teamwork', 'creative thinking',\n",
        "  'gbm', 'boosting', 'recurrent', 'convolutional', 'bayesian', 'mindset', 'threadhandling', 'analytic', 'e-commerc',\n",
        "  'support', 'teamwork', 'communicated', 'adaptability', 'coding', 'virtualization', 'organization', 'creativity']\n",
        "\n",
        "\n",
        "\n",
        "degree = ['bs', 'bachelor', 'undergraduate', 'certificate',\n",
        "               'master', 'graduate', 'mba', 'intermediate',\n",
        "               'phd', 'ph.d', 'ba', 'ma', 'it',\n",
        "               'postdoctoral', 'postdoc', 'doctorate']\n",
        "\n",
        "level = ['junior', 'intership', 'fresher', 'senior', 'middle', 'leader', 'architect', 'manager']"
      ]
    },
    {
      "cell_type": "code",
      "execution_count": null,
      "metadata": {
        "id": "2g2wHqHJYkA7"
      },
      "outputs": [],
      "source": [
        "# parts of speech tagging\n",
        "tagged = nltk.pos_tag(tool_keywords)"
      ]
    },
    {
      "cell_type": "code",
      "execution_count": null,
      "metadata": {
        "colab": {
          "base_uri": "https://localhost:8080/"
        },
        "id": "nh-fS41fbZBQ",
        "outputId": "519e5322-660d-4aec-f85b-0cb904f99e9d"
      },
      "outputs": [
        {
          "output_type": "stream",
          "name": "stdout",
          "text": [
            "[('.net', 'NN'), ('java', 'NN'), ('azur', 'NN'), ('javascript', 'NN'), ('css3', 'NN'), ('azure', 'NN'), ('amazon', 'NN'), ('python', 'NN'), ('c', 'NN'), ('c++', 'NN'), ('c#', 'NN'), ('linux', 'NN'), ('angularjs', 'NN'), ('regularjs', 'NN'), ('requirejs', 'NN'), ('numpy', 'JJ'), ('nuxtjs', 'JJ'), ('xlsx', 'NN'), ('microsoft', 'JJ'), ('bootstrap', 'NN'), ('js', 'NN'), ('visual', 'JJ'), ('typescript', 'NN'), ('snack', 'NN'), ('abi', 'NN'), ('nodejs', 'JJ'), ('html5', 'NN'), ('reactjs', 'NN'), ('redhat', 'WP'), ('reactcharts', 'VBZ'), ('mongoldb', 'NN'), ('xmlhttprequest', 'JJS'), ('vscode', 'NN'), ('vuejs', 'NN'), ('melonjs', 'NN'), ('xampp', 'NNP'), ('winform', 'NN'), ('wireless', 'NN'), ('wireshark', 'NN'), ('wordpress', 'NN'), ('virtualbox', 'NN'), ('google cloud', 'NN'), ('scala', 'NN'), ('django', 'NN'), ('hadoop', 'NN'), ('haoop', 'NN'), ('zookeep', 'NN'), ('solr', 'NN'), ('photoshop', 'NN'), ('php', 'NN'), ('phd', 'NN'), ('relayjs', 'NN'), ('oracle', 'NN'), ('opencv', 'IN'), ('p2p', 'NN'), ('redux', 'NN'), ('referenced', 'VBD'), ('pytest', 'JJS'), ('matplotlib', 'NN'), ('lavarel', 'NN'), ('nestjs', 'JJ'), ('unix', 'JJ'), ('git', 'NN'), ('redi', 'NN'), ('pyspark', 'NN'), ('pytorch', 'NN'), ('protocol', 'NN'), ('sql', 'NN'), ('websocket', 'NN'), ('proptech', 'NN'), ('progresql', 'NN'), ('plsql', 'NN'), ('powerbi', 'NN'), ('powerdesigner', 'NN'), ('lambda', 'JJ'), ('nuget', 'NN'), ('untiy3d', 'JJ'), ('flutter', 'NN'), ('tableau', 'NN'), ('scratch', 'NN'), ('scrum', 'NN'), ('scipy', 'JJ'), ('scikit', 'NN'), ('simulated', 'VBD'), ('screenshot', 'JJ'), ('script', 'NN'), ('powerpoint', 'NN'), ('serves', 'VBZ'), ('excel', 'JJ'), ('word', 'NN'), ('waveform', 'NN'), ('docker', 'NN'), ('mariadb', 'NN'), ('markdowns', 'NNS'), ('matlab', 'VBP'), ('melonjs', 'JJ'), ('ngnix', 'JJ'), ('ubuntu', 'JJ'), ('toolkits', 'NNS')]\n"
          ]
        }
      ],
      "source": [
        "print(tagged)"
      ]
    },
    {
      "cell_type": "markdown",
      "metadata": {
        "id": "qB7dH91nXGcV"
      },
      "source": [
        "## Step 1: Remove special character."
      ]
    },
    {
      "cell_type": "code",
      "execution_count": null,
      "metadata": {
        "id": "57OlveYnYsB3"
      },
      "outputs": [],
      "source": [
        "# create key in row\n",
        "df = df.reset_index()"
      ]
    },
    {
      "cell_type": "code",
      "execution_count": null,
      "metadata": {
        "id": "nHPC3bfWUVtO"
      },
      "outputs": [],
      "source": [
        "# column Summary\n",
        "df['Summary'] = df['Summary'].apply(lambda x : re.sub(r'(<[^>]+>)|(http[s]?://(?:[a-zA-Z]|[0-9]|[$-_@.&+]|[!*,]|(?:%[0-9a-fA-F][0-9a-fA-F]))+)',' ', x))\n",
        "df['Summary'] = df['Summary'].str.replace('\\n', ' ')\n",
        "\n",
        "# column JobUrl\n",
        "df['JobUrl'] = df['JobUrl'].str.replace('\\n', '')\n",
        "# column locations\n",
        "df['Location'] = df['Location'].apply(lambda string: string.replace(string[string.find('+'): len(string)], '') if string.find('+') >0 else string, '')\n",
        "df['Location'] = df['Location'].str.lower()\n",
        "df['Location'] = df['Location'].str.replace('\\n', '')\n",
        "df['Location'] = df['Location'].str.replace('ð', 'đ')"
      ]
    },
    {
      "cell_type": "code",
      "execution_count": null,
      "metadata": {
        "id": "5750mQ1iY_Lg"
      },
      "outputs": [],
      "source": [
        "df['review'] = df['Summary']\n",
        "df1 = pd.DataFrame(columns = ['index', 'review'])\n",
        "# split the text by \".\"\n",
        "for idx in df.index.unique():\n",
        "  string = df['Summary'][idx]\n",
        "  string = string.split('.')\n",
        "  id = []\n",
        "  txt = []\n",
        "  \n",
        "  for st in string:\n",
        "    id.append(idx)\n",
        "    txt.append(st)\n",
        "    datax = pd.DataFrame(list(zip(id, txt)), columns = ['index', 'review'])\n",
        "  df1 = pd.concat([df1, datax])"
      ]
    },
    {
      "cell_type": "code",
      "execution_count": null,
      "metadata": {
        "id": "QwvHIl9lZlat"
      },
      "outputs": [],
      "source": [
        "df1.rename(columns= {'review': 'sentence_review'}, inplace=True)"
      ]
    },
    {
      "cell_type": "code",
      "execution_count": null,
      "metadata": {
        "id": "JJIJfLuMZ0Fz"
      },
      "outputs": [],
      "source": [
        "# merger data by index\n",
        "df = df.merge(df1, left_on = 'index', right_on = 'index')"
      ]
    },
    {
      "cell_type": "code",
      "execution_count": null,
      "metadata": {
        "id": "Ww3NxajkZ6OV"
      },
      "outputs": [],
      "source": [
        "# remove data is duplicated\n",
        "df = df.loc[df.duplicated() == False, :]"
      ]
    },
    {
      "cell_type": "markdown",
      "metadata": {
        "id": "W4ZXQXeahITH"
      },
      "source": [
        "## Filter keywords in sentences"
      ]
    },
    {
      "cell_type": "code",
      "execution_count": null,
      "metadata": {
        "id": "mNsvG1KCbEbF"
      },
      "outputs": [],
      "source": [
        "keywords = tool_keywords + skill_keywords + degree + level"
      ]
    },
    {
      "cell_type": "code",
      "execution_count": null,
      "metadata": {
        "colab": {
          "base_uri": "https://localhost:8080/"
        },
        "id": "exvav-Jfb768",
        "outputId": "76756a48-d895-4cf1-97b8-f08760e96dac"
      },
      "outputs": [
        {
          "output_type": "execute_result",
          "data": {
            "text/plain": [
              "['.net',\n",
              " 'java',\n",
              " 'azur',\n",
              " 'javascript',\n",
              " 'css3',\n",
              " 'azure',\n",
              " 'amazon',\n",
              " 'python',\n",
              " 'c',\n",
              " 'c++']"
            ]
          },
          "metadata": {},
          "execution_count": 21
        }
      ],
      "source": [
        "keywords[:10]"
      ]
    },
    {
      "cell_type": "code",
      "execution_count": null,
      "metadata": {
        "id": "YWDltYF-aBjN"
      },
      "outputs": [],
      "source": [
        "\n",
        "ps = PorterStemmer()\n",
        "keywords_set = set([ps.stem(tok) for tok in keywords])\n",
        "\n",
        "#find sentences with words in tool_keyword list\n",
        "def filterString(string):\n",
        "  item = string.split(' ')\n",
        "  stemmed_tokens = [ps.stem(tok).lower() for tok in item]\n",
        "  for st in stemmed_tokens:\n",
        "    if keywords_set.__contains__(st):\n",
        "      return string\n",
        "  return None"
      ]
    },
    {
      "cell_type": "code",
      "execution_count": null,
      "metadata": {
        "id": "ucmXOSu1aBY4"
      },
      "outputs": [],
      "source": [
        "df['review_filter'] = df['sentence_review'].apply(lambda string: filterString(string))"
      ]
    },
    {
      "cell_type": "code",
      "execution_count": null,
      "metadata": {
        "colab": {
          "base_uri": "https://localhost:8080/"
        },
        "id": "iJWgp1LQivmo",
        "outputId": "71bc5156-7047-401b-9ba2-64be053e2b2e"
      },
      "outputs": [
        {
          "output_type": "execute_result",
          "data": {
            "text/plain": [
              "46559"
            ]
          },
          "metadata": {},
          "execution_count": 24
        }
      ],
      "source": [
        "df['review_filter'].isna().sum()"
      ]
    },
    {
      "cell_type": "code",
      "execution_count": null,
      "metadata": {
        "id": "U54B3TLfjD85"
      },
      "outputs": [],
      "source": [
        "df = df.loc[df['review_filter'].isna() == False, :]"
      ]
    },
    {
      "cell_type": "code",
      "execution_count": null,
      "metadata": {
        "id": "dJB7AdNYht-E"
      },
      "outputs": [],
      "source": [
        "ps = PorterStemmer()\n",
        "\n",
        "arr = ['JJ', 'NN', 'RB', 'VBD', 'PRP', 'VBG', 'NNS', 'JJS', 'VBP', 'JJR', 'VBZJJ', 'IN', 'NNP', 'WP', 'VBZ']\n",
        "# process the job description.\n",
        "def prepare_job_desc(desc):\n",
        "    # tokenize description.\n",
        "    tokens = word_tokenize(desc)\n",
        "        \n",
        "    # Parts of speech (POS) tag tokens.\n",
        "    token_tag = pos_tag(tokens)\n",
        "    \n",
        "    # Only include some of the POS tags.\n",
        "    include_tags = ['VBN', 'VBD', 'JJ', 'JJS', 'JJR', 'CD', 'NN', 'NNS', 'NNP', 'NNPS']\n",
        "    filtered_tokens = [tok for tok, tag in token_tag if tag in include_tags]\n",
        "    \n",
        "    # stem words.\n",
        "    stemmed_tokens = [ps.stem(tok).lower() for tok in filtered_tokens]\n",
        "    return set(stemmed_tokens)\n",
        "\n",
        "df['job_description_word_set'] = df['review_filter'].map(prepare_job_desc)"
      ]
    },
    {
      "cell_type": "code",
      "execution_count": null,
      "metadata": {
        "id": "8PL_keXCg4OI"
      },
      "outputs": [],
      "source": [
        "tool_keywords_set = set([ps.stem(tok) for tok in tool_keywords])\n",
        "skill_keywords_set = set([ps.stem(tok) for tok in skill_keywords])\n",
        "degree_set = set([ps.stem(tok) for tok in degree])\n",
        "level_set = set([ps.stem(tok) for tok in level])"
      ]
    },
    {
      "cell_type": "code",
      "execution_count": null,
      "metadata": {
        "id": "Wau1FCm4hUj7"
      },
      "outputs": [],
      "source": [
        "degree_dict = {ps.stem(tok): tok for tok in degree}\n",
        "skill_keywords_dict = {ps.stem(tok): tok for tok in skill_keywords}\n",
        "tool_keywords_dict = {ps.stem(tok): tok for tok in tool_keywords}\n",
        "level_dict = {ps.stem(tok): tok for tok in level}"
      ]
    },
    {
      "cell_type": "code",
      "execution_count": null,
      "metadata": {
        "id": "mVzMxRSbhdNQ"
      },
      "outputs": [],
      "source": [
        "# look at keyword of tool in job_description_word_set\n",
        "def tool_word(string):\n",
        "  tool_words = ''\n",
        "  words = tool_keywords_set.intersection(string)\n",
        "  if len(words) == 0:\n",
        "    tool_words = None\n",
        "  else:\n",
        "    for word in words:\n",
        "      tool_words += word\n",
        "      tool_words += ', '\n",
        "  return tool_words\n",
        "\n",
        "df['tool_words'] = df['job_description_word_set'].map(tool_word)\n",
        "df['tool_words'] = df['tool_words'].apply(lambda string: re.sub(', $', '', string) if string != None else string, '')"
      ]
    },
    {
      "cell_type": "code",
      "execution_count": null,
      "metadata": {
        "id": "UCLUI1x0j2rO"
      },
      "outputs": [],
      "source": [
        "# look at keyword of skill in job_description_word_set\n",
        "def skill_word(string):\n",
        "  tool_words = ''\n",
        "  words = skill_keywords_set.intersection(string)\n",
        "  if len(words) == 0:\n",
        "    tool_words = None\n",
        "  else:\n",
        "    for word in words:\n",
        "      tool_words += word\n",
        "      tool_words += ', '\n",
        "  return tool_words\n",
        "\n",
        "df['skill_words'] = df['job_description_word_set'].map(skill_word)\n",
        "df['skill_words'] = df['skill_words'].apply(lambda string: re.sub(', $', '', string) if string != None else string, '')"
      ]
    },
    {
      "cell_type": "code",
      "execution_count": null,
      "metadata": {
        "id": "7hhHziU5kApO"
      },
      "outputs": [],
      "source": [
        "\n",
        "# look at keyword of degree in job_description_word_set\n",
        "def degree_word(string):\n",
        "    \n",
        "    tool_words = ''\n",
        "    words = degree_set.intersection(string)\n",
        "    \n",
        "    if len(words) == 0:\n",
        "      tool_words = None\n",
        "    else:\n",
        "      for word in words:\n",
        "        tool_words += word\n",
        "        tool_words += ', '\n",
        "    return tool_words\n",
        "  \n",
        "df['degree'] = df['job_description_word_set'].map(degree_word)\n",
        "df['degree'] = df['degree'].apply(lambda string: re.sub(', $', '', string) if string != None else string, '')"
      ]
    },
    {
      "cell_type": "code",
      "execution_count": null,
      "metadata": {
        "id": "k03oLJ73kECz"
      },
      "outputs": [],
      "source": [
        "\n",
        "# look at keyword of level in job_description_word_set\n",
        "def level_word(string):\n",
        "    \n",
        "    tool_words = ''\n",
        "    words = level_set.intersection(string)\n",
        "    \n",
        "    if len(words) == 0:\n",
        "      tool_words = None\n",
        "    else:\n",
        "      for word in words:\n",
        "        tool_words += word\n",
        "        tool_words += ', '\n",
        "    return tool_words\n",
        "  \n",
        "df['level'] = df['job_description_word_set'].map(level_word)\n",
        "df['level'] = df['level'].apply(lambda string: re.sub(', $', '', string) if string != None else string, '')"
      ]
    },
    {
      "cell_type": "code",
      "execution_count": null,
      "metadata": {
        "id": "qhLlkYtKkjBo"
      },
      "outputs": [],
      "source": [
        "df['Summary'] = df.Summary.apply(lambda x: word_tokenize(x))\n",
        "df['Summary'] = df.Summary.apply(lambda x: [ps.stem(word) for word in x])\n",
        "df['Summary'] = df.Summary.apply(lambda x: ' '.join(x))\n",
        "\n",
        "df['Summary'] = df['Summary'].str.replace('năm', 'year')\n",
        "\n",
        "df['YearExperience'] = df['Summary'].apply(lambda x : re.findall(r'([0-9]+) year',x))\n",
        "df['YearExperience'] = df['YearExperience'].apply(lambda y : [0] if len(y)==0 else y)"
      ]
    },
    {
      "cell_type": "code",
      "execution_count": null,
      "metadata": {
        "colab": {
          "base_uri": "https://localhost:8080/",
          "height": 704
        },
        "id": "cmsqbkKJkGke",
        "outputId": "3de4bf34-9ca3-4e72-9d1e-eb20e6ace416"
      },
      "outputs": [
        {
          "output_type": "execute_result",
          "data": {
            "text/plain": [
              "  index        JobTitle   Company Location                    PostDate  \\\n",
              "0     0  .Net Developer  SmartDev  đà nẵng  Posted\\nPosted 14 days ago   \n",
              "2     0  .Net Developer  SmartDev  đà nẵng  Posted\\nPosted 14 days ago   \n",
              "6     0  .Net Developer  SmartDev  đà nẵng  Posted\\nPosted 14 days ago   \n",
              "7     0  .Net Developer  SmartDev  đà nẵng  Posted\\nPosted 14 days ago   \n",
              "9     0  .Net Developer  SmartDev  đà nẵng  Posted\\nPosted 14 days ago   \n",
              "\n",
              "  ExtractDate                                            Summary  \\\n",
              "0  2023-01-25  compani descript smartdev is a lead provid of ...   \n",
              "2  2023-01-25  compani descript smartdev is a lead provid of ...   \n",
              "6  2023-01-25  compani descript smartdev is a lead provid of ...   \n",
              "7  2023-01-25  compani descript smartdev is a lead provid of ...   \n",
              "9  2023-01-25  compani descript smartdev is a lead provid of ...   \n",
              "\n",
              "           JobUrl                                             review  \\\n",
              "0  .NET Developer  Company Description SmartDev is a leading prov...   \n",
              "2  .NET Developer  Company Description SmartDev is a leading prov...   \n",
              "6  .NET Developer  Company Description SmartDev is a leading prov...   \n",
              "7  .NET Developer  Company Description SmartDev is a leading prov...   \n",
              "9  .NET Developer  Company Description SmartDev is a leading prov...   \n",
              "\n",
              "                                     sentence_review  \\\n",
              "0  Company Description SmartDev is a leading prov...   \n",
              "2   SmartDev combines renowned Swiss quality with...   \n",
              "6    Job Description  You will report to PM (Proj...   \n",
              "7  Net programming languages Test and deploy appl...   \n",
              "9  NET framework, SQL Server and design/ architec...   \n",
              "\n",
              "                                       review_filter  \\\n",
              "0  Company Description SmartDev is a leading prov...   \n",
              "2   SmartDev combines renowned Swiss quality with...   \n",
              "6    Job Description  You will report to PM (Proj...   \n",
              "7  Net programming languages Test and deploy appl...   \n",
              "9  NET framework, SQL Server and design/ architec...   \n",
              "\n",
              "                            job_description_word_set tool_words  \\\n",
              "0  {global, smartdev, solut, descript, compani, p...       None   \n",
              "2  {qualiti, swiss, excel, valu, smartdev, combin...      excel   \n",
              "6  {softwar, architectur, clean, product, design,...       None   \n",
              "7  {document, qualif, work, life, code, experi, p...       None   \n",
              "9  {knowledg, architectur, design/, framework, ne...        sql   \n",
              "\n",
              "                  skill_words degree  level YearExperience  \n",
              "0                      provid   None   None            [0]  \n",
              "2                        None   None   None            [0]  \n",
              "6  clean, code, design, manag   None  manag            [0]  \n",
              "7         code, test, program   None   None            [0]  \n",
              "9               knowledg, sql   None   None            [0]  "
            ],
            "text/html": [
              "\n",
              "  <div id=\"df-e69d55ae-c170-4e86-96c6-7e0c25662a18\">\n",
              "    <div class=\"colab-df-container\">\n",
              "      <div>\n",
              "<style scoped>\n",
              "    .dataframe tbody tr th:only-of-type {\n",
              "        vertical-align: middle;\n",
              "    }\n",
              "\n",
              "    .dataframe tbody tr th {\n",
              "        vertical-align: top;\n",
              "    }\n",
              "\n",
              "    .dataframe thead th {\n",
              "        text-align: right;\n",
              "    }\n",
              "</style>\n",
              "<table border=\"1\" class=\"dataframe\">\n",
              "  <thead>\n",
              "    <tr style=\"text-align: right;\">\n",
              "      <th></th>\n",
              "      <th>index</th>\n",
              "      <th>JobTitle</th>\n",
              "      <th>Company</th>\n",
              "      <th>Location</th>\n",
              "      <th>PostDate</th>\n",
              "      <th>ExtractDate</th>\n",
              "      <th>Summary</th>\n",
              "      <th>JobUrl</th>\n",
              "      <th>review</th>\n",
              "      <th>sentence_review</th>\n",
              "      <th>review_filter</th>\n",
              "      <th>job_description_word_set</th>\n",
              "      <th>tool_words</th>\n",
              "      <th>skill_words</th>\n",
              "      <th>degree</th>\n",
              "      <th>level</th>\n",
              "      <th>YearExperience</th>\n",
              "    </tr>\n",
              "  </thead>\n",
              "  <tbody>\n",
              "    <tr>\n",
              "      <th>0</th>\n",
              "      <td>0</td>\n",
              "      <td>.Net Developer</td>\n",
              "      <td>SmartDev</td>\n",
              "      <td>đà nẵng</td>\n",
              "      <td>Posted\\nPosted 14 days ago</td>\n",
              "      <td>2023-01-25</td>\n",
              "      <td>compani descript smartdev is a lead provid of ...</td>\n",
              "      <td>.NET Developer</td>\n",
              "      <td>Company Description SmartDev is a leading prov...</td>\n",
              "      <td>Company Description SmartDev is a leading prov...</td>\n",
              "      <td>Company Description SmartDev is a leading prov...</td>\n",
              "      <td>{global, smartdev, solut, descript, compani, p...</td>\n",
              "      <td>None</td>\n",
              "      <td>provid</td>\n",
              "      <td>None</td>\n",
              "      <td>None</td>\n",
              "      <td>[0]</td>\n",
              "    </tr>\n",
              "    <tr>\n",
              "      <th>2</th>\n",
              "      <td>0</td>\n",
              "      <td>.Net Developer</td>\n",
              "      <td>SmartDev</td>\n",
              "      <td>đà nẵng</td>\n",
              "      <td>Posted\\nPosted 14 days ago</td>\n",
              "      <td>2023-01-25</td>\n",
              "      <td>compani descript smartdev is a lead provid of ...</td>\n",
              "      <td>.NET Developer</td>\n",
              "      <td>Company Description SmartDev is a leading prov...</td>\n",
              "      <td>SmartDev combines renowned Swiss quality with...</td>\n",
              "      <td>SmartDev combines renowned Swiss quality with...</td>\n",
              "      <td>{qualiti, swiss, excel, valu, smartdev, combin...</td>\n",
              "      <td>excel</td>\n",
              "      <td>None</td>\n",
              "      <td>None</td>\n",
              "      <td>None</td>\n",
              "      <td>[0]</td>\n",
              "    </tr>\n",
              "    <tr>\n",
              "      <th>6</th>\n",
              "      <td>0</td>\n",
              "      <td>.Net Developer</td>\n",
              "      <td>SmartDev</td>\n",
              "      <td>đà nẵng</td>\n",
              "      <td>Posted\\nPosted 14 days ago</td>\n",
              "      <td>2023-01-25</td>\n",
              "      <td>compani descript smartdev is a lead provid of ...</td>\n",
              "      <td>.NET Developer</td>\n",
              "      <td>Company Description SmartDev is a leading prov...</td>\n",
              "      <td>Job Description  You will report to PM (Proj...</td>\n",
              "      <td>Job Description  You will report to PM (Proj...</td>\n",
              "      <td>{softwar, architectur, clean, product, design,...</td>\n",
              "      <td>None</td>\n",
              "      <td>clean, code, design, manag</td>\n",
              "      <td>None</td>\n",
              "      <td>manag</td>\n",
              "      <td>[0]</td>\n",
              "    </tr>\n",
              "    <tr>\n",
              "      <th>7</th>\n",
              "      <td>0</td>\n",
              "      <td>.Net Developer</td>\n",
              "      <td>SmartDev</td>\n",
              "      <td>đà nẵng</td>\n",
              "      <td>Posted\\nPosted 14 days ago</td>\n",
              "      <td>2023-01-25</td>\n",
              "      <td>compani descript smartdev is a lead provid of ...</td>\n",
              "      <td>.NET Developer</td>\n",
              "      <td>Company Description SmartDev is a leading prov...</td>\n",
              "      <td>Net programming languages Test and deploy appl...</td>\n",
              "      <td>Net programming languages Test and deploy appl...</td>\n",
              "      <td>{document, qualif, work, life, code, experi, p...</td>\n",
              "      <td>None</td>\n",
              "      <td>code, test, program</td>\n",
              "      <td>None</td>\n",
              "      <td>None</td>\n",
              "      <td>[0]</td>\n",
              "    </tr>\n",
              "    <tr>\n",
              "      <th>9</th>\n",
              "      <td>0</td>\n",
              "      <td>.Net Developer</td>\n",
              "      <td>SmartDev</td>\n",
              "      <td>đà nẵng</td>\n",
              "      <td>Posted\\nPosted 14 days ago</td>\n",
              "      <td>2023-01-25</td>\n",
              "      <td>compani descript smartdev is a lead provid of ...</td>\n",
              "      <td>.NET Developer</td>\n",
              "      <td>Company Description SmartDev is a leading prov...</td>\n",
              "      <td>NET framework, SQL Server and design/ architec...</td>\n",
              "      <td>NET framework, SQL Server and design/ architec...</td>\n",
              "      <td>{knowledg, architectur, design/, framework, ne...</td>\n",
              "      <td>sql</td>\n",
              "      <td>knowledg, sql</td>\n",
              "      <td>None</td>\n",
              "      <td>None</td>\n",
              "      <td>[0]</td>\n",
              "    </tr>\n",
              "  </tbody>\n",
              "</table>\n",
              "</div>\n",
              "      <button class=\"colab-df-convert\" onclick=\"convertToInteractive('df-e69d55ae-c170-4e86-96c6-7e0c25662a18')\"\n",
              "              title=\"Convert this dataframe to an interactive table.\"\n",
              "              style=\"display:none;\">\n",
              "        \n",
              "  <svg xmlns=\"http://www.w3.org/2000/svg\" height=\"24px\"viewBox=\"0 0 24 24\"\n",
              "       width=\"24px\">\n",
              "    <path d=\"M0 0h24v24H0V0z\" fill=\"none\"/>\n",
              "    <path d=\"M18.56 5.44l.94 2.06.94-2.06 2.06-.94-2.06-.94-.94-2.06-.94 2.06-2.06.94zm-11 1L8.5 8.5l.94-2.06 2.06-.94-2.06-.94L8.5 2.5l-.94 2.06-2.06.94zm10 10l.94 2.06.94-2.06 2.06-.94-2.06-.94-.94-2.06-.94 2.06-2.06.94z\"/><path d=\"M17.41 7.96l-1.37-1.37c-.4-.4-.92-.59-1.43-.59-.52 0-1.04.2-1.43.59L10.3 9.45l-7.72 7.72c-.78.78-.78 2.05 0 2.83L4 21.41c.39.39.9.59 1.41.59.51 0 1.02-.2 1.41-.59l7.78-7.78 2.81-2.81c.8-.78.8-2.07 0-2.86zM5.41 20L4 18.59l7.72-7.72 1.47 1.35L5.41 20z\"/>\n",
              "  </svg>\n",
              "      </button>\n",
              "      \n",
              "  <style>\n",
              "    .colab-df-container {\n",
              "      display:flex;\n",
              "      flex-wrap:wrap;\n",
              "      gap: 12px;\n",
              "    }\n",
              "\n",
              "    .colab-df-convert {\n",
              "      background-color: #E8F0FE;\n",
              "      border: none;\n",
              "      border-radius: 50%;\n",
              "      cursor: pointer;\n",
              "      display: none;\n",
              "      fill: #1967D2;\n",
              "      height: 32px;\n",
              "      padding: 0 0 0 0;\n",
              "      width: 32px;\n",
              "    }\n",
              "\n",
              "    .colab-df-convert:hover {\n",
              "      background-color: #E2EBFA;\n",
              "      box-shadow: 0px 1px 2px rgba(60, 64, 67, 0.3), 0px 1px 3px 1px rgba(60, 64, 67, 0.15);\n",
              "      fill: #174EA6;\n",
              "    }\n",
              "\n",
              "    [theme=dark] .colab-df-convert {\n",
              "      background-color: #3B4455;\n",
              "      fill: #D2E3FC;\n",
              "    }\n",
              "\n",
              "    [theme=dark] .colab-df-convert:hover {\n",
              "      background-color: #434B5C;\n",
              "      box-shadow: 0px 1px 3px 1px rgba(0, 0, 0, 0.15);\n",
              "      filter: drop-shadow(0px 1px 2px rgba(0, 0, 0, 0.3));\n",
              "      fill: #FFFFFF;\n",
              "    }\n",
              "  </style>\n",
              "\n",
              "      <script>\n",
              "        const buttonEl =\n",
              "          document.querySelector('#df-e69d55ae-c170-4e86-96c6-7e0c25662a18 button.colab-df-convert');\n",
              "        buttonEl.style.display =\n",
              "          google.colab.kernel.accessAllowed ? 'block' : 'none';\n",
              "\n",
              "        async function convertToInteractive(key) {\n",
              "          const element = document.querySelector('#df-e69d55ae-c170-4e86-96c6-7e0c25662a18');\n",
              "          const dataTable =\n",
              "            await google.colab.kernel.invokeFunction('convertToInteractive',\n",
              "                                                     [key], {});\n",
              "          if (!dataTable) return;\n",
              "\n",
              "          const docLinkHtml = 'Like what you see? Visit the ' +\n",
              "            '<a target=\"_blank\" href=https://colab.research.google.com/notebooks/data_table.ipynb>data table notebook</a>'\n",
              "            + ' to learn more about interactive tables.';\n",
              "          element.innerHTML = '';\n",
              "          dataTable['output_type'] = 'display_data';\n",
              "          await google.colab.output.renderOutput(dataTable, element);\n",
              "          const docLink = document.createElement('div');\n",
              "          docLink.innerHTML = docLinkHtml;\n",
              "          element.appendChild(docLink);\n",
              "        }\n",
              "      </script>\n",
              "    </div>\n",
              "  </div>\n",
              "  "
            ]
          },
          "metadata": {},
          "execution_count": 34
        }
      ],
      "source": [
        "df.head()"
      ]
    },
    {
      "cell_type": "code",
      "execution_count": null,
      "metadata": {
        "id": "MLhAKNB4nkuc"
      },
      "outputs": [],
      "source": [
        "def convertInt(array):\n",
        "    result = []\n",
        "    for arr in array:\n",
        "        result.append(int(arr))\n",
        "    return min(result)"
      ]
    },
    {
      "cell_type": "code",
      "execution_count": null,
      "metadata": {
        "id": "YWvEvFL_nn1W"
      },
      "outputs": [],
      "source": [
        "df['YearExperience'] = df['YearExperience'].apply(lambda arr: convertInt(arr)) "
      ]
    },
    {
      "cell_type": "code",
      "execution_count": null,
      "metadata": {
        "colab": {
          "base_uri": "https://localhost:8080/",
          "height": 641
        },
        "id": "KLB9LDNMnpUA",
        "outputId": "8c7eaada-14d3-4194-8022-b656e39a145f"
      },
      "outputs": [
        {
          "output_type": "execute_result",
          "data": {
            "text/plain": [
              "      index                                           JobTitle  \\\n",
              "0         0                                     .Net Developer   \n",
              "2         0                                     .Net Developer   \n",
              "6         0                                     .Net Developer   \n",
              "7         0                                     .Net Developer   \n",
              "9         0                                     .Net Developer   \n",
              "...     ...                                                ...   \n",
              "84541  4377  Lập Trình Viên Fullstack (PHP, MYSQL, React) S...   \n",
              "84542  4377  Lập Trình Viên Fullstack (PHP, MYSQL, React) S...   \n",
              "84550  4378            Senior Fullstack Engineer (Java, React)   \n",
              "84552  4378            Senior Fullstack Engineer (Java, React)   \n",
              "84554  4378            Senior Fullstack Engineer (Java, React)   \n",
              "\n",
              "              Company               Location                 tool_words  \\\n",
              "0            SmartDev                đà nẵng                       None   \n",
              "2            SmartDev                đà nẵng                      excel   \n",
              "6            SmartDev                đà nẵng                       None   \n",
              "7            SmartDev                đà nẵng                       None   \n",
              "9            SmartDev                đà nẵng                        sql   \n",
              "...               ...                    ...                        ...   \n",
              "84541  JobsGO Recruit  thành phố hồ chí minh                        git   \n",
              "84542  JobsGO Recruit  thành phố hồ chí minh                       None   \n",
              "84550          Zühlke  thành phố hồ chí minh  scrum, docker, java, azur   \n",
              "84552          Zühlke  thành phố hồ chí minh                      scrum   \n",
              "84554          Zühlke  thành phố hồ chí minh                       None   \n",
              "\n",
              "                      skill_words  \\\n",
              "0                          provid   \n",
              "2                            None   \n",
              "6      clean, code, design, manag   \n",
              "7             code, test, program   \n",
              "9                   knowledg, sql   \n",
              "...                           ...   \n",
              "84541                        None   \n",
              "84542             english, commun   \n",
              "84550                        test   \n",
              "84552    english, commun, mindset   \n",
              "84554                        None   \n",
              "\n",
              "                                                 Summary            degree  \\\n",
              "0      compani descript smartdev is a lead provid of ...              None   \n",
              "2      compani descript smartdev is a lead provid of ...              None   \n",
              "6      compani descript smartdev is a lead provid of ...              None   \n",
              "7      compani descript smartdev is a lead provid of ...              None   \n",
              "9      compani descript smartdev is a lead provid of ...              None   \n",
              "...                                                  ...               ...   \n",
              "84541  mô tả công việc : ( mức lương : thỏa thuận ) d...              None   \n",
              "84542  mô tả công việc : ( mức lương : thỏa thuận ) d...              None   \n",
              "84550  perman full-tim ho chi minh citi softwar engin...            certif   \n",
              "84552  perman full-tim ho chi minh citi softwar engin...  master, bachelor   \n",
              "84554  perman full-tim ho chi minh citi softwar engin...              None   \n",
              "\n",
              "        level  YearExperience                    JobUrl  \n",
              "0        None               0            .NET Developer  \n",
              "2        None               0            .NET Developer  \n",
              "6       manag               0            .NET Developer  \n",
              "7        None               0            .NET Developer  \n",
              "9        None               0            .NET Developer  \n",
              "...       ...             ...                       ...  \n",
              "84541    None               3  Full Stack Web Developer  \n",
              "84542    None               3  Full Stack Web Developer  \n",
              "84550  senior               5  Full Stack Web Developer  \n",
              "84552    None               5  Full Stack Web Developer  \n",
              "84554    None               5  Full Stack Web Developer  \n",
              "\n",
              "[34265 rows x 11 columns]"
            ],
            "text/html": [
              "\n",
              "  <div id=\"df-eb003b93-6927-4f36-a1fb-fc9c2b91e19f\">\n",
              "    <div class=\"colab-df-container\">\n",
              "      <div>\n",
              "<style scoped>\n",
              "    .dataframe tbody tr th:only-of-type {\n",
              "        vertical-align: middle;\n",
              "    }\n",
              "\n",
              "    .dataframe tbody tr th {\n",
              "        vertical-align: top;\n",
              "    }\n",
              "\n",
              "    .dataframe thead th {\n",
              "        text-align: right;\n",
              "    }\n",
              "</style>\n",
              "<table border=\"1\" class=\"dataframe\">\n",
              "  <thead>\n",
              "    <tr style=\"text-align: right;\">\n",
              "      <th></th>\n",
              "      <th>index</th>\n",
              "      <th>JobTitle</th>\n",
              "      <th>Company</th>\n",
              "      <th>Location</th>\n",
              "      <th>tool_words</th>\n",
              "      <th>skill_words</th>\n",
              "      <th>Summary</th>\n",
              "      <th>degree</th>\n",
              "      <th>level</th>\n",
              "      <th>YearExperience</th>\n",
              "      <th>JobUrl</th>\n",
              "    </tr>\n",
              "  </thead>\n",
              "  <tbody>\n",
              "    <tr>\n",
              "      <th>0</th>\n",
              "      <td>0</td>\n",
              "      <td>.Net Developer</td>\n",
              "      <td>SmartDev</td>\n",
              "      <td>đà nẵng</td>\n",
              "      <td>None</td>\n",
              "      <td>provid</td>\n",
              "      <td>compani descript smartdev is a lead provid of ...</td>\n",
              "      <td>None</td>\n",
              "      <td>None</td>\n",
              "      <td>0</td>\n",
              "      <td>.NET Developer</td>\n",
              "    </tr>\n",
              "    <tr>\n",
              "      <th>2</th>\n",
              "      <td>0</td>\n",
              "      <td>.Net Developer</td>\n",
              "      <td>SmartDev</td>\n",
              "      <td>đà nẵng</td>\n",
              "      <td>excel</td>\n",
              "      <td>None</td>\n",
              "      <td>compani descript smartdev is a lead provid of ...</td>\n",
              "      <td>None</td>\n",
              "      <td>None</td>\n",
              "      <td>0</td>\n",
              "      <td>.NET Developer</td>\n",
              "    </tr>\n",
              "    <tr>\n",
              "      <th>6</th>\n",
              "      <td>0</td>\n",
              "      <td>.Net Developer</td>\n",
              "      <td>SmartDev</td>\n",
              "      <td>đà nẵng</td>\n",
              "      <td>None</td>\n",
              "      <td>clean, code, design, manag</td>\n",
              "      <td>compani descript smartdev is a lead provid of ...</td>\n",
              "      <td>None</td>\n",
              "      <td>manag</td>\n",
              "      <td>0</td>\n",
              "      <td>.NET Developer</td>\n",
              "    </tr>\n",
              "    <tr>\n",
              "      <th>7</th>\n",
              "      <td>0</td>\n",
              "      <td>.Net Developer</td>\n",
              "      <td>SmartDev</td>\n",
              "      <td>đà nẵng</td>\n",
              "      <td>None</td>\n",
              "      <td>code, test, program</td>\n",
              "      <td>compani descript smartdev is a lead provid of ...</td>\n",
              "      <td>None</td>\n",
              "      <td>None</td>\n",
              "      <td>0</td>\n",
              "      <td>.NET Developer</td>\n",
              "    </tr>\n",
              "    <tr>\n",
              "      <th>9</th>\n",
              "      <td>0</td>\n",
              "      <td>.Net Developer</td>\n",
              "      <td>SmartDev</td>\n",
              "      <td>đà nẵng</td>\n",
              "      <td>sql</td>\n",
              "      <td>knowledg, sql</td>\n",
              "      <td>compani descript smartdev is a lead provid of ...</td>\n",
              "      <td>None</td>\n",
              "      <td>None</td>\n",
              "      <td>0</td>\n",
              "      <td>.NET Developer</td>\n",
              "    </tr>\n",
              "    <tr>\n",
              "      <th>...</th>\n",
              "      <td>...</td>\n",
              "      <td>...</td>\n",
              "      <td>...</td>\n",
              "      <td>...</td>\n",
              "      <td>...</td>\n",
              "      <td>...</td>\n",
              "      <td>...</td>\n",
              "      <td>...</td>\n",
              "      <td>...</td>\n",
              "      <td>...</td>\n",
              "      <td>...</td>\n",
              "    </tr>\n",
              "    <tr>\n",
              "      <th>84541</th>\n",
              "      <td>4377</td>\n",
              "      <td>Lập Trình Viên Fullstack (PHP, MYSQL, React) S...</td>\n",
              "      <td>JobsGO Recruit</td>\n",
              "      <td>thành phố hồ chí minh</td>\n",
              "      <td>git</td>\n",
              "      <td>None</td>\n",
              "      <td>mô tả công việc : ( mức lương : thỏa thuận ) d...</td>\n",
              "      <td>None</td>\n",
              "      <td>None</td>\n",
              "      <td>3</td>\n",
              "      <td>Full Stack Web Developer</td>\n",
              "    </tr>\n",
              "    <tr>\n",
              "      <th>84542</th>\n",
              "      <td>4377</td>\n",
              "      <td>Lập Trình Viên Fullstack (PHP, MYSQL, React) S...</td>\n",
              "      <td>JobsGO Recruit</td>\n",
              "      <td>thành phố hồ chí minh</td>\n",
              "      <td>None</td>\n",
              "      <td>english, commun</td>\n",
              "      <td>mô tả công việc : ( mức lương : thỏa thuận ) d...</td>\n",
              "      <td>None</td>\n",
              "      <td>None</td>\n",
              "      <td>3</td>\n",
              "      <td>Full Stack Web Developer</td>\n",
              "    </tr>\n",
              "    <tr>\n",
              "      <th>84550</th>\n",
              "      <td>4378</td>\n",
              "      <td>Senior Fullstack Engineer (Java, React)</td>\n",
              "      <td>Zühlke</td>\n",
              "      <td>thành phố hồ chí minh</td>\n",
              "      <td>scrum, docker, java, azur</td>\n",
              "      <td>test</td>\n",
              "      <td>perman full-tim ho chi minh citi softwar engin...</td>\n",
              "      <td>certif</td>\n",
              "      <td>senior</td>\n",
              "      <td>5</td>\n",
              "      <td>Full Stack Web Developer</td>\n",
              "    </tr>\n",
              "    <tr>\n",
              "      <th>84552</th>\n",
              "      <td>4378</td>\n",
              "      <td>Senior Fullstack Engineer (Java, React)</td>\n",
              "      <td>Zühlke</td>\n",
              "      <td>thành phố hồ chí minh</td>\n",
              "      <td>scrum</td>\n",
              "      <td>english, commun, mindset</td>\n",
              "      <td>perman full-tim ho chi minh citi softwar engin...</td>\n",
              "      <td>master, bachelor</td>\n",
              "      <td>None</td>\n",
              "      <td>5</td>\n",
              "      <td>Full Stack Web Developer</td>\n",
              "    </tr>\n",
              "    <tr>\n",
              "      <th>84554</th>\n",
              "      <td>4378</td>\n",
              "      <td>Senior Fullstack Engineer (Java, React)</td>\n",
              "      <td>Zühlke</td>\n",
              "      <td>thành phố hồ chí minh</td>\n",
              "      <td>None</td>\n",
              "      <td>None</td>\n",
              "      <td>perman full-tim ho chi minh citi softwar engin...</td>\n",
              "      <td>None</td>\n",
              "      <td>None</td>\n",
              "      <td>5</td>\n",
              "      <td>Full Stack Web Developer</td>\n",
              "    </tr>\n",
              "  </tbody>\n",
              "</table>\n",
              "<p>34265 rows × 11 columns</p>\n",
              "</div>\n",
              "      <button class=\"colab-df-convert\" onclick=\"convertToInteractive('df-eb003b93-6927-4f36-a1fb-fc9c2b91e19f')\"\n",
              "              title=\"Convert this dataframe to an interactive table.\"\n",
              "              style=\"display:none;\">\n",
              "        \n",
              "  <svg xmlns=\"http://www.w3.org/2000/svg\" height=\"24px\"viewBox=\"0 0 24 24\"\n",
              "       width=\"24px\">\n",
              "    <path d=\"M0 0h24v24H0V0z\" fill=\"none\"/>\n",
              "    <path d=\"M18.56 5.44l.94 2.06.94-2.06 2.06-.94-2.06-.94-.94-2.06-.94 2.06-2.06.94zm-11 1L8.5 8.5l.94-2.06 2.06-.94-2.06-.94L8.5 2.5l-.94 2.06-2.06.94zm10 10l.94 2.06.94-2.06 2.06-.94-2.06-.94-.94-2.06-.94 2.06-2.06.94z\"/><path d=\"M17.41 7.96l-1.37-1.37c-.4-.4-.92-.59-1.43-.59-.52 0-1.04.2-1.43.59L10.3 9.45l-7.72 7.72c-.78.78-.78 2.05 0 2.83L4 21.41c.39.39.9.59 1.41.59.51 0 1.02-.2 1.41-.59l7.78-7.78 2.81-2.81c.8-.78.8-2.07 0-2.86zM5.41 20L4 18.59l7.72-7.72 1.47 1.35L5.41 20z\"/>\n",
              "  </svg>\n",
              "      </button>\n",
              "      \n",
              "  <style>\n",
              "    .colab-df-container {\n",
              "      display:flex;\n",
              "      flex-wrap:wrap;\n",
              "      gap: 12px;\n",
              "    }\n",
              "\n",
              "    .colab-df-convert {\n",
              "      background-color: #E8F0FE;\n",
              "      border: none;\n",
              "      border-radius: 50%;\n",
              "      cursor: pointer;\n",
              "      display: none;\n",
              "      fill: #1967D2;\n",
              "      height: 32px;\n",
              "      padding: 0 0 0 0;\n",
              "      width: 32px;\n",
              "    }\n",
              "\n",
              "    .colab-df-convert:hover {\n",
              "      background-color: #E2EBFA;\n",
              "      box-shadow: 0px 1px 2px rgba(60, 64, 67, 0.3), 0px 1px 3px 1px rgba(60, 64, 67, 0.15);\n",
              "      fill: #174EA6;\n",
              "    }\n",
              "\n",
              "    [theme=dark] .colab-df-convert {\n",
              "      background-color: #3B4455;\n",
              "      fill: #D2E3FC;\n",
              "    }\n",
              "\n",
              "    [theme=dark] .colab-df-convert:hover {\n",
              "      background-color: #434B5C;\n",
              "      box-shadow: 0px 1px 3px 1px rgba(0, 0, 0, 0.15);\n",
              "      filter: drop-shadow(0px 1px 2px rgba(0, 0, 0, 0.3));\n",
              "      fill: #FFFFFF;\n",
              "    }\n",
              "  </style>\n",
              "\n",
              "      <script>\n",
              "        const buttonEl =\n",
              "          document.querySelector('#df-eb003b93-6927-4f36-a1fb-fc9c2b91e19f button.colab-df-convert');\n",
              "        buttonEl.style.display =\n",
              "          google.colab.kernel.accessAllowed ? 'block' : 'none';\n",
              "\n",
              "        async function convertToInteractive(key) {\n",
              "          const element = document.querySelector('#df-eb003b93-6927-4f36-a1fb-fc9c2b91e19f');\n",
              "          const dataTable =\n",
              "            await google.colab.kernel.invokeFunction('convertToInteractive',\n",
              "                                                     [key], {});\n",
              "          if (!dataTable) return;\n",
              "\n",
              "          const docLinkHtml = 'Like what you see? Visit the ' +\n",
              "            '<a target=\"_blank\" href=https://colab.research.google.com/notebooks/data_table.ipynb>data table notebook</a>'\n",
              "            + ' to learn more about interactive tables.';\n",
              "          element.innerHTML = '';\n",
              "          dataTable['output_type'] = 'display_data';\n",
              "          await google.colab.output.renderOutput(dataTable, element);\n",
              "          const docLink = document.createElement('div');\n",
              "          docLink.innerHTML = docLinkHtml;\n",
              "          element.appendChild(docLink);\n",
              "        }\n",
              "      </script>\n",
              "    </div>\n",
              "  </div>\n",
              "  "
            ]
          },
          "metadata": {},
          "execution_count": 37
        }
      ],
      "source": [
        "# choose columns importaint\n",
        "df[['index', 'JobTitle', 'Company', 'Location', 'tool_words', 'skill_words', 'Summary', 'degree', 'level', 'YearExperience', 'JobUrl']]"
      ]
    },
    {
      "cell_type": "code",
      "execution_count": null,
      "metadata": {
        "colab": {
          "base_uri": "https://localhost:8080/"
        },
        "id": "kjeyB811npKn",
        "outputId": "5db79d74-49e9-4f89-bdde-535c5c5b320e"
      },
      "outputs": [
        {
          "output_type": "execute_result",
          "data": {
            "text/plain": [
              "Int64Index([    0,     2,     7,     9,    10,    11,    13,    16,    18,\n",
              "               19,\n",
              "            ...\n",
              "            84525, 84528, 84529, 84535, 84539, 84540, 84541, 84542, 84552,\n",
              "            84554],\n",
              "           dtype='int64', length=28458)"
            ]
          },
          "metadata": {},
          "execution_count": 38
        }
      ],
      "source": [
        "df.loc[df['level'].isna() == True, :].index"
      ]
    },
    {
      "cell_type": "code",
      "execution_count": null,
      "metadata": {
        "colab": {
          "base_uri": "https://localhost:8080/"
        },
        "id": "KOm-azxLno90",
        "outputId": "ef8c5ad2-105f-4e32-fc89-8e4c12f32d1e"
      },
      "outputs": [
        {
          "output_type": "stream",
          "name": "stderr",
          "text": [
            "<ipython-input-39-2676db7758f1>:4: SettingWithCopyWarning: \n",
            "A value is trying to be set on a copy of a slice from a DataFrame\n",
            "\n",
            "See the caveats in the documentation: https://pandas.pydata.org/pandas-docs/stable/user_guide/indexing.html#returning-a-view-versus-a-copy\n",
            "  df['degree'][i] = 'undergraduate'\n"
          ]
        }
      ],
      "source": [
        "for i in df.loc[df['degree'].isna() == True, :].index:\n",
        "  string = df['Summary'][i].lower()\n",
        "  if string.find('đại học') > 0:\n",
        "    df['degree'][i] = 'undergraduate'"
      ]
    },
    {
      "cell_type": "code",
      "execution_count": null,
      "metadata": {
        "id": "W5thEAZEohiy"
      },
      "outputs": [],
      "source": [
        "job = df[['index', 'JobTitle', 'Company', 'Location','Summary', 'JobUrl']].loc[df[['index', 'JobTitle', 'Company', 'Location','Summary', 'JobUrl']].duplicated() == False, :]"
      ]
    },
    {
      "cell_type": "code",
      "execution_count": null,
      "metadata": {
        "colab": {
          "base_uri": "https://localhost:8080/"
        },
        "id": "bahuBiAFokF9",
        "outputId": "ccd85d30-8d45-45b0-83ff-c9fd9221d258"
      },
      "outputs": [
        {
          "output_type": "execute_result",
          "data": {
            "text/plain": [
              "(4318, 6)"
            ]
          },
          "metadata": {},
          "execution_count": 41
        }
      ],
      "source": [
        "job.shape"
      ]
    },
    {
      "cell_type": "markdown",
      "metadata": {
        "id": "qn3XkZtJqUPF"
      },
      "source": [
        "# Create dataFrame by class"
      ]
    },
    {
      "cell_type": "code",
      "execution_count": null,
      "metadata": {
        "id": "aMwztLm2oo_Q"
      },
      "outputs": [],
      "source": [
        "job_tool = df[['index', 'tool_words']].loc[df[['index', 'tool_words']].duplicated() == False, :]\n",
        "job_skill = df[['index', 'skill_words']].loc[df[['skill_words']].duplicated() == False, :]\n",
        "job_level = df[['index', 'level']].loc[df[['index', 'level']].duplicated() == False, :]\n",
        "job_degree = df[['index', 'degree']].loc[df[['index', 'degree']].duplicated() == False, :]\n",
        "job_YearExperience = df[['index', 'YearExperience']].loc[df[['index', 'YearExperience']].duplicated() == False, :]"
      ]
    },
    {
      "cell_type": "code",
      "execution_count": null,
      "metadata": {
        "colab": {
          "base_uri": "https://localhost:8080/"
        },
        "id": "HwWk960QouRH",
        "outputId": "b4c8c520-3497-4f97-d9c9-62ba757024d0"
      },
      "outputs": [
        {
          "output_type": "stream",
          "name": "stderr",
          "text": [
            "/usr/local/lib/python3.9/dist-packages/pandas/core/indexes/base.py:6999: FutureWarning: In a future version, the Index constructor will not infer numeric dtypes when passed object-dtype sequences (matching Series behavior)\n",
            "  return Index(sequences[0], name=names)\n"
          ]
        }
      ],
      "source": [
        "skill = pd.DataFrame(job_tool.set_index('index').tool_words.str.split(', ', expand=True).stack().reset_index(level=1, drop=True)).reset_index()\n",
        "job_tool = skill.loc[skill.duplicated()==False, :]"
      ]
    },
    {
      "cell_type": "code",
      "execution_count": null,
      "metadata": {
        "colab": {
          "base_uri": "https://localhost:8080/"
        },
        "id": "0Jc_G0rjo9Ia",
        "outputId": "0f1d9817-e735-4aa4-9092-c765d75b136c"
      },
      "outputs": [
        {
          "output_type": "stream",
          "name": "stderr",
          "text": [
            "/usr/local/lib/python3.9/dist-packages/pandas/core/indexes/base.py:6999: FutureWarning: In a future version, the Index constructor will not infer numeric dtypes when passed object-dtype sequences (matching Series behavior)\n",
            "  return Index(sequences[0], name=names)\n"
          ]
        }
      ],
      "source": [
        "skill = pd.DataFrame(job_skill.set_index('index').skill_words.str.split(', ', expand=True).stack().reset_index(level=1, drop=True)).reset_index()\n",
        "job_skill = skill.loc[skill.duplicated()==False, :]"
      ]
    },
    {
      "cell_type": "code",
      "execution_count": null,
      "metadata": {
        "colab": {
          "base_uri": "https://localhost:8080/"
        },
        "id": "_DDr9vc0o_Vi",
        "outputId": "1493231d-3a2b-47b8-f549-20ee7e78db55"
      },
      "outputs": [
        {
          "output_type": "stream",
          "name": "stderr",
          "text": [
            "/usr/local/lib/python3.9/dist-packages/pandas/core/indexes/base.py:6999: FutureWarning: In a future version, the Index constructor will not infer numeric dtypes when passed object-dtype sequences (matching Series behavior)\n",
            "  return Index(sequences[0], name=names)\n"
          ]
        }
      ],
      "source": [
        "skill = pd.DataFrame(job_level.set_index('index').level.str.split(', ', expand=True).stack().reset_index(level=1, drop=True)).reset_index()\n",
        "job_level = skill.loc[skill.duplicated()==False, :]"
      ]
    },
    {
      "cell_type": "code",
      "execution_count": null,
      "metadata": {
        "id": "eDU6E5-fo_4h"
      },
      "outputs": [],
      "source": [
        "job_YearExperience = job_YearExperience.loc[job_YearExperience.duplicated()==False, :]"
      ]
    },
    {
      "cell_type": "code",
      "execution_count": null,
      "metadata": {
        "colab": {
          "base_uri": "https://localhost:8080/"
        },
        "id": "5teoRNXRpAMI",
        "outputId": "6b1554c0-9683-4a20-da36-0949759967e7"
      },
      "outputs": [
        {
          "output_type": "stream",
          "name": "stderr",
          "text": [
            "/usr/local/lib/python3.9/dist-packages/pandas/core/indexes/base.py:6999: FutureWarning: In a future version, the Index constructor will not infer numeric dtypes when passed object-dtype sequences (matching Series behavior)\n",
            "  return Index(sequences[0], name=names)\n"
          ]
        }
      ],
      "source": [
        "skill = pd.DataFrame(job_degree.set_index('index').degree.str.split(', ', expand=True).stack().reset_index(level=1, drop=True)).reset_index()\n",
        "job_degree = skill.loc[skill.duplicated()==False, :]"
      ]
    },
    {
      "cell_type": "code",
      "execution_count": null,
      "metadata": {
        "colab": {
          "base_uri": "https://localhost:8080/"
        },
        "id": "EPJ4woRypPZD",
        "outputId": "18a830b3-6e18-4e6e-e377-0f70d72f1ec3"
      },
      "outputs": [
        {
          "output_type": "execute_result",
          "data": {
            "text/plain": [
              "array(['đà nẵng', 'thành phố hồ chí minh', 'việt nam', 'hà nội',\n",
              "       'thủ dầu một', 'remote', 'bình dương', 'bắc ninh', 'đồng nai',\n",
              "       'nha trang', 'quận 7', 'hòa bình', 'gò vấp', 'đắk lắk', 'long an',\n",
              "       'thừa thiên - huế', 'long thành', 'cần thơ', 'an giang', 'thủ đức',\n",
              "       'huế', 'hạ long', 'hưng yên', 'bình định', 'đà lạt', 'quảng ngãi',\n",
              "       'hải phòng', 'hải dương', 'thuận an', 'khánh hòa'], dtype=object)"
            ]
          },
          "metadata": {},
          "execution_count": 48
        }
      ],
      "source": [
        "job['Location'].unique()"
      ]
    },
    {
      "cell_type": "code",
      "execution_count": null,
      "metadata": {
        "colab": {
          "base_uri": "https://localhost:8080/",
          "height": 206
        },
        "id": "TUYScQ-cvrDk",
        "outputId": "27705b33-0d1e-41ab-c616-c169fe4f0a77"
      },
      "outputs": [
        {
          "output_type": "execute_result",
          "data": {
            "text/plain": [
              "   index Name Tool\n",
              "0      0     excel\n",
              "1      0       sql\n",
              "2      0         c\n",
              "3      0    visual\n",
              "4      0     nodej"
            ],
            "text/html": [
              "\n",
              "  <div id=\"df-351e58f6-d81f-4222-aee7-f9fdc8b3ae87\">\n",
              "    <div class=\"colab-df-container\">\n",
              "      <div>\n",
              "<style scoped>\n",
              "    .dataframe tbody tr th:only-of-type {\n",
              "        vertical-align: middle;\n",
              "    }\n",
              "\n",
              "    .dataframe tbody tr th {\n",
              "        vertical-align: top;\n",
              "    }\n",
              "\n",
              "    .dataframe thead th {\n",
              "        text-align: right;\n",
              "    }\n",
              "</style>\n",
              "<table border=\"1\" class=\"dataframe\">\n",
              "  <thead>\n",
              "    <tr style=\"text-align: right;\">\n",
              "      <th></th>\n",
              "      <th>index</th>\n",
              "      <th>Name Tool</th>\n",
              "    </tr>\n",
              "  </thead>\n",
              "  <tbody>\n",
              "    <tr>\n",
              "      <th>0</th>\n",
              "      <td>0</td>\n",
              "      <td>excel</td>\n",
              "    </tr>\n",
              "    <tr>\n",
              "      <th>1</th>\n",
              "      <td>0</td>\n",
              "      <td>sql</td>\n",
              "    </tr>\n",
              "    <tr>\n",
              "      <th>2</th>\n",
              "      <td>0</td>\n",
              "      <td>c</td>\n",
              "    </tr>\n",
              "    <tr>\n",
              "      <th>3</th>\n",
              "      <td>0</td>\n",
              "      <td>visual</td>\n",
              "    </tr>\n",
              "    <tr>\n",
              "      <th>4</th>\n",
              "      <td>0</td>\n",
              "      <td>nodej</td>\n",
              "    </tr>\n",
              "  </tbody>\n",
              "</table>\n",
              "</div>\n",
              "      <button class=\"colab-df-convert\" onclick=\"convertToInteractive('df-351e58f6-d81f-4222-aee7-f9fdc8b3ae87')\"\n",
              "              title=\"Convert this dataframe to an interactive table.\"\n",
              "              style=\"display:none;\">\n",
              "        \n",
              "  <svg xmlns=\"http://www.w3.org/2000/svg\" height=\"24px\"viewBox=\"0 0 24 24\"\n",
              "       width=\"24px\">\n",
              "    <path d=\"M0 0h24v24H0V0z\" fill=\"none\"/>\n",
              "    <path d=\"M18.56 5.44l.94 2.06.94-2.06 2.06-.94-2.06-.94-.94-2.06-.94 2.06-2.06.94zm-11 1L8.5 8.5l.94-2.06 2.06-.94-2.06-.94L8.5 2.5l-.94 2.06-2.06.94zm10 10l.94 2.06.94-2.06 2.06-.94-2.06-.94-.94-2.06-.94 2.06-2.06.94z\"/><path d=\"M17.41 7.96l-1.37-1.37c-.4-.4-.92-.59-1.43-.59-.52 0-1.04.2-1.43.59L10.3 9.45l-7.72 7.72c-.78.78-.78 2.05 0 2.83L4 21.41c.39.39.9.59 1.41.59.51 0 1.02-.2 1.41-.59l7.78-7.78 2.81-2.81c.8-.78.8-2.07 0-2.86zM5.41 20L4 18.59l7.72-7.72 1.47 1.35L5.41 20z\"/>\n",
              "  </svg>\n",
              "      </button>\n",
              "      \n",
              "  <style>\n",
              "    .colab-df-container {\n",
              "      display:flex;\n",
              "      flex-wrap:wrap;\n",
              "      gap: 12px;\n",
              "    }\n",
              "\n",
              "    .colab-df-convert {\n",
              "      background-color: #E8F0FE;\n",
              "      border: none;\n",
              "      border-radius: 50%;\n",
              "      cursor: pointer;\n",
              "      display: none;\n",
              "      fill: #1967D2;\n",
              "      height: 32px;\n",
              "      padding: 0 0 0 0;\n",
              "      width: 32px;\n",
              "    }\n",
              "\n",
              "    .colab-df-convert:hover {\n",
              "      background-color: #E2EBFA;\n",
              "      box-shadow: 0px 1px 2px rgba(60, 64, 67, 0.3), 0px 1px 3px 1px rgba(60, 64, 67, 0.15);\n",
              "      fill: #174EA6;\n",
              "    }\n",
              "\n",
              "    [theme=dark] .colab-df-convert {\n",
              "      background-color: #3B4455;\n",
              "      fill: #D2E3FC;\n",
              "    }\n",
              "\n",
              "    [theme=dark] .colab-df-convert:hover {\n",
              "      background-color: #434B5C;\n",
              "      box-shadow: 0px 1px 3px 1px rgba(0, 0, 0, 0.15);\n",
              "      filter: drop-shadow(0px 1px 2px rgba(0, 0, 0, 0.3));\n",
              "      fill: #FFFFFF;\n",
              "    }\n",
              "  </style>\n",
              "\n",
              "      <script>\n",
              "        const buttonEl =\n",
              "          document.querySelector('#df-351e58f6-d81f-4222-aee7-f9fdc8b3ae87 button.colab-df-convert');\n",
              "        buttonEl.style.display =\n",
              "          google.colab.kernel.accessAllowed ? 'block' : 'none';\n",
              "\n",
              "        async function convertToInteractive(key) {\n",
              "          const element = document.querySelector('#df-351e58f6-d81f-4222-aee7-f9fdc8b3ae87');\n",
              "          const dataTable =\n",
              "            await google.colab.kernel.invokeFunction('convertToInteractive',\n",
              "                                                     [key], {});\n",
              "          if (!dataTable) return;\n",
              "\n",
              "          const docLinkHtml = 'Like what you see? Visit the ' +\n",
              "            '<a target=\"_blank\" href=https://colab.research.google.com/notebooks/data_table.ipynb>data table notebook</a>'\n",
              "            + ' to learn more about interactive tables.';\n",
              "          element.innerHTML = '';\n",
              "          dataTable['output_type'] = 'display_data';\n",
              "          await google.colab.output.renderOutput(dataTable, element);\n",
              "          const docLink = document.createElement('div');\n",
              "          docLink.innerHTML = docLinkHtml;\n",
              "          element.appendChild(docLink);\n",
              "        }\n",
              "      </script>\n",
              "    </div>\n",
              "  </div>\n",
              "  "
            ]
          },
          "metadata": {},
          "execution_count": 49
        }
      ],
      "source": [
        "job_tool.rename(columns= {0: 'Name Tool'}, inplace = True)\n",
        "# show 5 top head records of tool\n",
        "job_tool.head()"
      ]
    },
    {
      "cell_type": "code",
      "execution_count": null,
      "metadata": {
        "colab": {
          "base_uri": "https://localhost:8080/",
          "height": 206
        },
        "id": "GD33kDBoXvwK",
        "outputId": "1bd63b8c-e65f-4626-81bc-7a9715932034"
      },
      "outputs": [
        {
          "output_type": "execute_result",
          "data": {
            "text/plain": [
              "   index Name Skill\n",
              "0      0     provid\n",
              "1      0      clean\n",
              "2      0       code\n",
              "3      0     design\n",
              "4      0      manag"
            ],
            "text/html": [
              "\n",
              "  <div id=\"df-c4be04ab-7725-4d3a-b1f5-f460694a9248\">\n",
              "    <div class=\"colab-df-container\">\n",
              "      <div>\n",
              "<style scoped>\n",
              "    .dataframe tbody tr th:only-of-type {\n",
              "        vertical-align: middle;\n",
              "    }\n",
              "\n",
              "    .dataframe tbody tr th {\n",
              "        vertical-align: top;\n",
              "    }\n",
              "\n",
              "    .dataframe thead th {\n",
              "        text-align: right;\n",
              "    }\n",
              "</style>\n",
              "<table border=\"1\" class=\"dataframe\">\n",
              "  <thead>\n",
              "    <tr style=\"text-align: right;\">\n",
              "      <th></th>\n",
              "      <th>index</th>\n",
              "      <th>Name Skill</th>\n",
              "    </tr>\n",
              "  </thead>\n",
              "  <tbody>\n",
              "    <tr>\n",
              "      <th>0</th>\n",
              "      <td>0</td>\n",
              "      <td>provid</td>\n",
              "    </tr>\n",
              "    <tr>\n",
              "      <th>1</th>\n",
              "      <td>0</td>\n",
              "      <td>clean</td>\n",
              "    </tr>\n",
              "    <tr>\n",
              "      <th>2</th>\n",
              "      <td>0</td>\n",
              "      <td>code</td>\n",
              "    </tr>\n",
              "    <tr>\n",
              "      <th>3</th>\n",
              "      <td>0</td>\n",
              "      <td>design</td>\n",
              "    </tr>\n",
              "    <tr>\n",
              "      <th>4</th>\n",
              "      <td>0</td>\n",
              "      <td>manag</td>\n",
              "    </tr>\n",
              "  </tbody>\n",
              "</table>\n",
              "</div>\n",
              "      <button class=\"colab-df-convert\" onclick=\"convertToInteractive('df-c4be04ab-7725-4d3a-b1f5-f460694a9248')\"\n",
              "              title=\"Convert this dataframe to an interactive table.\"\n",
              "              style=\"display:none;\">\n",
              "        \n",
              "  <svg xmlns=\"http://www.w3.org/2000/svg\" height=\"24px\"viewBox=\"0 0 24 24\"\n",
              "       width=\"24px\">\n",
              "    <path d=\"M0 0h24v24H0V0z\" fill=\"none\"/>\n",
              "    <path d=\"M18.56 5.44l.94 2.06.94-2.06 2.06-.94-2.06-.94-.94-2.06-.94 2.06-2.06.94zm-11 1L8.5 8.5l.94-2.06 2.06-.94-2.06-.94L8.5 2.5l-.94 2.06-2.06.94zm10 10l.94 2.06.94-2.06 2.06-.94-2.06-.94-.94-2.06-.94 2.06-2.06.94z\"/><path d=\"M17.41 7.96l-1.37-1.37c-.4-.4-.92-.59-1.43-.59-.52 0-1.04.2-1.43.59L10.3 9.45l-7.72 7.72c-.78.78-.78 2.05 0 2.83L4 21.41c.39.39.9.59 1.41.59.51 0 1.02-.2 1.41-.59l7.78-7.78 2.81-2.81c.8-.78.8-2.07 0-2.86zM5.41 20L4 18.59l7.72-7.72 1.47 1.35L5.41 20z\"/>\n",
              "  </svg>\n",
              "      </button>\n",
              "      \n",
              "  <style>\n",
              "    .colab-df-container {\n",
              "      display:flex;\n",
              "      flex-wrap:wrap;\n",
              "      gap: 12px;\n",
              "    }\n",
              "\n",
              "    .colab-df-convert {\n",
              "      background-color: #E8F0FE;\n",
              "      border: none;\n",
              "      border-radius: 50%;\n",
              "      cursor: pointer;\n",
              "      display: none;\n",
              "      fill: #1967D2;\n",
              "      height: 32px;\n",
              "      padding: 0 0 0 0;\n",
              "      width: 32px;\n",
              "    }\n",
              "\n",
              "    .colab-df-convert:hover {\n",
              "      background-color: #E2EBFA;\n",
              "      box-shadow: 0px 1px 2px rgba(60, 64, 67, 0.3), 0px 1px 3px 1px rgba(60, 64, 67, 0.15);\n",
              "      fill: #174EA6;\n",
              "    }\n",
              "\n",
              "    [theme=dark] .colab-df-convert {\n",
              "      background-color: #3B4455;\n",
              "      fill: #D2E3FC;\n",
              "    }\n",
              "\n",
              "    [theme=dark] .colab-df-convert:hover {\n",
              "      background-color: #434B5C;\n",
              "      box-shadow: 0px 1px 3px 1px rgba(0, 0, 0, 0.15);\n",
              "      filter: drop-shadow(0px 1px 2px rgba(0, 0, 0, 0.3));\n",
              "      fill: #FFFFFF;\n",
              "    }\n",
              "  </style>\n",
              "\n",
              "      <script>\n",
              "        const buttonEl =\n",
              "          document.querySelector('#df-c4be04ab-7725-4d3a-b1f5-f460694a9248 button.colab-df-convert');\n",
              "        buttonEl.style.display =\n",
              "          google.colab.kernel.accessAllowed ? 'block' : 'none';\n",
              "\n",
              "        async function convertToInteractive(key) {\n",
              "          const element = document.querySelector('#df-c4be04ab-7725-4d3a-b1f5-f460694a9248');\n",
              "          const dataTable =\n",
              "            await google.colab.kernel.invokeFunction('convertToInteractive',\n",
              "                                                     [key], {});\n",
              "          if (!dataTable) return;\n",
              "\n",
              "          const docLinkHtml = 'Like what you see? Visit the ' +\n",
              "            '<a target=\"_blank\" href=https://colab.research.google.com/notebooks/data_table.ipynb>data table notebook</a>'\n",
              "            + ' to learn more about interactive tables.';\n",
              "          element.innerHTML = '';\n",
              "          dataTable['output_type'] = 'display_data';\n",
              "          await google.colab.output.renderOutput(dataTable, element);\n",
              "          const docLink = document.createElement('div');\n",
              "          docLink.innerHTML = docLinkHtml;\n",
              "          element.appendChild(docLink);\n",
              "        }\n",
              "      </script>\n",
              "    </div>\n",
              "  </div>\n",
              "  "
            ]
          },
          "metadata": {},
          "execution_count": 50
        }
      ],
      "source": [
        "job_skill.rename(columns= {0: 'Name Skill'}, inplace = True)\n",
        "# show 5 top head records of skills\n",
        "job_skill.head()"
      ]
    },
    {
      "cell_type": "code",
      "execution_count": null,
      "metadata": {
        "colab": {
          "base_uri": "https://localhost:8080/",
          "height": 206
        },
        "id": "LEWFyiDErGPs",
        "outputId": "8805da27-6eba-447d-93c8-3754f94e19e2"
      },
      "outputs": [
        {
          "output_type": "execute_result",
          "data": {
            "text/plain": [
              "   index name level\n",
              "0      0      manag\n",
              "1      3      middl\n",
              "2      3     junior\n",
              "3      3     senior\n",
              "4      5    fresher"
            ],
            "text/html": [
              "\n",
              "  <div id=\"df-c8666a51-df13-4aba-9ec7-4523a915b131\">\n",
              "    <div class=\"colab-df-container\">\n",
              "      <div>\n",
              "<style scoped>\n",
              "    .dataframe tbody tr th:only-of-type {\n",
              "        vertical-align: middle;\n",
              "    }\n",
              "\n",
              "    .dataframe tbody tr th {\n",
              "        vertical-align: top;\n",
              "    }\n",
              "\n",
              "    .dataframe thead th {\n",
              "        text-align: right;\n",
              "    }\n",
              "</style>\n",
              "<table border=\"1\" class=\"dataframe\">\n",
              "  <thead>\n",
              "    <tr style=\"text-align: right;\">\n",
              "      <th></th>\n",
              "      <th>index</th>\n",
              "      <th>name level</th>\n",
              "    </tr>\n",
              "  </thead>\n",
              "  <tbody>\n",
              "    <tr>\n",
              "      <th>0</th>\n",
              "      <td>0</td>\n",
              "      <td>manag</td>\n",
              "    </tr>\n",
              "    <tr>\n",
              "      <th>1</th>\n",
              "      <td>3</td>\n",
              "      <td>middl</td>\n",
              "    </tr>\n",
              "    <tr>\n",
              "      <th>2</th>\n",
              "      <td>3</td>\n",
              "      <td>junior</td>\n",
              "    </tr>\n",
              "    <tr>\n",
              "      <th>3</th>\n",
              "      <td>3</td>\n",
              "      <td>senior</td>\n",
              "    </tr>\n",
              "    <tr>\n",
              "      <th>4</th>\n",
              "      <td>5</td>\n",
              "      <td>fresher</td>\n",
              "    </tr>\n",
              "  </tbody>\n",
              "</table>\n",
              "</div>\n",
              "      <button class=\"colab-df-convert\" onclick=\"convertToInteractive('df-c8666a51-df13-4aba-9ec7-4523a915b131')\"\n",
              "              title=\"Convert this dataframe to an interactive table.\"\n",
              "              style=\"display:none;\">\n",
              "        \n",
              "  <svg xmlns=\"http://www.w3.org/2000/svg\" height=\"24px\"viewBox=\"0 0 24 24\"\n",
              "       width=\"24px\">\n",
              "    <path d=\"M0 0h24v24H0V0z\" fill=\"none\"/>\n",
              "    <path d=\"M18.56 5.44l.94 2.06.94-2.06 2.06-.94-2.06-.94-.94-2.06-.94 2.06-2.06.94zm-11 1L8.5 8.5l.94-2.06 2.06-.94-2.06-.94L8.5 2.5l-.94 2.06-2.06.94zm10 10l.94 2.06.94-2.06 2.06-.94-2.06-.94-.94-2.06-.94 2.06-2.06.94z\"/><path d=\"M17.41 7.96l-1.37-1.37c-.4-.4-.92-.59-1.43-.59-.52 0-1.04.2-1.43.59L10.3 9.45l-7.72 7.72c-.78.78-.78 2.05 0 2.83L4 21.41c.39.39.9.59 1.41.59.51 0 1.02-.2 1.41-.59l7.78-7.78 2.81-2.81c.8-.78.8-2.07 0-2.86zM5.41 20L4 18.59l7.72-7.72 1.47 1.35L5.41 20z\"/>\n",
              "  </svg>\n",
              "      </button>\n",
              "      \n",
              "  <style>\n",
              "    .colab-df-container {\n",
              "      display:flex;\n",
              "      flex-wrap:wrap;\n",
              "      gap: 12px;\n",
              "    }\n",
              "\n",
              "    .colab-df-convert {\n",
              "      background-color: #E8F0FE;\n",
              "      border: none;\n",
              "      border-radius: 50%;\n",
              "      cursor: pointer;\n",
              "      display: none;\n",
              "      fill: #1967D2;\n",
              "      height: 32px;\n",
              "      padding: 0 0 0 0;\n",
              "      width: 32px;\n",
              "    }\n",
              "\n",
              "    .colab-df-convert:hover {\n",
              "      background-color: #E2EBFA;\n",
              "      box-shadow: 0px 1px 2px rgba(60, 64, 67, 0.3), 0px 1px 3px 1px rgba(60, 64, 67, 0.15);\n",
              "      fill: #174EA6;\n",
              "    }\n",
              "\n",
              "    [theme=dark] .colab-df-convert {\n",
              "      background-color: #3B4455;\n",
              "      fill: #D2E3FC;\n",
              "    }\n",
              "\n",
              "    [theme=dark] .colab-df-convert:hover {\n",
              "      background-color: #434B5C;\n",
              "      box-shadow: 0px 1px 3px 1px rgba(0, 0, 0, 0.15);\n",
              "      filter: drop-shadow(0px 1px 2px rgba(0, 0, 0, 0.3));\n",
              "      fill: #FFFFFF;\n",
              "    }\n",
              "  </style>\n",
              "\n",
              "      <script>\n",
              "        const buttonEl =\n",
              "          document.querySelector('#df-c8666a51-df13-4aba-9ec7-4523a915b131 button.colab-df-convert');\n",
              "        buttonEl.style.display =\n",
              "          google.colab.kernel.accessAllowed ? 'block' : 'none';\n",
              "\n",
              "        async function convertToInteractive(key) {\n",
              "          const element = document.querySelector('#df-c8666a51-df13-4aba-9ec7-4523a915b131');\n",
              "          const dataTable =\n",
              "            await google.colab.kernel.invokeFunction('convertToInteractive',\n",
              "                                                     [key], {});\n",
              "          if (!dataTable) return;\n",
              "\n",
              "          const docLinkHtml = 'Like what you see? Visit the ' +\n",
              "            '<a target=\"_blank\" href=https://colab.research.google.com/notebooks/data_table.ipynb>data table notebook</a>'\n",
              "            + ' to learn more about interactive tables.';\n",
              "          element.innerHTML = '';\n",
              "          dataTable['output_type'] = 'display_data';\n",
              "          await google.colab.output.renderOutput(dataTable, element);\n",
              "          const docLink = document.createElement('div');\n",
              "          docLink.innerHTML = docLinkHtml;\n",
              "          element.appendChild(docLink);\n",
              "        }\n",
              "      </script>\n",
              "    </div>\n",
              "  </div>\n",
              "  "
            ]
          },
          "metadata": {},
          "execution_count": 51
        }
      ],
      "source": [
        "job_level.rename(columns={0: 'name level'}, inplace = True)\n",
        "# show 5 top head records of level\n",
        "job_level.head()"
      ]
    },
    {
      "cell_type": "code",
      "execution_count": null,
      "metadata": {
        "colab": {
          "base_uri": "https://localhost:8080/",
          "height": 297
        },
        "id": "2xRdE0r7raxr",
        "outputId": "208452ba-412a-4309-e50a-a399d294f9ba"
      },
      "outputs": [
        {
          "output_type": "stream",
          "name": "stderr",
          "text": [
            "<ipython-input-52-42f9097f0745>:1: SettingWithCopyWarning: \n",
            "A value is trying to be set on a copy of a slice from a DataFrame\n",
            "\n",
            "See the caveats in the documentation: https://pandas.pydata.org/pandas-docs/stable/user_guide/indexing.html#returning-a-view-versus-a-copy\n",
            "  job_degree.rename(columns={0: 'name degree'}, inplace = True)\n"
          ]
        },
        {
          "output_type": "execute_result",
          "data": {
            "text/plain": [
              "   index    name degree\n",
              "0      1        graduat\n",
              "1      2       bachelor\n",
              "2      3         master\n",
              "3      3         certif\n",
              "4      4  undergraduate"
            ],
            "text/html": [
              "\n",
              "  <div id=\"df-c5356a48-c697-4b12-bd1e-41055a705b90\">\n",
              "    <div class=\"colab-df-container\">\n",
              "      <div>\n",
              "<style scoped>\n",
              "    .dataframe tbody tr th:only-of-type {\n",
              "        vertical-align: middle;\n",
              "    }\n",
              "\n",
              "    .dataframe tbody tr th {\n",
              "        vertical-align: top;\n",
              "    }\n",
              "\n",
              "    .dataframe thead th {\n",
              "        text-align: right;\n",
              "    }\n",
              "</style>\n",
              "<table border=\"1\" class=\"dataframe\">\n",
              "  <thead>\n",
              "    <tr style=\"text-align: right;\">\n",
              "      <th></th>\n",
              "      <th>index</th>\n",
              "      <th>name degree</th>\n",
              "    </tr>\n",
              "  </thead>\n",
              "  <tbody>\n",
              "    <tr>\n",
              "      <th>0</th>\n",
              "      <td>1</td>\n",
              "      <td>graduat</td>\n",
              "    </tr>\n",
              "    <tr>\n",
              "      <th>1</th>\n",
              "      <td>2</td>\n",
              "      <td>bachelor</td>\n",
              "    </tr>\n",
              "    <tr>\n",
              "      <th>2</th>\n",
              "      <td>3</td>\n",
              "      <td>master</td>\n",
              "    </tr>\n",
              "    <tr>\n",
              "      <th>3</th>\n",
              "      <td>3</td>\n",
              "      <td>certif</td>\n",
              "    </tr>\n",
              "    <tr>\n",
              "      <th>4</th>\n",
              "      <td>4</td>\n",
              "      <td>undergraduate</td>\n",
              "    </tr>\n",
              "  </tbody>\n",
              "</table>\n",
              "</div>\n",
              "      <button class=\"colab-df-convert\" onclick=\"convertToInteractive('df-c5356a48-c697-4b12-bd1e-41055a705b90')\"\n",
              "              title=\"Convert this dataframe to an interactive table.\"\n",
              "              style=\"display:none;\">\n",
              "        \n",
              "  <svg xmlns=\"http://www.w3.org/2000/svg\" height=\"24px\"viewBox=\"0 0 24 24\"\n",
              "       width=\"24px\">\n",
              "    <path d=\"M0 0h24v24H0V0z\" fill=\"none\"/>\n",
              "    <path d=\"M18.56 5.44l.94 2.06.94-2.06 2.06-.94-2.06-.94-.94-2.06-.94 2.06-2.06.94zm-11 1L8.5 8.5l.94-2.06 2.06-.94-2.06-.94L8.5 2.5l-.94 2.06-2.06.94zm10 10l.94 2.06.94-2.06 2.06-.94-2.06-.94-.94-2.06-.94 2.06-2.06.94z\"/><path d=\"M17.41 7.96l-1.37-1.37c-.4-.4-.92-.59-1.43-.59-.52 0-1.04.2-1.43.59L10.3 9.45l-7.72 7.72c-.78.78-.78 2.05 0 2.83L4 21.41c.39.39.9.59 1.41.59.51 0 1.02-.2 1.41-.59l7.78-7.78 2.81-2.81c.8-.78.8-2.07 0-2.86zM5.41 20L4 18.59l7.72-7.72 1.47 1.35L5.41 20z\"/>\n",
              "  </svg>\n",
              "      </button>\n",
              "      \n",
              "  <style>\n",
              "    .colab-df-container {\n",
              "      display:flex;\n",
              "      flex-wrap:wrap;\n",
              "      gap: 12px;\n",
              "    }\n",
              "\n",
              "    .colab-df-convert {\n",
              "      background-color: #E8F0FE;\n",
              "      border: none;\n",
              "      border-radius: 50%;\n",
              "      cursor: pointer;\n",
              "      display: none;\n",
              "      fill: #1967D2;\n",
              "      height: 32px;\n",
              "      padding: 0 0 0 0;\n",
              "      width: 32px;\n",
              "    }\n",
              "\n",
              "    .colab-df-convert:hover {\n",
              "      background-color: #E2EBFA;\n",
              "      box-shadow: 0px 1px 2px rgba(60, 64, 67, 0.3), 0px 1px 3px 1px rgba(60, 64, 67, 0.15);\n",
              "      fill: #174EA6;\n",
              "    }\n",
              "\n",
              "    [theme=dark] .colab-df-convert {\n",
              "      background-color: #3B4455;\n",
              "      fill: #D2E3FC;\n",
              "    }\n",
              "\n",
              "    [theme=dark] .colab-df-convert:hover {\n",
              "      background-color: #434B5C;\n",
              "      box-shadow: 0px 1px 3px 1px rgba(0, 0, 0, 0.15);\n",
              "      filter: drop-shadow(0px 1px 2px rgba(0, 0, 0, 0.3));\n",
              "      fill: #FFFFFF;\n",
              "    }\n",
              "  </style>\n",
              "\n",
              "      <script>\n",
              "        const buttonEl =\n",
              "          document.querySelector('#df-c5356a48-c697-4b12-bd1e-41055a705b90 button.colab-df-convert');\n",
              "        buttonEl.style.display =\n",
              "          google.colab.kernel.accessAllowed ? 'block' : 'none';\n",
              "\n",
              "        async function convertToInteractive(key) {\n",
              "          const element = document.querySelector('#df-c5356a48-c697-4b12-bd1e-41055a705b90');\n",
              "          const dataTable =\n",
              "            await google.colab.kernel.invokeFunction('convertToInteractive',\n",
              "                                                     [key], {});\n",
              "          if (!dataTable) return;\n",
              "\n",
              "          const docLinkHtml = 'Like what you see? Visit the ' +\n",
              "            '<a target=\"_blank\" href=https://colab.research.google.com/notebooks/data_table.ipynb>data table notebook</a>'\n",
              "            + ' to learn more about interactive tables.';\n",
              "          element.innerHTML = '';\n",
              "          dataTable['output_type'] = 'display_data';\n",
              "          await google.colab.output.renderOutput(dataTable, element);\n",
              "          const docLink = document.createElement('div');\n",
              "          docLink.innerHTML = docLinkHtml;\n",
              "          element.appendChild(docLink);\n",
              "        }\n",
              "      </script>\n",
              "    </div>\n",
              "  </div>\n",
              "  "
            ]
          },
          "metadata": {},
          "execution_count": 52
        }
      ],
      "source": [
        "job_degree.rename(columns={0: 'name degree'}, inplace = True)\n",
        "# show 5 top head records of degree\n",
        "job_degree.head()"
      ]
    },
    {
      "cell_type": "code",
      "execution_count": null,
      "metadata": {
        "colab": {
          "base_uri": "https://localhost:8080/",
          "height": 206
        },
        "id": "blDS0ZR4rktv",
        "outputId": "037a67ea-5cfa-4e07-8191-379d8ec9aaf6"
      },
      "outputs": [
        {
          "output_type": "execute_result",
          "data": {
            "text/plain": [
              "   index  YearExperience\n",
              "0      0               0\n",
              "13     1               0\n",
              "27     2               4\n",
              "56     3               2\n",
              "75     4               1"
            ],
            "text/html": [
              "\n",
              "  <div id=\"df-5f8a94db-565c-4075-b526-7d4d7c7982bf\">\n",
              "    <div class=\"colab-df-container\">\n",
              "      <div>\n",
              "<style scoped>\n",
              "    .dataframe tbody tr th:only-of-type {\n",
              "        vertical-align: middle;\n",
              "    }\n",
              "\n",
              "    .dataframe tbody tr th {\n",
              "        vertical-align: top;\n",
              "    }\n",
              "\n",
              "    .dataframe thead th {\n",
              "        text-align: right;\n",
              "    }\n",
              "</style>\n",
              "<table border=\"1\" class=\"dataframe\">\n",
              "  <thead>\n",
              "    <tr style=\"text-align: right;\">\n",
              "      <th></th>\n",
              "      <th>index</th>\n",
              "      <th>YearExperience</th>\n",
              "    </tr>\n",
              "  </thead>\n",
              "  <tbody>\n",
              "    <tr>\n",
              "      <th>0</th>\n",
              "      <td>0</td>\n",
              "      <td>0</td>\n",
              "    </tr>\n",
              "    <tr>\n",
              "      <th>13</th>\n",
              "      <td>1</td>\n",
              "      <td>0</td>\n",
              "    </tr>\n",
              "    <tr>\n",
              "      <th>27</th>\n",
              "      <td>2</td>\n",
              "      <td>4</td>\n",
              "    </tr>\n",
              "    <tr>\n",
              "      <th>56</th>\n",
              "      <td>3</td>\n",
              "      <td>2</td>\n",
              "    </tr>\n",
              "    <tr>\n",
              "      <th>75</th>\n",
              "      <td>4</td>\n",
              "      <td>1</td>\n",
              "    </tr>\n",
              "  </tbody>\n",
              "</table>\n",
              "</div>\n",
              "      <button class=\"colab-df-convert\" onclick=\"convertToInteractive('df-5f8a94db-565c-4075-b526-7d4d7c7982bf')\"\n",
              "              title=\"Convert this dataframe to an interactive table.\"\n",
              "              style=\"display:none;\">\n",
              "        \n",
              "  <svg xmlns=\"http://www.w3.org/2000/svg\" height=\"24px\"viewBox=\"0 0 24 24\"\n",
              "       width=\"24px\">\n",
              "    <path d=\"M0 0h24v24H0V0z\" fill=\"none\"/>\n",
              "    <path d=\"M18.56 5.44l.94 2.06.94-2.06 2.06-.94-2.06-.94-.94-2.06-.94 2.06-2.06.94zm-11 1L8.5 8.5l.94-2.06 2.06-.94-2.06-.94L8.5 2.5l-.94 2.06-2.06.94zm10 10l.94 2.06.94-2.06 2.06-.94-2.06-.94-.94-2.06-.94 2.06-2.06.94z\"/><path d=\"M17.41 7.96l-1.37-1.37c-.4-.4-.92-.59-1.43-.59-.52 0-1.04.2-1.43.59L10.3 9.45l-7.72 7.72c-.78.78-.78 2.05 0 2.83L4 21.41c.39.39.9.59 1.41.59.51 0 1.02-.2 1.41-.59l7.78-7.78 2.81-2.81c.8-.78.8-2.07 0-2.86zM5.41 20L4 18.59l7.72-7.72 1.47 1.35L5.41 20z\"/>\n",
              "  </svg>\n",
              "      </button>\n",
              "      \n",
              "  <style>\n",
              "    .colab-df-container {\n",
              "      display:flex;\n",
              "      flex-wrap:wrap;\n",
              "      gap: 12px;\n",
              "    }\n",
              "\n",
              "    .colab-df-convert {\n",
              "      background-color: #E8F0FE;\n",
              "      border: none;\n",
              "      border-radius: 50%;\n",
              "      cursor: pointer;\n",
              "      display: none;\n",
              "      fill: #1967D2;\n",
              "      height: 32px;\n",
              "      padding: 0 0 0 0;\n",
              "      width: 32px;\n",
              "    }\n",
              "\n",
              "    .colab-df-convert:hover {\n",
              "      background-color: #E2EBFA;\n",
              "      box-shadow: 0px 1px 2px rgba(60, 64, 67, 0.3), 0px 1px 3px 1px rgba(60, 64, 67, 0.15);\n",
              "      fill: #174EA6;\n",
              "    }\n",
              "\n",
              "    [theme=dark] .colab-df-convert {\n",
              "      background-color: #3B4455;\n",
              "      fill: #D2E3FC;\n",
              "    }\n",
              "\n",
              "    [theme=dark] .colab-df-convert:hover {\n",
              "      background-color: #434B5C;\n",
              "      box-shadow: 0px 1px 3px 1px rgba(0, 0, 0, 0.15);\n",
              "      filter: drop-shadow(0px 1px 2px rgba(0, 0, 0, 0.3));\n",
              "      fill: #FFFFFF;\n",
              "    }\n",
              "  </style>\n",
              "\n",
              "      <script>\n",
              "        const buttonEl =\n",
              "          document.querySelector('#df-5f8a94db-565c-4075-b526-7d4d7c7982bf button.colab-df-convert');\n",
              "        buttonEl.style.display =\n",
              "          google.colab.kernel.accessAllowed ? 'block' : 'none';\n",
              "\n",
              "        async function convertToInteractive(key) {\n",
              "          const element = document.querySelector('#df-5f8a94db-565c-4075-b526-7d4d7c7982bf');\n",
              "          const dataTable =\n",
              "            await google.colab.kernel.invokeFunction('convertToInteractive',\n",
              "                                                     [key], {});\n",
              "          if (!dataTable) return;\n",
              "\n",
              "          const docLinkHtml = 'Like what you see? Visit the ' +\n",
              "            '<a target=\"_blank\" href=https://colab.research.google.com/notebooks/data_table.ipynb>data table notebook</a>'\n",
              "            + ' to learn more about interactive tables.';\n",
              "          element.innerHTML = '';\n",
              "          dataTable['output_type'] = 'display_data';\n",
              "          await google.colab.output.renderOutput(dataTable, element);\n",
              "          const docLink = document.createElement('div');\n",
              "          docLink.innerHTML = docLinkHtml;\n",
              "          element.appendChild(docLink);\n",
              "        }\n",
              "      </script>\n",
              "    </div>\n",
              "  </div>\n",
              "  "
            ]
          },
          "metadata": {},
          "execution_count": 53
        }
      ],
      "source": [
        "job_YearExperience.rename(columns={0: 'name YearExperience'}, inplace = True)\n",
        "# show 5 top head records of degree\n",
        "job_YearExperience.head()"
      ]
    },
    {
      "cell_type": "markdown",
      "metadata": {
        "id": "IOsod1TWr_Q7"
      },
      "source": [
        "# Remove data outline"
      ]
    },
    {
      "cell_type": "code",
      "execution_count": null,
      "metadata": {
        "colab": {
          "base_uri": "https://localhost:8080/"
        },
        "id": "N3wq40hzr1_J",
        "outputId": "24de1c5d-a0b9-4c92-cd03-3f595858a4bb"
      },
      "outputs": [
        {
          "output_type": "stream",
          "name": "stdout",
          "text": [
            "Index(['index', 'YearExperience'], dtype='object')\n",
            "(4318, 2)\n"
          ]
        }
      ],
      "source": [
        "print(job_YearExperience.columns)\n",
        "print(job_YearExperience.shape)"
      ]
    },
    {
      "cell_type": "code",
      "execution_count": null,
      "metadata": {
        "colab": {
          "base_uri": "https://localhost:8080/",
          "height": 303
        },
        "id": "6ZAdWjbRsESU",
        "outputId": "4db308f3-f1c4-4224-e68b-9078fe633e60"
      },
      "outputs": [
        {
          "output_type": "execute_result",
          "data": {
            "text/plain": [
              "<Axes: xlabel='YearExperience'>"
            ]
          },
          "metadata": {},
          "execution_count": 55
        },
        {
          "output_type": "display_data",
          "data": {
            "text/plain": [
              "<Figure size 432x288 with 1 Axes>"
            ],
            "image/png": "[encoded data removed]"
          },
          "metadata": {}
        }
      ],
      "source": [
        "sns.boxplot(x=job_YearExperience['YearExperience'])"
      ]
    },
    {
      "cell_type": "code",
      "execution_count": null,
      "metadata": {
        "id": "zmmyGvqisHXZ"
      },
      "outputs": [],
      "source": [
        "job_YearExperience = job_YearExperience.loc[job_YearExperience['YearExperience'] < 10, :]"
      ]
    },
    {
      "cell_type": "code",
      "execution_count": null,
      "metadata": {
        "id": "hM__ZKxhsKKm"
      },
      "outputs": [],
      "source": [
        "def visualze(column, data):\n",
        "  plt.figure(figsize = (20,10))\n",
        "\n",
        "  plt.subplot(1, 2, 1)\n",
        "  string_density = 'vẽ biểu đồ density phân phố của ' + column\n",
        "  plt.title(string_density)\n",
        "  sns.kdeplot(data[column] , bw = 0.5 , fill = True)\n",
        "  plt.subplot(1, 2, 2)\n",
        "  string_box = 'vẽ biểu đồ boxplot của '+ column\n",
        "  plt.title(string_box)\n",
        "  sns.boxplot(x=data[column])\n",
        "  plt.show()"
      ]
    },
    {
      "cell_type": "code",
      "execution_count": null,
      "metadata": {
        "id": "m1EDBOYisOw4",
        "colab": {
          "base_uri": "https://localhost:8080/",
          "height": 756
        },
        "outputId": "49f4dd06-4267-4638-cf6c-2082d4134410"
      },
      "outputs": [
        {
          "output_type": "stream",
          "name": "stderr",
          "text": [
            "<ipython-input-57-b1a4949581d6>:7: UserWarning: \n",
            "\n",
            "The `bw` parameter is deprecated in favor of `bw_method` and `bw_adjust`.\n",
            "Setting `bw_method=0.5`, but please see the docs for the new parameters\n",
            "and update your code. This will become an error in seaborn v0.13.0.\n",
            "\n",
            "  sns.kdeplot(data[column] , bw = 0.5 , fill = True)\n"
          ]
        },
        {
          "output_type": "display_data",
          "data": {
            "text/plain": [
              "<Figure size 1440x720 with 2 Axes>"
            ],
            "image/png": "[encoded data removed]"
          },
          "metadata": {}
        }
      ],
      "source": [
        "visualze('YearExperience', job_YearExperience)"
      ]
    },
    {
      "cell_type": "code",
      "execution_count": null,
      "metadata": {
        "id": "Q4U-ZhZrzOH1"
      },
      "outputs": [],
      "source": [
        "# Filter values is trend in data job_skill\n",
        "name_skill = ['metadata', 'sequenc', 'csdl', 'multithr', 'correl', 'refresh', 'tsql',\n",
        "              'maxim', 'explorat', 'cleans', 'metavers', 'probabl', 'chatbot', 'nlp',\n",
        "              'classif', 'boost', 'portabl', 'hypothes', 'reinforc', 'uiux', 'maitain'\n",
        "              ,'metastoc', 'psycholo', 'economet', 'threadha', 'ocr', 'bayesian']"
      ]
    },
    {
      "cell_type": "code",
      "execution_count": null,
      "metadata": {
        "id": "uHBDb7MlvKA5"
      },
      "outputs": [],
      "source": [
        "mark = job_skill['Name Skill'].isin(name_skill)"
      ]
    },
    {
      "cell_type": "code",
      "execution_count": null,
      "metadata": {
        "id": "IQCfbxXwzF6l"
      },
      "outputs": [],
      "source": [
        "job_skill.drop(job_skill[mark].index, inplace = True)"
      ]
    },
    {
      "cell_type": "code",
      "execution_count": null,
      "metadata": {
        "id": "sz_Is_Jyy0Mg"
      },
      "outputs": [],
      "source": [
        "name_tool = job_tool['Name Tool'].value_counts()[55:].index\n",
        "mark_tool = job_tool['Name Tool'].isin(name_tool)\n",
        "job_tool.drop(job_tool[mark_tool].index, inplace = True)"
      ]
    },
    {
      "cell_type": "code",
      "execution_count": null,
      "metadata": {
        "id": "SRPm8og81oIS",
        "colab": {
          "base_uri": "https://localhost:8080/"
        },
        "outputId": "c6832be7-af11-4f1b-d74d-fec8984f3ca1"
      },
      "outputs": [
        {
          "output_type": "stream",
          "name": "stderr",
          "text": [
            "<ipython-input-63-6683a53d4de4>:5: SettingWithCopyWarning: \n",
            "A value is trying to be set on a copy of a slice from a DataFrame.\n",
            "Try using .loc[row_indexer,col_indexer] = value instead\n",
            "\n",
            "See the caveats in the documentation: https://pandas.pydata.org/pandas-docs/stable/user_guide/indexing.html#returning-a-view-versus-a-copy\n",
            "  job_degree['name degree'] = job_degree['name degree'].apply(lambda string: string.replace(string, degree_dict[string]) if ((string != None) & (string != 'undergraduate')) else string, '')\n"
          ]
        }
      ],
      "source": [
        "# grammatical normalization of the word\n",
        "job_skill['Name Skill'] = job_skill['Name Skill'].apply(lambda string: string.replace(string, skill_keywords_dict[string]) if string != None else string, '')\n",
        "job_tool['Name Tool'] = job_tool['Name Tool'].apply(lambda string: string.replace(string, tool_keywords_dict[string]) if string != None else string, '')\n",
        "job_level['name level'] = job_level['name level'].apply(lambda string: string.replace(string, level_dict[string]) if (string != None) else string, '')\n",
        "job_degree['name degree'] = job_degree['name degree'].apply(lambda string: string.replace(string, degree_dict[string]) if ((string != None) & (string != 'undergraduate')) else string, '')"
      ]
    },
    {
      "cell_type": "markdown",
      "metadata": {
        "id": "xoaH6W9D23_Q"
      },
      "source": [
        "# Visualization databases"
      ]
    },
    {
      "cell_type": "markdown",
      "metadata": {
        "id": "JbjDFdbv4r7F"
      },
      "source": [
        "## Title job at Viet Nam"
      ]
    },
    {
      "cell_type": "code",
      "execution_count": null,
      "metadata": {
        "id": "a_A7L5yj4WxQ"
      },
      "outputs": [],
      "source": [
        "name = job['JobUrl'].value_counts().index\n",
        "values = job['JobUrl'].value_counts().values"
      ]
    },
    {
      "cell_type": "code",
      "execution_count": null,
      "metadata": {
        "id": "wB4twHB_4Z2t"
      },
      "outputs": [],
      "source": [
        "lis = []\n",
        "for i in values:\n",
        "  lis.append(i*100/values.sum())"
      ]
    },
    {
      "cell_type": "code",
      "source": [
        "len(lis)"
      ],
      "metadata": {
        "colab": {
          "base_uri": "https://localhost:8080/"
        },
        "id": "I4ltEJwGh29s",
        "outputId": "6d5fd5ec-32d0-49b2-9d9d-8ef02da68550"
      },
      "execution_count": null,
      "outputs": [
        {
          "output_type": "execute_result",
          "data": {
            "text/plain": [
              "13"
            ]
          },
          "metadata": {},
          "execution_count": 66
        }
      ]
    },
    {
      "cell_type": "code",
      "source": [
        "fig = plt.figure(figsize = (10, 5))\n",
        " \n",
        "# creating the bar plot\n",
        "plt.barh(name, lis)\n",
        "plt.show()"
      ],
      "metadata": {
        "colab": {
          "base_uri": "https://localhost:8080/",
          "height": 322
        },
        "id": "OwqaK13LhwYa",
        "outputId": "77ef33e2-0475-43ca-e592-09dc17b9a8ac"
      },
      "execution_count": null,
      "outputs": [
        {
          "output_type": "display_data",
          "data": {
            "text/plain": [
              "<Figure size 720x360 with 1 Axes>"
            ],
            "image/png": "[encoded data removed]"
          },
          "metadata": {}
        }
      ]
    },
    {
      "cell_type": "code",
      "execution_count": null,
      "metadata": {
        "id": "59ZII8yp2RJ2",
        "colab": {
          "base_uri": "https://localhost:8080/",
          "height": 1000
        },
        "outputId": "860f1c0d-2d1d-4f0d-f233-b3f2a3973438"
      },
      "outputs": [
        {
          "output_type": "error",
          "ename": "ValueError",
          "evalue": "ignored",
          "traceback": [
            "\u001b[0;31m---------------------------------------------------------------------------\u001b[0m",
            "\u001b[0;31mValueError\u001b[0m                                Traceback (most recent call last)",
            "\u001b[0;32m<ipython-input-68-964af6ddb32b>\u001b[0m in \u001b[0;36m<module>\u001b[0;34m\u001b[0m\n\u001b[1;32m     20\u001b[0m \u001b[0;34m\u001b[0m\u001b[0m\n\u001b[1;32m     21\u001b[0m \u001b[0;31m# Add x, y gridlines\u001b[0m\u001b[0;34m\u001b[0m\u001b[0;34m\u001b[0m\u001b[0m\n\u001b[0;32m---> 22\u001b[0;31m \u001b[0max\u001b[0m\u001b[0;34m.\u001b[0m\u001b[0mgrid\u001b[0m\u001b[0;34m(\u001b[0m\u001b[0mb\u001b[0m \u001b[0;34m=\u001b[0m \u001b[0;32mTrue\u001b[0m\u001b[0;34m,\u001b[0m \u001b[0mcolor\u001b[0m \u001b[0;34m=\u001b[0m\u001b[0;34m'grey'\u001b[0m\u001b[0;34m,\u001b[0m \u001b[0mlinestyle\u001b[0m \u001b[0;34m=\u001b[0m\u001b[0;34m'-.'\u001b[0m\u001b[0;34m,\u001b[0m \u001b[0mlinewidth\u001b[0m \u001b[0;34m=\u001b[0m \u001b[0;36m0.5\u001b[0m\u001b[0;34m,\u001b[0m \u001b[0malpha\u001b[0m \u001b[0;34m=\u001b[0m \u001b[0;36m0.2\u001b[0m\u001b[0;34m)\u001b[0m\u001b[0;34m\u001b[0m\u001b[0;34m\u001b[0m\u001b[0m\n\u001b[0m\u001b[1;32m     23\u001b[0m \u001b[0;34m\u001b[0m\u001b[0m\n\u001b[1;32m     24\u001b[0m \u001b[0;31m# Show top values\u001b[0m\u001b[0;34m\u001b[0m\u001b[0;34m\u001b[0m\u001b[0m\n",
            "\u001b[0;32m/usr/local/lib/python3.9/dist-packages/matplotlib/axes/_base.py\u001b[0m in \u001b[0;36mgrid\u001b[0;34m(self, visible, which, axis, **kwargs)\u001b[0m\n\u001b[1;32m   3192\u001b[0m         \u001b[0m_api\u001b[0m\u001b[0;34m.\u001b[0m\u001b[0mcheck_in_list\u001b[0m\u001b[0;34m(\u001b[0m\u001b[0;34m[\u001b[0m\u001b[0;34m'x'\u001b[0m\u001b[0;34m,\u001b[0m \u001b[0;34m'y'\u001b[0m\u001b[0;34m,\u001b[0m \u001b[0;34m'both'\u001b[0m\u001b[0;34m]\u001b[0m\u001b[0;34m,\u001b[0m \u001b[0maxis\u001b[0m\u001b[0;34m=\u001b[0m\u001b[0maxis\u001b[0m\u001b[0;34m)\u001b[0m\u001b[0;34m\u001b[0m\u001b[0;34m\u001b[0m\u001b[0m\n\u001b[1;32m   3193\u001b[0m         \u001b[0;32mif\u001b[0m \u001b[0maxis\u001b[0m \u001b[0;32min\u001b[0m \u001b[0;34m[\u001b[0m\u001b[0;34m'x'\u001b[0m\u001b[0;34m,\u001b[0m \u001b[0;34m'both'\u001b[0m\u001b[0;34m]\u001b[0m\u001b[0;34m:\u001b[0m\u001b[0;34m\u001b[0m\u001b[0;34m\u001b[0m\u001b[0m\n\u001b[0;32m-> 3194\u001b[0;31m             \u001b[0mself\u001b[0m\u001b[0;34m.\u001b[0m\u001b[0mxaxis\u001b[0m\u001b[0;34m.\u001b[0m\u001b[0mgrid\u001b[0m\u001b[0;34m(\u001b[0m\u001b[0mvisible\u001b[0m\u001b[0;34m,\u001b[0m \u001b[0mwhich\u001b[0m\u001b[0;34m=\u001b[0m\u001b[0mwhich\u001b[0m\u001b[0;34m,\u001b[0m \u001b[0;34m**\u001b[0m\u001b[0mkwargs\u001b[0m\u001b[0;34m)\u001b[0m\u001b[0;34m\u001b[0m\u001b[0;34m\u001b[0m\u001b[0m\n\u001b[0m\u001b[1;32m   3195\u001b[0m         \u001b[0;32mif\u001b[0m \u001b[0maxis\u001b[0m \u001b[0;32min\u001b[0m \u001b[0;34m[\u001b[0m\u001b[0;34m'y'\u001b[0m\u001b[0;34m,\u001b[0m \u001b[0;34m'both'\u001b[0m\u001b[0;34m]\u001b[0m\u001b[0;34m:\u001b[0m\u001b[0;34m\u001b[0m\u001b[0;34m\u001b[0m\u001b[0m\n\u001b[1;32m   3196\u001b[0m             \u001b[0mself\u001b[0m\u001b[0;34m.\u001b[0m\u001b[0myaxis\u001b[0m\u001b[0;34m.\u001b[0m\u001b[0mgrid\u001b[0m\u001b[0;34m(\u001b[0m\u001b[0mvisible\u001b[0m\u001b[0;34m,\u001b[0m \u001b[0mwhich\u001b[0m\u001b[0;34m=\u001b[0m\u001b[0mwhich\u001b[0m\u001b[0;34m,\u001b[0m \u001b[0;34m**\u001b[0m\u001b[0mkwargs\u001b[0m\u001b[0;34m)\u001b[0m\u001b[0;34m\u001b[0m\u001b[0;34m\u001b[0m\u001b[0m\n",
            "\u001b[0;32m/usr/local/lib/python3.9/dist-packages/matplotlib/axis.py\u001b[0m in \u001b[0;36mgrid\u001b[0;34m(self, visible, which, **kwargs)\u001b[0m\n\u001b[1;32m   1658\u001b[0m             gridkw['gridOn'] = (not self._major_tick_kw['gridOn']\n\u001b[1;32m   1659\u001b[0m                                 if visible is None else visible)\n\u001b[0;32m-> 1660\u001b[0;31m             \u001b[0mself\u001b[0m\u001b[0;34m.\u001b[0m\u001b[0mset_tick_params\u001b[0m\u001b[0;34m(\u001b[0m\u001b[0mwhich\u001b[0m\u001b[0;34m=\u001b[0m\u001b[0;34m'major'\u001b[0m\u001b[0;34m,\u001b[0m \u001b[0;34m**\u001b[0m\u001b[0mgridkw\u001b[0m\u001b[0;34m)\u001b[0m\u001b[0;34m\u001b[0m\u001b[0;34m\u001b[0m\u001b[0m\n\u001b[0m\u001b[1;32m   1661\u001b[0m         \u001b[0mself\u001b[0m\u001b[0;34m.\u001b[0m\u001b[0mstale\u001b[0m \u001b[0;34m=\u001b[0m \u001b[0;32mTrue\u001b[0m\u001b[0;34m\u001b[0m\u001b[0;34m\u001b[0m\u001b[0m\n\u001b[1;32m   1662\u001b[0m \u001b[0;34m\u001b[0m\u001b[0m\n",
            "\u001b[0;32m/usr/local/lib/python3.9/dist-packages/matplotlib/axis.py\u001b[0m in \u001b[0;36mset_tick_params\u001b[0;34m(self, which, reset, **kwargs)\u001b[0m\n\u001b[1;32m    930\u001b[0m         \"\"\"\n\u001b[1;32m    931\u001b[0m         \u001b[0m_api\u001b[0m\u001b[0;34m.\u001b[0m\u001b[0mcheck_in_list\u001b[0m\u001b[0;34m(\u001b[0m\u001b[0;34m[\u001b[0m\u001b[0;34m'major'\u001b[0m\u001b[0;34m,\u001b[0m \u001b[0;34m'minor'\u001b[0m\u001b[0;34m,\u001b[0m \u001b[0;34m'both'\u001b[0m\u001b[0;34m]\u001b[0m\u001b[0;34m,\u001b[0m \u001b[0mwhich\u001b[0m\u001b[0;34m=\u001b[0m\u001b[0mwhich\u001b[0m\u001b[0;34m)\u001b[0m\u001b[0;34m\u001b[0m\u001b[0;34m\u001b[0m\u001b[0m\n\u001b[0;32m--> 932\u001b[0;31m         \u001b[0mkwtrans\u001b[0m \u001b[0;34m=\u001b[0m \u001b[0mself\u001b[0m\u001b[0;34m.\u001b[0m\u001b[0m_translate_tick_params\u001b[0m\u001b[0;34m(\u001b[0m\u001b[0mkwargs\u001b[0m\u001b[0;34m)\u001b[0m\u001b[0;34m\u001b[0m\u001b[0;34m\u001b[0m\u001b[0m\n\u001b[0m\u001b[1;32m    933\u001b[0m \u001b[0;34m\u001b[0m\u001b[0m\n\u001b[1;32m    934\u001b[0m         \u001b[0;31m# the kwargs are stored in self._major/minor_tick_kw so that any\u001b[0m\u001b[0;34m\u001b[0m\u001b[0;34m\u001b[0m\u001b[0m\n",
            "\u001b[0;32m/usr/local/lib/python3.9/dist-packages/matplotlib/axis.py\u001b[0m in \u001b[0;36m_translate_tick_params\u001b[0;34m(kw, reverse)\u001b[0m\n\u001b[1;32m   1074\u001b[0m         \u001b[0;32mfor\u001b[0m \u001b[0mkey\u001b[0m \u001b[0;32min\u001b[0m \u001b[0mkw_\u001b[0m\u001b[0;34m:\u001b[0m\u001b[0;34m\u001b[0m\u001b[0;34m\u001b[0m\u001b[0m\n\u001b[1;32m   1075\u001b[0m             \u001b[0;32mif\u001b[0m \u001b[0mkey\u001b[0m \u001b[0;32mnot\u001b[0m \u001b[0;32min\u001b[0m \u001b[0mallowed_keys\u001b[0m\u001b[0;34m:\u001b[0m\u001b[0;34m\u001b[0m\u001b[0;34m\u001b[0m\u001b[0m\n\u001b[0;32m-> 1076\u001b[0;31m                 raise ValueError(\n\u001b[0m\u001b[1;32m   1077\u001b[0m                     \u001b[0;34m\"keyword %s is not recognized; valid keywords are %s\"\u001b[0m\u001b[0;34m\u001b[0m\u001b[0;34m\u001b[0m\u001b[0m\n\u001b[1;32m   1078\u001b[0m                     % (key, allowed_keys))\n",
            "\u001b[0;31mValueError\u001b[0m: keyword grid_b is not recognized; valid keywords are ['size', 'width', 'color', 'tickdir', 'pad', 'labelsize', 'labelcolor', 'zorder', 'gridOn', 'tick1On', 'tick2On', 'label1On', 'label2On', 'length', 'direction', 'left', 'bottom', 'right', 'top', 'labelleft', 'labelbottom', 'labelright', 'labeltop', 'labelrotation', 'grid_agg_filter', 'grid_alpha', 'grid_animated', 'grid_antialiased', 'grid_clip_box', 'grid_clip_on', 'grid_clip_path', 'grid_color', 'grid_dash_capstyle', 'grid_dash_joinstyle', 'grid_dashes', 'grid_data', 'grid_drawstyle', 'grid_figure', 'grid_fillstyle', 'grid_gapcolor', 'grid_gid', 'grid_in_layout', 'grid_label', 'grid_linestyle', 'grid_linewidth', 'grid_marker', 'grid_markeredgecolor', 'grid_markeredgewidth', 'grid_markerfacecolor', 'grid_markerfacecoloralt', 'grid_markersize', 'grid_markevery', 'grid_mouseover', 'grid_path_effects', 'grid_picker', 'grid_pickradius', 'grid_rasterized', 'grid_sketch_params', 'grid_snap', 'grid_solid_capstyle', 'grid_solid_joinstyle', 'grid_transform', 'grid_url', 'grid_visible', 'grid_xdata', 'grid_ydata', 'grid_zorder', 'grid_aa', 'grid_c', 'grid_ds', 'grid_ls', 'grid_lw', 'grid_mec', 'grid_mew', 'grid_mfc', 'grid_mfcalt', 'grid_ms']"
          ]
        },
        {
          "output_type": "display_data",
          "data": {
            "text/plain": [
              "<Figure size 1152x648 with 1 Axes>"
            ],
            "image/png": "[encoded data removed]"
          },
          "metadata": {}
        }
      ],
      "source": [
        "from tkinter.constants import BOTTOM\n",
        "\n",
        "# Figure Size\n",
        "fig, ax = plt.subplots(figsize =(16, 9))\n",
        " \n",
        "# Horizontal Bar Plot\n",
        "ax.barh(name, lis)\n",
        " \n",
        "# Remove axes splines\n",
        "for s in ['top', 'bottom', 'left', 'right']:\n",
        "    ax.spines[s].set_visible(False)\n",
        " \n",
        "# Remove x, y Ticks\n",
        "ax.xaxis.set_ticks_position('none')\n",
        "ax.yaxis.set_ticks_position('none')\n",
        " \n",
        "# Add padding between axes and labels\n",
        "ax.xaxis.set_tick_params(pad = 5)\n",
        "ax.yaxis.set_tick_params(pad = 10)\n",
        " \n",
        "# Add x, y gridlines\n",
        "ax.grid(b = True, color ='grey', linestyle ='-.', linewidth = 0.5, alpha = 0.2)\n",
        " \n",
        "# Show top values\n",
        "ax.invert_yaxis()\n",
        " \n",
        "# Add annotation to bars\n",
        "for i in ax.patches:\n",
        "    plt.text(i.get_width()+0.2, i.get_y()+0.5,\n",
        "             str(round((i.get_width()), 2)),\n",
        "             fontsize = 10, fontweight ='bold',\n",
        "             color ='grey')\n",
        " \n",
        "# Add Plot Title\n",
        "ax.set_title('Biểu đồ 1: Việc làm được phổ biến theo nhu cầu của các công ty \\nở Viêt Nam tuyển dụng năm 2023',\n",
        "             loc ='center' )\n",
        " \n",
        "# Add Text watermark\n",
        "fig.text(0.9, 0.15, 'tranhuuan', fontsize = 12,\n",
        "         color ='grey', ha ='right', va ='bottom',\n",
        "         alpha = 0.7)\n",
        "# Show Plot\n",
        "plt.show()"
      ]
    },
    {
      "cell_type": "markdown",
      "metadata": {
        "id": "C8SESZqG41-n"
      },
      "source": [
        "# Top 10 tools in information technology."
      ]
    },
    {
      "cell_type": "code",
      "execution_count": null,
      "metadata": {
        "id": "3LbgSf4g4c7m"
      },
      "outputs": [],
      "source": [
        "tool = ['excel', 'scrum', 'azure',\n",
        "       'amazon', 'bootstrap', 'microsoft', 'git', 'winform', 'linux',\n",
        "       'docker', 'oracle', 'simulated', 'wordpress', 'photoshop',\n",
        "       'mariadb', 'tableau', 'websocket', 'django', 'ubuntu', 'scratch', 'word',\n",
        "       'unix', 'powerpoint', 'hadoop', 'powerbi']"
      ]
    },
    {
      "cell_type": "code",
      "execution_count": null,
      "metadata": {
        "id": "7JkL-8E04-_u"
      },
      "outputs": [],
      "source": [
        "name = job_tool['Name Tool'].value_counts().index\n",
        "values = job_tool['Name Tool'].value_counts().values\n",
        "idx = []\n",
        "val = []\n",
        "for i, v in zip(name,values):\n",
        "  if tool.__contains__(i):\n",
        "    idx.append(i)\n",
        "    val.append(v)\n",
        "\n",
        "lis = []\n",
        "for i in val:\n",
        "  lis.append(i*100/sum(val))"
      ]
    },
    {
      "cell_type": "code",
      "source": [
        "fig = plt.figure(figsize = (10, 5))\n",
        " \n",
        "# creating the bar plot\n",
        "plt.barh(idx, lis)\n",
        "plt.show()"
      ],
      "metadata": {
        "id": "m-XFKcwohsJf",
        "colab": {
          "base_uri": "https://localhost:8080/",
          "height": 322
        },
        "outputId": "76d5b69c-dee4-4a70-ac9a-87ff6aba5574"
      },
      "execution_count": null,
      "outputs": [
        {
          "output_type": "display_data",
          "data": {
            "text/plain": [
              "<Figure size 720x360 with 1 Axes>"
            ],
            "image/png": "[encoded data removed]"
          },
          "metadata": {}
        }
      ]
    },
    {
      "cell_type": "code",
      "execution_count": null,
      "metadata": {
        "id": "Rz2i4Xcb5Bs-",
        "colab": {
          "base_uri": "https://localhost:8080/",
          "height": 1000
        },
        "outputId": "611f932a-9d71-4e3e-dc80-91cfdf038362"
      },
      "outputs": [
        {
          "output_type": "error",
          "ename": "ValueError",
          "evalue": "ignored",
          "traceback": [
            "\u001b[0;31m---------------------------------------------------------------------------\u001b[0m",
            "\u001b[0;31mValueError\u001b[0m                                Traceback (most recent call last)",
            "\u001b[0;32m<ipython-input-72-f837258f8a2c>\u001b[0m in \u001b[0;36m<module>\u001b[0;34m\u001b[0m\n\u001b[1;32m     18\u001b[0m \u001b[0;34m\u001b[0m\u001b[0m\n\u001b[1;32m     19\u001b[0m \u001b[0;31m# Add x, y gridlines\u001b[0m\u001b[0;34m\u001b[0m\u001b[0;34m\u001b[0m\u001b[0m\n\u001b[0;32m---> 20\u001b[0;31m ax.grid(b = True, color ='grey',\n\u001b[0m\u001b[1;32m     21\u001b[0m         \u001b[0mlinestyle\u001b[0m \u001b[0;34m=\u001b[0m\u001b[0;34m'-.'\u001b[0m\u001b[0;34m,\u001b[0m \u001b[0mlinewidth\u001b[0m \u001b[0;34m=\u001b[0m \u001b[0;36m0.5\u001b[0m\u001b[0;34m,\u001b[0m\u001b[0;34m\u001b[0m\u001b[0;34m\u001b[0m\u001b[0m\n\u001b[1;32m     22\u001b[0m         alpha = 0.2)\n",
            "\u001b[0;32m/usr/local/lib/python3.9/dist-packages/matplotlib/axes/_base.py\u001b[0m in \u001b[0;36mgrid\u001b[0;34m(self, visible, which, axis, **kwargs)\u001b[0m\n\u001b[1;32m   3192\u001b[0m         \u001b[0m_api\u001b[0m\u001b[0;34m.\u001b[0m\u001b[0mcheck_in_list\u001b[0m\u001b[0;34m(\u001b[0m\u001b[0;34m[\u001b[0m\u001b[0;34m'x'\u001b[0m\u001b[0;34m,\u001b[0m \u001b[0;34m'y'\u001b[0m\u001b[0;34m,\u001b[0m \u001b[0;34m'both'\u001b[0m\u001b[0;34m]\u001b[0m\u001b[0;34m,\u001b[0m \u001b[0maxis\u001b[0m\u001b[0;34m=\u001b[0m\u001b[0maxis\u001b[0m\u001b[0;34m)\u001b[0m\u001b[0;34m\u001b[0m\u001b[0;34m\u001b[0m\u001b[0m\n\u001b[1;32m   3193\u001b[0m         \u001b[0;32mif\u001b[0m \u001b[0maxis\u001b[0m \u001b[0;32min\u001b[0m \u001b[0;34m[\u001b[0m\u001b[0;34m'x'\u001b[0m\u001b[0;34m,\u001b[0m \u001b[0;34m'both'\u001b[0m\u001b[0;34m]\u001b[0m\u001b[0;34m:\u001b[0m\u001b[0;34m\u001b[0m\u001b[0;34m\u001b[0m\u001b[0m\n\u001b[0;32m-> 3194\u001b[0;31m             \u001b[0mself\u001b[0m\u001b[0;34m.\u001b[0m\u001b[0mxaxis\u001b[0m\u001b[0;34m.\u001b[0m\u001b[0mgrid\u001b[0m\u001b[0;34m(\u001b[0m\u001b[0mvisible\u001b[0m\u001b[0;34m,\u001b[0m \u001b[0mwhich\u001b[0m\u001b[0;34m=\u001b[0m\u001b[0mwhich\u001b[0m\u001b[0;34m,\u001b[0m \u001b[0;34m**\u001b[0m\u001b[0mkwargs\u001b[0m\u001b[0;34m)\u001b[0m\u001b[0;34m\u001b[0m\u001b[0;34m\u001b[0m\u001b[0m\n\u001b[0m\u001b[1;32m   3195\u001b[0m         \u001b[0;32mif\u001b[0m \u001b[0maxis\u001b[0m \u001b[0;32min\u001b[0m \u001b[0;34m[\u001b[0m\u001b[0;34m'y'\u001b[0m\u001b[0;34m,\u001b[0m \u001b[0;34m'both'\u001b[0m\u001b[0;34m]\u001b[0m\u001b[0;34m:\u001b[0m\u001b[0;34m\u001b[0m\u001b[0;34m\u001b[0m\u001b[0m\n\u001b[1;32m   3196\u001b[0m             \u001b[0mself\u001b[0m\u001b[0;34m.\u001b[0m\u001b[0myaxis\u001b[0m\u001b[0;34m.\u001b[0m\u001b[0mgrid\u001b[0m\u001b[0;34m(\u001b[0m\u001b[0mvisible\u001b[0m\u001b[0;34m,\u001b[0m \u001b[0mwhich\u001b[0m\u001b[0;34m=\u001b[0m\u001b[0mwhich\u001b[0m\u001b[0;34m,\u001b[0m \u001b[0;34m**\u001b[0m\u001b[0mkwargs\u001b[0m\u001b[0;34m)\u001b[0m\u001b[0;34m\u001b[0m\u001b[0;34m\u001b[0m\u001b[0m\n",
            "\u001b[0;32m/usr/local/lib/python3.9/dist-packages/matplotlib/axis.py\u001b[0m in \u001b[0;36mgrid\u001b[0;34m(self, visible, which, **kwargs)\u001b[0m\n\u001b[1;32m   1658\u001b[0m             gridkw['gridOn'] = (not self._major_tick_kw['gridOn']\n\u001b[1;32m   1659\u001b[0m                                 if visible is None else visible)\n\u001b[0;32m-> 1660\u001b[0;31m             \u001b[0mself\u001b[0m\u001b[0;34m.\u001b[0m\u001b[0mset_tick_params\u001b[0m\u001b[0;34m(\u001b[0m\u001b[0mwhich\u001b[0m\u001b[0;34m=\u001b[0m\u001b[0;34m'major'\u001b[0m\u001b[0;34m,\u001b[0m \u001b[0;34m**\u001b[0m\u001b[0mgridkw\u001b[0m\u001b[0;34m)\u001b[0m\u001b[0;34m\u001b[0m\u001b[0;34m\u001b[0m\u001b[0m\n\u001b[0m\u001b[1;32m   1661\u001b[0m         \u001b[0mself\u001b[0m\u001b[0;34m.\u001b[0m\u001b[0mstale\u001b[0m \u001b[0;34m=\u001b[0m \u001b[0;32mTrue\u001b[0m\u001b[0;34m\u001b[0m\u001b[0;34m\u001b[0m\u001b[0m\n\u001b[1;32m   1662\u001b[0m \u001b[0;34m\u001b[0m\u001b[0m\n",
            "\u001b[0;32m/usr/local/lib/python3.9/dist-packages/matplotlib/axis.py\u001b[0m in \u001b[0;36mset_tick_params\u001b[0;34m(self, which, reset, **kwargs)\u001b[0m\n\u001b[1;32m    930\u001b[0m         \"\"\"\n\u001b[1;32m    931\u001b[0m         \u001b[0m_api\u001b[0m\u001b[0;34m.\u001b[0m\u001b[0mcheck_in_list\u001b[0m\u001b[0;34m(\u001b[0m\u001b[0;34m[\u001b[0m\u001b[0;34m'major'\u001b[0m\u001b[0;34m,\u001b[0m \u001b[0;34m'minor'\u001b[0m\u001b[0;34m,\u001b[0m \u001b[0;34m'both'\u001b[0m\u001b[0;34m]\u001b[0m\u001b[0;34m,\u001b[0m \u001b[0mwhich\u001b[0m\u001b[0;34m=\u001b[0m\u001b[0mwhich\u001b[0m\u001b[0;34m)\u001b[0m\u001b[0;34m\u001b[0m\u001b[0;34m\u001b[0m\u001b[0m\n\u001b[0;32m--> 932\u001b[0;31m         \u001b[0mkwtrans\u001b[0m \u001b[0;34m=\u001b[0m \u001b[0mself\u001b[0m\u001b[0;34m.\u001b[0m\u001b[0m_translate_tick_params\u001b[0m\u001b[0;34m(\u001b[0m\u001b[0mkwargs\u001b[0m\u001b[0;34m)\u001b[0m\u001b[0;34m\u001b[0m\u001b[0;34m\u001b[0m\u001b[0m\n\u001b[0m\u001b[1;32m    933\u001b[0m \u001b[0;34m\u001b[0m\u001b[0m\n\u001b[1;32m    934\u001b[0m         \u001b[0;31m# the kwargs are stored in self._major/minor_tick_kw so that any\u001b[0m\u001b[0;34m\u001b[0m\u001b[0;34m\u001b[0m\u001b[0m\n",
            "\u001b[0;32m/usr/local/lib/python3.9/dist-packages/matplotlib/axis.py\u001b[0m in \u001b[0;36m_translate_tick_params\u001b[0;34m(kw, reverse)\u001b[0m\n\u001b[1;32m   1074\u001b[0m         \u001b[0;32mfor\u001b[0m \u001b[0mkey\u001b[0m \u001b[0;32min\u001b[0m \u001b[0mkw_\u001b[0m\u001b[0;34m:\u001b[0m\u001b[0;34m\u001b[0m\u001b[0;34m\u001b[0m\u001b[0m\n\u001b[1;32m   1075\u001b[0m             \u001b[0;32mif\u001b[0m \u001b[0mkey\u001b[0m \u001b[0;32mnot\u001b[0m \u001b[0;32min\u001b[0m \u001b[0mallowed_keys\u001b[0m\u001b[0;34m:\u001b[0m\u001b[0;34m\u001b[0m\u001b[0;34m\u001b[0m\u001b[0m\n\u001b[0;32m-> 1076\u001b[0;31m                 raise ValueError(\n\u001b[0m\u001b[1;32m   1077\u001b[0m                     \u001b[0;34m\"keyword %s is not recognized; valid keywords are %s\"\u001b[0m\u001b[0;34m\u001b[0m\u001b[0;34m\u001b[0m\u001b[0m\n\u001b[1;32m   1078\u001b[0m                     % (key, allowed_keys))\n",
            "\u001b[0;31mValueError\u001b[0m: keyword grid_b is not recognized; valid keywords are ['size', 'width', 'color', 'tickdir', 'pad', 'labelsize', 'labelcolor', 'zorder', 'gridOn', 'tick1On', 'tick2On', 'label1On', 'label2On', 'length', 'direction', 'left', 'bottom', 'right', 'top', 'labelleft', 'labelbottom', 'labelright', 'labeltop', 'labelrotation', 'grid_agg_filter', 'grid_alpha', 'grid_animated', 'grid_antialiased', 'grid_clip_box', 'grid_clip_on', 'grid_clip_path', 'grid_color', 'grid_dash_capstyle', 'grid_dash_joinstyle', 'grid_dashes', 'grid_data', 'grid_drawstyle', 'grid_figure', 'grid_fillstyle', 'grid_gapcolor', 'grid_gid', 'grid_in_layout', 'grid_label', 'grid_linestyle', 'grid_linewidth', 'grid_marker', 'grid_markeredgecolor', 'grid_markeredgewidth', 'grid_markerfacecolor', 'grid_markerfacecoloralt', 'grid_markersize', 'grid_markevery', 'grid_mouseover', 'grid_path_effects', 'grid_picker', 'grid_pickradius', 'grid_rasterized', 'grid_sketch_params', 'grid_snap', 'grid_solid_capstyle', 'grid_solid_joinstyle', 'grid_transform', 'grid_url', 'grid_visible', 'grid_xdata', 'grid_ydata', 'grid_zorder', 'grid_aa', 'grid_c', 'grid_ds', 'grid_ls', 'grid_lw', 'grid_mec', 'grid_mew', 'grid_mfc', 'grid_mfcalt', 'grid_ms']"
          ]
        },
        {
          "output_type": "display_data",
          "data": {
            "text/plain": [
              "<Figure size 1152x648 with 1 Axes>"
            ],
            "image/png": "[encoded data removed]"
          },
          "metadata": {}
        }
      ],
      "source": [
        "\n",
        "# Figure Size\n",
        "fig, ax = plt.subplots(figsize =(16, 9))\n",
        " \n",
        "# Horizontal Bar Plot\n",
        "ax.barh(idx[:10], lis[:10])\n",
        " \n",
        "# Remove axes splines\n",
        "for s in ['top', 'bottom', 'left', 'right']:\n",
        "    ax.spines[s].set_visible(False)\n",
        " \n",
        "# Remove x, y Ticks\n",
        "ax.xaxis.set_ticks_position('none')\n",
        "ax.yaxis.set_ticks_position('none')\n",
        " \n",
        "# Add padding between axes and labels\n",
        "ax.xaxis.set_tick_params(pad = 5)\n",
        "ax.yaxis.set_tick_params(pad = 10)\n",
        " \n",
        "# Add x, y gridlines\n",
        "ax.grid(b = True, color ='grey',\n",
        "        linestyle ='-.', linewidth = 0.5,\n",
        "        alpha = 0.2)\n",
        " \n",
        "# Show top values\n",
        "ax.invert_yaxis()\n",
        " \n",
        "# Add annotation to bars\n",
        "for i in ax.patches:\n",
        "    plt.text(i.get_width()+0.2, i.get_y()+0.5,\n",
        "             str(round((i.get_width()), 2)),\n",
        "             fontsize = 10, fontweight ='bold',\n",
        "             color ='grey')\n",
        " \n",
        "# Add Plot Title\n",
        "ax.set_title('Biểu đồ 2: các công cụ được phổ biến theo nhu cầu của các công ty \\nở Viêt Nam tuyển dụng năm 2023',\n",
        "             loc ='center' )\n",
        " \n",
        "# Add Text watermark\n",
        "fig.text(0.9, 0.15, 'tranhuuan', fontsize = 12,\n",
        "         color ='grey', ha ='right', va ='bottom',\n",
        "         alpha = 0.7)\n",
        "# Show Plot\n",
        "plt.show()"
      ]
    },
    {
      "cell_type": "markdown",
      "metadata": {
        "id": "crHWsaVH5O02"
      },
      "source": [
        "## Top 10 tech using than most."
      ]
    },
    {
      "cell_type": "code",
      "execution_count": null,
      "metadata": {
        "id": "N6s_GO8w5KyZ",
        "colab": {
          "base_uri": "https://localhost:8080/"
        },
        "outputId": "48cc14dc-2150-4010-a05a-8b2facee1ebc"
      },
      "outputs": [
        {
          "output_type": "stream",
          "name": "stderr",
          "text": [
            "<ipython-input-73-5158f94e792e>:1: FutureWarning: The default value of regex will change from True to False in a future version.\n",
            "  job_tool['Name Tool'] = job_tool['Name Tool'].str.replace('^js$', 'javascript')\n"
          ]
        }
      ],
      "source": [
        "job_tool['Name Tool'] = job_tool['Name Tool'].str.replace('^js$', 'javascript')"
      ]
    },
    {
      "cell_type": "code",
      "execution_count": null,
      "metadata": {
        "id": "LCuASrqP5hNr"
      },
      "outputs": [],
      "source": [
        "tech = ['c', 'nodejs', 'python', 'reactjs', 'angularjs', 'typescript', 'java', 'javascript', 'php', 'c++',\n",
        "            'nestjs', 'scala', 'matlab', 'flutter']"
      ]
    },
    {
      "cell_type": "code",
      "execution_count": null,
      "metadata": {
        "id": "VJkuBnLX5oq1"
      },
      "outputs": [],
      "source": [
        "name = job_tool[\"Name Tool\"].value_counts().index\n",
        "values = job_tool[\"Name Tool\"].value_counts().values\n",
        "idx = []\n",
        "val = []\n",
        "for i, v in zip(name,values):\n",
        "  if tech.__contains__(i):\n",
        "    idx.append(i)\n",
        "    val.append(v)\n",
        "lis = []\n",
        "for i in val:\n",
        "  lis.append(i*100/sum(val))"
      ]
    },
    {
      "cell_type": "code",
      "source": [
        "len(idx)"
      ],
      "metadata": {
        "id": "xc6em4zqhET9",
        "colab": {
          "base_uri": "https://localhost:8080/"
        },
        "outputId": "eba5d8d1-4ff3-4d4c-da70-8a6691b4c836"
      },
      "execution_count": null,
      "outputs": [
        {
          "output_type": "execute_result",
          "data": {
            "text/plain": [
              "14"
            ]
          },
          "metadata": {},
          "execution_count": 76
        }
      ]
    },
    {
      "cell_type": "code",
      "source": [
        "fig = plt.figure(figsize = (10, 5))\n",
        " \n",
        "# creating the bar plot\n",
        "plt.barh(idx, lis)\n",
        "plt.show()"
      ],
      "metadata": {
        "id": "gjBsQP4_gs9A",
        "colab": {
          "base_uri": "https://localhost:8080/",
          "height": 322
        },
        "outputId": "39ff7a3f-f1fd-419f-b136-bb284f88004a"
      },
      "execution_count": null,
      "outputs": [
        {
          "output_type": "display_data",
          "data": {
            "text/plain": [
              "<Figure size 720x360 with 1 Axes>"
            ],
            "image/png": "[encoded data removed]"
          },
          "metadata": {}
        }
      ]
    },
    {
      "cell_type": "markdown",
      "metadata": {
        "id": "pOablcPk56Iq"
      },
      "source": [
        "## Soft skill"
      ]
    },
    {
      "cell_type": "code",
      "execution_count": null,
      "metadata": {
        "id": "E0GaY7s25wa6"
      },
      "outputs": [],
      "source": [
        "soft_skill = ['english', 'teamwork', 'research', 'communicated', 'manager', 'organization','mindset', 'creativity', 'adaptability', 'negotiation']"
      ]
    },
    {
      "cell_type": "code",
      "execution_count": null,
      "metadata": {
        "id": "HoF9SDMG58cr"
      },
      "outputs": [],
      "source": [
        "name = job_skill[\"Name Skill\"].value_counts().index\n",
        "values = job_skill[\"Name Skill\"].value_counts().values\n",
        "idx = []\n",
        "val = []\n",
        "for i, v in zip(name,values):\n",
        "  if soft_skill.__contains__(i):\n",
        "    idx.append(i)\n",
        "    val.append(v)\n",
        "lis = []\n",
        "for i in val:\n",
        "  lis.append(i*100/sum(val))"
      ]
    },
    {
      "cell_type": "code",
      "source": [
        "fig = plt.figure(figsize = (10, 5))\n",
        " \n",
        "# creating the bar plot\n",
        "plt.barh(idx, lis)\n",
        "plt.show()"
      ],
      "metadata": {
        "id": "132OdYk5hbyN",
        "colab": {
          "base_uri": "https://localhost:8080/",
          "height": 322
        },
        "outputId": "8741b62c-5076-41b9-80c6-79f998f9a63a"
      },
      "execution_count": null,
      "outputs": [
        {
          "output_type": "display_data",
          "data": {
            "text/plain": [
              "<Figure size 720x360 with 1 Axes>"
            ],
            "image/png": "[encoded data removed]"
          },
          "metadata": {}
        }
      ]
    },
    {
      "cell_type": "code",
      "execution_count": null,
      "metadata": {
        "id": "wLvcY4Re5-U7",
        "colab": {
          "base_uri": "https://localhost:8080/",
          "height": 1000
        },
        "outputId": "b369605e-e15a-486a-fac0-6f1cd50c9d20"
      },
      "outputs": [
        {
          "output_type": "error",
          "ename": "ValueError",
          "evalue": "ignored",
          "traceback": [
            "\u001b[0;31m---------------------------------------------------------------------------\u001b[0m",
            "\u001b[0;31mValueError\u001b[0m                                Traceback (most recent call last)",
            "\u001b[0;32m<ipython-input-81-7c40b0f77ba9>\u001b[0m in \u001b[0;36m<module>\u001b[0;34m\u001b[0m\n\u001b[1;32m     18\u001b[0m \u001b[0;34m\u001b[0m\u001b[0m\n\u001b[1;32m     19\u001b[0m \u001b[0;31m# Add x, y gridlines\u001b[0m\u001b[0;34m\u001b[0m\u001b[0;34m\u001b[0m\u001b[0m\n\u001b[0;32m---> 20\u001b[0;31m ax.grid(b = True, color ='grey',\n\u001b[0m\u001b[1;32m     21\u001b[0m         \u001b[0mlinestyle\u001b[0m \u001b[0;34m=\u001b[0m\u001b[0;34m'-.'\u001b[0m\u001b[0;34m,\u001b[0m \u001b[0mlinewidth\u001b[0m \u001b[0;34m=\u001b[0m \u001b[0;36m0.5\u001b[0m\u001b[0;34m,\u001b[0m\u001b[0;34m\u001b[0m\u001b[0;34m\u001b[0m\u001b[0m\n\u001b[1;32m     22\u001b[0m         alpha = 0.2)\n",
            "\u001b[0;32m/usr/local/lib/python3.9/dist-packages/matplotlib/axes/_base.py\u001b[0m in \u001b[0;36mgrid\u001b[0;34m(self, visible, which, axis, **kwargs)\u001b[0m\n\u001b[1;32m   3192\u001b[0m         \u001b[0m_api\u001b[0m\u001b[0;34m.\u001b[0m\u001b[0mcheck_in_list\u001b[0m\u001b[0;34m(\u001b[0m\u001b[0;34m[\u001b[0m\u001b[0;34m'x'\u001b[0m\u001b[0;34m,\u001b[0m \u001b[0;34m'y'\u001b[0m\u001b[0;34m,\u001b[0m \u001b[0;34m'both'\u001b[0m\u001b[0;34m]\u001b[0m\u001b[0;34m,\u001b[0m \u001b[0maxis\u001b[0m\u001b[0;34m=\u001b[0m\u001b[0maxis\u001b[0m\u001b[0;34m)\u001b[0m\u001b[0;34m\u001b[0m\u001b[0;34m\u001b[0m\u001b[0m\n\u001b[1;32m   3193\u001b[0m         \u001b[0;32mif\u001b[0m \u001b[0maxis\u001b[0m \u001b[0;32min\u001b[0m \u001b[0;34m[\u001b[0m\u001b[0;34m'x'\u001b[0m\u001b[0;34m,\u001b[0m \u001b[0;34m'both'\u001b[0m\u001b[0;34m]\u001b[0m\u001b[0;34m:\u001b[0m\u001b[0;34m\u001b[0m\u001b[0;34m\u001b[0m\u001b[0m\n\u001b[0;32m-> 3194\u001b[0;31m             \u001b[0mself\u001b[0m\u001b[0;34m.\u001b[0m\u001b[0mxaxis\u001b[0m\u001b[0;34m.\u001b[0m\u001b[0mgrid\u001b[0m\u001b[0;34m(\u001b[0m\u001b[0mvisible\u001b[0m\u001b[0;34m,\u001b[0m \u001b[0mwhich\u001b[0m\u001b[0;34m=\u001b[0m\u001b[0mwhich\u001b[0m\u001b[0;34m,\u001b[0m \u001b[0;34m**\u001b[0m\u001b[0mkwargs\u001b[0m\u001b[0;34m)\u001b[0m\u001b[0;34m\u001b[0m\u001b[0;34m\u001b[0m\u001b[0m\n\u001b[0m\u001b[1;32m   3195\u001b[0m         \u001b[0;32mif\u001b[0m \u001b[0maxis\u001b[0m \u001b[0;32min\u001b[0m \u001b[0;34m[\u001b[0m\u001b[0;34m'y'\u001b[0m\u001b[0;34m,\u001b[0m \u001b[0;34m'both'\u001b[0m\u001b[0;34m]\u001b[0m\u001b[0;34m:\u001b[0m\u001b[0;34m\u001b[0m\u001b[0;34m\u001b[0m\u001b[0m\n\u001b[1;32m   3196\u001b[0m             \u001b[0mself\u001b[0m\u001b[0;34m.\u001b[0m\u001b[0myaxis\u001b[0m\u001b[0;34m.\u001b[0m\u001b[0mgrid\u001b[0m\u001b[0;34m(\u001b[0m\u001b[0mvisible\u001b[0m\u001b[0;34m,\u001b[0m \u001b[0mwhich\u001b[0m\u001b[0;34m=\u001b[0m\u001b[0mwhich\u001b[0m\u001b[0;34m,\u001b[0m \u001b[0;34m**\u001b[0m\u001b[0mkwargs\u001b[0m\u001b[0;34m)\u001b[0m\u001b[0;34m\u001b[0m\u001b[0;34m\u001b[0m\u001b[0m\n",
            "\u001b[0;32m/usr/local/lib/python3.9/dist-packages/matplotlib/axis.py\u001b[0m in \u001b[0;36mgrid\u001b[0;34m(self, visible, which, **kwargs)\u001b[0m\n\u001b[1;32m   1658\u001b[0m             gridkw['gridOn'] = (not self._major_tick_kw['gridOn']\n\u001b[1;32m   1659\u001b[0m                                 if visible is None else visible)\n\u001b[0;32m-> 1660\u001b[0;31m             \u001b[0mself\u001b[0m\u001b[0;34m.\u001b[0m\u001b[0mset_tick_params\u001b[0m\u001b[0;34m(\u001b[0m\u001b[0mwhich\u001b[0m\u001b[0;34m=\u001b[0m\u001b[0;34m'major'\u001b[0m\u001b[0;34m,\u001b[0m \u001b[0;34m**\u001b[0m\u001b[0mgridkw\u001b[0m\u001b[0;34m)\u001b[0m\u001b[0;34m\u001b[0m\u001b[0;34m\u001b[0m\u001b[0m\n\u001b[0m\u001b[1;32m   1661\u001b[0m         \u001b[0mself\u001b[0m\u001b[0;34m.\u001b[0m\u001b[0mstale\u001b[0m \u001b[0;34m=\u001b[0m \u001b[0;32mTrue\u001b[0m\u001b[0;34m\u001b[0m\u001b[0;34m\u001b[0m\u001b[0m\n\u001b[1;32m   1662\u001b[0m \u001b[0;34m\u001b[0m\u001b[0m\n",
            "\u001b[0;32m/usr/local/lib/python3.9/dist-packages/matplotlib/axis.py\u001b[0m in \u001b[0;36mset_tick_params\u001b[0;34m(self, which, reset, **kwargs)\u001b[0m\n\u001b[1;32m    930\u001b[0m         \"\"\"\n\u001b[1;32m    931\u001b[0m         \u001b[0m_api\u001b[0m\u001b[0;34m.\u001b[0m\u001b[0mcheck_in_list\u001b[0m\u001b[0;34m(\u001b[0m\u001b[0;34m[\u001b[0m\u001b[0;34m'major'\u001b[0m\u001b[0;34m,\u001b[0m \u001b[0;34m'minor'\u001b[0m\u001b[0;34m,\u001b[0m \u001b[0;34m'both'\u001b[0m\u001b[0;34m]\u001b[0m\u001b[0;34m,\u001b[0m \u001b[0mwhich\u001b[0m\u001b[0;34m=\u001b[0m\u001b[0mwhich\u001b[0m\u001b[0;34m)\u001b[0m\u001b[0;34m\u001b[0m\u001b[0;34m\u001b[0m\u001b[0m\n\u001b[0;32m--> 932\u001b[0;31m         \u001b[0mkwtrans\u001b[0m \u001b[0;34m=\u001b[0m \u001b[0mself\u001b[0m\u001b[0;34m.\u001b[0m\u001b[0m_translate_tick_params\u001b[0m\u001b[0;34m(\u001b[0m\u001b[0mkwargs\u001b[0m\u001b[0;34m)\u001b[0m\u001b[0;34m\u001b[0m\u001b[0;34m\u001b[0m\u001b[0m\n\u001b[0m\u001b[1;32m    933\u001b[0m \u001b[0;34m\u001b[0m\u001b[0m\n\u001b[1;32m    934\u001b[0m         \u001b[0;31m# the kwargs are stored in self._major/minor_tick_kw so that any\u001b[0m\u001b[0;34m\u001b[0m\u001b[0;34m\u001b[0m\u001b[0m\n",
            "\u001b[0;32m/usr/local/lib/python3.9/dist-packages/matplotlib/axis.py\u001b[0m in \u001b[0;36m_translate_tick_params\u001b[0;34m(kw, reverse)\u001b[0m\n\u001b[1;32m   1074\u001b[0m         \u001b[0;32mfor\u001b[0m \u001b[0mkey\u001b[0m \u001b[0;32min\u001b[0m \u001b[0mkw_\u001b[0m\u001b[0;34m:\u001b[0m\u001b[0;34m\u001b[0m\u001b[0;34m\u001b[0m\u001b[0m\n\u001b[1;32m   1075\u001b[0m             \u001b[0;32mif\u001b[0m \u001b[0mkey\u001b[0m \u001b[0;32mnot\u001b[0m \u001b[0;32min\u001b[0m \u001b[0mallowed_keys\u001b[0m\u001b[0;34m:\u001b[0m\u001b[0;34m\u001b[0m\u001b[0;34m\u001b[0m\u001b[0m\n\u001b[0;32m-> 1076\u001b[0;31m                 raise ValueError(\n\u001b[0m\u001b[1;32m   1077\u001b[0m                     \u001b[0;34m\"keyword %s is not recognized; valid keywords are %s\"\u001b[0m\u001b[0;34m\u001b[0m\u001b[0;34m\u001b[0m\u001b[0m\n\u001b[1;32m   1078\u001b[0m                     % (key, allowed_keys))\n",
            "\u001b[0;31mValueError\u001b[0m: keyword grid_b is not recognized; valid keywords are ['size', 'width', 'color', 'tickdir', 'pad', 'labelsize', 'labelcolor', 'zorder', 'gridOn', 'tick1On', 'tick2On', 'label1On', 'label2On', 'length', 'direction', 'left', 'bottom', 'right', 'top', 'labelleft', 'labelbottom', 'labelright', 'labeltop', 'labelrotation', 'grid_agg_filter', 'grid_alpha', 'grid_animated', 'grid_antialiased', 'grid_clip_box', 'grid_clip_on', 'grid_clip_path', 'grid_color', 'grid_dash_capstyle', 'grid_dash_joinstyle', 'grid_dashes', 'grid_data', 'grid_drawstyle', 'grid_figure', 'grid_fillstyle', 'grid_gapcolor', 'grid_gid', 'grid_in_layout', 'grid_label', 'grid_linestyle', 'grid_linewidth', 'grid_marker', 'grid_markeredgecolor', 'grid_markeredgewidth', 'grid_markerfacecolor', 'grid_markerfacecoloralt', 'grid_markersize', 'grid_markevery', 'grid_mouseover', 'grid_path_effects', 'grid_picker', 'grid_pickradius', 'grid_rasterized', 'grid_sketch_params', 'grid_snap', 'grid_solid_capstyle', 'grid_solid_joinstyle', 'grid_transform', 'grid_url', 'grid_visible', 'grid_xdata', 'grid_ydata', 'grid_zorder', 'grid_aa', 'grid_c', 'grid_ds', 'grid_ls', 'grid_lw', 'grid_mec', 'grid_mew', 'grid_mfc', 'grid_mfcalt', 'grid_ms']"
          ]
        },
        {
          "output_type": "display_data",
          "data": {
            "text/plain": [
              "<Figure size 1152x648 with 1 Axes>"
            ],
            "image/png": "[encoded data removed]"
          },
          "metadata": {}
        }
      ],
      "source": [
        "\n",
        "# Figure Size\n",
        "fig, ax = plt.subplots(figsize =(16, 9))\n",
        " \n",
        "# Horizontal Bar Plot\n",
        "ax.barh(idx[:13], lis[:13])\n",
        " \n",
        "# Remove axes splines\n",
        "for s in ['top', 'bottom', 'left', 'right']:\n",
        "    ax.spines[s].set_visible(False)\n",
        " \n",
        "# Remove x, y Ticks\n",
        "ax.xaxis.set_ticks_position('none')\n",
        "ax.yaxis.set_ticks_position('none')\n",
        " \n",
        "# Add padding between axes and labels\n",
        "ax.xaxis.set_tick_params(pad = 5)\n",
        "ax.yaxis.set_tick_params(pad = 10)\n",
        " \n",
        "# Add x, y gridlines\n",
        "ax.grid(b = True, color ='grey',\n",
        "        linestyle ='-.', linewidth = 0.5,\n",
        "        alpha = 0.2)\n",
        " \n",
        "# Show top values\n",
        "ax.invert_yaxis()\n",
        " \n",
        "# Add annotation to bars\n",
        "for i in ax.patches:\n",
        "    plt.text(i.get_width()+0.2, i.get_y()+0.5,\n",
        "             str(round((i.get_width()), 2)),\n",
        "             fontsize = 10, fontweight ='bold',\n",
        "             color ='grey')\n",
        " \n",
        "# Add Plot Title\n",
        "ax.set_title('Biểu đồ 1: các kĩ năng mềm được phổ biến theo nhu cầu của các công ty \\nở Viêt Nam tuyển dụng năm 2023',\n",
        "             loc ='center' )\n",
        " \n",
        "# Add Text watermark\n",
        "fig.text(0.9, 0.15, 'tranhuuan', fontsize = 12,\n",
        "         color ='grey', ha ='right', va ='bottom',\n",
        "         alpha = 0.7)\n",
        "# Show Plot\n",
        "plt.show()"
      ]
    },
    {
      "cell_type": "markdown",
      "metadata": {
        "id": "9_BFzjtX6Kew"
      },
      "source": [
        "## Top 10 Technical skill"
      ]
    },
    {
      "cell_type": "code",
      "execution_count": null,
      "metadata": {
        "id": "kIk_NUbg6ET8"
      },
      "outputs": [],
      "source": [
        "technical_skill = [ 'sql', 'design', 'coding', 'analytic',\n",
        "       'databases', 'test', 'network', 'virtualization']"
      ]
    },
    {
      "cell_type": "code",
      "execution_count": null,
      "metadata": {
        "id": "B6BBgo3c6Per"
      },
      "outputs": [],
      "source": [
        "\n",
        "name = job_skill['Name Skill'].value_counts().index\n",
        "values = job_skill['Name Skill'].value_counts().values\n",
        "idx = []\n",
        "val = []\n",
        "for i, v in zip(name,values):\n",
        "  if technical_skill.__contains__(i):\n",
        "    idx.append(i)\n",
        "    val.append(v)\n",
        "lis = []\n",
        "for i in val:\n",
        "  lis.append(i*100/sum(val))"
      ]
    },
    {
      "cell_type": "code",
      "source": [
        "fig = plt.figure(figsize = (10, 5))\n",
        " \n",
        "# creating the bar plot\n",
        "plt.barh(idx, lis)\n",
        "plt.show()"
      ],
      "metadata": {
        "id": "44jpacG9hghq",
        "colab": {
          "base_uri": "https://localhost:8080/",
          "height": 322
        },
        "outputId": "2a541b8b-1fbd-49f5-a4ce-bd814605af8f"
      },
      "execution_count": null,
      "outputs": [
        {
          "output_type": "display_data",
          "data": {
            "text/plain": [
              "<Figure size 720x360 with 1 Axes>"
            ],
            "image/png": "[encoded data removed]"
          },
          "metadata": {}
        }
      ]
    },
    {
      "cell_type": "code",
      "execution_count": null,
      "metadata": {
        "id": "aBJ6uXyU6QKP",
        "colab": {
          "base_uri": "https://localhost:8080/",
          "height": 1000
        },
        "outputId": "095254e0-1f84-4c50-a7f6-e758b54bbf95"
      },
      "outputs": [
        {
          "output_type": "error",
          "ename": "ValueError",
          "evalue": "ignored",
          "traceback": [
            "\u001b[0;31m---------------------------------------------------------------------------\u001b[0m",
            "\u001b[0;31mValueError\u001b[0m                                Traceback (most recent call last)",
            "\u001b[0;32m<ipython-input-85-6610a2bf6208>\u001b[0m in \u001b[0;36m<module>\u001b[0;34m\u001b[0m\n\u001b[1;32m     18\u001b[0m \u001b[0;34m\u001b[0m\u001b[0m\n\u001b[1;32m     19\u001b[0m \u001b[0;31m# Add x, y gridlines\u001b[0m\u001b[0;34m\u001b[0m\u001b[0;34m\u001b[0m\u001b[0m\n\u001b[0;32m---> 20\u001b[0;31m ax.grid(b = True, color ='grey',\n\u001b[0m\u001b[1;32m     21\u001b[0m         \u001b[0mlinestyle\u001b[0m \u001b[0;34m=\u001b[0m\u001b[0;34m'-.'\u001b[0m\u001b[0;34m,\u001b[0m \u001b[0mlinewidth\u001b[0m \u001b[0;34m=\u001b[0m \u001b[0;36m0.5\u001b[0m\u001b[0;34m,\u001b[0m\u001b[0;34m\u001b[0m\u001b[0;34m\u001b[0m\u001b[0m\n\u001b[1;32m     22\u001b[0m         alpha = 0.2)\n",
            "\u001b[0;32m/usr/local/lib/python3.9/dist-packages/matplotlib/axes/_base.py\u001b[0m in \u001b[0;36mgrid\u001b[0;34m(self, visible, which, axis, **kwargs)\u001b[0m\n\u001b[1;32m   3192\u001b[0m         \u001b[0m_api\u001b[0m\u001b[0;34m.\u001b[0m\u001b[0mcheck_in_list\u001b[0m\u001b[0;34m(\u001b[0m\u001b[0;34m[\u001b[0m\u001b[0;34m'x'\u001b[0m\u001b[0;34m,\u001b[0m \u001b[0;34m'y'\u001b[0m\u001b[0;34m,\u001b[0m \u001b[0;34m'both'\u001b[0m\u001b[0;34m]\u001b[0m\u001b[0;34m,\u001b[0m \u001b[0maxis\u001b[0m\u001b[0;34m=\u001b[0m\u001b[0maxis\u001b[0m\u001b[0;34m)\u001b[0m\u001b[0;34m\u001b[0m\u001b[0;34m\u001b[0m\u001b[0m\n\u001b[1;32m   3193\u001b[0m         \u001b[0;32mif\u001b[0m \u001b[0maxis\u001b[0m \u001b[0;32min\u001b[0m \u001b[0;34m[\u001b[0m\u001b[0;34m'x'\u001b[0m\u001b[0;34m,\u001b[0m \u001b[0;34m'both'\u001b[0m\u001b[0;34m]\u001b[0m\u001b[0;34m:\u001b[0m\u001b[0;34m\u001b[0m\u001b[0;34m\u001b[0m\u001b[0m\n\u001b[0;32m-> 3194\u001b[0;31m             \u001b[0mself\u001b[0m\u001b[0;34m.\u001b[0m\u001b[0mxaxis\u001b[0m\u001b[0;34m.\u001b[0m\u001b[0mgrid\u001b[0m\u001b[0;34m(\u001b[0m\u001b[0mvisible\u001b[0m\u001b[0;34m,\u001b[0m \u001b[0mwhich\u001b[0m\u001b[0;34m=\u001b[0m\u001b[0mwhich\u001b[0m\u001b[0;34m,\u001b[0m \u001b[0;34m**\u001b[0m\u001b[0mkwargs\u001b[0m\u001b[0;34m)\u001b[0m\u001b[0;34m\u001b[0m\u001b[0;34m\u001b[0m\u001b[0m\n\u001b[0m\u001b[1;32m   3195\u001b[0m         \u001b[0;32mif\u001b[0m \u001b[0maxis\u001b[0m \u001b[0;32min\u001b[0m \u001b[0;34m[\u001b[0m\u001b[0;34m'y'\u001b[0m\u001b[0;34m,\u001b[0m \u001b[0;34m'both'\u001b[0m\u001b[0;34m]\u001b[0m\u001b[0;34m:\u001b[0m\u001b[0;34m\u001b[0m\u001b[0;34m\u001b[0m\u001b[0m\n\u001b[1;32m   3196\u001b[0m             \u001b[0mself\u001b[0m\u001b[0;34m.\u001b[0m\u001b[0myaxis\u001b[0m\u001b[0;34m.\u001b[0m\u001b[0mgrid\u001b[0m\u001b[0;34m(\u001b[0m\u001b[0mvisible\u001b[0m\u001b[0;34m,\u001b[0m \u001b[0mwhich\u001b[0m\u001b[0;34m=\u001b[0m\u001b[0mwhich\u001b[0m\u001b[0;34m,\u001b[0m \u001b[0;34m**\u001b[0m\u001b[0mkwargs\u001b[0m\u001b[0;34m)\u001b[0m\u001b[0;34m\u001b[0m\u001b[0;34m\u001b[0m\u001b[0m\n",
            "\u001b[0;32m/usr/local/lib/python3.9/dist-packages/matplotlib/axis.py\u001b[0m in \u001b[0;36mgrid\u001b[0;34m(self, visible, which, **kwargs)\u001b[0m\n\u001b[1;32m   1658\u001b[0m             gridkw['gridOn'] = (not self._major_tick_kw['gridOn']\n\u001b[1;32m   1659\u001b[0m                                 if visible is None else visible)\n\u001b[0;32m-> 1660\u001b[0;31m             \u001b[0mself\u001b[0m\u001b[0;34m.\u001b[0m\u001b[0mset_tick_params\u001b[0m\u001b[0;34m(\u001b[0m\u001b[0mwhich\u001b[0m\u001b[0;34m=\u001b[0m\u001b[0;34m'major'\u001b[0m\u001b[0;34m,\u001b[0m \u001b[0;34m**\u001b[0m\u001b[0mgridkw\u001b[0m\u001b[0;34m)\u001b[0m\u001b[0;34m\u001b[0m\u001b[0;34m\u001b[0m\u001b[0m\n\u001b[0m\u001b[1;32m   1661\u001b[0m         \u001b[0mself\u001b[0m\u001b[0;34m.\u001b[0m\u001b[0mstale\u001b[0m \u001b[0;34m=\u001b[0m \u001b[0;32mTrue\u001b[0m\u001b[0;34m\u001b[0m\u001b[0;34m\u001b[0m\u001b[0m\n\u001b[1;32m   1662\u001b[0m \u001b[0;34m\u001b[0m\u001b[0m\n",
            "\u001b[0;32m/usr/local/lib/python3.9/dist-packages/matplotlib/axis.py\u001b[0m in \u001b[0;36mset_tick_params\u001b[0;34m(self, which, reset, **kwargs)\u001b[0m\n\u001b[1;32m    930\u001b[0m         \"\"\"\n\u001b[1;32m    931\u001b[0m         \u001b[0m_api\u001b[0m\u001b[0;34m.\u001b[0m\u001b[0mcheck_in_list\u001b[0m\u001b[0;34m(\u001b[0m\u001b[0;34m[\u001b[0m\u001b[0;34m'major'\u001b[0m\u001b[0;34m,\u001b[0m \u001b[0;34m'minor'\u001b[0m\u001b[0;34m,\u001b[0m \u001b[0;34m'both'\u001b[0m\u001b[0;34m]\u001b[0m\u001b[0;34m,\u001b[0m \u001b[0mwhich\u001b[0m\u001b[0;34m=\u001b[0m\u001b[0mwhich\u001b[0m\u001b[0;34m)\u001b[0m\u001b[0;34m\u001b[0m\u001b[0;34m\u001b[0m\u001b[0m\n\u001b[0;32m--> 932\u001b[0;31m         \u001b[0mkwtrans\u001b[0m \u001b[0;34m=\u001b[0m \u001b[0mself\u001b[0m\u001b[0;34m.\u001b[0m\u001b[0m_translate_tick_params\u001b[0m\u001b[0;34m(\u001b[0m\u001b[0mkwargs\u001b[0m\u001b[0;34m)\u001b[0m\u001b[0;34m\u001b[0m\u001b[0;34m\u001b[0m\u001b[0m\n\u001b[0m\u001b[1;32m    933\u001b[0m \u001b[0;34m\u001b[0m\u001b[0m\n\u001b[1;32m    934\u001b[0m         \u001b[0;31m# the kwargs are stored in self._major/minor_tick_kw so that any\u001b[0m\u001b[0;34m\u001b[0m\u001b[0;34m\u001b[0m\u001b[0m\n",
            "\u001b[0;32m/usr/local/lib/python3.9/dist-packages/matplotlib/axis.py\u001b[0m in \u001b[0;36m_translate_tick_params\u001b[0;34m(kw, reverse)\u001b[0m\n\u001b[1;32m   1074\u001b[0m         \u001b[0;32mfor\u001b[0m \u001b[0mkey\u001b[0m \u001b[0;32min\u001b[0m \u001b[0mkw_\u001b[0m\u001b[0;34m:\u001b[0m\u001b[0;34m\u001b[0m\u001b[0;34m\u001b[0m\u001b[0m\n\u001b[1;32m   1075\u001b[0m             \u001b[0;32mif\u001b[0m \u001b[0mkey\u001b[0m \u001b[0;32mnot\u001b[0m \u001b[0;32min\u001b[0m \u001b[0mallowed_keys\u001b[0m\u001b[0;34m:\u001b[0m\u001b[0;34m\u001b[0m\u001b[0;34m\u001b[0m\u001b[0m\n\u001b[0;32m-> 1076\u001b[0;31m                 raise ValueError(\n\u001b[0m\u001b[1;32m   1077\u001b[0m                     \u001b[0;34m\"keyword %s is not recognized; valid keywords are %s\"\u001b[0m\u001b[0;34m\u001b[0m\u001b[0;34m\u001b[0m\u001b[0m\n\u001b[1;32m   1078\u001b[0m                     % (key, allowed_keys))\n",
            "\u001b[0;31mValueError\u001b[0m: keyword grid_b is not recognized; valid keywords are ['size', 'width', 'color', 'tickdir', 'pad', 'labelsize', 'labelcolor', 'zorder', 'gridOn', 'tick1On', 'tick2On', 'label1On', 'label2On', 'length', 'direction', 'left', 'bottom', 'right', 'top', 'labelleft', 'labelbottom', 'labelright', 'labeltop', 'labelrotation', 'grid_agg_filter', 'grid_alpha', 'grid_animated', 'grid_antialiased', 'grid_clip_box', 'grid_clip_on', 'grid_clip_path', 'grid_color', 'grid_dash_capstyle', 'grid_dash_joinstyle', 'grid_dashes', 'grid_data', 'grid_drawstyle', 'grid_figure', 'grid_fillstyle', 'grid_gapcolor', 'grid_gid', 'grid_in_layout', 'grid_label', 'grid_linestyle', 'grid_linewidth', 'grid_marker', 'grid_markeredgecolor', 'grid_markeredgewidth', 'grid_markerfacecolor', 'grid_markerfacecoloralt', 'grid_markersize', 'grid_markevery', 'grid_mouseover', 'grid_path_effects', 'grid_picker', 'grid_pickradius', 'grid_rasterized', 'grid_sketch_params', 'grid_snap', 'grid_solid_capstyle', 'grid_solid_joinstyle', 'grid_transform', 'grid_url', 'grid_visible', 'grid_xdata', 'grid_ydata', 'grid_zorder', 'grid_aa', 'grid_c', 'grid_ds', 'grid_ls', 'grid_lw', 'grid_mec', 'grid_mew', 'grid_mfc', 'grid_mfcalt', 'grid_ms']"
          ]
        },
        {
          "output_type": "display_data",
          "data": {
            "text/plain": [
              "<Figure size 1152x648 with 1 Axes>"
            ],
            "image/png": "[encoded data removed]"
          },
          "metadata": {}
        }
      ],
      "source": [
        "\n",
        "# Figure Size\n",
        "fig, ax = plt.subplots(figsize =(16, 9))\n",
        " \n",
        "# Horizontal Bar Plot\n",
        "ax.barh(idx[:13], lis[:13])\n",
        " \n",
        "# Remove axes splines\n",
        "for s in ['top', 'bottom', 'left', 'right']:\n",
        "    ax.spines[s].set_visible(False)\n",
        " \n",
        "# Remove x, y Ticks\n",
        "ax.xaxis.set_ticks_position('none')\n",
        "ax.yaxis.set_ticks_position('none')\n",
        " \n",
        "# Add padding between axes and labels\n",
        "ax.xaxis.set_tick_params(pad = 5)\n",
        "ax.yaxis.set_tick_params(pad = 10)\n",
        " \n",
        "# Add x, y gridlines\n",
        "ax.grid(b = True, color ='grey',\n",
        "        linestyle ='-.', linewidth = 0.5,\n",
        "        alpha = 0.2)\n",
        " \n",
        "# Show top values\n",
        "ax.invert_yaxis()\n",
        " \n",
        "# Add annotation to bars\n",
        "for i in ax.patches:\n",
        "    plt.text(i.get_width()+0.2, i.get_y()+0.5,\n",
        "             str(round((i.get_width()), 2)),\n",
        "             fontsize = 10, fontweight ='bold',\n",
        "             color ='grey')\n",
        " \n",
        "# Add Plot Title\n",
        "ax.set_title('Biểu đồ 1: Technical skill được phổ biến theo nhu cầu của các công ty \\nở Viêt Nam tuyển dụng năm 2023',\n",
        "             loc ='center' )\n",
        " \n",
        "# Add Text watermark\n",
        "fig.text(0.9, 0.15, 'tranhuuan', fontsize = 12,\n",
        "         color ='grey', ha ='right', va ='bottom',\n",
        "         alpha = 0.7)\n",
        "# Show Plot\n",
        "plt.show()"
      ]
    },
    {
      "cell_type": "markdown",
      "metadata": {
        "id": "qn4sxZh18r6s"
      },
      "source": [
        "## Percentage degree."
      ]
    },
    {
      "cell_type": "code",
      "execution_count": null,
      "metadata": {
        "id": "PL6iDXRi9M5n"
      },
      "outputs": [],
      "source": [
        "vs_degree = job.merge(job_degree, how='left', left_on='index', right_on='index')\n"
      ]
    },
    {
      "cell_type": "code",
      "execution_count": null,
      "metadata": {
        "id": "NbYLWBt46V5b",
        "colab": {
          "base_uri": "https://localhost:8080/"
        },
        "outputId": "760ec671-0967-4fe7-ea15-e694ebb86c75"
      },
      "outputs": [
        {
          "output_type": "error",
          "ename": "NameError",
          "evalue": "ignored",
          "traceback": [
            "\u001b[0;31m---------------------------------------------------------------------------\u001b[0m",
            "\u001b[0;31mNameError\u001b[0m                                 Traceback (most recent call last)",
            "\u001b[0;32m<ipython-input-86-bfc43e3cbc39>\u001b[0m in \u001b[0;36m<module>\u001b[0;34m\u001b[0m\n\u001b[0;32m----> 1\u001b[0;31m \u001b[0mvs_degree\u001b[0m \u001b[0;34m=\u001b[0m \u001b[0mvs_degree\u001b[0m\u001b[0;34m[\u001b[0m\u001b[0;34m[\u001b[0m\u001b[0;34m'index'\u001b[0m\u001b[0;34m,\u001b[0m \u001b[0;34m'name degree'\u001b[0m\u001b[0;34m]\u001b[0m\u001b[0;34m]\u001b[0m\u001b[0;34m\u001b[0m\u001b[0;34m\u001b[0m\u001b[0m\n\u001b[0m",
            "\u001b[0;31mNameError\u001b[0m: name 'vs_degree' is not defined"
          ]
        }
      ],
      "source": [
        "vs_degree = vs_degree[['index', 'name degree']]"
      ]
    },
    {
      "cell_type": "code",
      "execution_count": null,
      "metadata": {
        "id": "YNjDTlHP8qvY",
        "colab": {
          "base_uri": "https://localhost:8080/"
        },
        "outputId": "5ad2fa0f-1075-4916-ef5f-07abe8236435"
      },
      "outputs": [
        {
          "output_type": "error",
          "ename": "NameError",
          "evalue": "ignored",
          "traceback": [
            "\u001b[0;31m---------------------------------------------------------------------------\u001b[0m",
            "\u001b[0;31mNameError\u001b[0m                                 Traceback (most recent call last)",
            "\u001b[0;32m<ipython-input-87-d6873e02c990>\u001b[0m in \u001b[0;36m<module>\u001b[0;34m\u001b[0m\n\u001b[0;32m----> 1\u001b[0;31m \u001b[0mvs_degree\u001b[0m\u001b[0;34m[\u001b[0m\u001b[0;34m'y/n degree'\u001b[0m\u001b[0;34m]\u001b[0m \u001b[0;34m=\u001b[0m \u001b[0mvs_degree\u001b[0m\u001b[0;34m[\u001b[0m\u001b[0;34m'name degree'\u001b[0m\u001b[0;34m]\u001b[0m\u001b[0;34m.\u001b[0m\u001b[0mapply\u001b[0m\u001b[0;34m(\u001b[0m\u001b[0;32mlambda\u001b[0m \u001b[0mstring\u001b[0m\u001b[0;34m:\u001b[0m \u001b[0;34m'Yes'\u001b[0m \u001b[0;32mif\u001b[0m \u001b[0mstr\u001b[0m\u001b[0;34m(\u001b[0m\u001b[0mstring\u001b[0m\u001b[0;34m)\u001b[0m \u001b[0;34m!=\u001b[0m \u001b[0;34m'nan'\u001b[0m \u001b[0;32melse\u001b[0m \u001b[0;34m'No'\u001b[0m\u001b[0;34m,\u001b[0m \u001b[0;34m''\u001b[0m\u001b[0;34m)\u001b[0m\u001b[0;34m\u001b[0m\u001b[0;34m\u001b[0m\u001b[0m\n\u001b[0m",
            "\u001b[0;31mNameError\u001b[0m: name 'vs_degree' is not defined"
          ]
        }
      ],
      "source": [
        "vs_degree['y/n degree'] = vs_degree['name degree'].apply(lambda string: 'Yes' if str(string) != 'nan' else 'No', '')"
      ]
    },
    {
      "cell_type": "code",
      "execution_count": null,
      "metadata": {
        "id": "bGKmgvEy99YT",
        "colab": {
          "base_uri": "https://localhost:8080/"
        },
        "outputId": "d43b5e9d-b71b-41ed-a0b0-c03f58c0ce3b"
      },
      "outputs": [
        {
          "output_type": "error",
          "ename": "NameError",
          "evalue": "ignored",
          "traceback": [
            "\u001b[0;31m---------------------------------------------------------------------------\u001b[0m",
            "\u001b[0;31mNameError\u001b[0m                                 Traceback (most recent call last)",
            "\u001b[0;32m<ipython-input-88-afe5efedef82>\u001b[0m in \u001b[0;36m<module>\u001b[0;34m\u001b[0m\n\u001b[0;32m----> 1\u001b[0;31m \u001b[0mdegreeX\u001b[0m \u001b[0;34m=\u001b[0m \u001b[0mvs_degree\u001b[0m\u001b[0;34m[\u001b[0m\u001b[0;34m'y/n degree'\u001b[0m\u001b[0;34m]\u001b[0m\u001b[0;34m.\u001b[0m\u001b[0mvalue_counts\u001b[0m\u001b[0;34m(\u001b[0m\u001b[0;34m)\u001b[0m\u001b[0;34m\u001b[0m\u001b[0;34m\u001b[0m\u001b[0m\n\u001b[0m\u001b[1;32m      2\u001b[0m \u001b[0mfig\u001b[0m \u001b[0;34m=\u001b[0m \u001b[0mplt\u001b[0m\u001b[0;34m.\u001b[0m\u001b[0mfigure\u001b[0m\u001b[0;34m(\u001b[0m\u001b[0mfigsize\u001b[0m\u001b[0;34m=\u001b[0m\u001b[0;34m(\u001b[0m\u001b[0;36m20\u001b[0m\u001b[0;34m,\u001b[0m\u001b[0;36m10\u001b[0m\u001b[0;34m)\u001b[0m\u001b[0;34m)\u001b[0m\u001b[0;34m\u001b[0m\u001b[0;34m\u001b[0m\u001b[0m\n\u001b[1;32m      3\u001b[0m plt.pie(degreeX.values, labels=degreeX.index, autopct='%1.1f%%',\n\u001b[1;32m      4\u001b[0m        )\n\u001b[1;32m      5\u001b[0m \u001b[0mplt\u001b[0m\u001b[0;34m.\u001b[0m\u001b[0mshow\u001b[0m\u001b[0;34m(\u001b[0m\u001b[0;34m)\u001b[0m\u001b[0;34m\u001b[0m\u001b[0;34m\u001b[0m\u001b[0m\n",
            "\u001b[0;31mNameError\u001b[0m: name 'vs_degree' is not defined"
          ]
        }
      ],
      "source": [
        "degreeX = vs_degree['y/n degree'].value_counts()\n",
        "fig = plt.figure(figsize=(20,10))\n",
        "plt.pie(degreeX.values, labels=degreeX.index, autopct='%1.1f%%',\n",
        "       )\n",
        "plt.show()"
      ]
    },
    {
      "cell_type": "markdown",
      "metadata": {
        "id": "DOOrE1bUo57C"
      },
      "source": [
        "theo số liệu thống kê ở hình trên. Tỉ lệ mà bài tuyển dụng yêu cầu bằng cấp là 68.7%. Hỏi số liêu này có phù hợp với giả thuyết hay không hay nó sẽ lớn hơn 68.7%?<br>\n",
        "- H0: p=0.687\n",
        "- H1: p> 0.687<br>\n",
        " ta có tổng số là 5685 trong đó 3906 số lượng yêu cầu bằng cấp<br>\n",
        " "
      ]
    },
    {
      "cell_type": "code",
      "execution_count": null,
      "metadata": {
        "id": "4LpzSSmcTGJ_",
        "colab": {
          "base_uri": "https://localhost:8080/"
        },
        "outputId": "98c665c2-7e16-466b-9c49-9db4a026a7e8"
      },
      "outputs": [
        {
          "output_type": "error",
          "ename": "NameError",
          "evalue": "ignored",
          "traceback": [
            "\u001b[0;31m---------------------------------------------------------------------------\u001b[0m",
            "\u001b[0;31mNameError\u001b[0m                                 Traceback (most recent call last)",
            "\u001b[0;32m<ipython-input-89-1d6e725ce247>\u001b[0m in \u001b[0;36m<module>\u001b[0;34m\u001b[0m\n\u001b[0;32m----> 1\u001b[0;31m \u001b[0mvs_degree\u001b[0m\u001b[0;34m.\u001b[0m\u001b[0mloc\u001b[0m\u001b[0;34m[\u001b[0m\u001b[0mvs_degree\u001b[0m\u001b[0;34m[\u001b[0m\u001b[0;34m'y/n degree'\u001b[0m\u001b[0;34m]\u001b[0m \u001b[0;34m==\u001b[0m \u001b[0;34m'Yes'\u001b[0m\u001b[0;34m,\u001b[0m \u001b[0;34m:\u001b[0m\u001b[0;34m]\u001b[0m\u001b[0;34m.\u001b[0m\u001b[0mshape\u001b[0m\u001b[0;34m\u001b[0m\u001b[0;34m\u001b[0m\u001b[0m\n\u001b[0m",
            "\u001b[0;31mNameError\u001b[0m: name 'vs_degree' is not defined"
          ]
        }
      ],
      "source": [
        "vs_degree.loc[vs_degree['y/n degree'] == 'Yes', :].shape"
      ]
    },
    {
      "cell_type": "code",
      "execution_count": null,
      "metadata": {
        "id": "GfUi4-wzX9uP",
        "colab": {
          "base_uri": "https://localhost:8080/"
        },
        "outputId": "4dce87eb-fafb-41a3-ed4f-fc03ebed8485"
      },
      "outputs": [
        {
          "output_type": "stream",
          "name": "stdout",
          "text": [
            "Tỉ lệ f:  0.6870712401055409\n"
          ]
        }
      ],
      "source": [
        "print('Tỉ lệ f: ', 3906/5685)"
      ]
    },
    {
      "cell_type": "code",
      "execution_count": null,
      "metadata": {
        "id": "md0WTk3TaQMS",
        "colab": {
          "base_uri": "https://localhost:8080/"
        },
        "outputId": "c39aded7-b8ad-4859-9ade-283a9d5269bf"
      },
      "outputs": [
        {
          "output_type": "execute_result",
          "data": {
            "text/plain": [
              "18.463483086019597"
            ]
          },
          "metadata": {},
          "execution_count": 91
        }
      ],
      "source": [
        "((0.687-0.55)*math.sqrt(5685))/math.sqrt(1-0.687)"
      ]
    },
    {
      "cell_type": "markdown",
      "metadata": {
        "id": "sXhjBe5xddJO"
      },
      "source": [
        "miền bác bỏ H0 sẽ nằm trong (-v  cùng, -1.96) hoặc (1.96, vô cùng)\n",
        "\n",
        "kết luận: giả thuyết H0 bị bác bỏ."
      ]
    },
    {
      "cell_type": "code",
      "execution_count": null,
      "metadata": {
        "id": "paHmXuKcXfMT"
      },
      "outputs": [],
      "source": [
        "from statsmodels.stats.proportion import proportions_ztest"
      ]
    },
    {
      "cell_type": "code",
      "execution_count": null,
      "metadata": {
        "id": "4UFWQqohXgLR"
      },
      "outputs": [],
      "source": [
        "#perform one proportion z-test\n",
        "proportions_ztest(count=0.687, nobs=5685, value=0.55)"
      ]
    },
    {
      "cell_type": "markdown",
      "metadata": {
        "id": "jQOneMpDYjLS"
      },
      "source": [
        "Với z-statics = 0.0115 và p-value=0.99 => không đủ cơ sở để bác bỏ giả thuyết H0"
      ]
    },
    {
      "cell_type": "markdown",
      "metadata": {
        "id": "wF3l32VR-t1I"
      },
      "source": [
        "## Location jobs."
      ]
    },
    {
      "cell_type": "code",
      "execution_count": null,
      "metadata": {
        "id": "wAtUiWVx-cBK",
        "colab": {
          "base_uri": "https://localhost:8080/"
        },
        "outputId": "7be1ef23-463b-4be8-baf7-cbe856cd2c5a"
      },
      "outputs": [
        {
          "output_type": "execute_result",
          "data": {
            "text/plain": [
              "thành phố hồ chí minh    2733\n",
              "hà nội                   1059\n",
              "đà nẵng                   200\n",
              "việt nam                  172\n",
              "remote                     32\n",
              "đắk lắk                    24\n",
              "nha trang                  17\n",
              "thừa thiên - huế           12\n",
              "đồng nai                    9\n",
              "gò vấp                      9\n",
              "quận 7                      8\n",
              "bình dương                  7\n",
              "cần thơ                     5\n",
              "bắc ninh                    4\n",
              "khánh hòa                   4\n",
              "hưng yên                    3\n",
              "bình định                   3\n",
              "thủ đức                     3\n",
              "long an                     2\n",
              "thuận an                    2\n",
              "thủ dầu một                 1\n",
              "long thành                  1\n",
              "an giang                    1\n",
              "hòa bình                    1\n",
              "huế                         1\n",
              "hạ long                     1\n",
              "đà lạt                      1\n",
              "quảng ngãi                  1\n",
              "hải phòng                   1\n",
              "hải dương                   1\n",
              "Name: Location, dtype: int64"
            ]
          },
          "metadata": {},
          "execution_count": 92
        }
      ],
      "source": [
        "job['Location'].value_counts()"
      ]
    },
    {
      "cell_type": "code",
      "execution_count": null,
      "metadata": {
        "id": "npDTr6cX_bSC",
        "colab": {
          "base_uri": "https://localhost:8080/",
          "height": 575
        },
        "outputId": "107df752-7ab0-4f81-882f-83aadc7a2060"
      },
      "outputs": [
        {
          "output_type": "display_data",
          "data": {
            "text/plain": [
              "<Figure size 720x720 with 1 Axes>"
            ],
            "image/png": "[encoded data removed]"
          },
          "metadata": {}
        }
      ],
      "source": [
        "explode = [63.76, 24.52, 4.63, 7.1]\n",
        "labels = ['TP HCM', 'Hà Nội', 'Đà Nẵng', 'Khác']\n",
        "fig = plt.figure(figsize=(10,10))\n",
        "plt.pie(explode, labels=labels, autopct='%1.1f%%',\n",
        "       )\n",
        "plt.savefig('chart1_pieChart.png')"
      ]
    },
    {
      "cell_type": "markdown",
      "metadata": {
        "id": "u-klNwHtAQMw"
      },
      "source": [
        "## Degree by level."
      ]
    },
    {
      "cell_type": "code",
      "execution_count": null,
      "metadata": {
        "id": "P9w_o5_RAJcu"
      },
      "outputs": [],
      "source": [
        "# visualization data level by degree\n",
        "data_vs_level = job.merge(job_level, how='left', left_on='index', right_on='index')\n",
        "data_vs_level = data_vs_level.merge(job_YearExperience, how='left', left_on='index', right_on='index').rename(columns={0:'YearExperience'})\n",
        "data_vs_level = data_vs_level.merge(job_degree, how='left', left_on='index', right_on='index').rename(columns={0:'degree'})"
      ]
    },
    {
      "cell_type": "code",
      "execution_count": null,
      "metadata": {
        "id": "bwgUrk_wApEx",
        "colab": {
          "base_uri": "https://localhost:8080/",
          "height": 641
        },
        "outputId": "b9230cd2-643e-4f09-abd4-70a7aaf88902"
      },
      "outputs": [
        {
          "output_type": "execute_result",
          "data": {
            "text/plain": [
              "     index                                           JobTitle  \\\n",
              "0        0                                     .Net Developer   \n",
              "1        1                         Intern / Fresher Developer   \n",
              "2        2               .NET Developer (Middle/Senior level)   \n",
              "3        3                      Jun/Mid/Senior .NET Developer   \n",
              "4        3                      Jun/Mid/Senior .NET Developer   \n",
              "...    ...                                                ...   \n",
              "8077  4376              [HÀ NỘI] SENIOR/ MIDDLE RUBY ON RAILS   \n",
              "8078  4377  Lập Trình Viên Fullstack (PHP, MYSQL, React) S...   \n",
              "8079  4378            Senior Fullstack Engineer (Java, React)   \n",
              "8080  4378            Senior Fullstack Engineer (Java, React)   \n",
              "8081  4378            Senior Fullstack Engineer (Java, React)   \n",
              "\n",
              "                Company               Location  \\\n",
              "0              SmartDev                đà nẵng   \n",
              "1        DXC Technology  thành phố hồ chí minh   \n",
              "2                 SIOUX                đà nẵng   \n",
              "3     Saigon Technology                đà nẵng   \n",
              "4     Saigon Technology                đà nẵng   \n",
              "...                 ...                    ...   \n",
              "8077  Việc Ơi It Client                 hà nội   \n",
              "8078     JobsGO Recruit  thành phố hồ chí minh   \n",
              "8079             Zühlke  thành phố hồ chí minh   \n",
              "8080             Zühlke  thành phố hồ chí minh   \n",
              "8081             Zühlke  thành phố hồ chí minh   \n",
              "\n",
              "                                                Summary  \\\n",
              "0     compani descript smartdev is a lead provid of ...   \n",
              "1     overview : how would you like to join an inter...   \n",
              "2     sioux group wa found in 1996 in the netherland...   \n",
              "3     up to $ 2,200 junior , middl , senior da nang ...   \n",
              "4     up to $ 2,200 junior , middl , senior da nang ...   \n",
              "...                                                 ...   \n",
              "8077  giới thiệu : việc ơi it client là công ty 100 ...   \n",
              "8078  mô tả công việc : ( mức lương : thỏa thuận ) d...   \n",
              "8079  perman full-tim ho chi minh citi softwar engin...   \n",
              "8080  perman full-tim ho chi minh citi softwar engin...   \n",
              "8081  perman full-tim ho chi minh citi softwar engin...   \n",
              "\n",
              "                        JobUrl name level  YearExperience    name degree  \n",
              "0               .NET Developer    manager             0.0            NaN  \n",
              "1               .NET Developer        NaN             0.0       graduate  \n",
              "2               .NET Developer        NaN             4.0       bachelor  \n",
              "3               .NET Developer     middle             2.0         master  \n",
              "4               .NET Developer     middle             2.0    certificate  \n",
              "...                        ...        ...             ...            ...  \n",
              "8077  Full Stack Web Developer     leader             2.0  undergraduate  \n",
              "8078  Full Stack Web Developer     senior             3.0            NaN  \n",
              "8079  Full Stack Web Developer     senior             5.0    certificate  \n",
              "8080  Full Stack Web Developer     senior             5.0         master  \n",
              "8081  Full Stack Web Developer     senior             5.0       bachelor  \n",
              "\n",
              "[8082 rows x 9 columns]"
            ],
            "text/html": [
              "\n",
              "  <div id=\"df-626e5398-ee64-4cad-a418-954fc5479c00\">\n",
              "    <div class=\"colab-df-container\">\n",
              "      <div>\n",
              "<style scoped>\n",
              "    .dataframe tbody tr th:only-of-type {\n",
              "        vertical-align: middle;\n",
              "    }\n",
              "\n",
              "    .dataframe tbody tr th {\n",
              "        vertical-align: top;\n",
              "    }\n",
              "\n",
              "    .dataframe thead th {\n",
              "        text-align: right;\n",
              "    }\n",
              "</style>\n",
              "<table border=\"1\" class=\"dataframe\">\n",
              "  <thead>\n",
              "    <tr style=\"text-align: right;\">\n",
              "      <th></th>\n",
              "      <th>index</th>\n",
              "      <th>JobTitle</th>\n",
              "      <th>Company</th>\n",
              "      <th>Location</th>\n",
              "      <th>Summary</th>\n",
              "      <th>JobUrl</th>\n",
              "      <th>name level</th>\n",
              "      <th>YearExperience</th>\n",
              "      <th>name degree</th>\n",
              "    </tr>\n",
              "  </thead>\n",
              "  <tbody>\n",
              "    <tr>\n",
              "      <th>0</th>\n",
              "      <td>0</td>\n",
              "      <td>.Net Developer</td>\n",
              "      <td>SmartDev</td>\n",
              "      <td>đà nẵng</td>\n",
              "      <td>compani descript smartdev is a lead provid of ...</td>\n",
              "      <td>.NET Developer</td>\n",
              "      <td>manager</td>\n",
              "      <td>0.0</td>\n",
              "      <td>NaN</td>\n",
              "    </tr>\n",
              "    <tr>\n",
              "      <th>1</th>\n",
              "      <td>1</td>\n",
              "      <td>Intern / Fresher Developer</td>\n",
              "      <td>DXC Technology</td>\n",
              "      <td>thành phố hồ chí minh</td>\n",
              "      <td>overview : how would you like to join an inter...</td>\n",
              "      <td>.NET Developer</td>\n",
              "      <td>NaN</td>\n",
              "      <td>0.0</td>\n",
              "      <td>graduate</td>\n",
              "    </tr>\n",
              "    <tr>\n",
              "      <th>2</th>\n",
              "      <td>2</td>\n",
              "      <td>.NET Developer (Middle/Senior level)</td>\n",
              "      <td>SIOUX</td>\n",
              "      <td>đà nẵng</td>\n",
              "      <td>sioux group wa found in 1996 in the netherland...</td>\n",
              "      <td>.NET Developer</td>\n",
              "      <td>NaN</td>\n",
              "      <td>4.0</td>\n",
              "      <td>bachelor</td>\n",
              "    </tr>\n",
              "    <tr>\n",
              "      <th>3</th>\n",
              "      <td>3</td>\n",
              "      <td>Jun/Mid/Senior .NET Developer</td>\n",
              "      <td>Saigon Technology</td>\n",
              "      <td>đà nẵng</td>\n",
              "      <td>up to $ 2,200 junior , middl , senior da nang ...</td>\n",
              "      <td>.NET Developer</td>\n",
              "      <td>middle</td>\n",
              "      <td>2.0</td>\n",
              "      <td>master</td>\n",
              "    </tr>\n",
              "    <tr>\n",
              "      <th>4</th>\n",
              "      <td>3</td>\n",
              "      <td>Jun/Mid/Senior .NET Developer</td>\n",
              "      <td>Saigon Technology</td>\n",
              "      <td>đà nẵng</td>\n",
              "      <td>up to $ 2,200 junior , middl , senior da nang ...</td>\n",
              "      <td>.NET Developer</td>\n",
              "      <td>middle</td>\n",
              "      <td>2.0</td>\n",
              "      <td>certificate</td>\n",
              "    </tr>\n",
              "    <tr>\n",
              "      <th>...</th>\n",
              "      <td>...</td>\n",
              "      <td>...</td>\n",
              "      <td>...</td>\n",
              "      <td>...</td>\n",
              "      <td>...</td>\n",
              "      <td>...</td>\n",
              "      <td>...</td>\n",
              "      <td>...</td>\n",
              "      <td>...</td>\n",
              "    </tr>\n",
              "    <tr>\n",
              "      <th>8077</th>\n",
              "      <td>4376</td>\n",
              "      <td>[HÀ NỘI] SENIOR/ MIDDLE RUBY ON RAILS</td>\n",
              "      <td>Việc Ơi It Client</td>\n",
              "      <td>hà nội</td>\n",
              "      <td>giới thiệu : việc ơi it client là công ty 100 ...</td>\n",
              "      <td>Full Stack Web Developer</td>\n",
              "      <td>leader</td>\n",
              "      <td>2.0</td>\n",
              "      <td>undergraduate</td>\n",
              "    </tr>\n",
              "    <tr>\n",
              "      <th>8078</th>\n",
              "      <td>4377</td>\n",
              "      <td>Lập Trình Viên Fullstack (PHP, MYSQL, React) S...</td>\n",
              "      <td>JobsGO Recruit</td>\n",
              "      <td>thành phố hồ chí minh</td>\n",
              "      <td>mô tả công việc : ( mức lương : thỏa thuận ) d...</td>\n",
              "      <td>Full Stack Web Developer</td>\n",
              "      <td>senior</td>\n",
              "      <td>3.0</td>\n",
              "      <td>NaN</td>\n",
              "    </tr>\n",
              "    <tr>\n",
              "      <th>8079</th>\n",
              "      <td>4378</td>\n",
              "      <td>Senior Fullstack Engineer (Java, React)</td>\n",
              "      <td>Zühlke</td>\n",
              "      <td>thành phố hồ chí minh</td>\n",
              "      <td>perman full-tim ho chi minh citi softwar engin...</td>\n",
              "      <td>Full Stack Web Developer</td>\n",
              "      <td>senior</td>\n",
              "      <td>5.0</td>\n",
              "      <td>certificate</td>\n",
              "    </tr>\n",
              "    <tr>\n",
              "      <th>8080</th>\n",
              "      <td>4378</td>\n",
              "      <td>Senior Fullstack Engineer (Java, React)</td>\n",
              "      <td>Zühlke</td>\n",
              "      <td>thành phố hồ chí minh</td>\n",
              "      <td>perman full-tim ho chi minh citi softwar engin...</td>\n",
              "      <td>Full Stack Web Developer</td>\n",
              "      <td>senior</td>\n",
              "      <td>5.0</td>\n",
              "      <td>master</td>\n",
              "    </tr>\n",
              "    <tr>\n",
              "      <th>8081</th>\n",
              "      <td>4378</td>\n",
              "      <td>Senior Fullstack Engineer (Java, React)</td>\n",
              "      <td>Zühlke</td>\n",
              "      <td>thành phố hồ chí minh</td>\n",
              "      <td>perman full-tim ho chi minh citi softwar engin...</td>\n",
              "      <td>Full Stack Web Developer</td>\n",
              "      <td>senior</td>\n",
              "      <td>5.0</td>\n",
              "      <td>bachelor</td>\n",
              "    </tr>\n",
              "  </tbody>\n",
              "</table>\n",
              "<p>8082 rows × 9 columns</p>\n",
              "</div>\n",
              "      <button class=\"colab-df-convert\" onclick=\"convertToInteractive('df-626e5398-ee64-4cad-a418-954fc5479c00')\"\n",
              "              title=\"Convert this dataframe to an interactive table.\"\n",
              "              style=\"display:none;\">\n",
              "        \n",
              "  <svg xmlns=\"http://www.w3.org/2000/svg\" height=\"24px\"viewBox=\"0 0 24 24\"\n",
              "       width=\"24px\">\n",
              "    <path d=\"M0 0h24v24H0V0z\" fill=\"none\"/>\n",
              "    <path d=\"M18.56 5.44l.94 2.06.94-2.06 2.06-.94-2.06-.94-.94-2.06-.94 2.06-2.06.94zm-11 1L8.5 8.5l.94-2.06 2.06-.94-2.06-.94L8.5 2.5l-.94 2.06-2.06.94zm10 10l.94 2.06.94-2.06 2.06-.94-2.06-.94-.94-2.06-.94 2.06-2.06.94z\"/><path d=\"M17.41 7.96l-1.37-1.37c-.4-.4-.92-.59-1.43-.59-.52 0-1.04.2-1.43.59L10.3 9.45l-7.72 7.72c-.78.78-.78 2.05 0 2.83L4 21.41c.39.39.9.59 1.41.59.51 0 1.02-.2 1.41-.59l7.78-7.78 2.81-2.81c.8-.78.8-2.07 0-2.86zM5.41 20L4 18.59l7.72-7.72 1.47 1.35L5.41 20z\"/>\n",
              "  </svg>\n",
              "      </button>\n",
              "      \n",
              "  <style>\n",
              "    .colab-df-container {\n",
              "      display:flex;\n",
              "      flex-wrap:wrap;\n",
              "      gap: 12px;\n",
              "    }\n",
              "\n",
              "    .colab-df-convert {\n",
              "      background-color: #E8F0FE;\n",
              "      border: none;\n",
              "      border-radius: 50%;\n",
              "      cursor: pointer;\n",
              "      display: none;\n",
              "      fill: #1967D2;\n",
              "      height: 32px;\n",
              "      padding: 0 0 0 0;\n",
              "      width: 32px;\n",
              "    }\n",
              "\n",
              "    .colab-df-convert:hover {\n",
              "      background-color: #E2EBFA;\n",
              "      box-shadow: 0px 1px 2px rgba(60, 64, 67, 0.3), 0px 1px 3px 1px rgba(60, 64, 67, 0.15);\n",
              "      fill: #174EA6;\n",
              "    }\n",
              "\n",
              "    [theme=dark] .colab-df-convert {\n",
              "      background-color: #3B4455;\n",
              "      fill: #D2E3FC;\n",
              "    }\n",
              "\n",
              "    [theme=dark] .colab-df-convert:hover {\n",
              "      background-color: #434B5C;\n",
              "      box-shadow: 0px 1px 3px 1px rgba(0, 0, 0, 0.15);\n",
              "      filter: drop-shadow(0px 1px 2px rgba(0, 0, 0, 0.3));\n",
              "      fill: #FFFFFF;\n",
              "    }\n",
              "  </style>\n",
              "\n",
              "      <script>\n",
              "        const buttonEl =\n",
              "          document.querySelector('#df-626e5398-ee64-4cad-a418-954fc5479c00 button.colab-df-convert');\n",
              "        buttonEl.style.display =\n",
              "          google.colab.kernel.accessAllowed ? 'block' : 'none';\n",
              "\n",
              "        async function convertToInteractive(key) {\n",
              "          const element = document.querySelector('#df-626e5398-ee64-4cad-a418-954fc5479c00');\n",
              "          const dataTable =\n",
              "            await google.colab.kernel.invokeFunction('convertToInteractive',\n",
              "                                                     [key], {});\n",
              "          if (!dataTable) return;\n",
              "\n",
              "          const docLinkHtml = 'Like what you see? Visit the ' +\n",
              "            '<a target=\"_blank\" href=https://colab.research.google.com/notebooks/data_table.ipynb>data table notebook</a>'\n",
              "            + ' to learn more about interactive tables.';\n",
              "          element.innerHTML = '';\n",
              "          dataTable['output_type'] = 'display_data';\n",
              "          await google.colab.output.renderOutput(dataTable, element);\n",
              "          const docLink = document.createElement('div');\n",
              "          docLink.innerHTML = docLinkHtml;\n",
              "          element.appendChild(docLink);\n",
              "        }\n",
              "      </script>\n",
              "    </div>\n",
              "  </div>\n",
              "  "
            ]
          },
          "metadata": {},
          "execution_count": 95
        }
      ],
      "source": [
        "data_vs_level"
      ]
    },
    {
      "cell_type": "code",
      "execution_count": null,
      "metadata": {
        "id": "3MEVxF72Aqsi",
        "colab": {
          "base_uri": "https://localhost:8080/"
        },
        "outputId": "3936ef8a-9b04-4097-9679-ea6bdfaaa883"
      },
      "outputs": [
        {
          "output_type": "execute_result",
          "data": {
            "text/plain": [
              "array(['manager', nan, 'middle', 'junior', 'senior', 'fresher', 'leader',\n",
              "       'architect', 'intership'], dtype=object)"
            ]
          },
          "metadata": {},
          "execution_count": 96
        }
      ],
      "source": [
        "data_vs_level['name level'].unique()"
      ]
    },
    {
      "cell_type": "code",
      "execution_count": null,
      "metadata": {
        "id": "KevP-sOAA3T3",
        "colab": {
          "base_uri": "https://localhost:8080/"
        },
        "outputId": "d91f2226-6695-4578-a951-39b9393d39ac"
      },
      "outputs": [
        {
          "output_type": "stream",
          "name": "stderr",
          "text": [
            "<ipython-input-97-f2cf66d51619>:4: SettingWithCopyWarning: \n",
            "A value is trying to be set on a copy of a slice from a DataFrame\n",
            "\n",
            "See the caveats in the documentation: https://pandas.pydata.org/pandas-docs/stable/user_guide/indexing.html#returning-a-view-versus-a-copy\n",
            "  data_vs_level['name level'][indx] = 'intership/ fresher'\n",
            "<ipython-input-97-f2cf66d51619>:8: SettingWithCopyWarning: \n",
            "A value is trying to be set on a copy of a slice from a DataFrame\n",
            "\n",
            "See the caveats in the documentation: https://pandas.pydata.org/pandas-docs/stable/user_guide/indexing.html#returning-a-view-versus-a-copy\n",
            "  data_vs_level['name level'][indx] = 'senior'\n",
            "<ipython-input-97-f2cf66d51619>:6: SettingWithCopyWarning: \n",
            "A value is trying to be set on a copy of a slice from a DataFrame\n",
            "\n",
            "See the caveats in the documentation: https://pandas.pydata.org/pandas-docs/stable/user_guide/indexing.html#returning-a-view-versus-a-copy\n",
            "  data_vs_level['name level'][indx] = 'junior'\n"
          ]
        }
      ],
      "source": [
        "indxs = data_vs_level.loc[data_vs_level['name level'].isna() == True, :].index\n",
        "for indx in indxs:\n",
        "    if data_vs_level['YearExperience'][indx] == 0:\n",
        "        data_vs_level['name level'][indx] = 'intership/ fresher'\n",
        "    elif data_vs_level['YearExperience'][indx] <= 3:\n",
        "        data_vs_level['name level'][indx] = 'junior'\n",
        "    else:\n",
        "        data_vs_level['name level'][indx] = 'senior'"
      ]
    },
    {
      "cell_type": "code",
      "execution_count": null,
      "metadata": {
        "id": "RJVzbJxmA5w4",
        "colab": {
          "base_uri": "https://localhost:8080/"
        },
        "outputId": "64d15104-3396-418f-e50b-2616a401c8c1"
      },
      "outputs": [
        {
          "output_type": "stream",
          "name": "stderr",
          "text": [
            "<ipython-input-98-a6f11d5e506e>:1: FutureWarning: The default value of regex will change from True to False in a future version.\n",
            "  data_vs_level['name level'] = data_vs_level['name level'].str.replace('^fresher$|^intership$', 'intership/ fresher')\n"
          ]
        }
      ],
      "source": [
        "data_vs_level['name level'] = data_vs_level['name level'].str.replace('^fresher$|^intership$', 'intership/ fresher')"
      ]
    },
    {
      "cell_type": "code",
      "execution_count": null,
      "metadata": {
        "id": "kiSg2zQEBF6m"
      },
      "outputs": [],
      "source": [
        "data_vs_level['y/n degree'] = data_vs_level['name degree']\n",
        "data_vs_level['y/n degree'] = data_vs_level['y/n degree'].apply(lambda string: 'Yes' if str(string) != 'nan' else 'No', '')"
      ]
    },
    {
      "cell_type": "code",
      "execution_count": null,
      "metadata": {
        "id": "AxsOlBrFBOMl"
      },
      "outputs": [],
      "source": [
        "data_chi = data_vs_level[['y/n degree', 'name level']]"
      ]
    },
    {
      "cell_type": "code",
      "execution_count": null,
      "metadata": {
        "id": "u4HEsa2tBbGN"
      },
      "outputs": [],
      "source": [
        "from scipy.stats import chi2_contingency"
      ]
    },
    {
      "cell_type": "code",
      "execution_count": null,
      "metadata": {
        "id": "1TtCI16DBUNv",
        "colab": {
          "base_uri": "https://localhost:8080/"
        },
        "outputId": "f2604aaf-69cc-4266-b613-3814b0ce7e46"
      },
      "outputs": [
        {
          "output_type": "stream",
          "name": "stdout",
          "text": [
            "5.933118976707722e-103\n"
          ]
        }
      ],
      "source": [
        "contigency= pd.crosstab(data_chi['y/n degree'], data_chi['name level'])\n",
        "contigency\n",
        "c, p, dof, expected = chi2_contingency(contigency)\n",
        "print (p)"
      ]
    },
    {
      "cell_type": "code",
      "execution_count": null,
      "metadata": {
        "id": "WAOST4GIBcf0"
      },
      "outputs": [],
      "source": [
        "data_v = data_vs_level[['y/n degree', 'name level']].groupby(['y/n degree', 'name level']).size().reset_index()"
      ]
    },
    {
      "cell_type": "code",
      "execution_count": null,
      "metadata": {
        "id": "Oq5YgAzZBnID",
        "colab": {
          "base_uri": "https://localhost:8080/",
          "height": 488
        },
        "outputId": "55961220-9844-4906-c6c1-166435376ff6"
      },
      "outputs": [
        {
          "output_type": "execute_result",
          "data": {
            "text/plain": [
              "   y/n degree          name level     0\n",
              "0          No           architect    71\n",
              "1          No  intership/ fresher   405\n",
              "2          No              junior   527\n",
              "3          No              leader   222\n",
              "4          No             manager   698\n",
              "5          No              middle    46\n",
              "6          No              senior   369\n",
              "7         Yes           architect   228\n",
              "8         Yes  intership/ fresher   374\n",
              "9         Yes              junior   791\n",
              "10        Yes              leader   588\n",
              "11        Yes             manager  1897\n",
              "12        Yes              middle    27\n",
              "13        Yes              senior  1839"
            ],
            "text/html": [
              "\n",
              "  <div id=\"df-eb872488-245b-470d-935a-8b2977e309e1\">\n",
              "    <div class=\"colab-df-container\">\n",
              "      <div>\n",
              "<style scoped>\n",
              "    .dataframe tbody tr th:only-of-type {\n",
              "        vertical-align: middle;\n",
              "    }\n",
              "\n",
              "    .dataframe tbody tr th {\n",
              "        vertical-align: top;\n",
              "    }\n",
              "\n",
              "    .dataframe thead th {\n",
              "        text-align: right;\n",
              "    }\n",
              "</style>\n",
              "<table border=\"1\" class=\"dataframe\">\n",
              "  <thead>\n",
              "    <tr style=\"text-align: right;\">\n",
              "      <th></th>\n",
              "      <th>y/n degree</th>\n",
              "      <th>name level</th>\n",
              "      <th>0</th>\n",
              "    </tr>\n",
              "  </thead>\n",
              "  <tbody>\n",
              "    <tr>\n",
              "      <th>0</th>\n",
              "      <td>No</td>\n",
              "      <td>architect</td>\n",
              "      <td>71</td>\n",
              "    </tr>\n",
              "    <tr>\n",
              "      <th>1</th>\n",
              "      <td>No</td>\n",
              "      <td>intership/ fresher</td>\n",
              "      <td>405</td>\n",
              "    </tr>\n",
              "    <tr>\n",
              "      <th>2</th>\n",
              "      <td>No</td>\n",
              "      <td>junior</td>\n",
              "      <td>527</td>\n",
              "    </tr>\n",
              "    <tr>\n",
              "      <th>3</th>\n",
              "      <td>No</td>\n",
              "      <td>leader</td>\n",
              "      <td>222</td>\n",
              "    </tr>\n",
              "    <tr>\n",
              "      <th>4</th>\n",
              "      <td>No</td>\n",
              "      <td>manager</td>\n",
              "      <td>698</td>\n",
              "    </tr>\n",
              "    <tr>\n",
              "      <th>5</th>\n",
              "      <td>No</td>\n",
              "      <td>middle</td>\n",
              "      <td>46</td>\n",
              "    </tr>\n",
              "    <tr>\n",
              "      <th>6</th>\n",
              "      <td>No</td>\n",
              "      <td>senior</td>\n",
              "      <td>369</td>\n",
              "    </tr>\n",
              "    <tr>\n",
              "      <th>7</th>\n",
              "      <td>Yes</td>\n",
              "      <td>architect</td>\n",
              "      <td>228</td>\n",
              "    </tr>\n",
              "    <tr>\n",
              "      <th>8</th>\n",
              "      <td>Yes</td>\n",
              "      <td>intership/ fresher</td>\n",
              "      <td>374</td>\n",
              "    </tr>\n",
              "    <tr>\n",
              "      <th>9</th>\n",
              "      <td>Yes</td>\n",
              "      <td>junior</td>\n",
              "      <td>791</td>\n",
              "    </tr>\n",
              "    <tr>\n",
              "      <th>10</th>\n",
              "      <td>Yes</td>\n",
              "      <td>leader</td>\n",
              "      <td>588</td>\n",
              "    </tr>\n",
              "    <tr>\n",
              "      <th>11</th>\n",
              "      <td>Yes</td>\n",
              "      <td>manager</td>\n",
              "      <td>1897</td>\n",
              "    </tr>\n",
              "    <tr>\n",
              "      <th>12</th>\n",
              "      <td>Yes</td>\n",
              "      <td>middle</td>\n",
              "      <td>27</td>\n",
              "    </tr>\n",
              "    <tr>\n",
              "      <th>13</th>\n",
              "      <td>Yes</td>\n",
              "      <td>senior</td>\n",
              "      <td>1839</td>\n",
              "    </tr>\n",
              "  </tbody>\n",
              "</table>\n",
              "</div>\n",
              "      <button class=\"colab-df-convert\" onclick=\"convertToInteractive('df-eb872488-245b-470d-935a-8b2977e309e1')\"\n",
              "              title=\"Convert this dataframe to an interactive table.\"\n",
              "              style=\"display:none;\">\n",
              "        \n",
              "  <svg xmlns=\"http://www.w3.org/2000/svg\" height=\"24px\"viewBox=\"0 0 24 24\"\n",
              "       width=\"24px\">\n",
              "    <path d=\"M0 0h24v24H0V0z\" fill=\"none\"/>\n",
              "    <path d=\"M18.56 5.44l.94 2.06.94-2.06 2.06-.94-2.06-.94-.94-2.06-.94 2.06-2.06.94zm-11 1L8.5 8.5l.94-2.06 2.06-.94-2.06-.94L8.5 2.5l-.94 2.06-2.06.94zm10 10l.94 2.06.94-2.06 2.06-.94-2.06-.94-.94-2.06-.94 2.06-2.06.94z\"/><path d=\"M17.41 7.96l-1.37-1.37c-.4-.4-.92-.59-1.43-.59-.52 0-1.04.2-1.43.59L10.3 9.45l-7.72 7.72c-.78.78-.78 2.05 0 2.83L4 21.41c.39.39.9.59 1.41.59.51 0 1.02-.2 1.41-.59l7.78-7.78 2.81-2.81c.8-.78.8-2.07 0-2.86zM5.41 20L4 18.59l7.72-7.72 1.47 1.35L5.41 20z\"/>\n",
              "  </svg>\n",
              "      </button>\n",
              "      \n",
              "  <style>\n",
              "    .colab-df-container {\n",
              "      display:flex;\n",
              "      flex-wrap:wrap;\n",
              "      gap: 12px;\n",
              "    }\n",
              "\n",
              "    .colab-df-convert {\n",
              "      background-color: #E8F0FE;\n",
              "      border: none;\n",
              "      border-radius: 50%;\n",
              "      cursor: pointer;\n",
              "      display: none;\n",
              "      fill: #1967D2;\n",
              "      height: 32px;\n",
              "      padding: 0 0 0 0;\n",
              "      width: 32px;\n",
              "    }\n",
              "\n",
              "    .colab-df-convert:hover {\n",
              "      background-color: #E2EBFA;\n",
              "      box-shadow: 0px 1px 2px rgba(60, 64, 67, 0.3), 0px 1px 3px 1px rgba(60, 64, 67, 0.15);\n",
              "      fill: #174EA6;\n",
              "    }\n",
              "\n",
              "    [theme=dark] .colab-df-convert {\n",
              "      background-color: #3B4455;\n",
              "      fill: #D2E3FC;\n",
              "    }\n",
              "\n",
              "    [theme=dark] .colab-df-convert:hover {\n",
              "      background-color: #434B5C;\n",
              "      box-shadow: 0px 1px 3px 1px rgba(0, 0, 0, 0.15);\n",
              "      filter: drop-shadow(0px 1px 2px rgba(0, 0, 0, 0.3));\n",
              "      fill: #FFFFFF;\n",
              "    }\n",
              "  </style>\n",
              "\n",
              "      <script>\n",
              "        const buttonEl =\n",
              "          document.querySelector('#df-eb872488-245b-470d-935a-8b2977e309e1 button.colab-df-convert');\n",
              "        buttonEl.style.display =\n",
              "          google.colab.kernel.accessAllowed ? 'block' : 'none';\n",
              "\n",
              "        async function convertToInteractive(key) {\n",
              "          const element = document.querySelector('#df-eb872488-245b-470d-935a-8b2977e309e1');\n",
              "          const dataTable =\n",
              "            await google.colab.kernel.invokeFunction('convertToInteractive',\n",
              "                                                     [key], {});\n",
              "          if (!dataTable) return;\n",
              "\n",
              "          const docLinkHtml = 'Like what you see? Visit the ' +\n",
              "            '<a target=\"_blank\" href=https://colab.research.google.com/notebooks/data_table.ipynb>data table notebook</a>'\n",
              "            + ' to learn more about interactive tables.';\n",
              "          element.innerHTML = '';\n",
              "          dataTable['output_type'] = 'display_data';\n",
              "          await google.colab.output.renderOutput(dataTable, element);\n",
              "          const docLink = document.createElement('div');\n",
              "          docLink.innerHTML = docLinkHtml;\n",
              "          element.appendChild(docLink);\n",
              "        }\n",
              "      </script>\n",
              "    </div>\n",
              "  </div>\n",
              "  "
            ]
          },
          "metadata": {},
          "execution_count": 104
        }
      ],
      "source": [
        "data_v"
      ]
    },
    {
      "cell_type": "code",
      "execution_count": null,
      "metadata": {
        "id": "qMhZA5fHBi-f",
        "colab": {
          "base_uri": "https://localhost:8080/",
          "height": 611
        },
        "outputId": "b6a31400-a654-4fd1-843b-09b514ee4c6d"
      },
      "outputs": [
        {
          "output_type": "display_data",
          "data": {
            "text/plain": [
              "<Figure size 1440x720 with 1 Axes>"
            ],
            "image/png": "[encoded data removed]"
          },
          "metadata": {}
        }
      ],
      "source": [
        "fig = plt.figure(figsize=(20,10))\n",
        "sns.barplot(x = data_v['name level'], y = data_v[0], hue = data_v['y/n degree'])\n",
        "\n",
        "plt.show()"
      ]
    },
    {
      "cell_type": "markdown",
      "metadata": {
        "id": "sWWa4ud6Bf1M"
      },
      "source": [
        "## Language by level."
      ]
    },
    {
      "cell_type": "code",
      "execution_count": null,
      "metadata": {
        "id": "U2Dz9vUVBkCf",
        "colab": {
          "base_uri": "https://localhost:8080/",
          "height": 206
        },
        "outputId": "2a6895de-891a-46f0-820d-8835967cca0d"
      },
      "outputs": [
        {
          "output_type": "execute_result",
          "data": {
            "text/plain": [
              "   index name level\n",
              "0      0    manager\n",
              "1      3     middle\n",
              "2      3     junior\n",
              "3      3     senior\n",
              "4      5    fresher"
            ],
            "text/html": [
              "\n",
              "  <div id=\"df-318effca-0a58-44b3-b611-f3ecf5ff87a3\">\n",
              "    <div class=\"colab-df-container\">\n",
              "      <div>\n",
              "<style scoped>\n",
              "    .dataframe tbody tr th:only-of-type {\n",
              "        vertical-align: middle;\n",
              "    }\n",
              "\n",
              "    .dataframe tbody tr th {\n",
              "        vertical-align: top;\n",
              "    }\n",
              "\n",
              "    .dataframe thead th {\n",
              "        text-align: right;\n",
              "    }\n",
              "</style>\n",
              "<table border=\"1\" class=\"dataframe\">\n",
              "  <thead>\n",
              "    <tr style=\"text-align: right;\">\n",
              "      <th></th>\n",
              "      <th>index</th>\n",
              "      <th>name level</th>\n",
              "    </tr>\n",
              "  </thead>\n",
              "  <tbody>\n",
              "    <tr>\n",
              "      <th>0</th>\n",
              "      <td>0</td>\n",
              "      <td>manager</td>\n",
              "    </tr>\n",
              "    <tr>\n",
              "      <th>1</th>\n",
              "      <td>3</td>\n",
              "      <td>middle</td>\n",
              "    </tr>\n",
              "    <tr>\n",
              "      <th>2</th>\n",
              "      <td>3</td>\n",
              "      <td>junior</td>\n",
              "    </tr>\n",
              "    <tr>\n",
              "      <th>3</th>\n",
              "      <td>3</td>\n",
              "      <td>senior</td>\n",
              "    </tr>\n",
              "    <tr>\n",
              "      <th>4</th>\n",
              "      <td>5</td>\n",
              "      <td>fresher</td>\n",
              "    </tr>\n",
              "  </tbody>\n",
              "</table>\n",
              "</div>\n",
              "      <button class=\"colab-df-convert\" onclick=\"convertToInteractive('df-318effca-0a58-44b3-b611-f3ecf5ff87a3')\"\n",
              "              title=\"Convert this dataframe to an interactive table.\"\n",
              "              style=\"display:none;\">\n",
              "        \n",
              "  <svg xmlns=\"http://www.w3.org/2000/svg\" height=\"24px\"viewBox=\"0 0 24 24\"\n",
              "       width=\"24px\">\n",
              "    <path d=\"M0 0h24v24H0V0z\" fill=\"none\"/>\n",
              "    <path d=\"M18.56 5.44l.94 2.06.94-2.06 2.06-.94-2.06-.94-.94-2.06-.94 2.06-2.06.94zm-11 1L8.5 8.5l.94-2.06 2.06-.94-2.06-.94L8.5 2.5l-.94 2.06-2.06.94zm10 10l.94 2.06.94-2.06 2.06-.94-2.06-.94-.94-2.06-.94 2.06-2.06.94z\"/><path d=\"M17.41 7.96l-1.37-1.37c-.4-.4-.92-.59-1.43-.59-.52 0-1.04.2-1.43.59L10.3 9.45l-7.72 7.72c-.78.78-.78 2.05 0 2.83L4 21.41c.39.39.9.59 1.41.59.51 0 1.02-.2 1.41-.59l7.78-7.78 2.81-2.81c.8-.78.8-2.07 0-2.86zM5.41 20L4 18.59l7.72-7.72 1.47 1.35L5.41 20z\"/>\n",
              "  </svg>\n",
              "      </button>\n",
              "      \n",
              "  <style>\n",
              "    .colab-df-container {\n",
              "      display:flex;\n",
              "      flex-wrap:wrap;\n",
              "      gap: 12px;\n",
              "    }\n",
              "\n",
              "    .colab-df-convert {\n",
              "      background-color: #E8F0FE;\n",
              "      border: none;\n",
              "      border-radius: 50%;\n",
              "      cursor: pointer;\n",
              "      display: none;\n",
              "      fill: #1967D2;\n",
              "      height: 32px;\n",
              "      padding: 0 0 0 0;\n",
              "      width: 32px;\n",
              "    }\n",
              "\n",
              "    .colab-df-convert:hover {\n",
              "      background-color: #E2EBFA;\n",
              "      box-shadow: 0px 1px 2px rgba(60, 64, 67, 0.3), 0px 1px 3px 1px rgba(60, 64, 67, 0.15);\n",
              "      fill: #174EA6;\n",
              "    }\n",
              "\n",
              "    [theme=dark] .colab-df-convert {\n",
              "      background-color: #3B4455;\n",
              "      fill: #D2E3FC;\n",
              "    }\n",
              "\n",
              "    [theme=dark] .colab-df-convert:hover {\n",
              "      background-color: #434B5C;\n",
              "      box-shadow: 0px 1px 3px 1px rgba(0, 0, 0, 0.15);\n",
              "      filter: drop-shadow(0px 1px 2px rgba(0, 0, 0, 0.3));\n",
              "      fill: #FFFFFF;\n",
              "    }\n",
              "  </style>\n",
              "\n",
              "      <script>\n",
              "        const buttonEl =\n",
              "          document.querySelector('#df-318effca-0a58-44b3-b611-f3ecf5ff87a3 button.colab-df-convert');\n",
              "        buttonEl.style.display =\n",
              "          google.colab.kernel.accessAllowed ? 'block' : 'none';\n",
              "\n",
              "        async function convertToInteractive(key) {\n",
              "          const element = document.querySelector('#df-318effca-0a58-44b3-b611-f3ecf5ff87a3');\n",
              "          const dataTable =\n",
              "            await google.colab.kernel.invokeFunction('convertToInteractive',\n",
              "                                                     [key], {});\n",
              "          if (!dataTable) return;\n",
              "\n",
              "          const docLinkHtml = 'Like what you see? Visit the ' +\n",
              "            '<a target=\"_blank\" href=https://colab.research.google.com/notebooks/data_table.ipynb>data table notebook</a>'\n",
              "            + ' to learn more about interactive tables.';\n",
              "          element.innerHTML = '';\n",
              "          dataTable['output_type'] = 'display_data';\n",
              "          await google.colab.output.renderOutput(dataTable, element);\n",
              "          const docLink = document.createElement('div');\n",
              "          docLink.innerHTML = docLinkHtml;\n",
              "          element.appendChild(docLink);\n",
              "        }\n",
              "      </script>\n",
              "    </div>\n",
              "  </div>\n",
              "  "
            ]
          },
          "metadata": {},
          "execution_count": 106
        }
      ],
      "source": [
        "job_level.head()"
      ]
    },
    {
      "cell_type": "code",
      "execution_count": null,
      "metadata": {
        "id": "Vz5nOlrqBouF"
      },
      "outputs": [],
      "source": [
        "job_tool.head()"
      ]
    },
    {
      "cell_type": "code",
      "execution_count": null,
      "metadata": {
        "id": "Xshv_sdvDO2a"
      },
      "outputs": [],
      "source": [
        "level_by_l =  ['middle', 'junior', 'senior', 'fresher', 'intership']\n",
        "tech_by_level = ['javascript', 'java', 'php', 'python', 'c', 'c++']\n",
        "print(tech_by_level)\n",
        "print(level_by_l)"
      ]
    },
    {
      "cell_type": "code",
      "execution_count": null,
      "metadata": {
        "id": "e8c64FvEBu68"
      },
      "outputs": [],
      "source": [
        "mark_l = job_tool['Name Tool'].isin(tech_by_level)\n",
        "job_l = job_tool[mark_l]"
      ]
    },
    {
      "cell_type": "code",
      "execution_count": null,
      "metadata": {
        "id": "-CeHPTMkEG2u"
      },
      "outputs": [],
      "source": [
        "mark_by_l = job_level['name level'].isin(level_by_l)\n",
        "job_by_l = job_level[mark_by_l]"
      ]
    },
    {
      "cell_type": "code",
      "execution_count": null,
      "metadata": {
        "id": "WZOqBiKsET29"
      },
      "outputs": [],
      "source": [
        "job_by_l['name level'] = job_by_l['name level'].str.replace('^intership$', 'intenrship/fresher')\n",
        "job_by_l['name level'] = job_by_l['name level'].str.replace('^fresher$', 'intenrship/fresher')"
      ]
    },
    {
      "cell_type": "code",
      "execution_count": null,
      "metadata": {
        "id": "NW1kJGrBFRb_"
      },
      "outputs": [],
      "source": [
        "job_l.head()"
      ]
    },
    {
      "cell_type": "code",
      "execution_count": null,
      "metadata": {
        "id": "xxFUG_t2Faz_"
      },
      "outputs": [],
      "source": [
        "data_analyst_level_by_language = job_by_l.merge(job_l, how = 'left', left_on='index', right_on='index')"
      ]
    },
    {
      "cell_type": "code",
      "execution_count": null,
      "metadata": {
        "id": "Eb_K_BAeGC-S"
      },
      "outputs": [],
      "source": [
        "x = data_analyst_level_by_language.groupby([ 'Name Tool', 'name level'])['name level'].size()"
      ]
    },
    {
      "cell_type": "code",
      "execution_count": null,
      "metadata": {
        "id": "7pAnzxFOHWB3"
      },
      "outputs": [],
      "source": [
        "df3 = x.groupby(level=0).apply(lambda x:100 * x / float(x.sum()))"
      ]
    },
    {
      "cell_type": "code",
      "execution_count": null,
      "metadata": {
        "id": "eN5DneqwINWs"
      },
      "outputs": [],
      "source": [
        "x"
      ]
    },
    {
      "cell_type": "code",
      "execution_count": null,
      "metadata": {
        "id": "PlQUV3r9IJJP"
      },
      "outputs": [],
      "source": [
        "df3"
      ]
    },
    {
      "cell_type": "code",
      "execution_count": null,
      "metadata": {
        "id": "SJOCIaWYNhc6"
      },
      "outputs": [],
      "source": [
        "data_analyst_level_by_language.head()"
      ]
    },
    {
      "cell_type": "code",
      "execution_count": null,
      "metadata": {
        "id": "rvHqJFinNXUf"
      },
      "outputs": [],
      "source": [
        "contigency= pd.crosstab(data_analyst_level_by_language['name level'], data_analyst_level_by_language['Name Tool'])\n",
        "contigency\n",
        "c, p, dof, expected = chi2_contingency(contigency)\n",
        "print (p)"
      ]
    },
    {
      "cell_type": "markdown",
      "source": [
        "# Show DataSmaple"
      ],
      "metadata": {
        "id": "aohjpJP9iBpH"
      }
    },
    {
      "cell_type": "code",
      "source": [
        "job.head()"
      ],
      "metadata": {
        "id": "wVz84DU_iMTs"
      },
      "execution_count": null,
      "outputs": []
    },
    {
      "cell_type": "code",
      "source": [
        "job_skill.head()"
      ],
      "metadata": {
        "id": "E4CB6h-piRQ0"
      },
      "execution_count": null,
      "outputs": []
    },
    {
      "cell_type": "code",
      "source": [
        "job_tool.head()"
      ],
      "metadata": {
        "id": "LqMZ0U3siRHC"
      },
      "execution_count": null,
      "outputs": []
    },
    {
      "cell_type": "markdown",
      "metadata": {
        "id": "ksCDGL7BCUFB"
      },
      "source": [
        "# Model recommend by statistical."
      ]
    },
    {
      "cell_type": "code",
      "execution_count": null,
      "metadata": {
        "id": "uJOqG_Q6CvK2"
      },
      "outputs": [],
      "source": [
        "import string"
      ]
    },
    {
      "cell_type": "code",
      "execution_count": null,
      "metadata": {
        "id": "FNdv3pxyCuYp"
      },
      "outputs": [],
      "source": [
        "def lables_title(string1):\n",
        "  strings = string1\n",
        "  strings = strings.lower()\n",
        "  strings = strings.replace(strings[strings.find('('): strings.find(')')], '')\n",
        "  strings = re.sub('senior|junior|fresher|intenr', '', strings)\n",
        "  strings = strings.translate(str.maketrans('', '', string.punctuation))\n",
        "  return strings"
      ]
    },
    {
      "cell_type": "code",
      "execution_count": null,
      "metadata": {
        "id": "e1IXrVtlBovt"
      },
      "outputs": [],
      "source": [
        "job['JobTitle_to_fix'] = job['JobTitle'].apply(lambda strings: lables_title(strings))"
      ]
    },
    {
      "cell_type": "code",
      "execution_count": null,
      "metadata": {
        "id": "Tv-0PaN7Cohe",
        "colab": {
          "base_uri": "https://localhost:8080/"
        },
        "outputId": "9faf90c6-8f4d-4b47-eb7b-a6dbecee93ce"
      },
      "outputs": [
        {
          "output_type": "execute_result",
          "data": {
            "text/plain": [
              "0.2779064381658175"
            ]
          },
          "metadata": {},
          "execution_count": 110
        }
      ],
      "source": [
        "len(job.loc[job['JobTitle_to_fix'] == 'data analyst', :]['index'].unique())*100/job.shape[0]"
      ]
    },
    {
      "cell_type": "code",
      "execution_count": null,
      "metadata": {
        "id": "RDPgPXI2C_Tm"
      },
      "outputs": [],
      "source": [
        "idx = job.loc[job['JobTitle_to_fix'] == 'data analyst', 'index'].values"
      ]
    },
    {
      "cell_type": "code",
      "execution_count": null,
      "metadata": {
        "id": "5AXTx2l8DBQs"
      },
      "outputs": [],
      "source": [
        "idxs = job_skill['index'].isin(idx)"
      ]
    },
    {
      "cell_type": "code",
      "execution_count": null,
      "metadata": {
        "id": "jjtO4iTGDY-2",
        "colab": {
          "base_uri": "https://localhost:8080/"
        },
        "outputId": "7a8fabb1-10f9-414e-8a48-8c7ad247556d"
      },
      "outputs": [
        {
          "output_type": "execute_result",
          "data": {
            "text/plain": [
              "array(['analytic', 'visualization', 'dashboard', 'manager', 'report',\n",
              "       'support', 'statistics', 'knowledgeable', 'math', 'sql',\n",
              "       'recommendations', 'leader', 'anomaly', 'databases', 'research',\n",
              "       'provides', 'programing', 'communicated', 'segmentation', 'logic',\n",
              "       'design', 'organization', 'english', 'optimization'], dtype=object)"
            ]
          },
          "metadata": {},
          "execution_count": 113
        }
      ],
      "source": [
        "job_skill.loc[job_skill['index'].isin(idx), :]['Name Skill'].unique()"
      ]
    },
    {
      "cell_type": "code",
      "execution_count": null,
      "metadata": {
        "id": "lZza1cplEvTM"
      },
      "outputs": [],
      "source": [
        "idx_tool = job.loc[job['JobTitle_to_fix'] == 'data analyst', 'index'].values"
      ]
    },
    {
      "cell_type": "code",
      "execution_count": null,
      "metadata": {
        "id": "8hw5PALgFS8l"
      },
      "outputs": [],
      "source": [
        "idxs = job_tool['index'].isin(idx)"
      ]
    },
    {
      "cell_type": "code",
      "execution_count": null,
      "metadata": {
        "id": "K3FXAnS8FVlh",
        "colab": {
          "base_uri": "https://localhost:8080/"
        },
        "outputId": "82bc6273-1e31-4ecc-a2d4-e18317bc5c49"
      },
      "outputs": [
        {
          "output_type": "execute_result",
          "data": {
            "text/plain": [
              "array(['visual', 'sql', 'tableau', 'powerpoint', 'script', 'excel',\n",
              "       'word', 'scala', 'python', 'snack', 'powerbi', 'serves'],\n",
              "      dtype=object)"
            ]
          },
          "metadata": {},
          "execution_count": 116
        }
      ],
      "source": [
        "job_tool.loc[job_tool['index'].isin(idx), :]['Name Tool'].unique()"
      ]
    },
    {
      "cell_type": "code",
      "execution_count": null,
      "metadata": {
        "id": "Cvp0dB0xFYpW"
      },
      "outputs": [],
      "source": [
        "def statistical(nameJob, user_skill, user_tool):\n",
        "  idx = job.loc[job['JobTitle_to_fix'] == nameJob, 'index'].values\n",
        "  \n",
        "\n",
        "  idxs_skill = job_skill['index'].isin(idx)\n",
        "  idxs_tool = job_tool['index'].isin(idx)\n",
        "\n",
        "  unique_skill = job_skill.loc[job_skill['index'].isin(idx), :]['Name Skill'].unique()\n",
        "  unique_tool = job_tool.loc[job_tool['index'].isin(idx), :]['Name Tool'].unique()\n",
        "  print('Kỹ năng của '+ nameJob + \": \", str(unique_skill))\n",
        "  print('Công cụ của '+ nameJob + \": \", str(unique_tool))\n",
        "\n",
        "\n",
        "  per_user_skill = len(user_skill)*100/ len(unique_skill)\n",
        "  requests_job_skill = 100 - per_user_skill\n",
        "\n",
        "  per_user_tool = len(user_tool)*100/ len(unique_tool)\n",
        "  requests_job_tool = 100 - per_user_tool\n",
        "  # biểu đồ ứng viên có thể đáp ứng được công việc.\n",
        "  plt.figure(figsize = (20,10))\n",
        "  plt.subplot(1, 2, 1)\n",
        "  explode = [per_user_tool, requests_job_tool]\n",
        "  labels = ['công cụ ứng viên đáp ứng được', 'công cụ công việc yêu cầu']\n",
        "  \n",
        "  plt.pie(explode, labels=labels, autopct='%1.1f%%')\n",
        "  plt.subplot(1, 2, 2)\n",
        "  explode = [per_user_skill, requests_job_skill]\n",
        "  labels = ['Kỹ năng ứng viên đáp ứng được', 'Kỹ năng công việc yêu cầu']\n",
        "  \n",
        "  plt.pie(explode, labels=labels, autopct='%1.1f%%')\n",
        "  plt.show()"
      ]
    },
    {
      "cell_type": "code",
      "execution_count": null,
      "metadata": {
        "id": "gm4uWFISGVLZ",
        "colab": {
          "base_uri": "https://localhost:8080/",
          "height": 647
        },
        "outputId": "edca5b6f-8f38-4f5e-b1de-3795fc0afaf9"
      },
      "outputs": [
        {
          "output_type": "stream",
          "name": "stdout",
          "text": [
            "Kỹ năng của data analyst:  ['analytic' 'visualization' 'dashboard' 'manager' 'report' 'support'\n",
            " 'statistics' 'knowledgeable' 'math' 'sql' 'recommendations' 'leader'\n",
            " 'anomaly' 'databases' 'research' 'provides' 'programing' 'communicated'\n",
            " 'segmentation' 'logic' 'design' 'organization' 'english' 'optimization']\n",
            "Công cụ của data analyst:  ['visual' 'sql' 'tableau' 'powerpoint' 'script' 'excel' 'word' 'scala'\n",
            " 'python' 'snack' 'powerbi' 'serves']\n"
          ]
        },
        {
          "output_type": "display_data",
          "data": {
            "text/plain": [
              "<Figure size 1440x720 with 2 Axes>"
            ],
            "image/png": "[encoded data removed]"
          },
          "metadata": {}
        }
      ],
      "source": [
        "statistical('data analyst', ['python', 'sql', 'spss'], ['design', 'test'])"
      ]
    },
    {
      "cell_type": "markdown",
      "metadata": {
        "id": "T-LD0Q92Z1vy"
      },
      "source": [
        "# Show name job suitable with skills, tools of emplyment."
      ]
    },
    {
      "cell_type": "code",
      "execution_count": null,
      "metadata": {
        "id": "pZ7-8qXYaWRN"
      },
      "outputs": [],
      "source": [
        "st_job_tool = job_tool.loc[job_tool['Name Tool'].isin(['c', 'javascript']), :]['index'].unique()\n",
        "st_job_skill = job_skill.loc[job_skill['Name Skill'].isin(['design', 'test', 'communicated']), :]['index'].unique()"
      ]
    },
    {
      "cell_type": "code",
      "execution_count": null,
      "metadata": {
        "id": "-_pQB49jaWH0",
        "colab": {
          "base_uri": "https://localhost:8080/"
        },
        "outputId": "8baf4000-4978-47cf-a9dd-88d7f9b18bf8"
      },
      "outputs": [
        {
          "output_type": "stream",
          "name": "stdout",
          "text": [
            "[ 0  1  2  3  5  7  8 10 11 14]\n",
            "[ 0  2  3  4  5  6  7  8 10 11]\n"
          ]
        }
      ],
      "source": [
        "print(st_job_skill[:10])\n",
        "print(st_job_tool[:10])\n"
      ]
    },
    {
      "cell_type": "code",
      "execution_count": null,
      "metadata": {
        "id": "8PVkwL8obwV7"
      },
      "outputs": [],
      "source": [
        "values_job = job.loc[(job['index'].isin(st_job_skill)) & (job['index'].isin(st_job_tool)), :]['JobUrl'].value_counts()"
      ]
    },
    {
      "cell_type": "code",
      "execution_count": null,
      "metadata": {
        "id": "1vC3ecoIdZNk"
      },
      "outputs": [],
      "source": [
        "name = values_job.index\n",
        "values = values_job.values\n",
        "idx = []\n",
        "val = []\n",
        "for i, v in zip(name,values):\n",
        "    idx.append(i)\n",
        "    val.append(v*100/sum(values))"
      ]
    },
    {
      "cell_type": "code",
      "execution_count": null,
      "metadata": {
        "id": "zz31AdoeeVvD",
        "colab": {
          "base_uri": "https://localhost:8080/"
        },
        "outputId": "0e653a37-ab63-4830-a84e-50146344a4dc"
      },
      "outputs": [
        {
          "output_type": "execute_result",
          "data": {
            "text/plain": [
              "344"
            ]
          },
          "metadata": {},
          "execution_count": 123
        }
      ],
      "source": [
        "sum(values)"
      ]
    },
    {
      "cell_type": "code",
      "execution_count": null,
      "metadata": {
        "id": "QEdGJtxPdPm7"
      },
      "outputs": [],
      "source": [
        "def show_job_suitable(user_skill, user_tool):\n",
        "  # get index  the tools and skills of the user.\n",
        "  st_job_tool = job_tool.loc[job_tool['Name Tool'].isin(user_tool), :]['index'].unique()\n",
        "  st_job_skill = job_skill.loc[job_skill['Name Skill'].isin(user_skill), :]['index'].unique()\n",
        "  # get the job by the tools of user and skills of the user.\n",
        "  values_job = job.loc[(job['index'].isin(st_job_skill)) & (job['index'].isin(st_job_tool)), :]['JobUrl'].value_counts()\n",
        "  # calulator percentage.\n",
        "  name = values_job.index\n",
        "  values = values_job.values\n",
        "  idx = []\n",
        "  val = []\n",
        "  for i, v in zip(name,values):\n",
        "      idx.append(i)\n",
        "      val.append(v*100/sum(values))\n",
        "  # show barchart\n",
        "  fig = plt.figure(figsize=(15,6))\n",
        "  plt.barh(idx, val)\n",
        "  plt.show()"
      ]
    },
    {
      "cell_type": "code",
      "execution_count": null,
      "metadata": {
        "id": "3wo439O7f145",
        "colab": {
          "base_uri": "https://localhost:8080/",
          "height": 244
        },
        "outputId": "3158ded4-93bb-4ec5-92bf-d841f461e679"
      },
      "outputs": [
        {
          "output_type": "stream",
          "name": "stderr",
          "text": [
            "<>:1: SyntaxWarning: list indices must be integers or slices, not tuple; perhaps you missed a comma?\n",
            "<>:1: SyntaxWarning: list indices must be integers or slices, not tuple; perhaps you missed a comma?\n",
            "<ipython-input-125-f9e0e11acc8f>:1: SyntaxWarning: list indices must be integers or slices, not tuple; perhaps you missed a comma?\n",
            "  show_job_suitable(['design', 'test']['c', 'javascript'])\n"
          ]
        },
        {
          "output_type": "error",
          "ename": "TypeError",
          "evalue": "ignored",
          "traceback": [
            "\u001b[0;31m---------------------------------------------------------------------------\u001b[0m",
            "\u001b[0;31mTypeError\u001b[0m                                 Traceback (most recent call last)",
            "\u001b[0;32m<ipython-input-125-f9e0e11acc8f>\u001b[0m in \u001b[0;36m<module>\u001b[0;34m\u001b[0m\n\u001b[0;32m----> 1\u001b[0;31m \u001b[0mshow_job_suitable\u001b[0m\u001b[0;34m(\u001b[0m\u001b[0;34m[\u001b[0m\u001b[0;34m'design'\u001b[0m\u001b[0;34m,\u001b[0m \u001b[0;34m'test'\u001b[0m\u001b[0;34m]\u001b[0m\u001b[0;34m[\u001b[0m\u001b[0;34m'c'\u001b[0m\u001b[0;34m,\u001b[0m \u001b[0;34m'javascript'\u001b[0m\u001b[0;34m]\u001b[0m\u001b[0;34m)\u001b[0m\u001b[0;34m\u001b[0m\u001b[0;34m\u001b[0m\u001b[0m\n\u001b[0m",
            "\u001b[0;31mTypeError\u001b[0m: list indices must be integers or slices, not tuple"
          ]
        }
      ],
      "source": [
        "show_job_suitable(['design', 'test']['c', 'javascript'])"
      ]
    },
    {
      "cell_type": "markdown",
      "metadata": {
        "id": "HoiY2y5rAP3j"
      },
      "source": [
        "# kiểm định trung bình mỗi bài tuyển dụng có 6 kỹ năng và 4 công nghệ sử dụng."
      ]
    },
    {
      "cell_type": "code",
      "execution_count": null,
      "metadata": {
        "id": "mDaQeIG0AW-C"
      },
      "outputs": [],
      "source": [
        "# data_skill = job_skill.groupby(['index'])['Name Skill'].size().values"
      ]
    },
    {
      "cell_type": "code",
      "execution_count": null,
      "metadata": {
        "id": "b0lHZdm4CBJK"
      },
      "outputs": [],
      "source": []
    },
    {
      "cell_type": "code",
      "execution_count": null,
      "metadata": {
        "id": "-LZYah3oCA7r"
      },
      "outputs": [],
      "source": [
        "# plt.hist(data_skill)"
      ]
    },
    {
      "cell_type": "code",
      "execution_count": null,
      "metadata": {
        "id": "Syd-Mv_Nyi9v"
      },
      "outputs": [],
      "source": [
        "# from scipy import stats"
      ]
    },
    {
      "cell_type": "code",
      "execution_count": null,
      "metadata": {
        "id": "2YTM6YedBpiY"
      },
      "outputs": [],
      "source": [
        "# stats.ttest_1samp(data_skill, 6)"
      ]
    },
    {
      "cell_type": "markdown",
      "metadata": {
        "id": "HooMcfRmCPHp"
      },
      "source": [
        "với mức ý nghĩa 5%, chấp nhận giả thuyết: giá trị trung bình của tổng thể chung \n",
        "bằng 6\n"
      ]
    },
    {
      "cell_type": "code",
      "execution_count": null,
      "metadata": {
        "id": "2cm0uWkZC5Ru"
      },
      "outputs": [],
      "source": [
        "# job_tool"
      ]
    },
    {
      "cell_type": "code",
      "execution_count": null,
      "metadata": {
        "id": "3YSOpkOOCSdE"
      },
      "outputs": [],
      "source": [
        "# data_tool = job_tool.groupby(['index'])['Name Tool'].size().values"
      ]
    },
    {
      "cell_type": "code",
      "execution_count": null,
      "metadata": {
        "id": "Jhwumh_6Cj0t"
      },
      "outputs": [],
      "source": [
        "# data_tool.desribes()"
      ]
    },
    {
      "cell_type": "code",
      "execution_count": null,
      "metadata": {
        "id": "659or0FZDOoe"
      },
      "outputs": [],
      "source": [
        "# job_tool.loc[job_tool['index'] ==4375, :]"
      ]
    },
    {
      "cell_type": "code",
      "execution_count": null,
      "metadata": {
        "id": "KP_t7LF7CbvB"
      },
      "outputs": [],
      "source": [
        "# plt.hist(data_tool)"
      ]
    },
    {
      "cell_type": "code",
      "execution_count": null,
      "metadata": {
        "id": "t0GmPgHCCOvX"
      },
      "outputs": [],
      "source": [
        "# stats.ttest_1samp(data_tool, 4)"
      ]
    },
    {
      "cell_type": "markdown",
      "metadata": {
        "id": "BN7QgFZ03MXw"
      },
      "source": [
        "# Model recommend by statistical"
      ]
    },
    {
      "cell_type": "code",
      "execution_count": null,
      "metadata": {
        "id": "okt7OssfCIPR",
        "colab": {
          "base_uri": "https://localhost:8080/",
          "height": 467
        },
        "outputId": "5df300ec-4793-41e1-835b-0896553477f0"
      },
      "outputs": [
        {
          "output_type": "execute_result",
          "data": {
            "text/plain": [
              "      index                                           JobTitle  \\\n",
              "0         0                                     .Net Developer   \n",
              "13        1                         Intern / Fresher Developer   \n",
              "27        2               .NET Developer (Middle/Senior level)   \n",
              "56        3                      Jun/Mid/Senior .NET Developer   \n",
              "75        4                  Web Developer (.NET, ASP.NET, C#)   \n",
              "...     ...                                                ...   \n",
              "84480  4374  [HCM] Lập Trình Viên Fullstack Senior/Junior (...   \n",
              "84502  4375            [Cầu Giấy/HN] React Native Developerusd   \n",
              "84507  4376              [HÀ NỘI] SENIOR/ MIDDLE RUBY ON RAILS   \n",
              "84525  4377  Lập Trình Viên Fullstack (PHP, MYSQL, React) S...   \n",
              "84550  4378            Senior Fullstack Engineer (Java, React)   \n",
              "\n",
              "                 Company               Location  \\\n",
              "0               SmartDev                đà nẵng   \n",
              "13        DXC Technology  thành phố hồ chí minh   \n",
              "27                 SIOUX                đà nẵng   \n",
              "56     Saigon Technology                đà nẵng   \n",
              "75              NPV Corp                đà nẵng   \n",
              "...                  ...                    ...   \n",
              "84480     JobsGO Recruit  thành phố hồ chí minh   \n",
              "84502     Việc Ơi Client                 hà nội   \n",
              "84507  Việc Ơi It Client                 hà nội   \n",
              "84525     JobsGO Recruit  thành phố hồ chí minh   \n",
              "84550             Zühlke  thành phố hồ chí minh   \n",
              "\n",
              "                                                 Summary  \\\n",
              "0      compani descript smartdev is a lead provid of ...   \n",
              "13     overview : how would you like to join an inter...   \n",
              "27     sioux group wa found in 1996 in the netherland...   \n",
              "56     up to $ 2,200 junior , middl , senior da nang ...   \n",
              "75     web develop ( .net , asp.net , c # ) npv corp ...   \n",
              "...                                                  ...   \n",
              "84480  mô tả công việc : ( mức lương : 15 - 45 triệu ...   \n",
              "84502  giới thiệu : ... job descript : we are strive ...   \n",
              "84507  giới thiệu : việc ơi it client là công ty 100 ...   \n",
              "84525  mô tả công việc : ( mức lương : thỏa thuận ) d...   \n",
              "84550  perman full-tim ho chi minh citi softwar engin...   \n",
              "\n",
              "                         JobUrl  \\\n",
              "0                .NET Developer   \n",
              "13               .NET Developer   \n",
              "27               .NET Developer   \n",
              "56               .NET Developer   \n",
              "75               .NET Developer   \n",
              "...                         ...   \n",
              "84480  Full Stack Web Developer   \n",
              "84502  Full Stack Web Developer   \n",
              "84507  Full Stack Web Developer   \n",
              "84525  Full Stack Web Developer   \n",
              "84550  Full Stack Web Developer   \n",
              "\n",
              "                                         JobTitle_to_fix  \n",
              "0                                          net developer  \n",
              "13                                    intern   developer  \n",
              "27                                        net developer   \n",
              "56                                  junmid net developer  \n",
              "75                                        web developer   \n",
              "...                                                  ...  \n",
              "84480  hcm lập trình viên fullstack    lương từ 15  4...  \n",
              "84502               cầu giấyhn react native developerusd  \n",
              "84507                       hà nội  middle ruby on rails  \n",
              "84525  lập trình viên fullstack    được cấp macbook 1...  \n",
              "84550                                fullstack engineer   \n",
              "\n",
              "[4318 rows x 7 columns]"
            ],
            "text/html": [
              "\n",
              "  <div id=\"df-d7a4ea65-e52b-4aed-bc0e-2c79ce4bcc3e\">\n",
              "    <div class=\"colab-df-container\">\n",
              "      <div>\n",
              "<style scoped>\n",
              "    .dataframe tbody tr th:only-of-type {\n",
              "        vertical-align: middle;\n",
              "    }\n",
              "\n",
              "    .dataframe tbody tr th {\n",
              "        vertical-align: top;\n",
              "    }\n",
              "\n",
              "    .dataframe thead th {\n",
              "        text-align: right;\n",
              "    }\n",
              "</style>\n",
              "<table border=\"1\" class=\"dataframe\">\n",
              "  <thead>\n",
              "    <tr style=\"text-align: right;\">\n",
              "      <th></th>\n",
              "      <th>index</th>\n",
              "      <th>JobTitle</th>\n",
              "      <th>Company</th>\n",
              "      <th>Location</th>\n",
              "      <th>Summary</th>\n",
              "      <th>JobUrl</th>\n",
              "      <th>JobTitle_to_fix</th>\n",
              "    </tr>\n",
              "  </thead>\n",
              "  <tbody>\n",
              "    <tr>\n",
              "      <th>0</th>\n",
              "      <td>0</td>\n",
              "      <td>.Net Developer</td>\n",
              "      <td>SmartDev</td>\n",
              "      <td>đà nẵng</td>\n",
              "      <td>compani descript smartdev is a lead provid of ...</td>\n",
              "      <td>.NET Developer</td>\n",
              "      <td>net developer</td>\n",
              "    </tr>\n",
              "    <tr>\n",
              "      <th>13</th>\n",
              "      <td>1</td>\n",
              "      <td>Intern / Fresher Developer</td>\n",
              "      <td>DXC Technology</td>\n",
              "      <td>thành phố hồ chí minh</td>\n",
              "      <td>overview : how would you like to join an inter...</td>\n",
              "      <td>.NET Developer</td>\n",
              "      <td>intern   developer</td>\n",
              "    </tr>\n",
              "    <tr>\n",
              "      <th>27</th>\n",
              "      <td>2</td>\n",
              "      <td>.NET Developer (Middle/Senior level)</td>\n",
              "      <td>SIOUX</td>\n",
              "      <td>đà nẵng</td>\n",
              "      <td>sioux group wa found in 1996 in the netherland...</td>\n",
              "      <td>.NET Developer</td>\n",
              "      <td>net developer</td>\n",
              "    </tr>\n",
              "    <tr>\n",
              "      <th>56</th>\n",
              "      <td>3</td>\n",
              "      <td>Jun/Mid/Senior .NET Developer</td>\n",
              "      <td>Saigon Technology</td>\n",
              "      <td>đà nẵng</td>\n",
              "      <td>up to $ 2,200 junior , middl , senior da nang ...</td>\n",
              "      <td>.NET Developer</td>\n",
              "      <td>junmid net developer</td>\n",
              "    </tr>\n",
              "    <tr>\n",
              "      <th>75</th>\n",
              "      <td>4</td>\n",
              "      <td>Web Developer (.NET, ASP.NET, C#)</td>\n",
              "      <td>NPV Corp</td>\n",
              "      <td>đà nẵng</td>\n",
              "      <td>web develop ( .net , asp.net , c # ) npv corp ...</td>\n",
              "      <td>.NET Developer</td>\n",
              "      <td>web developer</td>\n",
              "    </tr>\n",
              "    <tr>\n",
              "      <th>...</th>\n",
              "      <td>...</td>\n",
              "      <td>...</td>\n",
              "      <td>...</td>\n",
              "      <td>...</td>\n",
              "      <td>...</td>\n",
              "      <td>...</td>\n",
              "      <td>...</td>\n",
              "    </tr>\n",
              "    <tr>\n",
              "      <th>84480</th>\n",
              "      <td>4374</td>\n",
              "      <td>[HCM] Lập Trình Viên Fullstack Senior/Junior (...</td>\n",
              "      <td>JobsGO Recruit</td>\n",
              "      <td>thành phố hồ chí minh</td>\n",
              "      <td>mô tả công việc : ( mức lương : 15 - 45 triệu ...</td>\n",
              "      <td>Full Stack Web Developer</td>\n",
              "      <td>hcm lập trình viên fullstack    lương từ 15  4...</td>\n",
              "    </tr>\n",
              "    <tr>\n",
              "      <th>84502</th>\n",
              "      <td>4375</td>\n",
              "      <td>[Cầu Giấy/HN] React Native Developerusd</td>\n",
              "      <td>Việc Ơi Client</td>\n",
              "      <td>hà nội</td>\n",
              "      <td>giới thiệu : ... job descript : we are strive ...</td>\n",
              "      <td>Full Stack Web Developer</td>\n",
              "      <td>cầu giấyhn react native developerusd</td>\n",
              "    </tr>\n",
              "    <tr>\n",
              "      <th>84507</th>\n",
              "      <td>4376</td>\n",
              "      <td>[HÀ NỘI] SENIOR/ MIDDLE RUBY ON RAILS</td>\n",
              "      <td>Việc Ơi It Client</td>\n",
              "      <td>hà nội</td>\n",
              "      <td>giới thiệu : việc ơi it client là công ty 100 ...</td>\n",
              "      <td>Full Stack Web Developer</td>\n",
              "      <td>hà nội  middle ruby on rails</td>\n",
              "    </tr>\n",
              "    <tr>\n",
              "      <th>84525</th>\n",
              "      <td>4377</td>\n",
              "      <td>Lập Trình Viên Fullstack (PHP, MYSQL, React) S...</td>\n",
              "      <td>JobsGO Recruit</td>\n",
              "      <td>thành phố hồ chí minh</td>\n",
              "      <td>mô tả công việc : ( mức lương : thỏa thuận ) d...</td>\n",
              "      <td>Full Stack Web Developer</td>\n",
              "      <td>lập trình viên fullstack    được cấp macbook 1...</td>\n",
              "    </tr>\n",
              "    <tr>\n",
              "      <th>84550</th>\n",
              "      <td>4378</td>\n",
              "      <td>Senior Fullstack Engineer (Java, React)</td>\n",
              "      <td>Zühlke</td>\n",
              "      <td>thành phố hồ chí minh</td>\n",
              "      <td>perman full-tim ho chi minh citi softwar engin...</td>\n",
              "      <td>Full Stack Web Developer</td>\n",
              "      <td>fullstack engineer</td>\n",
              "    </tr>\n",
              "  </tbody>\n",
              "</table>\n",
              "<p>4318 rows × 7 columns</p>\n",
              "</div>\n",
              "      <button class=\"colab-df-convert\" onclick=\"convertToInteractive('df-d7a4ea65-e52b-4aed-bc0e-2c79ce4bcc3e')\"\n",
              "              title=\"Convert this dataframe to an interactive table.\"\n",
              "              style=\"display:none;\">\n",
              "        \n",
              "  <svg xmlns=\"http://www.w3.org/2000/svg\" height=\"24px\"viewBox=\"0 0 24 24\"\n",
              "       width=\"24px\">\n",
              "    <path d=\"M0 0h24v24H0V0z\" fill=\"none\"/>\n",
              "    <path d=\"M18.56 5.44l.94 2.06.94-2.06 2.06-.94-2.06-.94-.94-2.06-.94 2.06-2.06.94zm-11 1L8.5 8.5l.94-2.06 2.06-.94-2.06-.94L8.5 2.5l-.94 2.06-2.06.94zm10 10l.94 2.06.94-2.06 2.06-.94-2.06-.94-.94-2.06-.94 2.06-2.06.94z\"/><path d=\"M17.41 7.96l-1.37-1.37c-.4-.4-.92-.59-1.43-.59-.52 0-1.04.2-1.43.59L10.3 9.45l-7.72 7.72c-.78.78-.78 2.05 0 2.83L4 21.41c.39.39.9.59 1.41.59.51 0 1.02-.2 1.41-.59l7.78-7.78 2.81-2.81c.8-.78.8-2.07 0-2.86zM5.41 20L4 18.59l7.72-7.72 1.47 1.35L5.41 20z\"/>\n",
              "  </svg>\n",
              "      </button>\n",
              "      \n",
              "  <style>\n",
              "    .colab-df-container {\n",
              "      display:flex;\n",
              "      flex-wrap:wrap;\n",
              "      gap: 12px;\n",
              "    }\n",
              "\n",
              "    .colab-df-convert {\n",
              "      background-color: #E8F0FE;\n",
              "      border: none;\n",
              "      border-radius: 50%;\n",
              "      cursor: pointer;\n",
              "      display: none;\n",
              "      fill: #1967D2;\n",
              "      height: 32px;\n",
              "      padding: 0 0 0 0;\n",
              "      width: 32px;\n",
              "    }\n",
              "\n",
              "    .colab-df-convert:hover {\n",
              "      background-color: #E2EBFA;\n",
              "      box-shadow: 0px 1px 2px rgba(60, 64, 67, 0.3), 0px 1px 3px 1px rgba(60, 64, 67, 0.15);\n",
              "      fill: #174EA6;\n",
              "    }\n",
              "\n",
              "    [theme=dark] .colab-df-convert {\n",
              "      background-color: #3B4455;\n",
              "      fill: #D2E3FC;\n",
              "    }\n",
              "\n",
              "    [theme=dark] .colab-df-convert:hover {\n",
              "      background-color: #434B5C;\n",
              "      box-shadow: 0px 1px 3px 1px rgba(0, 0, 0, 0.15);\n",
              "      filter: drop-shadow(0px 1px 2px rgba(0, 0, 0, 0.3));\n",
              "      fill: #FFFFFF;\n",
              "    }\n",
              "  </style>\n",
              "\n",
              "      <script>\n",
              "        const buttonEl =\n",
              "          document.querySelector('#df-d7a4ea65-e52b-4aed-bc0e-2c79ce4bcc3e button.colab-df-convert');\n",
              "        buttonEl.style.display =\n",
              "          google.colab.kernel.accessAllowed ? 'block' : 'none';\n",
              "\n",
              "        async function convertToInteractive(key) {\n",
              "          const element = document.querySelector('#df-d7a4ea65-e52b-4aed-bc0e-2c79ce4bcc3e');\n",
              "          const dataTable =\n",
              "            await google.colab.kernel.invokeFunction('convertToInteractive',\n",
              "                                                     [key], {});\n",
              "          if (!dataTable) return;\n",
              "\n",
              "          const docLinkHtml = 'Like what you see? Visit the ' +\n",
              "            '<a target=\"_blank\" href=https://colab.research.google.com/notebooks/data_table.ipynb>data table notebook</a>'\n",
              "            + ' to learn more about interactive tables.';\n",
              "          element.innerHTML = '';\n",
              "          dataTable['output_type'] = 'display_data';\n",
              "          await google.colab.output.renderOutput(dataTable, element);\n",
              "          const docLink = document.createElement('div');\n",
              "          docLink.innerHTML = docLinkHtml;\n",
              "          element.appendChild(docLink);\n",
              "        }\n",
              "      </script>\n",
              "    </div>\n",
              "  </div>\n",
              "  "
            ]
          },
          "metadata": {},
          "execution_count": 126
        }
      ],
      "source": [
        "job"
      ]
    },
    {
      "cell_type": "code",
      "execution_count": null,
      "metadata": {
        "id": "IOniOA2J3T52",
        "colab": {
          "base_uri": "https://localhost:8080/",
          "height": 423
        },
        "outputId": "9c18ed2c-34d8-4739-ad50-cca49d14a654"
      },
      "outputs": [
        {
          "output_type": "execute_result",
          "data": {
            "text/plain": [
              "      index    Name Skill\n",
              "0         0      provides\n",
              "1         0      cleaning\n",
              "2         0        coding\n",
              "3         0        design\n",
              "4         0       manager\n",
              "...     ...           ...\n",
              "7986   4146        report\n",
              "7987   4146       support\n",
              "7988   4159       english\n",
              "7989   4159  communicated\n",
              "7990   4159       mindset\n",
              "\n",
              "[7047 rows x 2 columns]"
            ],
            "text/html": [
              "\n",
              "  <div id=\"df-a32808de-3e87-4470-9732-1d2717389448\">\n",
              "    <div class=\"colab-df-container\">\n",
              "      <div>\n",
              "<style scoped>\n",
              "    .dataframe tbody tr th:only-of-type {\n",
              "        vertical-align: middle;\n",
              "    }\n",
              "\n",
              "    .dataframe tbody tr th {\n",
              "        vertical-align: top;\n",
              "    }\n",
              "\n",
              "    .dataframe thead th {\n",
              "        text-align: right;\n",
              "    }\n",
              "</style>\n",
              "<table border=\"1\" class=\"dataframe\">\n",
              "  <thead>\n",
              "    <tr style=\"text-align: right;\">\n",
              "      <th></th>\n",
              "      <th>index</th>\n",
              "      <th>Name Skill</th>\n",
              "    </tr>\n",
              "  </thead>\n",
              "  <tbody>\n",
              "    <tr>\n",
              "      <th>0</th>\n",
              "      <td>0</td>\n",
              "      <td>provides</td>\n",
              "    </tr>\n",
              "    <tr>\n",
              "      <th>1</th>\n",
              "      <td>0</td>\n",
              "      <td>cleaning</td>\n",
              "    </tr>\n",
              "    <tr>\n",
              "      <th>2</th>\n",
              "      <td>0</td>\n",
              "      <td>coding</td>\n",
              "    </tr>\n",
              "    <tr>\n",
              "      <th>3</th>\n",
              "      <td>0</td>\n",
              "      <td>design</td>\n",
              "    </tr>\n",
              "    <tr>\n",
              "      <th>4</th>\n",
              "      <td>0</td>\n",
              "      <td>manager</td>\n",
              "    </tr>\n",
              "    <tr>\n",
              "      <th>...</th>\n",
              "      <td>...</td>\n",
              "      <td>...</td>\n",
              "    </tr>\n",
              "    <tr>\n",
              "      <th>7986</th>\n",
              "      <td>4146</td>\n",
              "      <td>report</td>\n",
              "    </tr>\n",
              "    <tr>\n",
              "      <th>7987</th>\n",
              "      <td>4146</td>\n",
              "      <td>support</td>\n",
              "    </tr>\n",
              "    <tr>\n",
              "      <th>7988</th>\n",
              "      <td>4159</td>\n",
              "      <td>english</td>\n",
              "    </tr>\n",
              "    <tr>\n",
              "      <th>7989</th>\n",
              "      <td>4159</td>\n",
              "      <td>communicated</td>\n",
              "    </tr>\n",
              "    <tr>\n",
              "      <th>7990</th>\n",
              "      <td>4159</td>\n",
              "      <td>mindset</td>\n",
              "    </tr>\n",
              "  </tbody>\n",
              "</table>\n",
              "<p>7047 rows × 2 columns</p>\n",
              "</div>\n",
              "      <button class=\"colab-df-convert\" onclick=\"convertToInteractive('df-a32808de-3e87-4470-9732-1d2717389448')\"\n",
              "              title=\"Convert this dataframe to an interactive table.\"\n",
              "              style=\"display:none;\">\n",
              "        \n",
              "  <svg xmlns=\"http://www.w3.org/2000/svg\" height=\"24px\"viewBox=\"0 0 24 24\"\n",
              "       width=\"24px\">\n",
              "    <path d=\"M0 0h24v24H0V0z\" fill=\"none\"/>\n",
              "    <path d=\"M18.56 5.44l.94 2.06.94-2.06 2.06-.94-2.06-.94-.94-2.06-.94 2.06-2.06.94zm-11 1L8.5 8.5l.94-2.06 2.06-.94-2.06-.94L8.5 2.5l-.94 2.06-2.06.94zm10 10l.94 2.06.94-2.06 2.06-.94-2.06-.94-.94-2.06-.94 2.06-2.06.94z\"/><path d=\"M17.41 7.96l-1.37-1.37c-.4-.4-.92-.59-1.43-.59-.52 0-1.04.2-1.43.59L10.3 9.45l-7.72 7.72c-.78.78-.78 2.05 0 2.83L4 21.41c.39.39.9.59 1.41.59.51 0 1.02-.2 1.41-.59l7.78-7.78 2.81-2.81c.8-.78.8-2.07 0-2.86zM5.41 20L4 18.59l7.72-7.72 1.47 1.35L5.41 20z\"/>\n",
              "  </svg>\n",
              "      </button>\n",
              "      \n",
              "  <style>\n",
              "    .colab-df-container {\n",
              "      display:flex;\n",
              "      flex-wrap:wrap;\n",
              "      gap: 12px;\n",
              "    }\n",
              "\n",
              "    .colab-df-convert {\n",
              "      background-color: #E8F0FE;\n",
              "      border: none;\n",
              "      border-radius: 50%;\n",
              "      cursor: pointer;\n",
              "      display: none;\n",
              "      fill: #1967D2;\n",
              "      height: 32px;\n",
              "      padding: 0 0 0 0;\n",
              "      width: 32px;\n",
              "    }\n",
              "\n",
              "    .colab-df-convert:hover {\n",
              "      background-color: #E2EBFA;\n",
              "      box-shadow: 0px 1px 2px rgba(60, 64, 67, 0.3), 0px 1px 3px 1px rgba(60, 64, 67, 0.15);\n",
              "      fill: #174EA6;\n",
              "    }\n",
              "\n",
              "    [theme=dark] .colab-df-convert {\n",
              "      background-color: #3B4455;\n",
              "      fill: #D2E3FC;\n",
              "    }\n",
              "\n",
              "    [theme=dark] .colab-df-convert:hover {\n",
              "      background-color: #434B5C;\n",
              "      box-shadow: 0px 1px 3px 1px rgba(0, 0, 0, 0.15);\n",
              "      filter: drop-shadow(0px 1px 2px rgba(0, 0, 0, 0.3));\n",
              "      fill: #FFFFFF;\n",
              "    }\n",
              "  </style>\n",
              "\n",
              "      <script>\n",
              "        const buttonEl =\n",
              "          document.querySelector('#df-a32808de-3e87-4470-9732-1d2717389448 button.colab-df-convert');\n",
              "        buttonEl.style.display =\n",
              "          google.colab.kernel.accessAllowed ? 'block' : 'none';\n",
              "\n",
              "        async function convertToInteractive(key) {\n",
              "          const element = document.querySelector('#df-a32808de-3e87-4470-9732-1d2717389448');\n",
              "          const dataTable =\n",
              "            await google.colab.kernel.invokeFunction('convertToInteractive',\n",
              "                                                     [key], {});\n",
              "          if (!dataTable) return;\n",
              "\n",
              "          const docLinkHtml = 'Like what you see? Visit the ' +\n",
              "            '<a target=\"_blank\" href=https://colab.research.google.com/notebooks/data_table.ipynb>data table notebook</a>'\n",
              "            + ' to learn more about interactive tables.';\n",
              "          element.innerHTML = '';\n",
              "          dataTable['output_type'] = 'display_data';\n",
              "          await google.colab.output.renderOutput(dataTable, element);\n",
              "          const docLink = document.createElement('div');\n",
              "          docLink.innerHTML = docLinkHtml;\n",
              "          element.appendChild(docLink);\n",
              "        }\n",
              "      </script>\n",
              "    </div>\n",
              "  </div>\n",
              "  "
            ]
          },
          "metadata": {},
          "execution_count": 127
        }
      ],
      "source": [
        "job_skill"
      ]
    },
    {
      "cell_type": "code",
      "execution_count": null,
      "metadata": {
        "id": "fEO1d78s3e-d",
        "colab": {
          "base_uri": "https://localhost:8080/",
          "height": 423
        },
        "outputId": "ddba538f-5a2c-4359-e7ac-c413d3d17083"
      },
      "outputs": [
        {
          "output_type": "execute_result",
          "data": {
            "text/plain": [
              "       index Name Tool\n",
              "0          0     excel\n",
              "1          0       sql\n",
              "2          0         c\n",
              "3          0    visual\n",
              "4          0    nodejs\n",
              "...      ...       ...\n",
              "17531   4377       git\n",
              "17532   4378     scrum\n",
              "17533   4378    docker\n",
              "17534   4378      java\n",
              "17535   4378     azure\n",
              "\n",
              "[15232 rows x 2 columns]"
            ],
            "text/html": [
              "\n",
              "  <div id=\"df-62e73aea-a657-48aa-8841-c7bf996b7ab2\">\n",
              "    <div class=\"colab-df-container\">\n",
              "      <div>\n",
              "<style scoped>\n",
              "    .dataframe tbody tr th:only-of-type {\n",
              "        vertical-align: middle;\n",
              "    }\n",
              "\n",
              "    .dataframe tbody tr th {\n",
              "        vertical-align: top;\n",
              "    }\n",
              "\n",
              "    .dataframe thead th {\n",
              "        text-align: right;\n",
              "    }\n",
              "</style>\n",
              "<table border=\"1\" class=\"dataframe\">\n",
              "  <thead>\n",
              "    <tr style=\"text-align: right;\">\n",
              "      <th></th>\n",
              "      <th>index</th>\n",
              "      <th>Name Tool</th>\n",
              "    </tr>\n",
              "  </thead>\n",
              "  <tbody>\n",
              "    <tr>\n",
              "      <th>0</th>\n",
              "      <td>0</td>\n",
              "      <td>excel</td>\n",
              "    </tr>\n",
              "    <tr>\n",
              "      <th>1</th>\n",
              "      <td>0</td>\n",
              "      <td>sql</td>\n",
              "    </tr>\n",
              "    <tr>\n",
              "      <th>2</th>\n",
              "      <td>0</td>\n",
              "      <td>c</td>\n",
              "    </tr>\n",
              "    <tr>\n",
              "      <th>3</th>\n",
              "      <td>0</td>\n",
              "      <td>visual</td>\n",
              "    </tr>\n",
              "    <tr>\n",
              "      <th>4</th>\n",
              "      <td>0</td>\n",
              "      <td>nodejs</td>\n",
              "    </tr>\n",
              "    <tr>\n",
              "      <th>...</th>\n",
              "      <td>...</td>\n",
              "      <td>...</td>\n",
              "    </tr>\n",
              "    <tr>\n",
              "      <th>17531</th>\n",
              "      <td>4377</td>\n",
              "      <td>git</td>\n",
              "    </tr>\n",
              "    <tr>\n",
              "      <th>17532</th>\n",
              "      <td>4378</td>\n",
              "      <td>scrum</td>\n",
              "    </tr>\n",
              "    <tr>\n",
              "      <th>17533</th>\n",
              "      <td>4378</td>\n",
              "      <td>docker</td>\n",
              "    </tr>\n",
              "    <tr>\n",
              "      <th>17534</th>\n",
              "      <td>4378</td>\n",
              "      <td>java</td>\n",
              "    </tr>\n",
              "    <tr>\n",
              "      <th>17535</th>\n",
              "      <td>4378</td>\n",
              "      <td>azure</td>\n",
              "    </tr>\n",
              "  </tbody>\n",
              "</table>\n",
              "<p>15232 rows × 2 columns</p>\n",
              "</div>\n",
              "      <button class=\"colab-df-convert\" onclick=\"convertToInteractive('df-62e73aea-a657-48aa-8841-c7bf996b7ab2')\"\n",
              "              title=\"Convert this dataframe to an interactive table.\"\n",
              "              style=\"display:none;\">\n",
              "        \n",
              "  <svg xmlns=\"http://www.w3.org/2000/svg\" height=\"24px\"viewBox=\"0 0 24 24\"\n",
              "       width=\"24px\">\n",
              "    <path d=\"M0 0h24v24H0V0z\" fill=\"none\"/>\n",
              "    <path d=\"M18.56 5.44l.94 2.06.94-2.06 2.06-.94-2.06-.94-.94-2.06-.94 2.06-2.06.94zm-11 1L8.5 8.5l.94-2.06 2.06-.94-2.06-.94L8.5 2.5l-.94 2.06-2.06.94zm10 10l.94 2.06.94-2.06 2.06-.94-2.06-.94-.94-2.06-.94 2.06-2.06.94z\"/><path d=\"M17.41 7.96l-1.37-1.37c-.4-.4-.92-.59-1.43-.59-.52 0-1.04.2-1.43.59L10.3 9.45l-7.72 7.72c-.78.78-.78 2.05 0 2.83L4 21.41c.39.39.9.59 1.41.59.51 0 1.02-.2 1.41-.59l7.78-7.78 2.81-2.81c.8-.78.8-2.07 0-2.86zM5.41 20L4 18.59l7.72-7.72 1.47 1.35L5.41 20z\"/>\n",
              "  </svg>\n",
              "      </button>\n",
              "      \n",
              "  <style>\n",
              "    .colab-df-container {\n",
              "      display:flex;\n",
              "      flex-wrap:wrap;\n",
              "      gap: 12px;\n",
              "    }\n",
              "\n",
              "    .colab-df-convert {\n",
              "      background-color: #E8F0FE;\n",
              "      border: none;\n",
              "      border-radius: 50%;\n",
              "      cursor: pointer;\n",
              "      display: none;\n",
              "      fill: #1967D2;\n",
              "      height: 32px;\n",
              "      padding: 0 0 0 0;\n",
              "      width: 32px;\n",
              "    }\n",
              "\n",
              "    .colab-df-convert:hover {\n",
              "      background-color: #E2EBFA;\n",
              "      box-shadow: 0px 1px 2px rgba(60, 64, 67, 0.3), 0px 1px 3px 1px rgba(60, 64, 67, 0.15);\n",
              "      fill: #174EA6;\n",
              "    }\n",
              "\n",
              "    [theme=dark] .colab-df-convert {\n",
              "      background-color: #3B4455;\n",
              "      fill: #D2E3FC;\n",
              "    }\n",
              "\n",
              "    [theme=dark] .colab-df-convert:hover {\n",
              "      background-color: #434B5C;\n",
              "      box-shadow: 0px 1px 3px 1px rgba(0, 0, 0, 0.15);\n",
              "      filter: drop-shadow(0px 1px 2px rgba(0, 0, 0, 0.3));\n",
              "      fill: #FFFFFF;\n",
              "    }\n",
              "  </style>\n",
              "\n",
              "      <script>\n",
              "        const buttonEl =\n",
              "          document.querySelector('#df-62e73aea-a657-48aa-8841-c7bf996b7ab2 button.colab-df-convert');\n",
              "        buttonEl.style.display =\n",
              "          google.colab.kernel.accessAllowed ? 'block' : 'none';\n",
              "\n",
              "        async function convertToInteractive(key) {\n",
              "          const element = document.querySelector('#df-62e73aea-a657-48aa-8841-c7bf996b7ab2');\n",
              "          const dataTable =\n",
              "            await google.colab.kernel.invokeFunction('convertToInteractive',\n",
              "                                                     [key], {});\n",
              "          if (!dataTable) return;\n",
              "\n",
              "          const docLinkHtml = 'Like what you see? Visit the ' +\n",
              "            '<a target=\"_blank\" href=https://colab.research.google.com/notebooks/data_table.ipynb>data table notebook</a>'\n",
              "            + ' to learn more about interactive tables.';\n",
              "          element.innerHTML = '';\n",
              "          dataTable['output_type'] = 'display_data';\n",
              "          await google.colab.output.renderOutput(dataTable, element);\n",
              "          const docLink = document.createElement('div');\n",
              "          docLink.innerHTML = docLinkHtml;\n",
              "          element.appendChild(docLink);\n",
              "        }\n",
              "      </script>\n",
              "    </div>\n",
              "  </div>\n",
              "  "
            ]
          },
          "metadata": {},
          "execution_count": 128
        }
      ],
      "source": [
        "job_tool"
      ]
    },
    {
      "cell_type": "markdown",
      "metadata": {
        "id": "ytXWJTri3xRu"
      },
      "source": [
        "Input: name skills and tech of staff. True syntax<br>\n",
        "example: experience staff = '''Data Cleaning & Exploration using Python, Data Modifying & Visualization using Microsoft Excel, Data Modifying & Visualization using Microsoft Excel\n",
        "        Database Administrating using SQL Server'''"
      ]
    },
    {
      "cell_type": "code",
      "execution_count": null,
      "metadata": {
        "id": "u8JdV42v3gbt"
      },
      "outputs": [],
      "source": [
        "skill = ['cleaning', 'visualization', 'modifying']\n",
        "tool = ['python', 'excel', 'sql']"
      ]
    },
    {
      "cell_type": "code",
      "execution_count": null,
      "metadata": {
        "id": "oDlVLS7j49m8"
      },
      "outputs": [],
      "source": [
        "staff_skill = job_skill.loc[job_skill['Name Skill'].isin(skill), :]"
      ]
    },
    {
      "cell_type": "code",
      "execution_count": null,
      "metadata": {
        "id": "K4tYSZpF5Mwp",
        "colab": {
          "base_uri": "https://localhost:8080/",
          "height": 423
        },
        "outputId": "4311b120-2bbf-4471-b963-722cec5a108d"
      },
      "outputs": [
        {
          "output_type": "execute_result",
          "data": {
            "text/plain": [
              "      index     Name Skill\n",
              "1         0       cleaning\n",
              "10        0  visualization\n",
              "21        2       cleaning\n",
              "99       18       cleaning\n",
              "110      20  visualization\n",
              "...     ...            ...\n",
              "7899   4004       cleaning\n",
              "7921   4063       cleaning\n",
              "7930   4069       cleaning\n",
              "7947   4092       cleaning\n",
              "7965   4115       cleaning\n",
              "\n",
              "[181 rows x 2 columns]"
            ],
            "text/html": [
              "\n",
              "  <div id=\"df-d4b99033-6f2d-4a56-81b4-8e28951f10f7\">\n",
              "    <div class=\"colab-df-container\">\n",
              "      <div>\n",
              "<style scoped>\n",
              "    .dataframe tbody tr th:only-of-type {\n",
              "        vertical-align: middle;\n",
              "    }\n",
              "\n",
              "    .dataframe tbody tr th {\n",
              "        vertical-align: top;\n",
              "    }\n",
              "\n",
              "    .dataframe thead th {\n",
              "        text-align: right;\n",
              "    }\n",
              "</style>\n",
              "<table border=\"1\" class=\"dataframe\">\n",
              "  <thead>\n",
              "    <tr style=\"text-align: right;\">\n",
              "      <th></th>\n",
              "      <th>index</th>\n",
              "      <th>Name Skill</th>\n",
              "    </tr>\n",
              "  </thead>\n",
              "  <tbody>\n",
              "    <tr>\n",
              "      <th>1</th>\n",
              "      <td>0</td>\n",
              "      <td>cleaning</td>\n",
              "    </tr>\n",
              "    <tr>\n",
              "      <th>10</th>\n",
              "      <td>0</td>\n",
              "      <td>visualization</td>\n",
              "    </tr>\n",
              "    <tr>\n",
              "      <th>21</th>\n",
              "      <td>2</td>\n",
              "      <td>cleaning</td>\n",
              "    </tr>\n",
              "    <tr>\n",
              "      <th>99</th>\n",
              "      <td>18</td>\n",
              "      <td>cleaning</td>\n",
              "    </tr>\n",
              "    <tr>\n",
              "      <th>110</th>\n",
              "      <td>20</td>\n",
              "      <td>visualization</td>\n",
              "    </tr>\n",
              "    <tr>\n",
              "      <th>...</th>\n",
              "      <td>...</td>\n",
              "      <td>...</td>\n",
              "    </tr>\n",
              "    <tr>\n",
              "      <th>7899</th>\n",
              "      <td>4004</td>\n",
              "      <td>cleaning</td>\n",
              "    </tr>\n",
              "    <tr>\n",
              "      <th>7921</th>\n",
              "      <td>4063</td>\n",
              "      <td>cleaning</td>\n",
              "    </tr>\n",
              "    <tr>\n",
              "      <th>7930</th>\n",
              "      <td>4069</td>\n",
              "      <td>cleaning</td>\n",
              "    </tr>\n",
              "    <tr>\n",
              "      <th>7947</th>\n",
              "      <td>4092</td>\n",
              "      <td>cleaning</td>\n",
              "    </tr>\n",
              "    <tr>\n",
              "      <th>7965</th>\n",
              "      <td>4115</td>\n",
              "      <td>cleaning</td>\n",
              "    </tr>\n",
              "  </tbody>\n",
              "</table>\n",
              "<p>181 rows × 2 columns</p>\n",
              "</div>\n",
              "      <button class=\"colab-df-convert\" onclick=\"convertToInteractive('df-d4b99033-6f2d-4a56-81b4-8e28951f10f7')\"\n",
              "              title=\"Convert this dataframe to an interactive table.\"\n",
              "              style=\"display:none;\">\n",
              "        \n",
              "  <svg xmlns=\"http://www.w3.org/2000/svg\" height=\"24px\"viewBox=\"0 0 24 24\"\n",
              "       width=\"24px\">\n",
              "    <path d=\"M0 0h24v24H0V0z\" fill=\"none\"/>\n",
              "    <path d=\"M18.56 5.44l.94 2.06.94-2.06 2.06-.94-2.06-.94-.94-2.06-.94 2.06-2.06.94zm-11 1L8.5 8.5l.94-2.06 2.06-.94-2.06-.94L8.5 2.5l-.94 2.06-2.06.94zm10 10l.94 2.06.94-2.06 2.06-.94-2.06-.94-.94-2.06-.94 2.06-2.06.94z\"/><path d=\"M17.41 7.96l-1.37-1.37c-.4-.4-.92-.59-1.43-.59-.52 0-1.04.2-1.43.59L10.3 9.45l-7.72 7.72c-.78.78-.78 2.05 0 2.83L4 21.41c.39.39.9.59 1.41.59.51 0 1.02-.2 1.41-.59l7.78-7.78 2.81-2.81c.8-.78.8-2.07 0-2.86zM5.41 20L4 18.59l7.72-7.72 1.47 1.35L5.41 20z\"/>\n",
              "  </svg>\n",
              "      </button>\n",
              "      \n",
              "  <style>\n",
              "    .colab-df-container {\n",
              "      display:flex;\n",
              "      flex-wrap:wrap;\n",
              "      gap: 12px;\n",
              "    }\n",
              "\n",
              "    .colab-df-convert {\n",
              "      background-color: #E8F0FE;\n",
              "      border: none;\n",
              "      border-radius: 50%;\n",
              "      cursor: pointer;\n",
              "      display: none;\n",
              "      fill: #1967D2;\n",
              "      height: 32px;\n",
              "      padding: 0 0 0 0;\n",
              "      width: 32px;\n",
              "    }\n",
              "\n",
              "    .colab-df-convert:hover {\n",
              "      background-color: #E2EBFA;\n",
              "      box-shadow: 0px 1px 2px rgba(60, 64, 67, 0.3), 0px 1px 3px 1px rgba(60, 64, 67, 0.15);\n",
              "      fill: #174EA6;\n",
              "    }\n",
              "\n",
              "    [theme=dark] .colab-df-convert {\n",
              "      background-color: #3B4455;\n",
              "      fill: #D2E3FC;\n",
              "    }\n",
              "\n",
              "    [theme=dark] .colab-df-convert:hover {\n",
              "      background-color: #434B5C;\n",
              "      box-shadow: 0px 1px 3px 1px rgba(0, 0, 0, 0.15);\n",
              "      filter: drop-shadow(0px 1px 2px rgba(0, 0, 0, 0.3));\n",
              "      fill: #FFFFFF;\n",
              "    }\n",
              "  </style>\n",
              "\n",
              "      <script>\n",
              "        const buttonEl =\n",
              "          document.querySelector('#df-d4b99033-6f2d-4a56-81b4-8e28951f10f7 button.colab-df-convert');\n",
              "        buttonEl.style.display =\n",
              "          google.colab.kernel.accessAllowed ? 'block' : 'none';\n",
              "\n",
              "        async function convertToInteractive(key) {\n",
              "          const element = document.querySelector('#df-d4b99033-6f2d-4a56-81b4-8e28951f10f7');\n",
              "          const dataTable =\n",
              "            await google.colab.kernel.invokeFunction('convertToInteractive',\n",
              "                                                     [key], {});\n",
              "          if (!dataTable) return;\n",
              "\n",
              "          const docLinkHtml = 'Like what you see? Visit the ' +\n",
              "            '<a target=\"_blank\" href=https://colab.research.google.com/notebooks/data_table.ipynb>data table notebook</a>'\n",
              "            + ' to learn more about interactive tables.';\n",
              "          element.innerHTML = '';\n",
              "          dataTable['output_type'] = 'display_data';\n",
              "          await google.colab.output.renderOutput(dataTable, element);\n",
              "          const docLink = document.createElement('div');\n",
              "          docLink.innerHTML = docLinkHtml;\n",
              "          element.appendChild(docLink);\n",
              "        }\n",
              "      </script>\n",
              "    </div>\n",
              "  </div>\n",
              "  "
            ]
          },
          "metadata": {},
          "execution_count": 131
        }
      ],
      "source": [
        "staff_skill"
      ]
    },
    {
      "cell_type": "code",
      "execution_count": null,
      "metadata": {
        "id": "OXpPdm9h5QDr"
      },
      "outputs": [],
      "source": [
        "staff_tool = job_tool.loc[job_tool['Name Tool'].isin(tool), :]"
      ]
    },
    {
      "cell_type": "code",
      "execution_count": null,
      "metadata": {
        "id": "gYF88LZf6KKn",
        "colab": {
          "base_uri": "https://localhost:8080/"
        },
        "outputId": "ac590573-7909-4714-807f-e6f20a5c8537"
      },
      "outputs": [
        {
          "output_type": "execute_result",
          "data": {
            "text/plain": [
              "array(['excel', 'sql', 'python'], dtype=object)"
            ]
          },
          "metadata": {},
          "execution_count": 133
        }
      ],
      "source": [
        "staff_tool['Name Tool'].unique()"
      ]
    },
    {
      "cell_type": "code",
      "execution_count": null,
      "metadata": {
        "id": "_OmlTtmp8OQZ"
      },
      "outputs": [],
      "source": [
        "quanlity = list(staff_skill['index'].unique()) + list(staff_tool['index'].unique())"
      ]
    },
    {
      "cell_type": "code",
      "execution_count": null,
      "metadata": {
        "id": "e8ZHQYW08cdz"
      },
      "outputs": [],
      "source": [
        "quanlity  = list(dict.fromkeys(quanlity))"
      ]
    },
    {
      "cell_type": "code",
      "execution_count": null,
      "metadata": {
        "id": "RiPMcy5l6OXC",
        "colab": {
          "base_uri": "https://localhost:8080/"
        },
        "outputId": "bae47de3-298d-4325-b8d7-b95b3a9f3a29"
      },
      "outputs": [
        {
          "output_type": "execute_result",
          "data": {
            "text/plain": [
              "Business Analyst           55\n",
              ".NET Developer             45\n",
              "Back End Developer         16\n",
              "Android Developer          15\n",
              "Front End Developer        11\n",
              "Android App Developer      10\n",
              "Full Stack Developer       10\n",
              "C++ Developer               8\n",
              "Embedded Engineer           3\n",
              "Bridge Engineer             1\n",
              "Front End Web Developer     1\n",
              "Name: JobUrl, dtype: int64"
            ]
          },
          "metadata": {},
          "execution_count": 136
        }
      ],
      "source": [
        "job.loc[job['index'].isin(staff_skill['index'].unique()), :]['JobUrl'].value_counts()"
      ]
    },
    {
      "cell_type": "code",
      "execution_count": null,
      "metadata": {
        "id": "_D0XIPR064Bk",
        "colab": {
          "base_uri": "https://localhost:8080/"
        },
        "outputId": "06511805-1ea4-45f7-c7d2-46ccfcc28ee4"
      },
      "outputs": [
        {
          "output_type": "execute_result",
          "data": {
            "text/plain": [
              "Business Analyst            420\n",
              ".NET Developer              362\n",
              "Front End Developer         226\n",
              "Full Stack Developer        172\n",
              "Back End Developer          152\n",
              "Front End Web Developer     150\n",
              "Full Stack Web Developer    111\n",
              "Back End Web Developer      106\n",
              "Android Developer           101\n",
              "C++ Developer                96\n",
              "Embedded Engineer            73\n",
              "Android App Developer        30\n",
              "Bridge Engineer              30\n",
              "Name: JobUrl, dtype: int64"
            ]
          },
          "metadata": {},
          "execution_count": 137
        }
      ],
      "source": [
        "job.loc[job['index'].isin(staff_tool['index'].unique()), :]['JobUrl'].value_counts()"
      ]
    },
    {
      "cell_type": "code",
      "execution_count": null,
      "metadata": {
        "id": "a0rXOsWg7RCI",
        "colab": {
          "base_uri": "https://localhost:8080/"
        },
        "outputId": "e0cb8164-a1c2-4045-80c6-5a283385d5a9"
      },
      "outputs": [
        {
          "output_type": "execute_result",
          "data": {
            "text/plain": [
              "Business Analyst            431\n",
              ".NET Developer              372\n",
              "Front End Developer         231\n",
              "Full Stack Developer        179\n",
              "Back End Developer          158\n",
              "Front End Web Developer     151\n",
              "Full Stack Web Developer    111\n",
              "Android Developer           109\n",
              "Back End Web Developer      106\n",
              "C++ Developer               102\n",
              "Embedded Engineer            76\n",
              "Android App Developer        37\n",
              "Bridge Engineer              31\n",
              "Name: JobUrl, dtype: int64"
            ]
          },
          "metadata": {},
          "execution_count": 138
        }
      ],
      "source": [
        "job.loc[job['index'].isin(quanlity), :]['JobUrl'].value_counts()"
      ]
    },
    {
      "cell_type": "code",
      "execution_count": null,
      "metadata": {
        "id": "St633jBE9X4i",
        "colab": {
          "base_uri": "https://localhost:8080/",
          "height": 377
        },
        "outputId": "bd4f2c0a-178a-4e03-a654-119ebac5c75d"
      },
      "outputs": [
        {
          "output_type": "display_data",
          "data": {
            "text/plain": [
              "<Figure size 1080x432 with 1 Axes>"
            ],
            "image/png": "[encoded data removed]"
          },
          "metadata": {}
        }
      ],
      "source": [
        "show_job_suitable(skill, tool)"
      ]
    },
    {
      "cell_type": "markdown",
      "metadata": {
        "id": "coM7otv_nHgE"
      },
      "source": [
        "# Test 10 CV"
      ]
    },
    {
      "cell_type": "code",
      "execution_count": null,
      "metadata": {
        "id": "cceCAa0bhLBC"
      },
      "outputs": [],
      "source": [
        "dataCV = [ '''Data Cleaning & Exploration using Python, Data Modifying & Visualization using Microsoft Excel, \n",
        "              Data Modifying & Visualization using Microsoft Excel\n",
        "              Database Administrating using SQL Server''',\n",
        "        '''using Reactjs and javascript, use to git, teamwork, design''',\n",
        "        '''Using R, SQL, visualization data''',\n",
        "        '''Rapidly prototyping and implementing scalable, reliable, and maintainable websites and applications via JavaScript, \n",
        "            TypeScript, and other web development technologies.\n",
        "            Researching new technologies to apply in business projects..\n",
        "            Building sustainable coding that may be used in the future\n",
        "            Work with our development team to design, develop, and test web applications using JavaScript, HTML, and CSS. \n",
        "            Support the internal team to debug and troubleshoot issues that arise during the development process. \n",
        "            Participate in code reviews and contribute to the development of best practices for JavaScript development.''', \n",
        "          '''English fluency is a must\n",
        "            Fresh graduate or moderately experienced 1 year of experience in Data Analysis or Data Engineering\n",
        "            Fundamental programming skills in one or more languages such as Python or SQL\n",
        "            Familiarity with databases such as MySQL, PostgreSQL or Cassandra\n",
        "            Experience with data analysis and data visualization tools such as Quicksight or Grafana\n",
        "            Understanding of data modeling concepts and ETL processes\n",
        "            Strong analytical and problem-solving skills\n",
        "            Excellent communication and teamwork skills\n",
        "            Must be able to show initiative to get a job done with little / no supervision\n",
        "            Domain knowledge on digital marketing is a plus\n",
        "            AWS experience is a plus''']"
      ]
    },
    {
      "cell_type": "code",
      "execution_count": null,
      "metadata": {
        "id": "ijcl8cAMqwW2"
      },
      "outputs": [],
      "source": [
        "def result(string):\n",
        "  strig = string.lower()\n",
        "  strig = re.sub(r'[\\W_]+', ' ', strig)\n",
        "  arr = strig.split()\n",
        "  skill = []\n",
        "  tool = []\n",
        "  for i in arr:\n",
        "    if skill_keywords.__contains__(i):\n",
        "      skill.append(i)\n",
        "    if tool_keywords.__contains__(i):\n",
        "      tool.append(i)\n",
        "  print(skill)\n",
        "  print(tool)\n",
        "  show_job_suitable(skill, tool)"
      ]
    },
    {
      "cell_type": "code",
      "source": [
        "result(dataCV[4])"
      ],
      "metadata": {
        "id": "nnRgGgGGjgRk",
        "colab": {
          "base_uri": "https://localhost:8080/",
          "height": 413
        },
        "outputId": "275b7bfd-6ef6-41b7-8b08-26d57a8e23f5"
      },
      "execution_count": null,
      "outputs": [
        {
          "output_type": "stream",
          "name": "stdout",
          "text": [
            "['english', 'sql', 'databases', 'visualization', 'etl', 'teamwork', 'marketing']\n",
            "['python', 'sql']\n"
          ]
        },
        {
          "output_type": "display_data",
          "data": {
            "text/plain": [
              "<Figure size 1080x432 with 1 Axes>"
            ],
            "image/png": "[encoded data removed]"
          },
          "metadata": {}
        }
      ]
    },
    {
      "cell_type": "code",
      "source": [],
      "metadata": {
        "id": "0YIJIHS-laP9"
      },
      "execution_count": null,
      "outputs": []
    },
    {
      "cell_type": "markdown",
      "source": [
        "# Model"
      ],
      "metadata": {
        "id": "4psq5yZ1kcma"
      }
    },
    {
      "cell_type": "code",
      "execution_count": null,
      "metadata": {
        "id": "BifoLW7eurnv"
      },
      "outputs": [],
      "source": [
        "result(dataCV[2])"
      ]
    },
    {
      "cell_type": "code",
      "execution_count": null,
      "metadata": {
        "id": "t2LnHlbnrKpu"
      },
      "outputs": [],
      "source": [
        "for i in dataCV:\n",
        "  result(i)"
      ]
    },
    {
      "cell_type": "code",
      "execution_count": null,
      "metadata": {
        "id": "YaoQMoLDrOXJ"
      },
      "outputs": [],
      "source": [
        "data = job.merge(job_skill, left_on='index', right_on='index', how='left')"
      ]
    },
    {
      "cell_type": "code",
      "execution_count": null,
      "metadata": {
        "id": "kj4YW9UhhwJu"
      },
      "outputs": [],
      "source": [
        "data = data.merge(job_tool, left_on='index', right_on='index', how='left')"
      ]
    },
    {
      "cell_type": "code",
      "execution_count": null,
      "metadata": {
        "id": "tYyH66nxhz2s"
      },
      "outputs": [],
      "source": [
        "train = data[['Name Skill', 'Name Tool', 'JobUrl']]"
      ]
    },
    {
      "cell_type": "code",
      "execution_count": null,
      "metadata": {
        "id": "brxy6sVNh6C3"
      },
      "outputs": [],
      "source": [
        "from sklearn.preprocessing import LabelEncoder"
      ]
    },
    {
      "cell_type": "code",
      "execution_count": null,
      "metadata": {
        "id": "gDkIUX3ljSfZ"
      },
      "outputs": [],
      "source": [
        "#create instance of label encoder\n",
        "lab = LabelEncoder()"
      ]
    },
    {
      "cell_type": "code",
      "execution_count": null,
      "metadata": {
        "id": "vjCil9mAjWZr"
      },
      "outputs": [],
      "source": [
        "#perform label encoding on 'team' column\n",
        "train['NameJob_label'] = lab.fit_transform(train['JobUrl'])"
      ]
    },
    {
      "cell_type": "code",
      "execution_count": null,
      "metadata": {
        "id": "HNz77G6Vjelr"
      },
      "outputs": [],
      "source": [
        "#perform label encoding on 'team' column\n",
        "train['Name_skill_label'] = lab.fit_transform(train['Name Skill'])\n",
        "#perform label encoding on 'team' column\n",
        "train['Name_tool_label'] = lab.fit_transform(train['Name Tool'])"
      ]
    },
    {
      "cell_type": "code",
      "execution_count": null,
      "metadata": {
        "id": "sN7cwgGtjnRY"
      },
      "outputs": [],
      "source": [
        "train"
      ]
    },
    {
      "cell_type": "code",
      "execution_count": null,
      "metadata": {
        "id": "lqp0bVj0j0tI"
      },
      "outputs": [],
      "source": [
        "from sklearn import metrics\n",
        "from sklearn.metrics import classification_report\n",
        "from sklearn.metrics import confusion_matrix\n",
        "from sklearn.model_selection import train_test_split"
      ]
    },
    {
      "cell_type": "code",
      "execution_count": null,
      "metadata": {
        "id": "_i4K4FXmkZjo"
      },
      "outputs": [],
      "source": [
        "train1 =  train[['NameJob_label', 'Name_skill_label', 'Name_tool_label']]"
      ]
    },
    {
      "cell_type": "code",
      "execution_count": null,
      "metadata": {
        "id": "_yyE2qlmjoSD"
      },
      "outputs": [],
      "source": [
        "X = train1.drop('NameJob_label', axis = 1)\n",
        "y = train1['NameJob_label']"
      ]
    },
    {
      "cell_type": "code",
      "execution_count": null,
      "metadata": {
        "id": "JrSWBwgWkCyr"
      },
      "outputs": [],
      "source": [
        "X_train, X_test, y_train,y_test = train_test_split(X, y, test_size=0.2, random_state=42)\n",
        "print(X_train.shape,X_test.shape, y_train.shape,y_test.shape )"
      ]
    },
    {
      "cell_type": "code",
      "execution_count": null,
      "metadata": {
        "id": "h3fL68YBkE1K"
      },
      "outputs": [],
      "source": [
        "from sklearn.linear_model import LinearRegression"
      ]
    },
    {
      "cell_type": "code",
      "execution_count": null,
      "metadata": {
        "id": "mkxz-4TmkJrN"
      },
      "outputs": [],
      "source": [
        "model = LinearRegression()"
      ]
    },
    {
      "cell_type": "code",
      "execution_count": null,
      "metadata": {
        "id": "JXVSVpHlkM7u"
      },
      "outputs": [],
      "source": [
        "ln = model.fit(X_train, y_train)"
      ]
    },
    {
      "cell_type": "code",
      "execution_count": null,
      "metadata": {
        "id": "M36_o1JQkVeB"
      },
      "outputs": [],
      "source": [
        "ln.score(X_test, y_test)"
      ]
    },
    {
      "cell_type": "code",
      "execution_count": null,
      "metadata": {
        "id": "CT2WZwy4k5O-"
      },
      "outputs": [],
      "source": [
        "ln.coef_"
      ]
    },
    {
      "cell_type": "markdown",
      "metadata": {
        "id": "AMpdJ3a7myO9"
      },
      "source": [
        "# logistics regesion"
      ]
    },
    {
      "cell_type": "code",
      "execution_count": null,
      "metadata": {
        "id": "aRWvK1SwlZYl"
      },
      "outputs": [],
      "source": [
        "\n",
        "from sklearn.linear_model import LogisticRegression"
      ]
    },
    {
      "cell_type": "code",
      "execution_count": null,
      "metadata": {
        "id": "Tt4V60dMm1Dh"
      },
      "outputs": [],
      "source": [
        "modelLg = LogisticRegression()\n",
        "\n",
        "modelLg.fit(X_train,y_train)\n",
        "\n",
        "predLg = modelLg.predict(X_test)"
      ]
    },
    {
      "cell_type": "code",
      "execution_count": null,
      "metadata": {
        "id": "gj0-njGam20D"
      },
      "outputs": [],
      "source": [
        "\n",
        "# Model Accuracy, how often is the classifier correct?\n",
        "lg =metrics.accuracy_score(y_test, predLg)\n",
        "print(\"Accuracy:\", lg)\n",
        "     "
      ]
    },
    {
      "cell_type": "code",
      "execution_count": null,
      "metadata": {
        "id": "OTJMO0hbm8IG"
      },
      "outputs": [],
      "source": []
    },
    {
      "cell_type": "code",
      "source": [],
      "metadata": {
        "id": "tq0k1_Pmuk0Z"
      },
      "execution_count": null,
      "outputs": []
    },
    {
      "cell_type": "markdown",
      "source": [
        "# Show data"
      ],
      "metadata": {
        "id": "ySw94do1ul10"
      }
    },
    {
      "cell_type": "code",
      "source": [
        "job.head()"
      ],
      "metadata": {
        "colab": {
          "base_uri": "https://localhost:8080/",
          "height": 206
        },
        "id": "wxM2cZVpunuR",
        "outputId": "59e96845-a2e7-4169-dffc-155eb3f1128e"
      },
      "execution_count": null,
      "outputs": [
        {
          "output_type": "execute_result",
          "data": {
            "text/plain": [
              "   index                              JobTitle            Company  \\\n",
              "0      0                        .Net Developer           SmartDev   \n",
              "13     1            Intern / Fresher Developer     DXC Technology   \n",
              "27     2  .NET Developer (Middle/Senior level)              SIOUX   \n",
              "56     3         Jun/Mid/Senior .NET Developer  Saigon Technology   \n",
              "75     4     Web Developer (.NET, ASP.NET, C#)           NPV Corp   \n",
              "\n",
              "                 Location                                            Summary  \\\n",
              "0                 đà nẵng  compani descript smartdev is a lead provid of ...   \n",
              "13  thành phố hồ chí minh  overview : how would you like to join an inter...   \n",
              "27                đà nẵng  sioux group wa found in 1996 in the netherland...   \n",
              "56                đà nẵng  up to $ 2,200 junior , middl , senior da nang ...   \n",
              "75                đà nẵng  web develop ( .net , asp.net , c # ) npv corp ...   \n",
              "\n",
              "            JobUrl       JobTitle_to_fix  \n",
              "0   .NET Developer         net developer  \n",
              "13  .NET Developer    intern   developer  \n",
              "27  .NET Developer        net developer   \n",
              "56  .NET Developer  junmid net developer  \n",
              "75  .NET Developer        web developer   "
            ],
            "text/html": [
              "\n",
              "  <div id=\"df-b229e20a-1220-454d-abea-999bd918d159\">\n",
              "    <div class=\"colab-df-container\">\n",
              "      <div>\n",
              "<style scoped>\n",
              "    .dataframe tbody tr th:only-of-type {\n",
              "        vertical-align: middle;\n",
              "    }\n",
              "\n",
              "    .dataframe tbody tr th {\n",
              "        vertical-align: top;\n",
              "    }\n",
              "\n",
              "    .dataframe thead th {\n",
              "        text-align: right;\n",
              "    }\n",
              "</style>\n",
              "<table border=\"1\" class=\"dataframe\">\n",
              "  <thead>\n",
              "    <tr style=\"text-align: right;\">\n",
              "      <th></th>\n",
              "      <th>index</th>\n",
              "      <th>JobTitle</th>\n",
              "      <th>Company</th>\n",
              "      <th>Location</th>\n",
              "      <th>Summary</th>\n",
              "      <th>JobUrl</th>\n",
              "      <th>JobTitle_to_fix</th>\n",
              "    </tr>\n",
              "  </thead>\n",
              "  <tbody>\n",
              "    <tr>\n",
              "      <th>0</th>\n",
              "      <td>0</td>\n",
              "      <td>.Net Developer</td>\n",
              "      <td>SmartDev</td>\n",
              "      <td>đà nẵng</td>\n",
              "      <td>compani descript smartdev is a lead provid of ...</td>\n",
              "      <td>.NET Developer</td>\n",
              "      <td>net developer</td>\n",
              "    </tr>\n",
              "    <tr>\n",
              "      <th>13</th>\n",
              "      <td>1</td>\n",
              "      <td>Intern / Fresher Developer</td>\n",
              "      <td>DXC Technology</td>\n",
              "      <td>thành phố hồ chí minh</td>\n",
              "      <td>overview : how would you like to join an inter...</td>\n",
              "      <td>.NET Developer</td>\n",
              "      <td>intern   developer</td>\n",
              "    </tr>\n",
              "    <tr>\n",
              "      <th>27</th>\n",
              "      <td>2</td>\n",
              "      <td>.NET Developer (Middle/Senior level)</td>\n",
              "      <td>SIOUX</td>\n",
              "      <td>đà nẵng</td>\n",
              "      <td>sioux group wa found in 1996 in the netherland...</td>\n",
              "      <td>.NET Developer</td>\n",
              "      <td>net developer</td>\n",
              "    </tr>\n",
              "    <tr>\n",
              "      <th>56</th>\n",
              "      <td>3</td>\n",
              "      <td>Jun/Mid/Senior .NET Developer</td>\n",
              "      <td>Saigon Technology</td>\n",
              "      <td>đà nẵng</td>\n",
              "      <td>up to $ 2,200 junior , middl , senior da nang ...</td>\n",
              "      <td>.NET Developer</td>\n",
              "      <td>junmid net developer</td>\n",
              "    </tr>\n",
              "    <tr>\n",
              "      <th>75</th>\n",
              "      <td>4</td>\n",
              "      <td>Web Developer (.NET, ASP.NET, C#)</td>\n",
              "      <td>NPV Corp</td>\n",
              "      <td>đà nẵng</td>\n",
              "      <td>web develop ( .net , asp.net , c # ) npv corp ...</td>\n",
              "      <td>.NET Developer</td>\n",
              "      <td>web developer</td>\n",
              "    </tr>\n",
              "  </tbody>\n",
              "</table>\n",
              "</div>\n",
              "      <button class=\"colab-df-convert\" onclick=\"convertToInteractive('df-b229e20a-1220-454d-abea-999bd918d159')\"\n",
              "              title=\"Convert this dataframe to an interactive table.\"\n",
              "              style=\"display:none;\">\n",
              "        \n",
              "  <svg xmlns=\"http://www.w3.org/2000/svg\" height=\"24px\"viewBox=\"0 0 24 24\"\n",
              "       width=\"24px\">\n",
              "    <path d=\"M0 0h24v24H0V0z\" fill=\"none\"/>\n",
              "    <path d=\"M18.56 5.44l.94 2.06.94-2.06 2.06-.94-2.06-.94-.94-2.06-.94 2.06-2.06.94zm-11 1L8.5 8.5l.94-2.06 2.06-.94-2.06-.94L8.5 2.5l-.94 2.06-2.06.94zm10 10l.94 2.06.94-2.06 2.06-.94-2.06-.94-.94-2.06-.94 2.06-2.06.94z\"/><path d=\"M17.41 7.96l-1.37-1.37c-.4-.4-.92-.59-1.43-.59-.52 0-1.04.2-1.43.59L10.3 9.45l-7.72 7.72c-.78.78-.78 2.05 0 2.83L4 21.41c.39.39.9.59 1.41.59.51 0 1.02-.2 1.41-.59l7.78-7.78 2.81-2.81c.8-.78.8-2.07 0-2.86zM5.41 20L4 18.59l7.72-7.72 1.47 1.35L5.41 20z\"/>\n",
              "  </svg>\n",
              "      </button>\n",
              "      \n",
              "  <style>\n",
              "    .colab-df-container {\n",
              "      display:flex;\n",
              "      flex-wrap:wrap;\n",
              "      gap: 12px;\n",
              "    }\n",
              "\n",
              "    .colab-df-convert {\n",
              "      background-color: #E8F0FE;\n",
              "      border: none;\n",
              "      border-radius: 50%;\n",
              "      cursor: pointer;\n",
              "      display: none;\n",
              "      fill: #1967D2;\n",
              "      height: 32px;\n",
              "      padding: 0 0 0 0;\n",
              "      width: 32px;\n",
              "    }\n",
              "\n",
              "    .colab-df-convert:hover {\n",
              "      background-color: #E2EBFA;\n",
              "      box-shadow: 0px 1px 2px rgba(60, 64, 67, 0.3), 0px 1px 3px 1px rgba(60, 64, 67, 0.15);\n",
              "      fill: #174EA6;\n",
              "    }\n",
              "\n",
              "    [theme=dark] .colab-df-convert {\n",
              "      background-color: #3B4455;\n",
              "      fill: #D2E3FC;\n",
              "    }\n",
              "\n",
              "    [theme=dark] .colab-df-convert:hover {\n",
              "      background-color: #434B5C;\n",
              "      box-shadow: 0px 1px 3px 1px rgba(0, 0, 0, 0.15);\n",
              "      filter: drop-shadow(0px 1px 2px rgba(0, 0, 0, 0.3));\n",
              "      fill: #FFFFFF;\n",
              "    }\n",
              "  </style>\n",
              "\n",
              "      <script>\n",
              "        const buttonEl =\n",
              "          document.querySelector('#df-b229e20a-1220-454d-abea-999bd918d159 button.colab-df-convert');\n",
              "        buttonEl.style.display =\n",
              "          google.colab.kernel.accessAllowed ? 'block' : 'none';\n",
              "\n",
              "        async function convertToInteractive(key) {\n",
              "          const element = document.querySelector('#df-b229e20a-1220-454d-abea-999bd918d159');\n",
              "          const dataTable =\n",
              "            await google.colab.kernel.invokeFunction('convertToInteractive',\n",
              "                                                     [key], {});\n",
              "          if (!dataTable) return;\n",
              "\n",
              "          const docLinkHtml = 'Like what you see? Visit the ' +\n",
              "            '<a target=\"_blank\" href=https://colab.research.google.com/notebooks/data_table.ipynb>data table notebook</a>'\n",
              "            + ' to learn more about interactive tables.';\n",
              "          element.innerHTML = '';\n",
              "          dataTable['output_type'] = 'display_data';\n",
              "          await google.colab.output.renderOutput(dataTable, element);\n",
              "          const docLink = document.createElement('div');\n",
              "          docLink.innerHTML = docLinkHtml;\n",
              "          element.appendChild(docLink);\n",
              "        }\n",
              "      </script>\n",
              "    </div>\n",
              "  </div>\n",
              "  "
            ]
          },
          "metadata": {},
          "execution_count": 145
        }
      ]
    },
    {
      "cell_type": "code",
      "source": [
        "job_skill.head()"
      ],
      "metadata": {
        "colab": {
          "base_uri": "https://localhost:8080/",
          "height": 206
        },
        "id": "PYlm2R15uqNg",
        "outputId": "d503e9d7-f7ab-4ef8-8151-d5d851b88e83"
      },
      "execution_count": null,
      "outputs": [
        {
          "output_type": "execute_result",
          "data": {
            "text/plain": [
              "   index Name Skill\n",
              "0      0   provides\n",
              "1      0   cleaning\n",
              "2      0     coding\n",
              "3      0     design\n",
              "4      0    manager"
            ],
            "text/html": [
              "\n",
              "  <div id=\"df-4ad160e6-9585-45c4-96e8-da3737828fd5\">\n",
              "    <div class=\"colab-df-container\">\n",
              "      <div>\n",
              "<style scoped>\n",
              "    .dataframe tbody tr th:only-of-type {\n",
              "        vertical-align: middle;\n",
              "    }\n",
              "\n",
              "    .dataframe tbody tr th {\n",
              "        vertical-align: top;\n",
              "    }\n",
              "\n",
              "    .dataframe thead th {\n",
              "        text-align: right;\n",
              "    }\n",
              "</style>\n",
              "<table border=\"1\" class=\"dataframe\">\n",
              "  <thead>\n",
              "    <tr style=\"text-align: right;\">\n",
              "      <th></th>\n",
              "      <th>index</th>\n",
              "      <th>Name Skill</th>\n",
              "    </tr>\n",
              "  </thead>\n",
              "  <tbody>\n",
              "    <tr>\n",
              "      <th>0</th>\n",
              "      <td>0</td>\n",
              "      <td>provides</td>\n",
              "    </tr>\n",
              "    <tr>\n",
              "      <th>1</th>\n",
              "      <td>0</td>\n",
              "      <td>cleaning</td>\n",
              "    </tr>\n",
              "    <tr>\n",
              "      <th>2</th>\n",
              "      <td>0</td>\n",
              "      <td>coding</td>\n",
              "    </tr>\n",
              "    <tr>\n",
              "      <th>3</th>\n",
              "      <td>0</td>\n",
              "      <td>design</td>\n",
              "    </tr>\n",
              "    <tr>\n",
              "      <th>4</th>\n",
              "      <td>0</td>\n",
              "      <td>manager</td>\n",
              "    </tr>\n",
              "  </tbody>\n",
              "</table>\n",
              "</div>\n",
              "      <button class=\"colab-df-convert\" onclick=\"convertToInteractive('df-4ad160e6-9585-45c4-96e8-da3737828fd5')\"\n",
              "              title=\"Convert this dataframe to an interactive table.\"\n",
              "              style=\"display:none;\">\n",
              "        \n",
              "  <svg xmlns=\"http://www.w3.org/2000/svg\" height=\"24px\"viewBox=\"0 0 24 24\"\n",
              "       width=\"24px\">\n",
              "    <path d=\"M0 0h24v24H0V0z\" fill=\"none\"/>\n",
              "    <path d=\"M18.56 5.44l.94 2.06.94-2.06 2.06-.94-2.06-.94-.94-2.06-.94 2.06-2.06.94zm-11 1L8.5 8.5l.94-2.06 2.06-.94-2.06-.94L8.5 2.5l-.94 2.06-2.06.94zm10 10l.94 2.06.94-2.06 2.06-.94-2.06-.94-.94-2.06-.94 2.06-2.06.94z\"/><path d=\"M17.41 7.96l-1.37-1.37c-.4-.4-.92-.59-1.43-.59-.52 0-1.04.2-1.43.59L10.3 9.45l-7.72 7.72c-.78.78-.78 2.05 0 2.83L4 21.41c.39.39.9.59 1.41.59.51 0 1.02-.2 1.41-.59l7.78-7.78 2.81-2.81c.8-.78.8-2.07 0-2.86zM5.41 20L4 18.59l7.72-7.72 1.47 1.35L5.41 20z\"/>\n",
              "  </svg>\n",
              "      </button>\n",
              "      \n",
              "  <style>\n",
              "    .colab-df-container {\n",
              "      display:flex;\n",
              "      flex-wrap:wrap;\n",
              "      gap: 12px;\n",
              "    }\n",
              "\n",
              "    .colab-df-convert {\n",
              "      background-color: #E8F0FE;\n",
              "      border: none;\n",
              "      border-radius: 50%;\n",
              "      cursor: pointer;\n",
              "      display: none;\n",
              "      fill: #1967D2;\n",
              "      height: 32px;\n",
              "      padding: 0 0 0 0;\n",
              "      width: 32px;\n",
              "    }\n",
              "\n",
              "    .colab-df-convert:hover {\n",
              "      background-color: #E2EBFA;\n",
              "      box-shadow: 0px 1px 2px rgba(60, 64, 67, 0.3), 0px 1px 3px 1px rgba(60, 64, 67, 0.15);\n",
              "      fill: #174EA6;\n",
              "    }\n",
              "\n",
              "    [theme=dark] .colab-df-convert {\n",
              "      background-color: #3B4455;\n",
              "      fill: #D2E3FC;\n",
              "    }\n",
              "\n",
              "    [theme=dark] .colab-df-convert:hover {\n",
              "      background-color: #434B5C;\n",
              "      box-shadow: 0px 1px 3px 1px rgba(0, 0, 0, 0.15);\n",
              "      filter: drop-shadow(0px 1px 2px rgba(0, 0, 0, 0.3));\n",
              "      fill: #FFFFFF;\n",
              "    }\n",
              "  </style>\n",
              "\n",
              "      <script>\n",
              "        const buttonEl =\n",
              "          document.querySelector('#df-4ad160e6-9585-45c4-96e8-da3737828fd5 button.colab-df-convert');\n",
              "        buttonEl.style.display =\n",
              "          google.colab.kernel.accessAllowed ? 'block' : 'none';\n",
              "\n",
              "        async function convertToInteractive(key) {\n",
              "          const element = document.querySelector('#df-4ad160e6-9585-45c4-96e8-da3737828fd5');\n",
              "          const dataTable =\n",
              "            await google.colab.kernel.invokeFunction('convertToInteractive',\n",
              "                                                     [key], {});\n",
              "          if (!dataTable) return;\n",
              "\n",
              "          const docLinkHtml = 'Like what you see? Visit the ' +\n",
              "            '<a target=\"_blank\" href=https://colab.research.google.com/notebooks/data_table.ipynb>data table notebook</a>'\n",
              "            + ' to learn more about interactive tables.';\n",
              "          element.innerHTML = '';\n",
              "          dataTable['output_type'] = 'display_data';\n",
              "          await google.colab.output.renderOutput(dataTable, element);\n",
              "          const docLink = document.createElement('div');\n",
              "          docLink.innerHTML = docLinkHtml;\n",
              "          element.appendChild(docLink);\n",
              "        }\n",
              "      </script>\n",
              "    </div>\n",
              "  </div>\n",
              "  "
            ]
          },
          "metadata": {},
          "execution_count": 146
        }
      ]
    },
    {
      "cell_type": "code",
      "source": [
        "job_tool.head()"
      ],
      "metadata": {
        "colab": {
          "base_uri": "https://localhost:8080/",
          "height": 206
        },
        "id": "7FsTdnEnuvS7",
        "outputId": "ea46d94c-fc1d-446c-f360-6c08477882de"
      },
      "execution_count": null,
      "outputs": [
        {
          "output_type": "execute_result",
          "data": {
            "text/plain": [
              "   index Name Tool\n",
              "0      0     excel\n",
              "1      0       sql\n",
              "2      0         c\n",
              "3      0    visual\n",
              "4      0    nodejs"
            ],
            "text/html": [
              "\n",
              "  <div id=\"df-38ea6777-36a3-4a26-abdb-962ab5051928\">\n",
              "    <div class=\"colab-df-container\">\n",
              "      <div>\n",
              "<style scoped>\n",
              "    .dataframe tbody tr th:only-of-type {\n",
              "        vertical-align: middle;\n",
              "    }\n",
              "\n",
              "    .dataframe tbody tr th {\n",
              "        vertical-align: top;\n",
              "    }\n",
              "\n",
              "    .dataframe thead th {\n",
              "        text-align: right;\n",
              "    }\n",
              "</style>\n",
              "<table border=\"1\" class=\"dataframe\">\n",
              "  <thead>\n",
              "    <tr style=\"text-align: right;\">\n",
              "      <th></th>\n",
              "      <th>index</th>\n",
              "      <th>Name Tool</th>\n",
              "    </tr>\n",
              "  </thead>\n",
              "  <tbody>\n",
              "    <tr>\n",
              "      <th>0</th>\n",
              "      <td>0</td>\n",
              "      <td>excel</td>\n",
              "    </tr>\n",
              "    <tr>\n",
              "      <th>1</th>\n",
              "      <td>0</td>\n",
              "      <td>sql</td>\n",
              "    </tr>\n",
              "    <tr>\n",
              "      <th>2</th>\n",
              "      <td>0</td>\n",
              "      <td>c</td>\n",
              "    </tr>\n",
              "    <tr>\n",
              "      <th>3</th>\n",
              "      <td>0</td>\n",
              "      <td>visual</td>\n",
              "    </tr>\n",
              "    <tr>\n",
              "      <th>4</th>\n",
              "      <td>0</td>\n",
              "      <td>nodejs</td>\n",
              "    </tr>\n",
              "  </tbody>\n",
              "</table>\n",
              "</div>\n",
              "      <button class=\"colab-df-convert\" onclick=\"convertToInteractive('df-38ea6777-36a3-4a26-abdb-962ab5051928')\"\n",
              "              title=\"Convert this dataframe to an interactive table.\"\n",
              "              style=\"display:none;\">\n",
              "        \n",
              "  <svg xmlns=\"http://www.w3.org/2000/svg\" height=\"24px\"viewBox=\"0 0 24 24\"\n",
              "       width=\"24px\">\n",
              "    <path d=\"M0 0h24v24H0V0z\" fill=\"none\"/>\n",
              "    <path d=\"M18.56 5.44l.94 2.06.94-2.06 2.06-.94-2.06-.94-.94-2.06-.94 2.06-2.06.94zm-11 1L8.5 8.5l.94-2.06 2.06-.94-2.06-.94L8.5 2.5l-.94 2.06-2.06.94zm10 10l.94 2.06.94-2.06 2.06-.94-2.06-.94-.94-2.06-.94 2.06-2.06.94z\"/><path d=\"M17.41 7.96l-1.37-1.37c-.4-.4-.92-.59-1.43-.59-.52 0-1.04.2-1.43.59L10.3 9.45l-7.72 7.72c-.78.78-.78 2.05 0 2.83L4 21.41c.39.39.9.59 1.41.59.51 0 1.02-.2 1.41-.59l7.78-7.78 2.81-2.81c.8-.78.8-2.07 0-2.86zM5.41 20L4 18.59l7.72-7.72 1.47 1.35L5.41 20z\"/>\n",
              "  </svg>\n",
              "      </button>\n",
              "      \n",
              "  <style>\n",
              "    .colab-df-container {\n",
              "      display:flex;\n",
              "      flex-wrap:wrap;\n",
              "      gap: 12px;\n",
              "    }\n",
              "\n",
              "    .colab-df-convert {\n",
              "      background-color: #E8F0FE;\n",
              "      border: none;\n",
              "      border-radius: 50%;\n",
              "      cursor: pointer;\n",
              "      display: none;\n",
              "      fill: #1967D2;\n",
              "      height: 32px;\n",
              "      padding: 0 0 0 0;\n",
              "      width: 32px;\n",
              "    }\n",
              "\n",
              "    .colab-df-convert:hover {\n",
              "      background-color: #E2EBFA;\n",
              "      box-shadow: 0px 1px 2px rgba(60, 64, 67, 0.3), 0px 1px 3px 1px rgba(60, 64, 67, 0.15);\n",
              "      fill: #174EA6;\n",
              "    }\n",
              "\n",
              "    [theme=dark] .colab-df-convert {\n",
              "      background-color: #3B4455;\n",
              "      fill: #D2E3FC;\n",
              "    }\n",
              "\n",
              "    [theme=dark] .colab-df-convert:hover {\n",
              "      background-color: #434B5C;\n",
              "      box-shadow: 0px 1px 3px 1px rgba(0, 0, 0, 0.15);\n",
              "      filter: drop-shadow(0px 1px 2px rgba(0, 0, 0, 0.3));\n",
              "      fill: #FFFFFF;\n",
              "    }\n",
              "  </style>\n",
              "\n",
              "      <script>\n",
              "        const buttonEl =\n",
              "          document.querySelector('#df-38ea6777-36a3-4a26-abdb-962ab5051928 button.colab-df-convert');\n",
              "        buttonEl.style.display =\n",
              "          google.colab.kernel.accessAllowed ? 'block' : 'none';\n",
              "\n",
              "        async function convertToInteractive(key) {\n",
              "          const element = document.querySelector('#df-38ea6777-36a3-4a26-abdb-962ab5051928');\n",
              "          const dataTable =\n",
              "            await google.colab.kernel.invokeFunction('convertToInteractive',\n",
              "                                                     [key], {});\n",
              "          if (!dataTable) return;\n",
              "\n",
              "          const docLinkHtml = 'Like what you see? Visit the ' +\n",
              "            '<a target=\"_blank\" href=https://colab.research.google.com/notebooks/data_table.ipynb>data table notebook</a>'\n",
              "            + ' to learn more about interactive tables.';\n",
              "          element.innerHTML = '';\n",
              "          dataTable['output_type'] = 'display_data';\n",
              "          await google.colab.output.renderOutput(dataTable, element);\n",
              "          const docLink = document.createElement('div');\n",
              "          docLink.innerHTML = docLinkHtml;\n",
              "          element.appendChild(docLink);\n",
              "        }\n",
              "      </script>\n",
              "    </div>\n",
              "  </div>\n",
              "  "
            ]
          },
          "metadata": {},
          "execution_count": 147
        }
      ]
    },
    {
      "cell_type": "code",
      "source": [
        "job_level.head()"
      ],
      "metadata": {
        "colab": {
          "base_uri": "https://localhost:8080/",
          "height": 206
        },
        "id": "vMneSK6Muw_u",
        "outputId": "9b38a528-a118-4483-edb2-b4b18db1ebc9"
      },
      "execution_count": null,
      "outputs": [
        {
          "output_type": "execute_result",
          "data": {
            "text/plain": [
              "   index name level\n",
              "0      0    manager\n",
              "1      3     middle\n",
              "2      3     junior\n",
              "3      3     senior\n",
              "4      5    fresher"
            ],
            "text/html": [
              "\n",
              "  <div id=\"df-614252be-2234-4844-81d1-45122ff61cb2\">\n",
              "    <div class=\"colab-df-container\">\n",
              "      <div>\n",
              "<style scoped>\n",
              "    .dataframe tbody tr th:only-of-type {\n",
              "        vertical-align: middle;\n",
              "    }\n",
              "\n",
              "    .dataframe tbody tr th {\n",
              "        vertical-align: top;\n",
              "    }\n",
              "\n",
              "    .dataframe thead th {\n",
              "        text-align: right;\n",
              "    }\n",
              "</style>\n",
              "<table border=\"1\" class=\"dataframe\">\n",
              "  <thead>\n",
              "    <tr style=\"text-align: right;\">\n",
              "      <th></th>\n",
              "      <th>index</th>\n",
              "      <th>name level</th>\n",
              "    </tr>\n",
              "  </thead>\n",
              "  <tbody>\n",
              "    <tr>\n",
              "      <th>0</th>\n",
              "      <td>0</td>\n",
              "      <td>manager</td>\n",
              "    </tr>\n",
              "    <tr>\n",
              "      <th>1</th>\n",
              "      <td>3</td>\n",
              "      <td>middle</td>\n",
              "    </tr>\n",
              "    <tr>\n",
              "      <th>2</th>\n",
              "      <td>3</td>\n",
              "      <td>junior</td>\n",
              "    </tr>\n",
              "    <tr>\n",
              "      <th>3</th>\n",
              "      <td>3</td>\n",
              "      <td>senior</td>\n",
              "    </tr>\n",
              "    <tr>\n",
              "      <th>4</th>\n",
              "      <td>5</td>\n",
              "      <td>fresher</td>\n",
              "    </tr>\n",
              "  </tbody>\n",
              "</table>\n",
              "</div>\n",
              "      <button class=\"colab-df-convert\" onclick=\"convertToInteractive('df-614252be-2234-4844-81d1-45122ff61cb2')\"\n",
              "              title=\"Convert this dataframe to an interactive table.\"\n",
              "              style=\"display:none;\">\n",
              "        \n",
              "  <svg xmlns=\"http://www.w3.org/2000/svg\" height=\"24px\"viewBox=\"0 0 24 24\"\n",
              "       width=\"24px\">\n",
              "    <path d=\"M0 0h24v24H0V0z\" fill=\"none\"/>\n",
              "    <path d=\"M18.56 5.44l.94 2.06.94-2.06 2.06-.94-2.06-.94-.94-2.06-.94 2.06-2.06.94zm-11 1L8.5 8.5l.94-2.06 2.06-.94-2.06-.94L8.5 2.5l-.94 2.06-2.06.94zm10 10l.94 2.06.94-2.06 2.06-.94-2.06-.94-.94-2.06-.94 2.06-2.06.94z\"/><path d=\"M17.41 7.96l-1.37-1.37c-.4-.4-.92-.59-1.43-.59-.52 0-1.04.2-1.43.59L10.3 9.45l-7.72 7.72c-.78.78-.78 2.05 0 2.83L4 21.41c.39.39.9.59 1.41.59.51 0 1.02-.2 1.41-.59l7.78-7.78 2.81-2.81c.8-.78.8-2.07 0-2.86zM5.41 20L4 18.59l7.72-7.72 1.47 1.35L5.41 20z\"/>\n",
              "  </svg>\n",
              "      </button>\n",
              "      \n",
              "  <style>\n",
              "    .colab-df-container {\n",
              "      display:flex;\n",
              "      flex-wrap:wrap;\n",
              "      gap: 12px;\n",
              "    }\n",
              "\n",
              "    .colab-df-convert {\n",
              "      background-color: #E8F0FE;\n",
              "      border: none;\n",
              "      border-radius: 50%;\n",
              "      cursor: pointer;\n",
              "      display: none;\n",
              "      fill: #1967D2;\n",
              "      height: 32px;\n",
              "      padding: 0 0 0 0;\n",
              "      width: 32px;\n",
              "    }\n",
              "\n",
              "    .colab-df-convert:hover {\n",
              "      background-color: #E2EBFA;\n",
              "      box-shadow: 0px 1px 2px rgba(60, 64, 67, 0.3), 0px 1px 3px 1px rgba(60, 64, 67, 0.15);\n",
              "      fill: #174EA6;\n",
              "    }\n",
              "\n",
              "    [theme=dark] .colab-df-convert {\n",
              "      background-color: #3B4455;\n",
              "      fill: #D2E3FC;\n",
              "    }\n",
              "\n",
              "    [theme=dark] .colab-df-convert:hover {\n",
              "      background-color: #434B5C;\n",
              "      box-shadow: 0px 1px 3px 1px rgba(0, 0, 0, 0.15);\n",
              "      filter: drop-shadow(0px 1px 2px rgba(0, 0, 0, 0.3));\n",
              "      fill: #FFFFFF;\n",
              "    }\n",
              "  </style>\n",
              "\n",
              "      <script>\n",
              "        const buttonEl =\n",
              "          document.querySelector('#df-614252be-2234-4844-81d1-45122ff61cb2 button.colab-df-convert');\n",
              "        buttonEl.style.display =\n",
              "          google.colab.kernel.accessAllowed ? 'block' : 'none';\n",
              "\n",
              "        async function convertToInteractive(key) {\n",
              "          const element = document.querySelector('#df-614252be-2234-4844-81d1-45122ff61cb2');\n",
              "          const dataTable =\n",
              "            await google.colab.kernel.invokeFunction('convertToInteractive',\n",
              "                                                     [key], {});\n",
              "          if (!dataTable) return;\n",
              "\n",
              "          const docLinkHtml = 'Like what you see? Visit the ' +\n",
              "            '<a target=\"_blank\" href=https://colab.research.google.com/notebooks/data_table.ipynb>data table notebook</a>'\n",
              "            + ' to learn more about interactive tables.';\n",
              "          element.innerHTML = '';\n",
              "          dataTable['output_type'] = 'display_data';\n",
              "          await google.colab.output.renderOutput(dataTable, element);\n",
              "          const docLink = document.createElement('div');\n",
              "          docLink.innerHTML = docLinkHtml;\n",
              "          element.appendChild(docLink);\n",
              "        }\n",
              "      </script>\n",
              "    </div>\n",
              "  </div>\n",
              "  "
            ]
          },
          "metadata": {},
          "execution_count": 148
        }
      ]
    },
    {
      "cell_type": "code",
      "source": [
        "job_degree.head()"
      ],
      "metadata": {
        "colab": {
          "base_uri": "https://localhost:8080/",
          "height": 206
        },
        "id": "6aY8TCH2u0HA",
        "outputId": "3713b88a-f12f-4b86-ab6b-889fa6e711d9"
      },
      "execution_count": null,
      "outputs": [
        {
          "output_type": "execute_result",
          "data": {
            "text/plain": [
              "   index    name degree\n",
              "0      1       graduate\n",
              "1      2       bachelor\n",
              "2      3         master\n",
              "3      3    certificate\n",
              "4      4  undergraduate"
            ],
            "text/html": [
              "\n",
              "  <div id=\"df-6ae7bc2b-7333-44a2-9add-cc023ccf6d72\">\n",
              "    <div class=\"colab-df-container\">\n",
              "      <div>\n",
              "<style scoped>\n",
              "    .dataframe tbody tr th:only-of-type {\n",
              "        vertical-align: middle;\n",
              "    }\n",
              "\n",
              "    .dataframe tbody tr th {\n",
              "        vertical-align: top;\n",
              "    }\n",
              "\n",
              "    .dataframe thead th {\n",
              "        text-align: right;\n",
              "    }\n",
              "</style>\n",
              "<table border=\"1\" class=\"dataframe\">\n",
              "  <thead>\n",
              "    <tr style=\"text-align: right;\">\n",
              "      <th></th>\n",
              "      <th>index</th>\n",
              "      <th>name degree</th>\n",
              "    </tr>\n",
              "  </thead>\n",
              "  <tbody>\n",
              "    <tr>\n",
              "      <th>0</th>\n",
              "      <td>1</td>\n",
              "      <td>graduate</td>\n",
              "    </tr>\n",
              "    <tr>\n",
              "      <th>1</th>\n",
              "      <td>2</td>\n",
              "      <td>bachelor</td>\n",
              "    </tr>\n",
              "    <tr>\n",
              "      <th>2</th>\n",
              "      <td>3</td>\n",
              "      <td>master</td>\n",
              "    </tr>\n",
              "    <tr>\n",
              "      <th>3</th>\n",
              "      <td>3</td>\n",
              "      <td>certificate</td>\n",
              "    </tr>\n",
              "    <tr>\n",
              "      <th>4</th>\n",
              "      <td>4</td>\n",
              "      <td>undergraduate</td>\n",
              "    </tr>\n",
              "  </tbody>\n",
              "</table>\n",
              "</div>\n",
              "      <button class=\"colab-df-convert\" onclick=\"convertToInteractive('df-6ae7bc2b-7333-44a2-9add-cc023ccf6d72')\"\n",
              "              title=\"Convert this dataframe to an interactive table.\"\n",
              "              style=\"display:none;\">\n",
              "        \n",
              "  <svg xmlns=\"http://www.w3.org/2000/svg\" height=\"24px\"viewBox=\"0 0 24 24\"\n",
              "       width=\"24px\">\n",
              "    <path d=\"M0 0h24v24H0V0z\" fill=\"none\"/>\n",
              "    <path d=\"M18.56 5.44l.94 2.06.94-2.06 2.06-.94-2.06-.94-.94-2.06-.94 2.06-2.06.94zm-11 1L8.5 8.5l.94-2.06 2.06-.94-2.06-.94L8.5 2.5l-.94 2.06-2.06.94zm10 10l.94 2.06.94-2.06 2.06-.94-2.06-.94-.94-2.06-.94 2.06-2.06.94z\"/><path d=\"M17.41 7.96l-1.37-1.37c-.4-.4-.92-.59-1.43-.59-.52 0-1.04.2-1.43.59L10.3 9.45l-7.72 7.72c-.78.78-.78 2.05 0 2.83L4 21.41c.39.39.9.59 1.41.59.51 0 1.02-.2 1.41-.59l7.78-7.78 2.81-2.81c.8-.78.8-2.07 0-2.86zM5.41 20L4 18.59l7.72-7.72 1.47 1.35L5.41 20z\"/>\n",
              "  </svg>\n",
              "      </button>\n",
              "      \n",
              "  <style>\n",
              "    .colab-df-container {\n",
              "      display:flex;\n",
              "      flex-wrap:wrap;\n",
              "      gap: 12px;\n",
              "    }\n",
              "\n",
              "    .colab-df-convert {\n",
              "      background-color: #E8F0FE;\n",
              "      border: none;\n",
              "      border-radius: 50%;\n",
              "      cursor: pointer;\n",
              "      display: none;\n",
              "      fill: #1967D2;\n",
              "      height: 32px;\n",
              "      padding: 0 0 0 0;\n",
              "      width: 32px;\n",
              "    }\n",
              "\n",
              "    .colab-df-convert:hover {\n",
              "      background-color: #E2EBFA;\n",
              "      box-shadow: 0px 1px 2px rgba(60, 64, 67, 0.3), 0px 1px 3px 1px rgba(60, 64, 67, 0.15);\n",
              "      fill: #174EA6;\n",
              "    }\n",
              "\n",
              "    [theme=dark] .colab-df-convert {\n",
              "      background-color: #3B4455;\n",
              "      fill: #D2E3FC;\n",
              "    }\n",
              "\n",
              "    [theme=dark] .colab-df-convert:hover {\n",
              "      background-color: #434B5C;\n",
              "      box-shadow: 0px 1px 3px 1px rgba(0, 0, 0, 0.15);\n",
              "      filter: drop-shadow(0px 1px 2px rgba(0, 0, 0, 0.3));\n",
              "      fill: #FFFFFF;\n",
              "    }\n",
              "  </style>\n",
              "\n",
              "      <script>\n",
              "        const buttonEl =\n",
              "          document.querySelector('#df-6ae7bc2b-7333-44a2-9add-cc023ccf6d72 button.colab-df-convert');\n",
              "        buttonEl.style.display =\n",
              "          google.colab.kernel.accessAllowed ? 'block' : 'none';\n",
              "\n",
              "        async function convertToInteractive(key) {\n",
              "          const element = document.querySelector('#df-6ae7bc2b-7333-44a2-9add-cc023ccf6d72');\n",
              "          const dataTable =\n",
              "            await google.colab.kernel.invokeFunction('convertToInteractive',\n",
              "                                                     [key], {});\n",
              "          if (!dataTable) return;\n",
              "\n",
              "          const docLinkHtml = 'Like what you see? Visit the ' +\n",
              "            '<a target=\"_blank\" href=https://colab.research.google.com/notebooks/data_table.ipynb>data table notebook</a>'\n",
              "            + ' to learn more about interactive tables.';\n",
              "          element.innerHTML = '';\n",
              "          dataTable['output_type'] = 'display_data';\n",
              "          await google.colab.output.renderOutput(dataTable, element);\n",
              "          const docLink = document.createElement('div');\n",
              "          docLink.innerHTML = docLinkHtml;\n",
              "          element.appendChild(docLink);\n",
              "        }\n",
              "      </script>\n",
              "    </div>\n",
              "  </div>\n",
              "  "
            ]
          },
          "metadata": {},
          "execution_count": 149
        }
      ]
    },
    {
      "cell_type": "code",
      "source": [
        "data123 = job.merge(job_skill, left_on='index', right_on='index', how='left')"
      ],
      "metadata": {
        "id": "9fHfC5zqu6xG"
      },
      "execution_count": null,
      "outputs": []
    },
    {
      "cell_type": "code",
      "source": [
        "data123 = data123.merge(job_tool, left_on='index', right_on='index', how='left')\n",
        "\n",
        "data123 = data123.merge(job_degree, left_on='index', right_on='index', how='left')"
      ],
      "metadata": {
        "id": "Ue-TTfNrvIUN"
      },
      "execution_count": null,
      "outputs": []
    },
    {
      "cell_type": "code",
      "source": [
        "data123.head()"
      ],
      "metadata": {
        "colab": {
          "base_uri": "https://localhost:8080/",
          "height": 206
        },
        "id": "vZOL2q8DvhYP",
        "outputId": "bf03aa37-4a17-4b08-c01b-bf4d3a0babdd"
      },
      "execution_count": null,
      "outputs": [
        {
          "output_type": "execute_result",
          "data": {
            "text/plain": [
              "  index        JobTitle   Company Location  \\\n",
              "0     0  .Net Developer  SmartDev  đà nẵng   \n",
              "1     0  .Net Developer  SmartDev  đà nẵng   \n",
              "2     0  .Net Developer  SmartDev  đà nẵng   \n",
              "3     0  .Net Developer  SmartDev  đà nẵng   \n",
              "4     0  .Net Developer  SmartDev  đà nẵng   \n",
              "\n",
              "                                             Summary          JobUrl  \\\n",
              "0  compani descript smartdev is a lead provid of ...  .NET Developer   \n",
              "1  compani descript smartdev is a lead provid of ...  .NET Developer   \n",
              "2  compani descript smartdev is a lead provid of ...  .NET Developer   \n",
              "3  compani descript smartdev is a lead provid of ...  .NET Developer   \n",
              "4  compani descript smartdev is a lead provid of ...  .NET Developer   \n",
              "\n",
              "  JobTitle_to_fix Name Skill Name Tool name degree  \n",
              "0   net developer   provides     excel         NaN  \n",
              "1   net developer   provides       sql         NaN  \n",
              "2   net developer   provides         c         NaN  \n",
              "3   net developer   provides    visual         NaN  \n",
              "4   net developer   provides    nodejs         NaN  "
            ],
            "text/html": [
              "\n",
              "  <div id=\"df-b2ba367e-8eec-48bf-bc82-a9bcc6b9c96b\">\n",
              "    <div class=\"colab-df-container\">\n",
              "      <div>\n",
              "<style scoped>\n",
              "    .dataframe tbody tr th:only-of-type {\n",
              "        vertical-align: middle;\n",
              "    }\n",
              "\n",
              "    .dataframe tbody tr th {\n",
              "        vertical-align: top;\n",
              "    }\n",
              "\n",
              "    .dataframe thead th {\n",
              "        text-align: right;\n",
              "    }\n",
              "</style>\n",
              "<table border=\"1\" class=\"dataframe\">\n",
              "  <thead>\n",
              "    <tr style=\"text-align: right;\">\n",
              "      <th></th>\n",
              "      <th>index</th>\n",
              "      <th>JobTitle</th>\n",
              "      <th>Company</th>\n",
              "      <th>Location</th>\n",
              "      <th>Summary</th>\n",
              "      <th>JobUrl</th>\n",
              "      <th>JobTitle_to_fix</th>\n",
              "      <th>Name Skill</th>\n",
              "      <th>Name Tool</th>\n",
              "      <th>name degree</th>\n",
              "    </tr>\n",
              "  </thead>\n",
              "  <tbody>\n",
              "    <tr>\n",
              "      <th>0</th>\n",
              "      <td>0</td>\n",
              "      <td>.Net Developer</td>\n",
              "      <td>SmartDev</td>\n",
              "      <td>đà nẵng</td>\n",
              "      <td>compani descript smartdev is a lead provid of ...</td>\n",
              "      <td>.NET Developer</td>\n",
              "      <td>net developer</td>\n",
              "      <td>provides</td>\n",
              "      <td>excel</td>\n",
              "      <td>NaN</td>\n",
              "    </tr>\n",
              "    <tr>\n",
              "      <th>1</th>\n",
              "      <td>0</td>\n",
              "      <td>.Net Developer</td>\n",
              "      <td>SmartDev</td>\n",
              "      <td>đà nẵng</td>\n",
              "      <td>compani descript smartdev is a lead provid of ...</td>\n",
              "      <td>.NET Developer</td>\n",
              "      <td>net developer</td>\n",
              "      <td>provides</td>\n",
              "      <td>sql</td>\n",
              "      <td>NaN</td>\n",
              "    </tr>\n",
              "    <tr>\n",
              "      <th>2</th>\n",
              "      <td>0</td>\n",
              "      <td>.Net Developer</td>\n",
              "      <td>SmartDev</td>\n",
              "      <td>đà nẵng</td>\n",
              "      <td>compani descript smartdev is a lead provid of ...</td>\n",
              "      <td>.NET Developer</td>\n",
              "      <td>net developer</td>\n",
              "      <td>provides</td>\n",
              "      <td>c</td>\n",
              "      <td>NaN</td>\n",
              "    </tr>\n",
              "    <tr>\n",
              "      <th>3</th>\n",
              "      <td>0</td>\n",
              "      <td>.Net Developer</td>\n",
              "      <td>SmartDev</td>\n",
              "      <td>đà nẵng</td>\n",
              "      <td>compani descript smartdev is a lead provid of ...</td>\n",
              "      <td>.NET Developer</td>\n",
              "      <td>net developer</td>\n",
              "      <td>provides</td>\n",
              "      <td>visual</td>\n",
              "      <td>NaN</td>\n",
              "    </tr>\n",
              "    <tr>\n",
              "      <th>4</th>\n",
              "      <td>0</td>\n",
              "      <td>.Net Developer</td>\n",
              "      <td>SmartDev</td>\n",
              "      <td>đà nẵng</td>\n",
              "      <td>compani descript smartdev is a lead provid of ...</td>\n",
              "      <td>.NET Developer</td>\n",
              "      <td>net developer</td>\n",
              "      <td>provides</td>\n",
              "      <td>nodejs</td>\n",
              "      <td>NaN</td>\n",
              "    </tr>\n",
              "  </tbody>\n",
              "</table>\n",
              "</div>\n",
              "      <button class=\"colab-df-convert\" onclick=\"convertToInteractive('df-b2ba367e-8eec-48bf-bc82-a9bcc6b9c96b')\"\n",
              "              title=\"Convert this dataframe to an interactive table.\"\n",
              "              style=\"display:none;\">\n",
              "        \n",
              "  <svg xmlns=\"http://www.w3.org/2000/svg\" height=\"24px\"viewBox=\"0 0 24 24\"\n",
              "       width=\"24px\">\n",
              "    <path d=\"M0 0h24v24H0V0z\" fill=\"none\"/>\n",
              "    <path d=\"M18.56 5.44l.94 2.06.94-2.06 2.06-.94-2.06-.94-.94-2.06-.94 2.06-2.06.94zm-11 1L8.5 8.5l.94-2.06 2.06-.94-2.06-.94L8.5 2.5l-.94 2.06-2.06.94zm10 10l.94 2.06.94-2.06 2.06-.94-2.06-.94-.94-2.06-.94 2.06-2.06.94z\"/><path d=\"M17.41 7.96l-1.37-1.37c-.4-.4-.92-.59-1.43-.59-.52 0-1.04.2-1.43.59L10.3 9.45l-7.72 7.72c-.78.78-.78 2.05 0 2.83L4 21.41c.39.39.9.59 1.41.59.51 0 1.02-.2 1.41-.59l7.78-7.78 2.81-2.81c.8-.78.8-2.07 0-2.86zM5.41 20L4 18.59l7.72-7.72 1.47 1.35L5.41 20z\"/>\n",
              "  </svg>\n",
              "      </button>\n",
              "      \n",
              "  <style>\n",
              "    .colab-df-container {\n",
              "      display:flex;\n",
              "      flex-wrap:wrap;\n",
              "      gap: 12px;\n",
              "    }\n",
              "\n",
              "    .colab-df-convert {\n",
              "      background-color: #E8F0FE;\n",
              "      border: none;\n",
              "      border-radius: 50%;\n",
              "      cursor: pointer;\n",
              "      display: none;\n",
              "      fill: #1967D2;\n",
              "      height: 32px;\n",
              "      padding: 0 0 0 0;\n",
              "      width: 32px;\n",
              "    }\n",
              "\n",
              "    .colab-df-convert:hover {\n",
              "      background-color: #E2EBFA;\n",
              "      box-shadow: 0px 1px 2px rgba(60, 64, 67, 0.3), 0px 1px 3px 1px rgba(60, 64, 67, 0.15);\n",
              "      fill: #174EA6;\n",
              "    }\n",
              "\n",
              "    [theme=dark] .colab-df-convert {\n",
              "      background-color: #3B4455;\n",
              "      fill: #D2E3FC;\n",
              "    }\n",
              "\n",
              "    [theme=dark] .colab-df-convert:hover {\n",
              "      background-color: #434B5C;\n",
              "      box-shadow: 0px 1px 3px 1px rgba(0, 0, 0, 0.15);\n",
              "      filter: drop-shadow(0px 1px 2px rgba(0, 0, 0, 0.3));\n",
              "      fill: #FFFFFF;\n",
              "    }\n",
              "  </style>\n",
              "\n",
              "      <script>\n",
              "        const buttonEl =\n",
              "          document.querySelector('#df-b2ba367e-8eec-48bf-bc82-a9bcc6b9c96b button.colab-df-convert');\n",
              "        buttonEl.style.display =\n",
              "          google.colab.kernel.accessAllowed ? 'block' : 'none';\n",
              "\n",
              "        async function convertToInteractive(key) {\n",
              "          const element = document.querySelector('#df-b2ba367e-8eec-48bf-bc82-a9bcc6b9c96b');\n",
              "          const dataTable =\n",
              "            await google.colab.kernel.invokeFunction('convertToInteractive',\n",
              "                                                     [key], {});\n",
              "          if (!dataTable) return;\n",
              "\n",
              "          const docLinkHtml = 'Like what you see? Visit the ' +\n",
              "            '<a target=\"_blank\" href=https://colab.research.google.com/notebooks/data_table.ipynb>data table notebook</a>'\n",
              "            + ' to learn more about interactive tables.';\n",
              "          element.innerHTML = '';\n",
              "          dataTable['output_type'] = 'display_data';\n",
              "          await google.colab.output.renderOutput(dataTable, element);\n",
              "          const docLink = document.createElement('div');\n",
              "          docLink.innerHTML = docLinkHtml;\n",
              "          element.appendChild(docLink);\n",
              "        }\n",
              "      </script>\n",
              "    </div>\n",
              "  </div>\n",
              "  "
            ]
          },
          "metadata": {},
          "execution_count": 154
        }
      ]
    },
    {
      "cell_type": "code",
      "source": [
        "data123[['JobTitle', 'Company', 'Location', 'Name Skill', 'Name Tool', 'name degree', 'JobUrl']].sample(n=50).sample(n=10).rename(columns={'JobUrl': 'JobName'})"
      ],
      "metadata": {
        "colab": {
          "base_uri": "https://localhost:8080/",
          "height": 363
        },
        "id": "vWlcu1VkvsVd",
        "outputId": "f1a7b931-6824-42dd-f459-e140b6cd02a2"
      },
      "execution_count": null,
      "outputs": [
        {
          "output_type": "execute_result",
          "data": {
            "text/plain": [
              "                                                JobTitle  \\\n",
              "48118              HCMC - .NET Developer (Middle/Senior)   \n",
              "36534                Senior Java Developer (Oracle, OOP)   \n",
              "6387               Junior/Exp. Java developer (EDI tech)   \n",
              "43688                  EET_Front End Developer (ReactJS)   \n",
              "43310                              Senior Java Developer   \n",
              "33075                     Software Engineer for Big Data   \n",
              "28693                          Data Scientist (40000031)   \n",
              "36726                      Principal Technical Architect   \n",
              "47694                                    project manager   \n",
              "5148   Fullstack Developer (.NET/ReactJS/ NodeJS)~Up ...   \n",
              "\n",
              "                                          Company               Location  \\\n",
              "48118                                      amaris  thành phố hồ chí minh   \n",
              "36534                              Fortna Vietnam  thành phố hồ chí minh   \n",
              "6387                                Ekino Vietnam  thành phố hồ chí minh   \n",
              "43688                                 Bosch Group  thành phố hồ chí minh   \n",
              "43310  Công ty TNHH Bảo hiểm Hanwha Life Việt Nam  thành phố hồ chí minh   \n",
              "33075                               METRO.digital  thành phố hồ chí minh   \n",
              "28693                                 Techcombank  thành phố hồ chí minh   \n",
              "36726                                    NTT Ltd.                 hà nội   \n",
              "47694                                      xspera  thành phố hồ chí minh   \n",
              "5148                           Away Digital Teams  thành phố hồ chí minh   \n",
              "\n",
              "       Name Skill  Name Tool    name degree               JobName  \n",
              "48118         NaN  microsoft             it  Full Stack Developer  \n",
              "36534  programing       java       bachelor         C++ Developer  \n",
              "6387      support       java       graduate        .NET Developer  \n",
              "43688         NaN  simulated             it   Front End Developer  \n",
              "43310        test        sql  undergraduate   Front End Developer  \n",
              "33075    cleaning      scala       bachelor      Business Analyst  \n",
              "28693  statistics      scrum         master      Business Analyst  \n",
              "36726      design     oracle             it         C++ Developer  \n",
              "47694   warehouse      scrum    certificate  Full Stack Developer  \n",
              "5148          NaN      azure            NaN        .NET Developer  "
            ],
            "text/html": [
              "\n",
              "  <div id=\"df-a95687d8-9939-4736-9a45-9deebf85a96a\">\n",
              "    <div class=\"colab-df-container\">\n",
              "      <div>\n",
              "<style scoped>\n",
              "    .dataframe tbody tr th:only-of-type {\n",
              "        vertical-align: middle;\n",
              "    }\n",
              "\n",
              "    .dataframe tbody tr th {\n",
              "        vertical-align: top;\n",
              "    }\n",
              "\n",
              "    .dataframe thead th {\n",
              "        text-align: right;\n",
              "    }\n",
              "</style>\n",
              "<table border=\"1\" class=\"dataframe\">\n",
              "  <thead>\n",
              "    <tr style=\"text-align: right;\">\n",
              "      <th></th>\n",
              "      <th>JobTitle</th>\n",
              "      <th>Company</th>\n",
              "      <th>Location</th>\n",
              "      <th>Name Skill</th>\n",
              "      <th>Name Tool</th>\n",
              "      <th>name degree</th>\n",
              "      <th>JobName</th>\n",
              "    </tr>\n",
              "  </thead>\n",
              "  <tbody>\n",
              "    <tr>\n",
              "      <th>48118</th>\n",
              "      <td>HCMC - .NET Developer (Middle/Senior)</td>\n",
              "      <td>amaris</td>\n",
              "      <td>thành phố hồ chí minh</td>\n",
              "      <td>NaN</td>\n",
              "      <td>microsoft</td>\n",
              "      <td>it</td>\n",
              "      <td>Full Stack Developer</td>\n",
              "    </tr>\n",
              "    <tr>\n",
              "      <th>36534</th>\n",
              "      <td>Senior Java Developer (Oracle, OOP)</td>\n",
              "      <td>Fortna Vietnam</td>\n",
              "      <td>thành phố hồ chí minh</td>\n",
              "      <td>programing</td>\n",
              "      <td>java</td>\n",
              "      <td>bachelor</td>\n",
              "      <td>C++ Developer</td>\n",
              "    </tr>\n",
              "    <tr>\n",
              "      <th>6387</th>\n",
              "      <td>Junior/Exp. Java developer (EDI tech)</td>\n",
              "      <td>Ekino Vietnam</td>\n",
              "      <td>thành phố hồ chí minh</td>\n",
              "      <td>support</td>\n",
              "      <td>java</td>\n",
              "      <td>graduate</td>\n",
              "      <td>.NET Developer</td>\n",
              "    </tr>\n",
              "    <tr>\n",
              "      <th>43688</th>\n",
              "      <td>EET_Front End Developer (ReactJS)</td>\n",
              "      <td>Bosch Group</td>\n",
              "      <td>thành phố hồ chí minh</td>\n",
              "      <td>NaN</td>\n",
              "      <td>simulated</td>\n",
              "      <td>it</td>\n",
              "      <td>Front End Developer</td>\n",
              "    </tr>\n",
              "    <tr>\n",
              "      <th>43310</th>\n",
              "      <td>Senior Java Developer</td>\n",
              "      <td>Công ty TNHH Bảo hiểm Hanwha Life Việt Nam</td>\n",
              "      <td>thành phố hồ chí minh</td>\n",
              "      <td>test</td>\n",
              "      <td>sql</td>\n",
              "      <td>undergraduate</td>\n",
              "      <td>Front End Developer</td>\n",
              "    </tr>\n",
              "    <tr>\n",
              "      <th>33075</th>\n",
              "      <td>Software Engineer for Big Data</td>\n",
              "      <td>METRO.digital</td>\n",
              "      <td>thành phố hồ chí minh</td>\n",
              "      <td>cleaning</td>\n",
              "      <td>scala</td>\n",
              "      <td>bachelor</td>\n",
              "      <td>Business Analyst</td>\n",
              "    </tr>\n",
              "    <tr>\n",
              "      <th>28693</th>\n",
              "      <td>Data Scientist (40000031)</td>\n",
              "      <td>Techcombank</td>\n",
              "      <td>thành phố hồ chí minh</td>\n",
              "      <td>statistics</td>\n",
              "      <td>scrum</td>\n",
              "      <td>master</td>\n",
              "      <td>Business Analyst</td>\n",
              "    </tr>\n",
              "    <tr>\n",
              "      <th>36726</th>\n",
              "      <td>Principal Technical Architect</td>\n",
              "      <td>NTT Ltd.</td>\n",
              "      <td>hà nội</td>\n",
              "      <td>design</td>\n",
              "      <td>oracle</td>\n",
              "      <td>it</td>\n",
              "      <td>C++ Developer</td>\n",
              "    </tr>\n",
              "    <tr>\n",
              "      <th>47694</th>\n",
              "      <td>project manager</td>\n",
              "      <td>xspera</td>\n",
              "      <td>thành phố hồ chí minh</td>\n",
              "      <td>warehouse</td>\n",
              "      <td>scrum</td>\n",
              "      <td>certificate</td>\n",
              "      <td>Full Stack Developer</td>\n",
              "    </tr>\n",
              "    <tr>\n",
              "      <th>5148</th>\n",
              "      <td>Fullstack Developer (.NET/ReactJS/ NodeJS)~Up ...</td>\n",
              "      <td>Away Digital Teams</td>\n",
              "      <td>thành phố hồ chí minh</td>\n",
              "      <td>NaN</td>\n",
              "      <td>azure</td>\n",
              "      <td>NaN</td>\n",
              "      <td>.NET Developer</td>\n",
              "    </tr>\n",
              "  </tbody>\n",
              "</table>\n",
              "</div>\n",
              "      <button class=\"colab-df-convert\" onclick=\"convertToInteractive('df-a95687d8-9939-4736-9a45-9deebf85a96a')\"\n",
              "              title=\"Convert this dataframe to an interactive table.\"\n",
              "              style=\"display:none;\">\n",
              "        \n",
              "  <svg xmlns=\"http://www.w3.org/2000/svg\" height=\"24px\"viewBox=\"0 0 24 24\"\n",
              "       width=\"24px\">\n",
              "    <path d=\"M0 0h24v24H0V0z\" fill=\"none\"/>\n",
              "    <path d=\"M18.56 5.44l.94 2.06.94-2.06 2.06-.94-2.06-.94-.94-2.06-.94 2.06-2.06.94zm-11 1L8.5 8.5l.94-2.06 2.06-.94-2.06-.94L8.5 2.5l-.94 2.06-2.06.94zm10 10l.94 2.06.94-2.06 2.06-.94-2.06-.94-.94-2.06-.94 2.06-2.06.94z\"/><path d=\"M17.41 7.96l-1.37-1.37c-.4-.4-.92-.59-1.43-.59-.52 0-1.04.2-1.43.59L10.3 9.45l-7.72 7.72c-.78.78-.78 2.05 0 2.83L4 21.41c.39.39.9.59 1.41.59.51 0 1.02-.2 1.41-.59l7.78-7.78 2.81-2.81c.8-.78.8-2.07 0-2.86zM5.41 20L4 18.59l7.72-7.72 1.47 1.35L5.41 20z\"/>\n",
              "  </svg>\n",
              "      </button>\n",
              "      \n",
              "  <style>\n",
              "    .colab-df-container {\n",
              "      display:flex;\n",
              "      flex-wrap:wrap;\n",
              "      gap: 12px;\n",
              "    }\n",
              "\n",
              "    .colab-df-convert {\n",
              "      background-color: #E8F0FE;\n",
              "      border: none;\n",
              "      border-radius: 50%;\n",
              "      cursor: pointer;\n",
              "      display: none;\n",
              "      fill: #1967D2;\n",
              "      height: 32px;\n",
              "      padding: 0 0 0 0;\n",
              "      width: 32px;\n",
              "    }\n",
              "\n",
              "    .colab-df-convert:hover {\n",
              "      background-color: #E2EBFA;\n",
              "      box-shadow: 0px 1px 2px rgba(60, 64, 67, 0.3), 0px 1px 3px 1px rgba(60, 64, 67, 0.15);\n",
              "      fill: #174EA6;\n",
              "    }\n",
              "\n",
              "    [theme=dark] .colab-df-convert {\n",
              "      background-color: #3B4455;\n",
              "      fill: #D2E3FC;\n",
              "    }\n",
              "\n",
              "    [theme=dark] .colab-df-convert:hover {\n",
              "      background-color: #434B5C;\n",
              "      box-shadow: 0px 1px 3px 1px rgba(0, 0, 0, 0.15);\n",
              "      filter: drop-shadow(0px 1px 2px rgba(0, 0, 0, 0.3));\n",
              "      fill: #FFFFFF;\n",
              "    }\n",
              "  </style>\n",
              "\n",
              "      <script>\n",
              "        const buttonEl =\n",
              "          document.querySelector('#df-a95687d8-9939-4736-9a45-9deebf85a96a button.colab-df-convert');\n",
              "        buttonEl.style.display =\n",
              "          google.colab.kernel.accessAllowed ? 'block' : 'none';\n",
              "\n",
              "        async function convertToInteractive(key) {\n",
              "          const element = document.querySelector('#df-a95687d8-9939-4736-9a45-9deebf85a96a');\n",
              "          const dataTable =\n",
              "            await google.colab.kernel.invokeFunction('convertToInteractive',\n",
              "                                                     [key], {});\n",
              "          if (!dataTable) return;\n",
              "\n",
              "          const docLinkHtml = 'Like what you see? Visit the ' +\n",
              "            '<a target=\"_blank\" href=https://colab.research.google.com/notebooks/data_table.ipynb>data table notebook</a>'\n",
              "            + ' to learn more about interactive tables.';\n",
              "          element.innerHTML = '';\n",
              "          dataTable['output_type'] = 'display_data';\n",
              "          await google.colab.output.renderOutput(dataTable, element);\n",
              "          const docLink = document.createElement('div');\n",
              "          docLink.innerHTML = docLinkHtml;\n",
              "          element.appendChild(docLink);\n",
              "        }\n",
              "      </script>\n",
              "    </div>\n",
              "  </div>\n",
              "  "
            ]
          },
          "metadata": {},
          "execution_count": 158
        }
      ]
    },
    {
      "cell_type": "code",
      "source": [],
      "metadata": {
        "id": "RcZNtsHSv-vk"
      },
      "execution_count": null,
      "outputs": []
    }
  ],
  "metadata": {
    "colab": {
      "provenance": [],
      "mount_file_id": "1ieqVfJnOLp9qLyuXqXcrxjSzGgyVds1A",
      "authorship_tag": "ABX9TyOCMMbSKKsdbbaaMijGdb99",
      "include_colab_link": true
    },
    "kernelspec": {
      "display_name": "Python 3",
      "name": "python3"
    },
    "language_info": {
      "name": "python"
    }
  },
  "nbformat": 4,
  "nbformat_minor": 0
}